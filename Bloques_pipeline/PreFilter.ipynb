{
 "cells": [
  {
   "cell_type": "markdown",
   "id": "bd0bbd05-5db4-4ddb-b01f-17920f7b3f0f",
   "metadata": {},
   "source": [
    "# Pre-Filtro\n",
    "\r",
    "Bloque diseñado para reducir el número de tablas a analizar por el filtro."
   ]
  },
  {
   "cell_type": "markdown",
   "id": "1a9c4d2e-9221-44e5-a9fc-49e6b08976ad",
   "metadata": {},
   "source": [
    "### Librerías necesarias"
   ]
  },
  {
   "cell_type": "code",
   "execution_count": 629,
   "id": "fb197031-cc69-4e39-a698-74433172abd5",
   "metadata": {},
   "outputs": [],
   "source": [
    "import sys\n",
    "from langchain.embeddings import LlamaCppEmbeddings\n",
    "from langchain.embeddings import GPT4AllEmbeddings\n",
    "from langchain.vectorstores import FAISS\n",
    "from langchain.schema import Document\n",
    "from langchain.llms import LlamaCpp\n",
    "from langchain.document_loaders import TextLoader\n",
    "from langchain.text_splitter import CharacterTextSplitter\n",
    "import re"
   ]
  },
  {
   "cell_type": "code",
   "execution_count": null,
   "id": "70cba0b7-7354-4ac6-a86f-138f3552d5fe",
   "metadata": {},
   "outputs": [],
   "source": [
    "# Remplazar la palabra \"Key\" por la key de openAI\n",
    "from langchain.embeddings.openai import OpenAIEmbeddings\n",
    "embeddings_OpenAI = OpenAIEmbeddings(openai_api_key=\"Key\", chunk_size=1500)"
   ]
  },
  {
   "cell_type": "code",
   "execution_count": null,
   "id": "b50ff31e-624b-43a1-8ac5-c1bc108b2e45",
   "metadata": {},
   "outputs": [],
   "source": [
    "# Lectura del documento con la descipción schema \n",
    "loaderschema = TextLoader('schemaWithDescription.txt')\n",
    "schema = loaderschema.load()"
   ]
  },
  {
   "cell_type": "code",
   "execution_count": null,
   "id": "0a179848-e324-4365-afa2-422c93c81fd3",
   "metadata": {},
   "outputs": [],
   "source": [
    "# Lectura de los documentos que tiene la descripción de las tablas y las columnas (obtenidos de la fase cero)\n",
    "loaderTable = TextLoader('TablewithDescription2.txt')\n",
    "table_doc = loaderTable.load()\n",
    "loaderColumn = TextLoader('ColumnsWithDescription3.txt')\n",
    "column_doc = loaderColumn.load()\n",
    "\n",
    "text_splitter = CharacterTextSplitter(\n",
    "    separator = \"\\n\\n\",\n",
    "    chunk_size = 10,\n",
    "    chunk_overlap  = 0,\n",
    "    length_function = len,\n",
    "    is_separator_regex = False,\n",
    ")\n",
    "\n",
    "Table_split = text_splitter.split_documents(table_doc)\n",
    "Column_split = text_splitter.split_documents(column_doc)"
   ]
  },
  {
   "cell_type": "markdown",
   "id": "1df37c55-68a2-4d15-b8e6-46a277df7762",
   "metadata": {},
   "source": [
    "### Definición del text_splitter, se utiliza para generar los Chunk"
   ]
  },
  {
   "cell_type": "code",
   "execution_count": null,
   "id": "0ab293c8-6f5b-4196-8775-ac1d091b2b03",
   "metadata": {},
   "outputs": [],
   "source": [
    "text_splitter = CharacterTextSplitter(\n",
    "    separator = \"\\n\\n\",\n",
    "    chunk_size = 10,\n",
    "    chunk_overlap  = 0,\n",
    "    length_function = len,\n",
    "    is_separator_regex = False,\n",
    ")\n",
    "split_schema = text_splitter.split_documents(schema)"
   ]
  },
  {
   "cell_type": "code",
   "execution_count": null,
   "id": "b54f3075-212d-42ad-8b21-0e8bf1e0ce5a",
   "metadata": {},
   "outputs": [],
   "source": [
    "# Documento separado por doble salto de linea\n",
    "# Inserción de la metadata a cada vector \n",
    "schema_document = []\n",
    "for item in split_schema:\n",
    "    inicio_delimitador = 'CREATE TABLE \"'\n",
    "    fin_delimitador = '\"'\n",
    "    #Regular Expression\n",
    "    patron = re.escape(inicio_delimitador) + \"(.*?)\" + re.escape(fin_delimitador)\n",
    "    # Find expression\n",
    "    table = (re.findall(patron, item.page_content))\n",
    "    page = Document(page_content=item.page_content,\n",
    "    metadata = {\"Table\": table})\n",
    "    schema_document.append(page)"
   ]
  },
  {
   "cell_type": "code",
   "execution_count": null,
   "id": "8b576183-89f2-4c0d-92c8-4d85ecddae34",
   "metadata": {},
   "outputs": [],
   "source": [
    "# Documento separado por doble salto de linea\n",
    "# Inserción de la metadata a cada vector (para el idice tablas y columnas)\n",
    "\n",
    "table_document = []\n",
    "column_document =  []\n",
    "i = 1\n",
    "for i in range(len(Table_split)):\n",
    "    table = ((Table_split[i].page_content).split(\":\")[0])\n",
    "    inicio_delimitador = 'foreign_key=['\n",
    "    fin_delimitador = ']'\n",
    "    #Regular Expression\n",
    "    patron = re.escape(inicio_delimitador) + \"(.*?)\" + re.escape(fin_delimitador)\n",
    "    # Find expression\n",
    "    foregin_key = (re.findall(patron, Table_split[i].page_content))[0].split(\",\")\n",
    "    paget = Document(page_content=Table_split[i].page_content,metadata = {\"Table\": table,\"Indice\":i,\"foregin_key\":foregin_key})\n",
    "    pagec = Document(page_content=Column_split[i].page_content, metadata = {\"Table\": table,\"Indice\":i,\"foregin_key\":foregin_key})\n",
    "    table_document.append(paget)\n",
    "    column_document.append(pagec)\n",
    "    i = i + 1"
   ]
  },
  {
   "cell_type": "code",
   "execution_count": null,
   "id": "7e627fcd-db42-409f-a7fe-e9dbe1cd1f0a",
   "metadata": {},
   "outputs": [],
   "source": [
    "#Validar metadata del indice tabla\n",
    "for table in table_document:\n",
    "    print(table.metadata)"
   ]
  },
  {
   "cell_type": "code",
   "execution_count": null,
   "id": "bc25b845-cb88-4fea-9174-8c6ad5c1fbbc",
   "metadata": {},
   "outputs": [],
   "source": [
    "#Validar metadata del indice columna\n",
    "or column in column_document:\n",
    "    print(column.metadata)"
   ]
  },
  {
   "cell_type": "markdown",
   "id": "1830bc3f-d0f2-4ba7-9665-2d45ffcf10ab",
   "metadata": {},
   "source": [
    "### Carga del embedding"
   ]
  },
  {
   "cell_type": "code",
   "execution_count": null,
   "id": "d0500572-66a9-4102-824e-680bd8443d66",
   "metadata": {},
   "outputs": [],
   "source": [
    "#Use Llama model for embedding\n",
    "llama_model_path = 'dockerFolder/mixtral-8x7b-v0.1.Q5_K_M.gguf'\n",
    "\n",
    "#If you want to specify the context window size for embedding, e.g. 2048\n",
    "embeddings = LlamaCppEmbeddings(model_path=llama_model_path, n_ctx=2048)"
   ]
  },
  {
   "cell_type": "code",
   "execution_count": null,
   "id": "0f5f95eb-2e5a-4b83-93b0-ebab31e6994f",
   "metadata": {},
   "outputs": [],
   "source": [
    "#Embeddings libre GPT for all\n",
    "embeddings_GPT = GPT4AllEmbeddings()"
   ]
  },
  {
   "cell_type": "code",
   "execution_count": null,
   "id": "a499872a-e317-4466-a953-b3c17d4e1d1f",
   "metadata": {},
   "outputs": [],
   "source": [
    "#Creación de la vDB con el embedding del modelo cargado en llama_cpp\n",
    "vector_db_table = FAISS.from_documents(table_document, embeddings)\n",
    "vector_db_column = FAISS.from_documents(column_document, embeddings)"
   ]
  },
  {
   "cell_type": "code",
   "execution_count": null,
   "id": "2e39916a-e1f9-4c14-a7f8-d68fa685410f",
   "metadata": {},
   "outputs": [],
   "source": [
    "#Creación de la vDB con el embedding de GPT4ALL\n",
    "vector_db_table2 = FAISS.from_documents(table_document, embeddings_GPT)\n",
    "vector_db_column2 = FAISS.from_documents(column_document, embeddings_GPT)"
   ]
  },
  {
   "cell_type": "code",
   "execution_count": null,
   "id": "27fa404d-5313-4100-a082-d51dbcbed0e2",
   "metadata": {},
   "outputs": [],
   "source": [
    "#Creación de la vDB con el embedding de OpenAI\n",
    "vector_db_table3 = FAISS.from_documents(table_document, embeddings_OpenAI)\n",
    "vector_db_column3 = FAISS.from_documents(column_document, embeddings_OpenAI)"
   ]
  },
  {
   "cell_type": "markdown",
   "id": "5584a82e-a4d7-48fd-a047-e7923bb2ad50",
   "metadata": {},
   "source": [
    "### Búsqueda por similitud "
   ]
  },
  {
   "cell_type": "code",
   "execution_count": null,
   "id": "110375f6-6162-47aa-8258-a35aaaac266e",
   "metadata": {},
   "outputs": [],
   "source": [
    "query = \"How many transfers made by user Martin in the last month\"\n",
    "docs_t = vector_db_table.similarity_search_with_score(query,6)\n",
    "docs_c = vector_db_column.similarity_search_with_score(query,6)"
   ]
  },
  {
   "cell_type": "code",
   "execution_count": null,
   "id": "fe1a0f00-8223-4941-8274-fc94019e95ac",
   "metadata": {},
   "outputs": [],
   "source": [
    "docs_t2 = vector_db_table2.similarity_search_with_score(query,6)\n",
    "docs_c2 = vector_db_column2.similarity_search_with_score(query,6)"
   ]
  },
  {
   "cell_type": "code",
   "execution_count": null,
   "id": "6839a067-becc-4d1b-b4d0-c8779acfde62",
   "metadata": {},
   "outputs": [],
   "source": [
    "docs_t3 = vector_db_table3.similarity_search_with_score(query,5)\n",
    "docs_c3 = vector_db_column3.similarity_search_with_score(query,5)"
   ]
  },
  {
   "cell_type": "markdown",
   "id": "d35e176f-585c-4884-86f0-15bdb0324eb3",
   "metadata": {},
   "source": [
    "#### Funciones para el pre-filtro "
   ]
  },
  {
   "cell_type": "code",
   "execution_count": null,
   "id": "f397ba46-9048-4070-a0ef-557d98031696",
   "metadata": {},
   "outputs": [],
   "source": [
    "def interceptQuerry(doc_t,doc_c):\n",
    "    list_t = {doc_t[i][0].metadata.get(\"Table\") for i in range(len(doc_t))}\n",
    "    list_c = {doc_c[i][0].metadata.get(\"Table\") for i in range(len(doc_c))}\n",
    "    table_list_cross= list(set(list_t) & set(list_c))\n",
    "    return [list_t,list_c,table_list_cross]\n",
    "\n",
    "def unionSimilaritySearch(list_1,list_2):\n",
    "    table_list = list(set(list_1) | set(list_2))\n",
    "    return table_list   "
   ]
  },
  {
   "cell_type": "code",
   "execution_count": null,
   "id": "a12a7de9-49f9-4150-9e70-ad48fdcceccf",
   "metadata": {},
   "outputs": [],
   "source": [
    "def findForeignKey(doc_t,relevant_table,fk):\n",
    "    for item in doc_t:\n",
    "        if (item[0].metadata.get(\"Table\") in relevant_table):\n",
    "            fk_i = {item[0].metadata.get(\"foregin_key\")[i] for i in range(len(item[0].metadata.get(\"foregin_key\")))}\n",
    "            fk = list(set(fk) | set(fk_i))\n",
    "    if \"\" in fk:\n",
    "        fk.remove(\"\")\n",
    "    return fk\n",
    "\n",
    "def addForeignkey(list_fk, list_UE):\n",
    "    relevant_table = list(set(list_fk) | set(list_UE))\n",
    "    return relevant_table"
   ]
  },
  {
   "cell_type": "code",
   "execution_count": null,
   "id": "5d6a1059-3330-482f-8d8f-f116acf75610",
   "metadata": {},
   "outputs": [],
   "source": [
    "table1 = interceptQuerry(docs_t,docs_c)\n",
    "table2 = interceptQuerry(docs_t2,docs_c2)\n",
    "union_table = unionSimilaritySearch(table1[2],table2[2])\n",
    "fk = findForeignKey(docs_t,union_table,fk=[])\n",
    "fk = findForeignKey(docs_c,union_table,fk)\n",
    "fk = findForeignKey(docs_t2,union_table,fk)\n",
    "fk = findForeignKey(docs_c2,union_table,fk)\n",
    "relevant_table = addForeignkey(fk,union_table)\n",
    "print(f\"Mixtral | Tablas relevantes: {table1[0]} | Columnas relevantes: {table1[1]} Union: {table1[2]}\")\n",
    "print(f\"GPT4All | Tablas relevantes: {table2[0]} | Columnas relevantes: {table2[1]} Union: {table2[2]}\")\n",
    "print(f\"Union de embedings {union_table}\")\n",
    "print(f\"Foreign_key {fk}\")\n",
    "print(f\"Tablas relevantes {relevant_table}\")"
   ]
  },
  {
   "cell_type": "markdown",
   "id": "56af4453-c50f-4c05-9cbd-ce9bc0cf79f6",
   "metadata": {},
   "source": [
    "## Función pre-filtro"
   ]
  },
  {
   "cell_type": "code",
   "execution_count": null,
   "id": "2b814664-1b76-4544-b48c-07e5fb337fdf",
   "metadata": {},
   "outputs": [],
   "source": [
    "# Pre-filtro (retorna la lista de tablas importantes, con la funcion db.get_table_info([list]) de langchain se obtiene el schema de esas tablas de la DB\n",
    "def prefilter(vTable1,vColumn1,vTable2,vColumn2,uQuery,quantity):\n",
    "    docs_t1 = vTable1.similarity_search_with_score(uQuery,quantity)\n",
    "    docs_c1 = vColumn1.similarity_search_with_score(uQuery,quantity)\n",
    "    docs_t2 = vTable2.similarity_search_with_score(uQuery,quantity)\n",
    "    docs_c2 = vColumn2.similarity_search_with_score(uQuery,quantity)\n",
    "    table1 = interceptQuerry(docs_t1,docs_c1)\n",
    "    table2 = interceptQuerry(docs_t2,docs_c2)\n",
    "    union_table = unionSimilaritySearch(table1[2],table2[2])\n",
    "    fk = findForeignKey(docs_t,union_table,fk=[])\n",
    "    fk = findForeignKey(docs_c,union_table,fk)\n",
    "    fk = findForeignKey(docs_t2,union_table,fk)\n",
    "    fk = findForeignKey(docs_c2,union_table,fk)\n",
    "    relevant_table = addForeignkey(fk,union_table)\n",
    "    return relevant_table"
   ]
  },
  {
   "cell_type": "code",
   "execution_count": null,
   "id": "8052df5c-6b03-4fc2-b662-c9c7fe07ead7",
   "metadata": {},
   "outputs": [],
   "source": [
    "query = \"How many transfers made by user Martin in the last month\"\n",
    "result = prefilter(vector_db_table,vector_db_column,vector_db_table2,vector_db_column2,query,6) \n",
    "print(result)"
   ]
  }
 ],
 "metadata": {
  "kernelspec": {
   "display_name": "Python 3 (ipykernel)",
   "language": "python",
   "name": "python3"
  },
  "language_info": {
   "codemirror_mode": {
    "name": "ipython",
    "version": 3
   },
   "file_extension": ".py",
   "mimetype": "text/x-python",
   "name": "python",
   "nbconvert_exporter": "python",
   "pygments_lexer": "ipython3",
   "version": "3.10.12"
  }
 },
 "nbformat": 4,
 "nbformat_minor": 5
}
