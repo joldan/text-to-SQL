{
 "cells": [
  {
   "cell_type": "markdown",
   "id": "a5e2ce1f-6f84-43dc-9c57-bf61df248afa",
   "metadata": {},
   "source": [
    "# Fase cero\n",
    "Bloque diseñado para generar las descripciones de las tablas que posteriormente se utilizaran en el Pre-Filtro. "
   ]
  },
  {
   "cell_type": "markdown",
   "id": "db152423-5dbb-4141-b4d3-36a3bbb32254",
   "metadata": {},
   "source": [
    "### Librerías necesarias"
   ]
  },
  {
   "cell_type": "code",
   "execution_count": null,
   "id": "be597448-cf92-4a18-9d94-69ce30c1ffaf",
   "metadata": {},
   "outputs": [],
   "source": [
    "import sys\n",
    "from langchain.llms import LlamaCpp\n",
    "from langchain.prompts import PromptTemplate\n",
    "from langchain.chains import LLMChain\n",
    "from langchain.callbacks.manager import CallbackManager\n",
    "from langchain.callbacks.streaming_stdout import StreamingStdOutCallbackHandler"
   ]
  },
  {
   "cell_type": "markdown",
   "id": "34c0cbda-1a00-46f9-a6fa-674bbee626cd",
   "metadata": {},
   "source": [
    "### Conexión a DB local"
   ]
  },
  {
   "cell_type": "code",
   "execution_count": null,
   "id": "abda4059-fdab-4733-bce2-3bb29838ed70",
   "metadata": {},
   "outputs": [],
   "source": [
    "# Base de datos dummy para hacer las pruebas.\n",
    "from langchain.sql_database import SQLDatabase\n",
    "\n",
    "db = SQLDatabase.from_uri(\"sqlite://///home/llmuser/DB/laloss2.db\",sample_rows_in_table_info=0)"
   ]
  },
  {
   "cell_type": "code",
   "execution_count": null,
   "id": "8b47e907-e64a-4688-a40c-46cf4b8042ba",
   "metadata": {},
   "outputs": [],
   "source": [
    "callback_manager = CallbackManager([StreamingStdOutCallbackHandler()])"
   ]
  },
  {
   "cell_type": "markdown",
   "id": "e6ac2594-6e27-48a5-8abb-fef8ea9a38cc",
   "metadata": {},
   "source": [
    "### Carga del modelo Mixtral en LlamaCpp"
   ]
  },
  {
   "cell_type": "code",
   "execution_count": null,
   "id": "98743d5f-3361-4011-8b16-e0d1aa9e778d",
   "metadata": {},
   "outputs": [],
   "source": [
    "# Modelos con llama_cpp\n",
    "llm = LlamaCpp(\n",
    "    model_path=\"dockerFolder/mixtral-8x7b-v0.1.Q5_K_M.gguf\",\n",
    "    temperature=0.0,\n",
    "    n_gpu_layers=-1,\n",
    "    max_tokens=1000,\n",
    "    n_ctx=1024*10,\n",
    "    top_p=1,\n",
    "    callback_manager=callback_manager,\n",
    "    verbose=True,  # Verbose is required to pass to the callback manager\n",
    ")"
   ]
  },
  {
   "cell_type": "markdown",
   "id": "d4270092-e0d1-4d60-a5c2-bfff62149c38",
   "metadata": {},
   "source": [
    "## Prompt con few-shot-learning y chain-of-thought"
   ]
  },
  {
   "cell_type": "code",
   "execution_count": null,
   "id": "6170d427-e5ac-4477-92b8-43f61b32ef68",
   "metadata": {},
   "outputs": [],
   "source": [
    "description_prompt = \"\"\"\n",
    "Q: \"Pleas give me a description about this table:\"\n",
    "\n",
    "CREATE TABLE EMPLOYEE(\n",
    "  EMPLOYEE_ID     INTEGER PRIMARY KEY AUTOINCREMENT, \n",
    "  NAME   TEXT NOT NULL, \n",
    "  PHONE_NUMBRE TEXT NOT NULL,\n",
    "  EMAIL TEXT NOT NULL,\n",
    "  FK_EMPLOYEE_ADDRESS INTEGER REFERENCES ADDRESS(ADDRESS_ID),\n",
    "  FK_EMPLOYEE_ROLE_ID INTEGER REFERENCES ROLE(ROLE_ID)\n",
    ");\n",
    "\n",
    "A:This table, named EMPLOYEE, is designed to store information about employees. \n",
    "\n",
    "Here's a breakdown of its structure and the purpose of each column:\n",
    "- EMPLOYEE_ID: A unique identifier for each employee. It's an integer value that auto-increments every time a new employee is added, ensuring that each employee has a distinct ID.\n",
    "- NAME: This column stores the name of the employee. It's a text field and is marked as NOT NULL, meaning every record must include the employee's name.\n",
    "- PHONE_NUMBRE: A text field intended to store the employee's phone number. The misspelling of \"number\" seems like a typo. This field is also NOT NULL.\n",
    "- EMAIL: This column keeps the employee's email address, allowing for contact and identification beyond just a name or ID. It's a text field and must be provided for each employee.\n",
    "- FK_EMPLOYEE_ADDRESS: A foreign key linking to the ADDRESS table via the ADDRESS_ID column. This establishes a relationship between each employee and their address, indicating where the employee lives. It's an integer reflecting the ADDRESS_ID from the ADDRESS table.\n",
    "- FK_EMPLOYEE_ROLE_ID: Another foreign key, this time linking to the ROLE table by the ROLE_ID column. This connection defines the role or position the employee holds within the organization. It's an integer that matches a ROLE_ID in the ROLE table, detailing the employee's specific role or job function.\n",
    "\n",
    "Q: \"Pleas give me a description about this table:\"\n",
    "\n",
    "CREATE TABLE ROLE(\n",
    "  ROLE_ID     INTEGER PRIMARY KEY AUTOINCREMENT, \n",
    "  DESCRIPTION\tTEXT NOT NULL, \n",
    "  PRIVILEGES\tTEXT NOT NULL \n",
    ");\n",
    "\n",
    "A: The ROLE table is structured to define various roles within an organization, including a description and the privileges associated with each role.\n",
    "\n",
    "Here's a breakdown of its structure and the purpose of each column:\n",
    "- ROLE_ID: This is the primary key for the table, uniquely identifying each role. It's an integer that auto-increments whenever a new role is added to the table, ensuring that each role has a unique identifier.\n",
    "- DESCRIPTION: A text field that provides a detailed description of the role. This could include information about the role's responsibilities, its place within the organizational hierarchy, or any other relevant details. This column is marked as NOT NULL, meaning that a description must be provided for each role.\n",
    "- PRIVILEGES: Another text field that outlines the specific privileges or permissions associated with the role. This could detail access levels, tasks that the role is authorized to perform, or other rights granted to the role. Like the DESCRIPTION column, this field is also NOT NULL, requiring that privileges are explicitly defined for each role.\n",
    "\n",
    "Q: \"Pleas give me a description about this table:\"\n",
    "\n",
    "CREATE TABLE ADDRESS(\n",
    "  ADDRESS_ID     INTEGER PRIMARY KEY AUTOINCREMENT, \n",
    "  STREET\tTEXT NOT NULL, \n",
    "  CITY\tTEXT NOT NULL,\n",
    "  STATE\tTEXT NOT NULL,\n",
    "  POSTAL_CODE\tTEXT NOT NULL,\n",
    "  COUNTRY\tTEXT NOT NULL\n",
    ");\n",
    "\n",
    "A: The ADDRESS table is designed to store detailed information about various addresses. This table is essential for maintaining accurate location data for individuals, businesses, or other entities.\n",
    "\n",
    "Here's a breakdown of its structure and the purpose of each column:\n",
    "- ADDRESS_ID: This is the primary key of the table, which uniquely identifies each address entry. It is an integer value that automatically increments with each new entry, ensuring that each address has a unique identifier.\n",
    "- STREET: A text field that holds the street name and number of the address. This column is marked as NOT NULL, meaning an entry must include this information.\n",
    "- CITY: This text field stores the name of the city for the address. It is also marked as NOT NULL, requiring that every address entry specifies a city.\n",
    "- STATE: A text field for the state, province, or regional equivalent in which the address is located. Like the previous fields, this is a NOT NULL column, indicating that the state must be included in every address entry.\n",
    "- POSTAL_CODE: This text field contains the postal or ZIP code for the address. It is essential for mail delivery and other location-based services. This column is also NOT NULL.\n",
    "- COUNTRY: A text field specifying the country of the address. This is critical for international addresses and is also a NOT NULL field, requiring an entry for every address.\n",
    "\n",
    "\"\"\""
   ]
  },
  {
   "cell_type": "code",
   "execution_count": null,
   "id": "e3a94ff3-6260-4fa4-89f7-651ffb6c5532",
   "metadata": {},
   "outputs": [],
   "source": [
    "# Se recorren todas las tablas de la DB y se genera las descripción de cada una, la información se almacena en dos archivos, uno para las tablas y otro para las columnas\n",
    "tables_list = open(\"table_list.txt\",\"w\")\n",
    "columns_list = open(\"columns_list.txt\",\"w\")\n",
    "tables = db.get_usable_table_names()\n",
    "tables_description =\"\"\n",
    "for table in tables:\n",
    "    table_schema = db.get_table_info([table])\n",
    "    prompt = description_prompt + 'Q: \"Pleas give me a description about this table:\" \"' + table_schema + \"\"\"\"\\nA: The PROFESSION table \"\"\"\n",
    "    tables_description = llm(prompt)\n",
    "    aux = (tables_description.split(\"\\n\"))\n",
    "    tables = aux[0]\n",
    "    columns = \"\\n\".join(aux[2:])\n",
    "    tables_list.write(tables)\n",
    "    columns_list.write(columns)"
   ]
  },
  {
   "cell_type": "code",
   "execution_count": null,
   "id": "fe109d7a-98f5-459c-9d89-cc65bc282dfc",
   "metadata": {},
   "outputs": [],
   "source": [
    "tables_list.close()\n",
    "columns_list.close()"
   ]
  }
 ],
 "metadata": {
  "kernelspec": {
   "display_name": "Python 3 (ipykernel)",
   "language": "python",
   "name": "python3"
  },
  "language_info": {
   "codemirror_mode": {
    "name": "ipython",
    "version": 3
   },
   "file_extension": ".py",
   "mimetype": "text/x-python",
   "name": "python",
   "nbconvert_exporter": "python",
   "pygments_lexer": "ipython3",
   "version": "3.10.12"
  }
 },
 "nbformat": 4,
 "nbformat_minor": 5
}
