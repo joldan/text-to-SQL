{
 "cells": [
  {
   "cell_type": "markdown",
   "id": "0863b284-cce7-4edf-af16-e20be3f85bc8",
   "metadata": {},
   "source": [
    "# Constructor\n",
    "Bloque diseñado para generar la sql en función a la pregunta del usuario y un  lista de tablas relevantes "
   ]
  },
  {
   "cell_type": "markdown",
   "id": "5bf8dc75-03c8-467e-af07-d4b3dd17deae",
   "metadata": {},
   "source": [
    "### Librerías necesarias"
   ]
  },
  {
   "cell_type": "code",
   "execution_count": null,
   "id": "881db10a-4f16-49f5-834a-0b72187388de",
   "metadata": {},
   "outputs": [],
   "source": [
    "#import lib\n",
    "import sys\n",
    "from langchain.llms import LlamaCpp\n",
    "from langchain.prompts import PromptTemplate\n",
    "from langchain.chains import LLMChain\n",
    "from langchain.callbacks.manager import CallbackManager\n",
    "from langchain.callbacks.streaming_stdout import StreamingStdOutCallbackHandler"
   ]
  },
  {
   "cell_type": "markdown",
   "id": "766d194a-65e8-4e65-8a02-e473eb44a117",
   "metadata": {},
   "source": [
    "### Conexión a DB local"
   ]
  },
  {
   "cell_type": "code",
   "execution_count": null,
   "id": "e94063df-af64-4d18-8d1d-e8e7bc1e7320",
   "metadata": {},
   "outputs": [],
   "source": [
    "# Base de datos dummy para hacer las pruebas.\n",
    "from langchain.sql_database import SQLDatabase\n",
    "\n",
    "db = SQLDatabase.from_uri(\"sqlite://///home/llmuser/DB/laloss2.db\",sample_rows_in_table_info=0)"
   ]
  },
  {
   "cell_type": "markdown",
   "id": "bcff5cf8-7f83-4b3b-8858-cff188a93aa9",
   "metadata": {},
   "source": [
    "### Carga del modelo sqlcoder en LlamaCpp"
   ]
  },
  {
   "cell_type": "code",
   "execution_count": null,
   "id": "063808e4-4d94-47c1-84d1-b63cbb1f7336",
   "metadata": {},
   "outputs": [],
   "source": [
    "# Callbacks support token-wise streaming\n",
    "callback_manager = CallbackManager([StreamingStdOutCallbackHandler()])\n",
    "\n",
    "# Make sure the model path is correct for your system!\n",
    "llm_sqlcoder2 = LlamaCpp(\n",
    "    model_path=\"/home/llamademo/models/sqlcoder2.Q5_K_S.gguf\",\n",
    "    temperature=0.0,\n",
    "    max_tokens=10000,\n",
    "    n_ctx=1024,\n",
    "    top_p=1,\n",
    "    n_threads = 12,\n",
    "    callback_manager=callback_manager2\n",
    "    verbose=True,  # Verbose is required to pass to the callback manager\n",
    ")"
   ]
  },
  {
   "cell_type": "markdown",
   "id": "83e1e763-ef35-4d57-ac15-32552a621089",
   "metadata": {},
   "source": [
    "### Definicion de prompt y chain a utilizar"
   ]
  },
  {
   "cell_type": "code",
   "execution_count": null,
   "id": "ba39369b-2801-43c9-a60d-4b7255fe3ee5",
   "metadata": {},
   "outputs": [],
   "source": [
    "# Definicion de prompt y chain a utilizar\n",
    "\n",
    "_sql_prompt = \"\"\"Generate a SQL query to answer the following question: {input}.\n",
    "\"\"\"\n",
    "\n",
    "PROMPT_SUFFIX = \"\"\"### Database Schema\n",
    "This query will run on a database whose schema is represented in this string:\n",
    "\n",
    "{table_info}\n",
    "\n",
    "\"\"\"\n",
    "\n",
    "SQLite_PROMPT = PromptTemplate(\n",
    "    input_variables=[\"input\", \"table_info\"],\n",
    "    template=_sql_prompt + PROMPT_SUFFIX,\n",
    ")\n",
    "\n",
    "llm_chain = LLMChain(\n",
    "    prompt=SQLite_PROMPT,\n",
    "    llm=llm_sqlcoder2\n",
    ")"
   ]
  },
  {
   "cell_type": "markdown",
   "id": "048ff1fe-02b1-443f-8398-47c917d45026",
   "metadata": {},
   "source": [
    "### La lista de tablas se debe obtener del filtro"
   ]
  },
  {
   "cell_type": "code",
   "execution_count": null,
   "id": "43934f4c-1ece-49ff-b17d-809178276eed",
   "metadata": {},
   "outputs": [],
   "source": [
    "filterTables = ['USERS', 'PROFESSION','P_PERSON'] # Ejemplo\n",
    "relevantTables = db.get_table_info(filterTables)"
   ]
  },
  {
   "cell_type": "markdown",
   "id": "3e87432e-57c1-4354-9a38-467b06f152ea",
   "metadata": {},
   "source": [
    "### Query SQL"
   ]
  },
  {
   "cell_type": "code",
   "execution_count": null,
   "id": "e63fc056-66ac-4f24-8825-fd3b16bffff3",
   "metadata": {},
   "outputs": [],
   "source": [
    "question = \"what is the profesion of user Joaquin\"\n",
    "response = llm_chain.run({'input': question, 'table_info': relevantTables})"
   ]
  },
  {
   "cell_type": "markdown",
   "id": "f4584675-5cf0-48ea-99ac-2f90d5c4a876",
   "metadata": {},
   "source": [
    " ### Ejemplo:\n",
    " SELECT p.name, pr.name_profession FROM p_person p JOIN profession pr ON p.fk_p_profession_id::integer = pr.profession_id WHERE p.name ilike '%Joaquin%'"
   ]
  }
 ],
 "metadata": {
  "kernelspec": {
   "display_name": "Python 3 (ipykernel)",
   "language": "python",
   "name": "python3"
  },
  "language_info": {
   "codemirror_mode": {
    "name": "ipython",
    "version": 3
   },
   "file_extension": ".py",
   "mimetype": "text/x-python",
   "name": "python",
   "nbconvert_exporter": "python",
   "pygments_lexer": "ipython3",
   "version": "3.10.12"
  }
 },
 "nbformat": 4,
 "nbformat_minor": 5
}
