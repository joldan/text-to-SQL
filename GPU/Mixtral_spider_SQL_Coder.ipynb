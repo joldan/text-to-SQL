{
 "cells": [
  {
   "cell_type": "code",
   "execution_count": 1,
   "id": "8eeb7172-6a4d-46d9-8e62-eeccf1e63591",
   "metadata": {},
   "outputs": [
    {
     "name": "stdout",
     "output_type": "stream",
     "text": [
      "['/home/llmuser', '/usr/lib/python310.zip', '/usr/lib/python3.10', '/usr/lib/python3.10/lib-dynload', '', '/home/llmuser/.local/lib/python3.10/site-packages', '/usr/local/lib/python3.10/dist-packages', '/usr/lib/python3/dist-packages']\n"
     ]
    }
   ],
   "source": [
    "import sys\n",
    "print(sys.path)\n",
    "\n",
    "from langchain.llms  import LlamaCpp\n",
    "from langchain.prompts import PromptTemplate\n",
    "from langchain.chains import LLMChain\n",
    "from langchain.callbacks.manager import CallbackManager\n",
    "from langchain.callbacks.streaming_stdout import StreamingStdOutCallbackHandler\n",
    "from langchain.utilities import SQLDatabase\n",
    "\n",
    "import pandas as pd\n",
    "import os\n",
    "import sys\n",
    "import json\n",
    "import ast\n",
    "import sqlite3\n",
    "\n",
    "# Callbacks support token-wise streaming\n",
    "callback_manager = CallbackManager([StreamingStdOutCallbackHandler()])"
   ]
  },
  {
   "cell_type": "code",
   "execution_count": 2,
   "id": "6d4fc0d7-5ea5-4848-8ece-7a8fe8d28ae5",
   "metadata": {
    "scrolled": true
   },
   "outputs": [
    {
     "name": "stderr",
     "output_type": "stream",
     "text": [
      "ggml_init_cublas: GGML_CUDA_FORCE_MMQ:   no\n",
      "ggml_init_cublas: CUDA_USE_TENSOR_CORES: yes\n",
      "ggml_init_cublas: found 6 CUDA devices:\n",
      "  Device 0: NVIDIA GeForce RTX 3060 Ti, compute capability 8.6, VMM: yes\n",
      "  Device 1: NVIDIA GeForce RTX 3060 Ti, compute capability 8.6, VMM: yes\n",
      "  Device 2: NVIDIA GeForce RTX 2060, compute capability 7.5, VMM: yes\n",
      "  Device 3: NVIDIA GeForce RTX 2060, compute capability 7.5, VMM: yes\n",
      "  Device 4: NVIDIA GeForce RTX 2060, compute capability 7.5, VMM: yes\n",
      "  Device 5: NVIDIA GeForce RTX 2060, compute capability 7.5, VMM: yes\n",
      "llama_model_loader: loaded meta data with 21 key-value pairs and 291 tensors from models/sqlcoder-7b-2.fp16.gguf (version GGUF V3 (latest))\n",
      "llama_model_loader: Dumping metadata keys/values. Note: KV overrides do not apply in this output.\n",
      "llama_model_loader: - kv   0:                       general.architecture str              = llama\n",
      "llama_model_loader: - kv   1:                               general.name str              = hub\n",
      "llama_model_loader: - kv   2:                       llama.context_length u32              = 16384\n",
      "llama_model_loader: - kv   3:                     llama.embedding_length u32              = 4096\n",
      "llama_model_loader: - kv   4:                          llama.block_count u32              = 32\n",
      "llama_model_loader: - kv   5:                  llama.feed_forward_length u32              = 11008\n",
      "llama_model_loader: - kv   6:                 llama.rope.dimension_count u32              = 128\n",
      "llama_model_loader: - kv   7:                 llama.attention.head_count u32              = 32\n",
      "llama_model_loader: - kv   8:              llama.attention.head_count_kv u32              = 32\n",
      "llama_model_loader: - kv   9:     llama.attention.layer_norm_rms_epsilon f32              = 0.000010\n",
      "llama_model_loader: - kv  10:                       llama.rope.freq_base f32              = 1000000.000000\n",
      "llama_model_loader: - kv  11:                          general.file_type u32              = 1\n",
      "llama_model_loader: - kv  12:                       tokenizer.ggml.model str              = llama\n",
      "llama_model_loader: - kv  13:                      tokenizer.ggml.tokens arr[str,32016]   = [\"<unk>\", \"<s>\", \"</s>\", \"<0x00>\", \"<...\n",
      "llama_model_loader: - kv  14:                      tokenizer.ggml.scores arr[f32,32016]   = [0.000000, 0.000000, 0.000000, 0.0000...\n",
      "llama_model_loader: - kv  15:                  tokenizer.ggml.token_type arr[i32,32016]   = [2, 3, 3, 6, 6, 6, 6, 6, 6, 6, 6, 6, ...\n",
      "llama_model_loader: - kv  16:                tokenizer.ggml.bos_token_id u32              = 1\n",
      "llama_model_loader: - kv  17:                tokenizer.ggml.eos_token_id u32              = 2\n",
      "llama_model_loader: - kv  18:            tokenizer.ggml.unknown_token_id u32              = 0\n",
      "llama_model_loader: - kv  19:               tokenizer.ggml.add_bos_token bool             = true\n",
      "llama_model_loader: - kv  20:               tokenizer.ggml.add_eos_token bool             = false\n",
      "llama_model_loader: - type  f32:   65 tensors\n",
      "llama_model_loader: - type  f16:  226 tensors\n",
      "llm_load_vocab: mismatch in special tokens definition ( 264/32016 vs 259/32016 ).\n",
      "llm_load_print_meta: format           = GGUF V3 (latest)\n",
      "llm_load_print_meta: arch             = llama\n",
      "llm_load_print_meta: vocab type       = SPM\n",
      "llm_load_print_meta: n_vocab          = 32016\n",
      "llm_load_print_meta: n_merges         = 0\n",
      "llm_load_print_meta: n_ctx_train      = 16384\n",
      "llm_load_print_meta: n_embd           = 4096\n",
      "llm_load_print_meta: n_head           = 32\n",
      "llm_load_print_meta: n_head_kv        = 32\n",
      "llm_load_print_meta: n_layer          = 32\n",
      "llm_load_print_meta: n_rot            = 128\n",
      "llm_load_print_meta: n_embd_head_k    = 128\n",
      "llm_load_print_meta: n_embd_head_v    = 128\n",
      "llm_load_print_meta: n_gqa            = 1\n",
      "llm_load_print_meta: n_embd_k_gqa     = 4096\n",
      "llm_load_print_meta: n_embd_v_gqa     = 4096\n",
      "llm_load_print_meta: f_norm_eps       = 0.0e+00\n",
      "llm_load_print_meta: f_norm_rms_eps   = 1.0e-05\n",
      "llm_load_print_meta: f_clamp_kqv      = 0.0e+00\n",
      "llm_load_print_meta: f_max_alibi_bias = 0.0e+00\n",
      "llm_load_print_meta: n_ff             = 11008\n",
      "llm_load_print_meta: n_expert         = 0\n",
      "llm_load_print_meta: n_expert_used    = 0\n",
      "llm_load_print_meta: rope scaling     = linear\n",
      "llm_load_print_meta: freq_base_train  = 1000000.0\n",
      "llm_load_print_meta: freq_scale_train = 1\n",
      "llm_load_print_meta: n_yarn_orig_ctx  = 16384\n",
      "llm_load_print_meta: rope_finetuned   = unknown\n",
      "llm_load_print_meta: model type       = 7B\n",
      "llm_load_print_meta: model ftype      = F16\n",
      "llm_load_print_meta: model params     = 6.74 B\n",
      "llm_load_print_meta: model size       = 12.55 GiB (16.00 BPW) \n",
      "llm_load_print_meta: general.name     = hub\n",
      "llm_load_print_meta: BOS token        = 1 '<s>'\n",
      "llm_load_print_meta: EOS token        = 2 '</s>'\n",
      "llm_load_print_meta: UNK token        = 0 '<unk>'\n",
      "llm_load_print_meta: LF token         = 13 '<0x0A>'\n",
      "llm_load_tensors: ggml ctx size =    0.78 MiB\n",
      "llm_load_tensors: offloading 32 repeating layers to GPU\n",
      "llm_load_tensors: offloading non-repeating layers to GPU\n",
      "llm_load_tensors: offloaded 33/33 layers to GPU\n",
      "llm_load_tensors:        CPU buffer size =   250.12 MiB\n",
      "llm_load_tensors:      CUDA0 buffer size =  2702.22 MiB\n",
      "llm_load_tensors:      CUDA1 buffer size =  2702.22 MiB\n",
      "llm_load_tensors:      CUDA2 buffer size =  1930.16 MiB\n",
      "llm_load_tensors:      CUDA3 buffer size =  1930.16 MiB\n",
      "llm_load_tensors:      CUDA4 buffer size =  1930.16 MiB\n",
      "llm_load_tensors:      CUDA5 buffer size =  1408.23 MiB\n",
      "....................................................................................................\n",
      "llama_new_context_with_model: n_ctx      = 1024\n",
      "llama_new_context_with_model: freq_base  = 10000.0\n",
      "llama_new_context_with_model: freq_scale = 1\n",
      "llama_kv_cache_init:      CUDA0 KV buffer size =   112.00 MiB\n",
      "llama_kv_cache_init:      CUDA1 KV buffer size =   112.00 MiB\n",
      "llama_kv_cache_init:      CUDA2 KV buffer size =    80.00 MiB\n",
      "llama_kv_cache_init:      CUDA3 KV buffer size =    80.00 MiB\n",
      "llama_kv_cache_init:      CUDA4 KV buffer size =    80.00 MiB\n",
      "llama_kv_cache_init:      CUDA5 KV buffer size =    48.00 MiB\n",
      "llama_new_context_with_model: KV self size  =  512.00 MiB, K (f16):  256.00 MiB, V (f16):  256.00 MiB\n",
      "llama_new_context_with_model:  CUDA_Host input buffer size   =     0.16 MiB\n",
      "llama_new_context_with_model:      CUDA0 compute buffer size =     1.55 MiB\n",
      "llama_new_context_with_model:      CUDA1 compute buffer size =     1.55 MiB\n",
      "llama_new_context_with_model:      CUDA2 compute buffer size =     1.55 MiB\n",
      "llama_new_context_with_model:      CUDA3 compute buffer size =     1.55 MiB\n",
      "llama_new_context_with_model:      CUDA4 compute buffer size =     1.55 MiB\n",
      "llama_new_context_with_model:      CUDA5 compute buffer size =     1.55 MiB\n",
      "llama_new_context_with_model:  CUDA_Host compute buffer size =     0.14 MiB\n",
      "llama_new_context_with_model: graph splits (measure): 13\n",
      "AVX = 0 | AVX_VNNI = 0 | AVX2 = 0 | AVX512 = 0 | AVX512_VBMI = 0 | AVX512_VNNI = 0 | FMA = 0 | NEON = 0 | ARM_FMA = 0 | F16C = 0 | FP16_VA = 0 | WASM_SIMD = 0 | BLAS = 1 | SSE3 = 1 | SSSE3 = 1 | VSX = 0 | \n"
     ]
    },
    {
     "name": "stdout",
     "output_type": "stream",
     "text": [
      "0:3:0\n"
     ]
    },
    {
     "name": "stderr",
     "output_type": "stream",
     "text": [
      "Model metadata: {'tokenizer.ggml.add_eos_token': 'false', 'tokenizer.ggml.unknown_token_id': '0', 'tokenizer.ggml.eos_token_id': '2', 'general.architecture': 'llama', 'llama.rope.freq_base': '1000000.000000', 'llama.context_length': '16384', 'general.name': 'hub', 'tokenizer.ggml.add_bos_token': 'true', 'llama.embedding_length': '4096', 'llama.feed_forward_length': '11008', 'llama.attention.layer_norm_rms_epsilon': '0.000010', 'llama.rope.dimension_count': '128', 'tokenizer.ggml.bos_token_id': '1', 'llama.attention.head_count': '32', 'llama.block_count': '32', 'llama.attention.head_count_kv': '32', 'tokenizer.ggml.model': 'llama', 'general.file_type': '1'}\n"
     ]
    }
   ],
   "source": [
    "#Make sure the model path is correct for your system!\n",
    "local_generation = LlamaCpp(\n",
    "    model_path=\"models/sqlcoder-7b-2.fp16.gguf\",\n",
    "    temperature=0.0,\n",
    "    n_gpu_layers=-1,\n",
    "    n_ctx=1024,\n",
    "    top_p=1,\n",
    "    callback_manager=callback_manager,\n",
    "    verbose=True,  # Verbose is required to pass to the callback manager\n",
    ")\n"
   ]
  },
  {
   "cell_type": "code",
   "execution_count": 3,
   "id": "2b262ad0-6347-4379-ac01-6c3955adc2e7",
   "metadata": {},
   "outputs": [],
   "source": [
    "OUTPUT_DIR = '/home/llmuser/models/results/'\n",
    "\n",
    "DATASET_SCHEMA = '/home/llmuser/models/datasets/spider-2/tables.json'\n",
    "DATASET = '/home/llmuser/models/datasets/spider-2/dev.json'\n",
    "SPIDER_DB_DIR = '/home/llmuser/models/datasets/spider-2/database/' #the path were all databases exist\n",
    "\n",
    "def load_data_json(DATASET):\n",
    "    # Open the JSON file and load data\n",
    "    with open(DATASET, 'r') as json_file:\n",
    "        return json.load(json_file)\n"
   ]
  },
  {
   "cell_type": "code",
   "execution_count": 4,
   "id": "17e31f3f-cb95-46a8-a47b-e68693cc4786",
   "metadata": {},
   "outputs": [],
   "source": [
    "\n",
    "\n",
    "# Modificar esto eventualmente por una tecnica de RAG\n",
    "def getSQLDatabase(db_id):\n",
    "    # Modificar el PATH para donde este la base de datos\n",
    "    db_path = SPIDER_DB_DIR\n",
    "    uri = 'sqlite:///' + db_path + db_id + '/' + db_id + '.sqlite'\n",
    "    db = SQLDatabase.from_uri(uri,  sample_rows_in_table_info=0)\n",
    "    return db\n",
    "\n",
    "\n",
    "def string_to_array(input):\n",
    "    return ast.literal_eval(input)\n",
    "\n",
    "def correctCase(llm_table_list, db_SQLDatabase):\n",
    "    corrected_tables = []\n",
    "    db_table_list = db_SQLDatabase.get_usable_table_names()\n",
    "    for table_name in llm_table_list:\n",
    "        for table in db_table_list:\n",
    "            if table_name.casefold() == table.casefold():\n",
    "                corrected_tables.append(table)\n",
    "    return corrected_tables\n",
    "\n",
    "def getPertinentSchema(llm_table_list, db_SQLDatabase):\n",
    "    return db_SQLDatabase.get_table_info(llm_table_list)\n",
    "\n",
    "\n",
    "def saveDataJson(OUTPUT_PATH,list):\n",
    "    # Save the object to a JSON file\n",
    "    with open(OUTPUT_PATH, 'w') as json_file:\n",
    "        json.dump(list, json_file)\n",
    "\n",
    "def load_data_json(DATASET):\n",
    "    # Open the JSON file and load data\n",
    "    with open(DATASET, 'r') as json_file:\n",
    "        return json.load(json_file)"
   ]
  },
  {
   "cell_type": "code",
   "execution_count": 5,
   "id": "d7121bd9-5af5-441e-a8de-3afb42101220",
   "metadata": {},
   "outputs": [],
   "source": [
    "prompt_temp = \"\"\"### Task\n",
    "        Generate a SQL for MySQL query to answer [QUESTION]{question}[/QUESTION]\n",
    "        \n",
    "        ### Database Schema\n",
    "        This query will run on a database whose schema is represented in this string:\n",
    "        {schema}\n",
    "        \n",
    "        ### Answer\n",
    "        Given the database schema, here is the SQL query that answers [QUESTION]{question}[/QUESTION]\n",
    "        [SQL]\n",
    "        \"\"\"\n",
    "\n",
    "SQLite_PROMPT = PromptTemplate(\n",
    "    input_variables=[\"question\", \"schema\"],\n",
    "    template= prompt_temp\n",
    ")\n",
    "\n"
   ]
  },
  {
   "cell_type": "code",
   "execution_count": null,
   "id": "f3495fa8-4006-4d0b-8932-bf1f89bc3d03",
   "metadata": {
    "scrolled": true
   },
   "outputs": [
    {
     "name": "stdout",
     "output_type": "stream",
     "text": [
      "\n",
      "index is 0\n"
     ]
    },
    {
     "name": "stderr",
     "output_type": "stream",
     "text": [
      "Llama.generate: prefix-match hit\n"
     ]
    },
    {
     "name": "stdout",
     "output_type": "stream",
     "text": [
      " SELECT COUNT(s.Singer_ID) FROM singer s;\n",
      "index is 1\n"
     ]
    },
    {
     "name": "stderr",
     "output_type": "stream",
     "text": [
      "\n",
      "llama_print_timings:        load time =     577.18 ms\n",
      "llama_print_timings:      sample time =       7.05 ms /    15 runs   (    0.47 ms per token,  2128.87 tokens per second)\n",
      "llama_print_timings: prompt eval time =    1339.34 ms /   182 tokens (    7.36 ms per token,   135.89 tokens per second)\n",
      "llama_print_timings:        eval time =     625.83 ms /    14 runs   (   44.70 ms per token,    22.37 tokens per second)\n",
      "llama_print_timings:       total time =    2060.47 ms /   196 tokens\n",
      "Llama.generate: prefix-match hit\n"
     ]
    },
    {
     "name": "stdout",
     "output_type": "stream",
     "text": [
      " SELECT COUNT(s.Singer_ID) AS total_singers FROM singer s;\n",
      "index is 2\n"
     ]
    },
    {
     "name": "stderr",
     "output_type": "stream",
     "text": [
      "\n",
      "llama_print_timings:        load time =     577.18 ms\n",
      "llama_print_timings:      sample time =       9.38 ms /    20 runs   (    0.47 ms per token,  2132.65 tokens per second)\n",
      "llama_print_timings: prompt eval time =    1252.40 ms /   184 tokens (    6.81 ms per token,   146.92 tokens per second)\n",
      "llama_print_timings:        eval time =     851.62 ms /    19 runs   (   44.82 ms per token,    22.31 tokens per second)\n",
      "llama_print_timings:       total time =    2215.14 ms /   203 tokens\n",
      "Llama.generate: prefix-match hit\n"
     ]
    },
    {
     "name": "stdout",
     "output_type": "stream",
     "text": [
      " SELECT s.name, s.country, s.age FROM singer s ORDER BY s.age ASC;\n",
      "index is 3\n"
     ]
    },
    {
     "name": "stderr",
     "output_type": "stream",
     "text": [
      "\n",
      "llama_print_timings:        load time =     577.18 ms\n",
      "llama_print_timings:      sample time =      10.66 ms /    23 runs   (    0.46 ms per token,  2158.00 tokens per second)\n",
      "llama_print_timings: prompt eval time =    1420.74 ms /   206 tokens (    6.90 ms per token,   145.00 tokens per second)\n",
      "llama_print_timings:        eval time =     987.91 ms /    22 runs   (   44.91 ms per token,    22.27 tokens per second)\n",
      "llama_print_timings:       total time =    2536.55 ms /   228 tokens\n",
      "Llama.generate: prefix-match hit\n"
     ]
    },
    {
     "name": "stdout",
     "output_type": "stream",
     "text": [
      " SELECT s.name, s.country, s.age FROM singer s ORDER BY s.age DESC;\n",
      "index is 4\n"
     ]
    },
    {
     "name": "stderr",
     "output_type": "stream",
     "text": [
      "\n",
      "llama_print_timings:        load time =     577.18 ms\n",
      "llama_print_timings:      sample time =      10.89 ms /    23 runs   (    0.47 ms per token,  2111.84 tokens per second)\n",
      "llama_print_timings: prompt eval time =    1414.38 ms /   204 tokens (    6.93 ms per token,   144.23 tokens per second)\n",
      "llama_print_timings:        eval time =     986.28 ms /    22 runs   (   44.83 ms per token,    22.31 tokens per second)\n",
      "llama_print_timings:       total time =    2530.00 ms /   226 tokens\n",
      "Llama.generate: prefix-match hit\n"
     ]
    },
    {
     "name": "stdout",
     "output_type": "stream",
     "text": [
      " SELECT AVG(s.age), MIN(s.age), MAX(s.age) FROM singer s WHERE s.country ILIKE '%French%';\n",
      "index is 5\n"
     ]
    },
    {
     "name": "stderr",
     "output_type": "stream",
     "text": [
      "\n",
      "llama_print_timings:        load time =     577.18 ms\n",
      "llama_print_timings:      sample time =      17.66 ms /    37 runs   (    0.48 ms per token,  2095.13 tokens per second)\n",
      "llama_print_timings: prompt eval time =    1363.89 ms /   199 tokens (    6.85 ms per token,   145.91 tokens per second)\n",
      "llama_print_timings:        eval time =    1602.90 ms /    36 runs   (   44.53 ms per token,    22.46 tokens per second)\n",
      "llama_print_timings:       total time =    3148.40 ms /   235 tokens\n",
      "Llama.generate: prefix-match hit\n"
     ]
    },
    {
     "name": "stdout",
     "output_type": "stream",
     "text": [
      " SELECT AVG(s.age), MIN(s.age), MAX(s.age) FROM singer s WHERE s.country ILIKE '%French%';\n",
      "index is 6\n"
     ]
    },
    {
     "name": "stderr",
     "output_type": "stream",
     "text": [
      "\n",
      "llama_print_timings:        load time =     577.18 ms\n",
      "llama_print_timings:      sample time =      17.66 ms /    37 runs   (    0.48 ms per token,  2094.77 tokens per second)\n",
      "llama_print_timings: prompt eval time =    1320.11 ms /   188 tokens (    7.02 ms per token,   142.41 tokens per second)\n",
      "llama_print_timings:        eval time =    1604.36 ms /    36 runs   (   44.57 ms per token,    22.44 tokens per second)\n",
      "llama_print_timings:       total time =    3101.25 ms /   224 tokens\n",
      "Llama.generate: prefix-match hit\n"
     ]
    },
    {
     "name": "stdout",
     "output_type": "stream",
     "text": [
      " SELECT s.name, s.song_release_year FROM singer s ORDER BY s.age ASC LIMIT 1;\n",
      "index is 7\n"
     ]
    },
    {
     "name": "stderr",
     "output_type": "stream",
     "text": [
      "\n",
      "llama_print_timings:        load time =     577.18 ms\n",
      "llama_print_timings:      sample time =      12.30 ms /    26 runs   (    0.47 ms per token,  2114.34 tokens per second)\n",
      "llama_print_timings: prompt eval time =    1359.63 ms /   196 tokens (    6.94 ms per token,   144.16 tokens per second)\n",
      "llama_print_timings:        eval time =    1115.67 ms /    25 runs   (   44.63 ms per token,    22.41 tokens per second)\n",
      "llama_print_timings:       total time =    2615.92 ms /   221 tokens\n",
      "Llama.generate: prefix-match hit\n"
     ]
    },
    {
     "name": "stdout",
     "output_type": "stream",
     "text": [
      " SELECT s.name, s.song_release_year FROM singer s ORDER BY s.age ASC LIMIT 1;\n",
      "index is 8\n"
     ]
    },
    {
     "name": "stderr",
     "output_type": "stream",
     "text": [
      "\n",
      "llama_print_timings:        load time =     577.18 ms\n",
      "llama_print_timings:      sample time =      12.32 ms /    26 runs   (    0.47 ms per token,  2111.08 tokens per second)\n",
      "llama_print_timings: prompt eval time =    1363.23 ms /   200 tokens (    6.82 ms per token,   146.71 tokens per second)\n",
      "llama_print_timings:        eval time =    1112.90 ms /    25 runs   (   44.52 ms per token,    22.46 tokens per second)\n",
      "llama_print_timings:       total time =    2622.25 ms /   225 tokens\n",
      "Llama.generate: prefix-match hit\n"
     ]
    },
    {
     "name": "stdout",
     "output_type": "stream",
     "text": [
      " SELECT s.country FROM singer s WHERE s.age > 20 GROUP BY s.country ORDER BY COUNT(s.country) DESC NULLS LAST;\n",
      "index is 9\n"
     ]
    },
    {
     "name": "stderr",
     "output_type": "stream",
     "text": [
      "\n",
      "llama_print_timings:        load time =     577.18 ms\n",
      "llama_print_timings:      sample time =      16.84 ms /    35 runs   (    0.48 ms per token,  2078.01 tokens per second)\n",
      "llama_print_timings: prompt eval time =    1359.73 ms /   196 tokens (    6.94 ms per token,   144.15 tokens per second)\n",
      "llama_print_timings:        eval time =    1517.33 ms /    34 runs   (   44.63 ms per token,    22.41 tokens per second)\n",
      "llama_print_timings:       total time =    3047.20 ms /   230 tokens\n",
      "Llama.generate: prefix-match hit\n"
     ]
    },
    {
     "name": "stdout",
     "output_type": "stream",
     "text": [
      " SELECT s.country FROM singer s WHERE s.age > 20 GROUP BY s.country ORDER BY COUNT(s.country) DESC NULLS LAST;\n",
      "index is 10\n"
     ]
    },
    {
     "name": "stderr",
     "output_type": "stream",
     "text": [
      "\n",
      "llama_print_timings:        load time =     577.18 ms\n",
      "llama_print_timings:      sample time =      16.70 ms /    35 runs   (    0.48 ms per token,  2095.68 tokens per second)\n",
      "llama_print_timings: prompt eval time =    1357.70 ms /   194 tokens (    7.00 ms per token,   142.89 tokens per second)\n",
      "llama_print_timings:        eval time =    1526.14 ms /    34 runs   (   44.89 ms per token,    22.28 tokens per second)\n",
      "llama_print_timings:       total time =    3054.86 ms /   228 tokens\n",
      "Llama.generate: prefix-match hit\n"
     ]
    },
    {
     "name": "stdout",
     "output_type": "stream",
     "text": [
      " SELECT s.country, COUNT(s.singer_id) AS total_singers FROM singer s GROUP BY s.country ORDER BY total_singers DESC NULLS LAST;\n",
      "index is 11\n"
     ]
    },
    {
     "name": "stderr",
     "output_type": "stream",
     "text": [
      "\n",
      "llama_print_timings:        load time =     577.18 ms\n",
      "llama_print_timings:      sample time =      18.69 ms /    40 runs   (    0.47 ms per token,  2140.18 tokens per second)\n",
      "llama_print_timings: prompt eval time =    1307.77 ms /   190 tokens (    6.88 ms per token,   145.29 tokens per second)\n",
      "llama_print_timings:        eval time =    1751.00 ms /    39 runs   (   44.90 ms per token,    22.27 tokens per second)\n",
      "llama_print_timings:       total time =    3244.75 ms /   229 tokens\n",
      "Llama.generate: prefix-match hit\n"
     ]
    },
    {
     "name": "stdout",
     "output_type": "stream",
     "text": [
      " SELECT s.country, COUNT(s.singer_id) AS number_of_singers FROM singer s GROUP BY s.country ORDER BY number_of_singers DESC NULLS LAST;\n",
      "index is 12\n"
     ]
    },
    {
     "name": "stderr",
     "output_type": "stream",
     "text": [
      "\n",
      "llama_print_timings:        load time =     577.18 ms\n",
      "llama_print_timings:      sample time =      20.76 ms /    44 runs   (    0.47 ms per token,  2119.15 tokens per second)\n",
      "llama_print_timings: prompt eval time =    1252.48 ms /   184 tokens (    6.81 ms per token,   146.91 tokens per second)\n",
      "llama_print_timings:        eval time =    1930.23 ms /    43 runs   (   44.89 ms per token,    22.28 tokens per second)\n",
      "llama_print_timings:       total time =    3383.34 ms /   227 tokens\n",
      "Llama.generate: prefix-match hit\n"
     ]
    },
    {
     "name": "stdout",
     "output_type": "stream",
     "text": [
      " SELECT s.name, s.song_name, s.song_release_year FROM singer s WHERE s.age > (SELECT AVG(age) FROM singer);\n",
      "index is 13\n"
     ]
    },
    {
     "name": "stderr",
     "output_type": "stream",
     "text": [
      "\n",
      "llama_print_timings:        load time =     577.18 ms\n",
      "llama_print_timings:      sample time =      17.44 ms /    37 runs   (    0.47 ms per token,  2121.56 tokens per second)\n",
      "llama_print_timings: prompt eval time =    1304.91 ms /   188 tokens (    6.94 ms per token,   144.07 tokens per second)\n",
      "llama_print_timings:        eval time =    1614.45 ms /    36 runs   (   44.85 ms per token,    22.30 tokens per second)\n",
      "llama_print_timings:       total time =    3096.65 ms /   224 tokens\n",
      "Llama.generate: prefix-match hit\n"
     ]
    },
    {
     "name": "stdout",
     "output_type": "stream",
     "text": [
      " SELECT s.name AS singer_name, s.song_name, s.song_release_year FROM singer s WHERE s.age > (SELECT AVG(age) FROM singer);\n",
      "index is 14\n"
     ]
    },
    {
     "name": "stderr",
     "output_type": "stream",
     "text": [
      "\n",
      "llama_print_timings:        load time =     577.18 ms\n",
      "llama_print_timings:      sample time =      19.66 ms /    41 runs   (    0.48 ms per token,  2085.24 tokens per second)\n",
      "llama_print_timings: prompt eval time =    1359.44 ms /   196 tokens (    6.94 ms per token,   144.18 tokens per second)\n",
      "llama_print_timings:        eval time =    1787.82 ms /    40 runs   (   44.70 ms per token,    22.37 tokens per second)\n",
      "llama_print_timings:       total time =    3343.65 ms /   236 tokens\n",
      "Llama.generate: prefix-match hit\n"
     ]
    },
    {
     "name": "stdout",
     "output_type": "stream",
     "text": [
      " SELECT s.location, s.name FROM stadium s WHERE s.capacity BETWEEN 5000 AND 10000 ORDER BY s.location NULLS LAST, s.name NULLS LAST;\n",
      "index is 15\n"
     ]
    },
    {
     "name": "stderr",
     "output_type": "stream",
     "text": [
      "\n",
      "llama_print_timings:        load time =     577.18 ms\n",
      "llama_print_timings:      sample time =      23.20 ms /    52 runs   (    0.45 ms per token,  2241.28 tokens per second)\n",
      "llama_print_timings: prompt eval time =    1471.04 ms /   213 tokens (    6.91 ms per token,   144.80 tokens per second)\n",
      "llama_print_timings:        eval time =    2285.99 ms /    51 runs   (   44.82 ms per token,    22.31 tokens per second)\n",
      "llama_print_timings:       total time =    4004.23 ms /   264 tokens\n",
      "Llama.generate: prefix-match hit\n"
     ]
    },
    {
     "name": "stdout",
     "output_type": "stream",
     "text": [
      " SELECT s.location, s.name, s.capacity FROM stadium s WHERE s.capacity BETWEEN 5000 AND 10000 ORDER BY s.location, s.name NULLS LAST;\n",
      "index is 16\n"
     ]
    },
    {
     "name": "stderr",
     "output_type": "stream",
     "text": [
      "\n",
      "llama_print_timings:        load time =     577.18 ms\n",
      "llama_print_timings:      sample time =      24.07 ms /    53 runs   (    0.45 ms per token,  2202.28 tokens per second)\n",
      "llama_print_timings: prompt eval time =    1470.12 ms /   215 tokens (    6.84 ms per token,   146.25 tokens per second)\n",
      "llama_print_timings:        eval time =    2335.14 ms /    52 runs   (   44.91 ms per token,    22.27 tokens per second)\n",
      "llama_print_timings:       total time =    4050.99 ms /   267 tokens\n",
      "Llama.generate: prefix-match hit\n"
     ]
    },
    {
     "name": "stdout",
     "output_type": "stream",
     "text": [
      " SELECT MAX(s.capacity) AS max_capacity, AVG(s.average) AS average_average FROM stadium s;\n",
      "index is 17\n"
     ]
    },
    {
     "name": "stderr",
     "output_type": "stream",
     "text": [
      "\n",
      "llama_print_timings:        load time =     577.18 ms\n",
      "llama_print_timings:      sample time =      15.40 ms /    33 runs   (    0.47 ms per token,  2142.30 tokens per second)\n",
      "llama_print_timings: prompt eval time =    1303.49 ms /   190 tokens (    6.86 ms per token,   145.76 tokens per second)\n",
      "llama_print_timings:        eval time =    1435.41 ms /    32 runs   (   44.86 ms per token,    22.29 tokens per second)\n",
      "llama_print_timings:       total time =    2905.46 ms /   222 tokens\n",
      "Llama.generate: prefix-match hit\n"
     ]
    },
    {
     "name": "stdout",
     "output_type": "stream",
     "text": [
      " SELECT AVG(s.Capacity) AS Average_Capacity, MAX(s.Capacity) AS Maximum_Capacity FROM stadium s;\n",
      "index is 18\n"
     ]
    },
    {
     "name": "stderr",
     "output_type": "stream",
     "text": [
      "\n",
      "llama_print_timings:        load time =     577.18 ms\n",
      "llama_print_timings:      sample time =      16.23 ms /    35 runs   (    0.46 ms per token,  2156.77 tokens per second)\n",
      "llama_print_timings: prompt eval time =    1302.31 ms /   188 tokens (    6.93 ms per token,   144.36 tokens per second)\n",
      "llama_print_timings:        eval time =    1525.18 ms /    34 runs   (   44.86 ms per token,    22.29 tokens per second)\n",
      "llama_print_timings:       total time =    2998.97 ms /   222 tokens\n",
      "Llama.generate: prefix-match hit\n"
     ]
    },
    {
     "name": "stdout",
     "output_type": "stream",
     "text": [
      " SELECT s.name, s.capacity, s.average FROM stadium s ORDER BY s.average DESC NULLS LAST LIMIT 1;\n",
      "index is 19\n"
     ]
    },
    {
     "name": "stderr",
     "output_type": "stream",
     "text": [
      "\n",
      "llama_print_timings:        load time =     577.18 ms\n",
      "llama_print_timings:      sample time =      16.07 ms /    34 runs   (    0.47 ms per token,  2116.01 tokens per second)\n",
      "llama_print_timings: prompt eval time =    1355.91 ms /   194 tokens (    6.99 ms per token,   143.08 tokens per second)\n",
      "llama_print_timings:        eval time =    1468.96 ms /    33 runs   (   44.51 ms per token,    22.46 tokens per second)\n",
      "llama_print_timings:       total time =    3001.57 ms /   227 tokens\n",
      "Llama.generate: prefix-match hit\n"
     ]
    },
    {
     "name": "stdout",
     "output_type": "stream",
     "text": [
      " SELECT s.name, s.capacity, s.average FROM stadium s ORDER BY s.average DESC NULLS LAST LIMIT 1;\n",
      "index is 20\n"
     ]
    },
    {
     "name": "stderr",
     "output_type": "stream",
     "text": [
      "\n",
      "llama_print_timings:        load time =     577.18 ms\n",
      "llama_print_timings:      sample time =      15.90 ms /    34 runs   (    0.47 ms per token,  2138.63 tokens per second)\n",
      "llama_print_timings: prompt eval time =    1305.22 ms /   188 tokens (    6.94 ms per token,   144.04 tokens per second)\n",
      "llama_print_timings:        eval time =    1476.52 ms /    33 runs   (   44.74 ms per token,    22.35 tokens per second)\n",
      "llama_print_timings:       total time =    2952.27 ms /   221 tokens\n",
      "Llama.generate: prefix-match hit\n"
     ]
    },
    {
     "name": "stdout",
     "output_type": "stream",
     "text": [
      " SELECT COUNT(c.concert_ID) FROM concert c WHERE c.YEAR IN ('2014', '2015');\n",
      "index is 21\n"
     ]
    },
    {
     "name": "stderr",
     "output_type": "stream",
     "text": [
      "\n",
      "llama_print_timings:        load time =     577.18 ms\n",
      "llama_print_timings:      sample time =      14.82 ms /    32 runs   (    0.46 ms per token,  2158.95 tokens per second)\n",
      "llama_print_timings: prompt eval time =    1463.48 ms /   210 tokens (    6.97 ms per token,   143.49 tokens per second)\n",
      "llama_print_timings:        eval time =    1382.82 ms /    31 runs   (   44.61 ms per token,    22.42 tokens per second)\n",
      "llama_print_timings:       total time =    3012.43 ms /   241 tokens\n",
      "Llama.generate: prefix-match hit\n"
     ]
    },
    {
     "name": "stdout",
     "output_type": "stream",
     "text": [
      " SELECT COUNT(c.concert_ID) AS number_of_concerts FROM concert c WHERE c.year IN ('2014', '2015');\n",
      "index is 22\n"
     ]
    },
    {
     "name": "stderr",
     "output_type": "stream",
     "text": [
      "\n",
      "llama_print_timings:        load time =     577.18 ms\n",
      "llama_print_timings:      sample time =      18.16 ms /    39 runs   (    0.47 ms per token,  2146.99 tokens per second)\n",
      "llama_print_timings: prompt eval time =    1411.93 ms /   202 tokens (    6.99 ms per token,   143.07 tokens per second)\n",
      "llama_print_timings:        eval time =    1693.44 ms /    38 runs   (   44.56 ms per token,    22.44 tokens per second)\n",
      "llama_print_timings:       total time =    3296.31 ms /   240 tokens\n",
      "Llama.generate: prefix-match hit\n"
     ]
    },
    {
     "name": "stdout",
     "output_type": "stream",
     "text": [
      " SELECT s.name, COUNT(c.concert_id) AS num_concerts FROM concert c JOIN stadium s ON c.stadium_id = s.stadium_id GROUP BY s.name ORDER BY num_concerts DESC NULLS LAST;\n",
      "index is 23\n"
     ]
    },
    {
     "name": "stderr",
     "output_type": "stream",
     "text": [
      "\n",
      "llama_print_timings:        load time =     577.18 ms\n",
      "llama_print_timings:      sample time =      27.96 ms /    60 runs   (    0.47 ms per token,  2145.69 tokens per second)\n",
      "llama_print_timings: prompt eval time =    2078.44 ms /   299 tokens (    6.95 ms per token,   143.86 tokens per second)\n",
      "llama_print_timings:        eval time =    2650.23 ms /    59 runs   (   44.92 ms per token,    22.26 tokens per second)\n",
      "llama_print_timings:       total time =    5026.33 ms /   358 tokens\n",
      "Llama.generate: prefix-match hit\n"
     ]
    },
    {
     "name": "stdout",
     "output_type": "stream",
     "text": [
      " SELECT s.name AS stadium_name, COUNT(c.concert_id) AS number_of_concerts FROM concert c JOIN stadium s ON c.stadium_id = s.stadium_id GROUP BY s.name ORDER BY number_of_concerts DESC NULLS LAST;\n",
      "index is 24\n"
     ]
    },
    {
     "name": "stderr",
     "output_type": "stream",
     "text": [
      "\n",
      "llama_print_timings:        load time =     577.18 ms\n",
      "llama_print_timings:      sample time =      32.55 ms /    69 runs   (    0.47 ms per token,  2119.88 tokens per second)\n",
      "llama_print_timings: prompt eval time =    2022.81 ms /   293 tokens (    6.90 ms per token,   144.85 tokens per second)\n",
      "llama_print_timings:        eval time =    3078.74 ms /    68 runs   (   45.28 ms per token,    22.09 tokens per second)\n",
      "llama_print_timings:       total time =    5431.73 ms /   361 tokens\n",
      "Llama.generate: prefix-match hit\n"
     ]
    },
    {
     "name": "stdout",
     "output_type": "stream",
     "text": [
      " SELECT s.name, s.capacity, COUNT(c.concert_id) AS concert_count FROM concert c JOIN stadium s ON c.stadium_id = s.stadium_id WHERE c.year >= '2014' GROUP BY s.name, s.capacity ORDER BY concert_count DESC NULLS LAST;\n",
      "index is 25\n"
     ]
    },
    {
     "name": "stderr",
     "output_type": "stream",
     "text": [
      "\n",
      "llama_print_timings:        load time =     577.18 ms\n",
      "llama_print_timings:      sample time =      37.30 ms /    77 runs   (    0.48 ms per token,  2064.45 tokens per second)\n",
      "llama_print_timings: prompt eval time =    2136.22 ms /   312 tokens (    6.85 ms per token,   146.05 tokens per second)\n",
      "llama_print_timings:        eval time =    3463.42 ms /    77 runs   (   44.98 ms per token,    22.23 tokens per second)\n",
      "llama_print_timings:       total time =    5960.46 ms /   389 tokens\n",
      "Llama.generate: prefix-match hit\n"
     ]
    },
    {
     "name": "stdout",
     "output_type": "stream",
     "text": [
      " SELECT s.name, s.capacity FROM stadium s JOIN (SELECT c.stadium_id, COUNT(*) AS concert_count FROM concert c WHERE c.year > '2013' GROUP BY c.stadium_id ORDER BY concert_count DESC LIMIT 1) AS mc ON s.stadium_id = mc.stadium_id;\n",
      "index is 26\n"
     ]
    },
    {
     "name": "stderr",
     "output_type": "stream",
     "text": [
      "\n",
      "llama_print_timings:        load time =     577.18 ms\n",
      "llama_print_timings:      sample time =      38.47 ms /    81 runs   (    0.47 ms per token,  2105.43 tokens per second)\n",
      "llama_print_timings: prompt eval time =    2141.17 ms /   312 tokens (    6.86 ms per token,   145.71 tokens per second)\n",
      "llama_print_timings:        eval time =    3662.25 ms /    81 runs   (   45.21 ms per token,    22.12 tokens per second)\n",
      "llama_print_timings:       total time =    6181.06 ms /   393 tokens\n",
      "Llama.generate: prefix-match hit\n"
     ]
    },
    {
     "name": "stdout",
     "output_type": "stream",
     "text": [
      " SELECT c.year, COUNT(c.concert_id) AS concert_count FROM concert c GROUP BY c.year ORDER BY concert_count DESC LIMIT 1;\n",
      "index is 27\n"
     ]
    },
    {
     "name": "stderr",
     "output_type": "stream",
     "text": [
      "\n",
      "llama_print_timings:        load time =     577.18 ms\n",
      "llama_print_timings:      sample time =      17.51 ms /    37 runs   (    0.47 ms per token,  2112.60 tokens per second)\n",
      "llama_print_timings: prompt eval time =    1305.32 ms /   190 tokens (    6.87 ms per token,   145.56 tokens per second)\n",
      "llama_print_timings:        eval time =    1603.59 ms /    36 runs   (   44.54 ms per token,    22.45 tokens per second)\n",
      "llama_print_timings:       total time =    3092.43 ms /   226 tokens\n",
      "Llama.generate: prefix-match hit\n"
     ]
    },
    {
     "name": "stdout",
     "output_type": "stream",
     "text": [
      " SELECT c.year, COUNT(c.concert_id) AS number_of_concerts FROM concert c GROUP BY c.year ORDER BY number_of_concerts DESC LIMIT 1;\n",
      "index is 28\n"
     ]
    },
    {
     "name": "stderr",
     "output_type": "stream",
     "text": [
      "\n",
      "llama_print_timings:        load time =     577.18 ms\n",
      "llama_print_timings:      sample time =      21.04 ms /    45 runs   (    0.47 ms per token,  2138.58 tokens per second)\n",
      "llama_print_timings: prompt eval time =    1306.40 ms /   192 tokens (    6.80 ms per token,   146.97 tokens per second)\n",
      "llama_print_timings:        eval time =    1970.41 ms /    44 runs   (   44.78 ms per token,    22.33 tokens per second)\n",
      "llama_print_timings:       total time =    3491.85 ms /   236 tokens\n",
      "Llama.generate: prefix-match hit\n"
     ]
    },
    {
     "name": "stdout",
     "output_type": "stream",
     "text": [
      " SELECT s.name FROM stadium s LEFT JOIN concert c ON s.stadium_id = c.stadium_id WHERE c.stadium_id IS NULL;\n",
      "index is 29\n"
     ]
    },
    {
     "name": "stderr",
     "output_type": "stream",
     "text": [
      "\n",
      "llama_print_timings:        load time =     577.18 ms\n",
      "llama_print_timings:      sample time =      17.33 ms /    37 runs   (    0.47 ms per token,  2135.15 tokens per second)\n",
      "llama_print_timings: prompt eval time =    1965.18 ms /   285 tokens (    6.90 ms per token,   145.03 tokens per second)\n",
      "llama_print_timings:        eval time =    1628.20 ms /    36 runs   (   45.23 ms per token,    22.11 tokens per second)\n",
      "llama_print_timings:       total time =    3790.14 ms /   321 tokens\n",
      "Llama.generate: prefix-match hit\n"
     ]
    },
    {
     "name": "stdout",
     "output_type": "stream",
     "text": [
      " SELECT s.name FROM stadium s LEFT JOIN concert c ON s.stadium_id::text = c.stadium_id WHERE c.stadium_id IS NULL;\n",
      "index is 30\n"
     ]
    },
    {
     "name": "stderr",
     "output_type": "stream",
     "text": [
      "\n",
      "llama_print_timings:        load time =     577.18 ms\n",
      "llama_print_timings:      sample time =      18.38 ms /    39 runs   (    0.47 ms per token,  2122.33 tokens per second)\n",
      "llama_print_timings: prompt eval time =    2025.94 ms /   295 tokens (    6.87 ms per token,   145.61 tokens per second)\n",
      "llama_print_timings:        eval time =    1704.14 ms /    38 runs   (   44.85 ms per token,    22.30 tokens per second)\n",
      "llama_print_timings:       total time =    3938.05 ms /   333 tokens\n",
      "Llama.generate: prefix-match hit\n"
     ]
    },
    {
     "name": "stdout",
     "output_type": "stream",
     "text": [
      " SELECT s.country FROM singer s WHERE s.age > 40 AND s.age < 30 GROUP BY s.country;\n",
      "index is 31\n"
     ]
    },
    {
     "name": "stderr",
     "output_type": "stream",
     "text": [
      "\n",
      "llama_print_timings:        load time =     577.18 ms\n",
      "llama_print_timings:      sample time =      13.85 ms /    30 runs   (    0.46 ms per token,  2165.44 tokens per second)\n",
      "llama_print_timings: prompt eval time =    1411.17 ms /   204 tokens (    6.92 ms per token,   144.56 tokens per second)\n",
      "llama_print_timings:        eval time =    1293.04 ms /    29 runs   (   44.59 ms per token,    22.43 tokens per second)\n",
      "llama_print_timings:       total time =    2858.27 ms /   233 tokens\n",
      "Llama.generate: prefix-match hit\n"
     ]
    },
    {
     "name": "stdout",
     "output_type": "stream",
     "text": [
      " SELECT s.name FROM stadium s LEFT JOIN concert c ON s.stadium_id = c.stadium_id AND c.year = '2014' WHERE c.stadium_id IS NULL;\n",
      "index is 32\n"
     ]
    },
    {
     "name": "stderr",
     "output_type": "stream",
     "text": [
      "\n",
      "llama_print_timings:        load time =     577.18 ms\n",
      "llama_print_timings:      sample time =      22.20 ms /    48 runs   (    0.46 ms per token,  2162.36 tokens per second)\n",
      "llama_print_timings: prompt eval time =    2136.65 ms /   308 tokens (    6.94 ms per token,   144.15 tokens per second)\n",
      "llama_print_timings:        eval time =    2125.32 ms /    47 runs   (   45.22 ms per token,    22.11 tokens per second)\n",
      "llama_print_timings:       total time =    4510.28 ms /   355 tokens\n",
      "Llama.generate: prefix-match hit\n"
     ]
    },
    {
     "name": "stdout",
     "output_type": "stream",
     "text": [
      " SELECT s.name FROM stadium s LEFT JOIN concert c ON s.stadium_id::text = c.stadium_id WHERE c.year != '2014' ORDER BY s.name NULLS LAST;\n",
      "index is 33\n"
     ]
    },
    {
     "name": "stderr",
     "output_type": "stream",
     "text": [
      "\n",
      "llama_print_timings:        load time =     577.18 ms\n",
      "llama_print_timings:      sample time =      24.10 ms /    50 runs   (    0.48 ms per token,  2075.03 tokens per second)\n",
      "llama_print_timings: prompt eval time =    2135.44 ms /   311 tokens (    6.87 ms per token,   145.64 tokens per second)\n",
      "llama_print_timings:        eval time =    2211.13 ms /    49 runs   (   45.13 ms per token,    22.16 tokens per second)\n",
      "llama_print_timings:       total time =    4603.50 ms /   360 tokens\n",
      "Llama.generate: prefix-match hit\n"
     ]
    },
    {
     "name": "stdout",
     "output_type": "stream",
     "text": [
      " SELECT c.concert_name, c.theme, COUNT(si.singer_id) AS total_singers FROM concert c JOIN singer_in_concert si ON c.concert_id = si.concert_id GROUP BY c.concert_name, c.theme;\n",
      "index is 34\n"
     ]
    },
    {
     "name": "stderr",
     "output_type": "stream",
     "text": [
      "\n",
      "llama_print_timings:        load time =     577.18 ms\n",
      "llama_print_timings:      sample time =      30.17 ms /    65 runs   (    0.46 ms per token,  2154.32 tokens per second)\n",
      "llama_print_timings: prompt eval time =    2141.69 ms /   312 tokens (    6.86 ms per token,   145.68 tokens per second)\n",
      "llama_print_timings:        eval time =    2876.12 ms /    64 runs   (   44.94 ms per token,    22.25 tokens per second)\n",
      "llama_print_timings:       total time =    5323.47 ms /   376 tokens\n",
      "Llama.generate: prefix-match hit\n"
     ]
    },
    {
     "name": "stdout",
     "output_type": "stream",
     "text": [
      " SELECT c.concert_name, c.theme, COUNT(si.singer_id) AS number_of_singers FROM concert c JOIN singer_in_concert si ON c.concert_id = si.concert_id GROUP BY c.concert_name, c.theme;\n",
      "index is 35\n"
     ]
    },
    {
     "name": "stderr",
     "output_type": "stream",
     "text": [
      "\n",
      "llama_print_timings:        load time =     577.18 ms\n",
      "llama_print_timings:      sample time =      32.21 ms /    67 runs   (    0.48 ms per token,  2079.84 tokens per second)\n",
      "llama_print_timings: prompt eval time =    2138.80 ms /   310 tokens (    6.90 ms per token,   144.94 tokens per second)\n",
      "llama_print_timings:        eval time =    2965.94 ms /    66 runs   (   44.94 ms per token,    22.25 tokens per second)\n",
      "llama_print_timings:       total time =    5421.13 ms /   376 tokens\n",
      "Llama.generate: prefix-match hit\n"
     ]
    },
    {
     "name": "stdout",
     "output_type": "stream",
     "text": [
      " SELECT s.name, COUNT(si.concert_id) AS num_concerts FROM singer s JOIN singer_in_concert si ON s.singer_id = si.singer_id GROUP BY s.name ORDER BY num_concerts DESC NULLS LAST;\n",
      "index is 36\n"
     ]
    },
    {
     "name": "stderr",
     "output_type": "stream",
     "text": [
      "\n",
      "llama_print_timings:        load time =     577.18 ms\n",
      "llama_print_timings:      sample time =      29.71 ms /    64 runs   (    0.46 ms per token,  2154.30 tokens per second)\n",
      "llama_print_timings: prompt eval time =    2027.27 ms /   294 tokens (    6.90 ms per token,   145.02 tokens per second)\n",
      "llama_print_timings:        eval time =    2828.28 ms /    63 runs   (   44.89 ms per token,    22.27 tokens per second)\n",
      "llama_print_timings:       total time =    5155.99 ms /   357 tokens\n",
      "Llama.generate: prefix-match hit\n"
     ]
    },
    {
     "name": "stdout",
     "output_type": "stream",
     "text": [
      " SELECT s.name, COUNT(si.concert_id) AS num_concerts FROM singer s JOIN singer_in_concert si ON s.singer_id = si.singer_id GROUP BY s.name ORDER BY num_concerts DESC NULLS LAST;\n",
      "index is 37\n"
     ]
    },
    {
     "name": "stderr",
     "output_type": "stream",
     "text": [
      "\n",
      "llama_print_timings:        load time =     577.18 ms\n",
      "llama_print_timings:      sample time =      30.25 ms /    64 runs   (    0.47 ms per token,  2115.42 tokens per second)\n",
      "llama_print_timings: prompt eval time =    2131.16 ms /   306 tokens (    6.96 ms per token,   143.58 tokens per second)\n",
      "llama_print_timings:        eval time =    2852.54 ms /    63 runs   (   45.28 ms per token,    22.09 tokens per second)\n",
      "llama_print_timings:       total time =    5293.41 ms /   369 tokens\n",
      "Llama.generate: prefix-match hit\n"
     ]
    },
    {
     "name": "stdout",
     "output_type": "stream",
     "text": [
      " SELECT s.name FROM singer s JOIN singer_in_concert sic ON s.singer_id = sic.singer_id JOIN concert c ON sic.concert_id = c.concert_id WHERE c.year = '2014';\n",
      "index is 38\n"
     ]
    },
    {
     "name": "stderr",
     "output_type": "stream",
     "text": [
      "\n",
      "llama_print_timings:        load time =     577.18 ms\n",
      "llama_print_timings:      sample time =      27.14 ms /    58 runs   (    0.47 ms per token,  2136.91 tokens per second)\n",
      "llama_print_timings: prompt eval time =    2809.45 ms /   404 tokens (    6.95 ms per token,   143.80 tokens per second)\n",
      "llama_print_timings:        eval time =    2588.08 ms /    57 runs   (   45.40 ms per token,    22.02 tokens per second)\n",
      "llama_print_timings:       total time =    5712.66 ms /   461 tokens\n",
      "Llama.generate: prefix-match hit\n"
     ]
    },
    {
     "name": "stdout",
     "output_type": "stream",
     "text": [
      " SELECT s.name FROM singer s JOIN singer_in_concert sic ON s.singer_id = sic.singer_id JOIN concert c ON sic.concert_id = c.concert_id WHERE c.year = '2014';\n",
      "index is 39\n"
     ]
    },
    {
     "name": "stderr",
     "output_type": "stream",
     "text": [
      "\n",
      "llama_print_timings:        load time =     577.18 ms\n",
      "llama_print_timings:      sample time =      27.35 ms /    58 runs   (    0.47 ms per token,  2120.74 tokens per second)\n",
      "llama_print_timings: prompt eval time =    2868.07 ms /   416 tokens (    6.89 ms per token,   145.05 tokens per second)\n",
      "llama_print_timings:        eval time =    2593.36 ms /    57 runs   (   45.50 ms per token,    21.98 tokens per second)\n",
      "llama_print_timings:       total time =    5776.89 ms /   473 tokens\n",
      "Llama.generate: prefix-match hit\n"
     ]
    },
    {
     "name": "stdout",
     "output_type": "stream",
     "text": [
      " SELECT s.name, s.country FROM singer s WHERE s.song_name ilike '%Hey%';\n",
      "index is 40\n"
     ]
    },
    {
     "name": "stderr",
     "output_type": "stream",
     "text": [
      "\n",
      "llama_print_timings:        load time =     577.18 ms\n",
      "llama_print_timings:      sample time =      11.86 ms /    25 runs   (    0.47 ms per token,  2108.28 tokens per second)\n",
      "llama_print_timings: prompt eval time =    1467.69 ms /   210 tokens (    6.99 ms per token,   143.08 tokens per second)\n",
      "llama_print_timings:        eval time =    1068.94 ms /    24 runs   (   44.54 ms per token,    22.45 tokens per second)\n",
      "llama_print_timings:       total time =    2676.52 ms /   234 tokens\n",
      "Llama.generate: prefix-match hit\n"
     ]
    },
    {
     "name": "stdout",
     "output_type": "stream",
     "text": [
      " SELECT s.name, s.country FROM singer s JOIN song sa ON s.song_name = sa.name WHERE sa.title ilike '%hey%';\n",
      "index is 41\n"
     ]
    },
    {
     "name": "stderr",
     "output_type": "stream",
     "text": [
      "\n",
      "llama_print_timings:        load time =     577.18 ms\n",
      "llama_print_timings:      sample time =      17.11 ms /    36 runs   (    0.48 ms per token,  2104.40 tokens per second)\n",
      "llama_print_timings: prompt eval time =    1523.54 ms /   218 tokens (    6.99 ms per token,   143.09 tokens per second)\n",
      "llama_print_timings:        eval time =    1574.44 ms /    35 runs   (   44.98 ms per token,    22.23 tokens per second)\n",
      "llama_print_timings:       total time =    3282.48 ms /   253 tokens\n",
      "Llama.generate: prefix-match hit\n"
     ]
    },
    {
     "name": "stdout",
     "output_type": "stream",
     "text": [
      " SELECT s.name, s.location FROM stadium s JOIN concert c ON s.stadium_id = c.stadium_id WHERE c.year IN ('2014', '2015') GROUP BY s.name, s.location;\n",
      "index is 42\n"
     ]
    },
    {
     "name": "stderr",
     "output_type": "stream",
     "text": [
      "\n",
      "llama_print_timings:        load time =     577.18 ms\n",
      "llama_print_timings:      sample time =      26.27 ms /    57 runs   (    0.46 ms per token,  2170.02 tokens per second)\n",
      "llama_print_timings: prompt eval time =    2250.76 ms /   328 tokens (    6.86 ms per token,   145.73 tokens per second)\n",
      "llama_print_timings:        eval time =    2582.36 ms /    57 runs   (   45.30 ms per token,    22.07 tokens per second)\n",
      "llama_print_timings:       total time =    5127.31 ms /   385 tokens\n",
      "Llama.generate: prefix-match hit\n"
     ]
    },
    {
     "name": "stdout",
     "output_type": "stream",
     "text": [
      " SELECT DISTINCT c.concert_name, s.location FROM concert c JOIN stadium s ON c.stadium_id = s.stadium_id WHERE c.year IN ('2014', '2015'));\n",
      "index is 43\n"
     ]
    },
    {
     "name": "stderr",
     "output_type": "stream",
     "text": [
      "\n",
      "llama_print_timings:        load time =     577.18 ms\n",
      "llama_print_timings:      sample time =      24.58 ms /    53 runs   (    0.46 ms per token,  2156.49 tokens per second)\n",
      "llama_print_timings: prompt eval time =    2253.91 ms /   328 tokens (    6.87 ms per token,   145.52 tokens per second)\n",
      "llama_print_timings:        eval time =    2383.32 ms /    53 runs   (   44.97 ms per token,    22.24 tokens per second)\n",
      "llama_print_timings:       total time =    4912.36 ms /   381 tokens\n",
      "Llama.generate: prefix-match hit\n"
     ]
    },
    {
     "name": "stdout",
     "output_type": "stream",
     "text": [
      " SELECT COUNT(c.concert_ID) AS total_concerts FROM concert c JOIN stadium s ON c.Stadium_ID = s.Stadium_ID WHERE s.Capacity = s.Highest;\n",
      "index is 44\n"
     ]
    },
    {
     "name": "stderr",
     "output_type": "stream",
     "text": [
      "\n",
      "llama_print_timings:        load time =     577.18 ms\n",
      "llama_print_timings:      sample time =      23.95 ms /    51 runs   (    0.47 ms per token,  2129.08 tokens per second)\n",
      "llama_print_timings: prompt eval time =    2077.72 ms /   301 tokens (    6.90 ms per token,   144.87 tokens per second)\n",
      "llama_print_timings:        eval time =    2244.88 ms /    50 runs   (   44.90 ms per token,    22.27 tokens per second)\n",
      "llama_print_timings:       total time =    4585.25 ms /   351 tokens\n",
      "Llama.generate: prefix-match hit\n"
     ]
    },
    {
     "name": "stdout",
     "output_type": "stream",
     "text": [
      " SELECT COUNT(c.concert_ID) AS total_concerts FROM concert c JOIN stadium s ON c.Stadium_ID = s.Stadium_ID WHERE s.Capacity = (SELECT MAX(Capacity) FROM stadium));\n",
      "index is 45\n"
     ]
    },
    {
     "name": "stderr",
     "output_type": "stream",
     "text": [
      "\n",
      "llama_print_timings:        load time =     577.18 ms\n",
      "llama_print_timings:      sample time =      26.89 ms /    57 runs   (    0.47 ms per token,  2119.83 tokens per second)\n",
      "llama_print_timings: prompt eval time =    2080.83 ms /   304 tokens (    6.84 ms per token,   146.10 tokens per second)\n",
      "llama_print_timings:        eval time =    2579.18 ms /    57 runs   (   45.25 ms per token,    22.10 tokens per second)\n",
      "llama_print_timings:       total time =    4945.06 ms /   361 tokens\n",
      "Llama.generate: prefix-match hit\n"
     ]
    },
    {
     "name": "stdout",
     "output_type": "stream",
     "text": [
      " SELECT COUNT(*) FROM \"Pets\" WHERE \"Pets\".weight > 10;\n",
      "index is 46\n"
     ]
    },
    {
     "name": "stderr",
     "output_type": "stream",
     "text": [
      "\n",
      "llama_print_timings:        load time =     577.18 ms\n",
      "llama_print_timings:      sample time =       9.44 ms /    20 runs   (    0.47 ms per token,  2118.42 tokens per second)\n",
      "llama_print_timings: prompt eval time =    1089.75 ms /   160 tokens (    6.81 ms per token,   146.82 tokens per second)\n",
      "llama_print_timings:        eval time =     849.09 ms /    19 runs   (   44.69 ms per token,    22.38 tokens per second)\n",
      "llama_print_timings:       total time =    2047.91 ms /   179 tokens\n",
      "Llama.generate: prefix-match hit\n"
     ]
    },
    {
     "name": "stdout",
     "output_type": "stream",
     "text": [
      " SELECT COUNT(*) FROM \"Pets\" WHERE weight > 10;\n",
      "index is 47\n"
     ]
    },
    {
     "name": "stderr",
     "output_type": "stream",
     "text": [
      "\n",
      "llama_print_timings:        load time =     577.18 ms\n",
      "llama_print_timings:      sample time =       7.49 ms /    16 runs   (    0.47 ms per token,  2135.61 tokens per second)\n",
      "llama_print_timings: prompt eval time =    1083.34 ms /   156 tokens (    6.94 ms per token,   144.00 tokens per second)\n",
      "llama_print_timings:        eval time =     671.27 ms /    15 runs   (   44.75 ms per token,    22.35 tokens per second)\n",
      "llama_print_timings:       total time =    1849.63 ms /   171 tokens\n",
      "Llama.generate: prefix-match hit\n"
     ]
    },
    {
     "name": "stdout",
     "output_type": "stream",
     "text": [
      " SELECT p.weight FROM Pets p ORDER BY p.pet_age ASC LIMIT 1;\n",
      "index is 48\n"
     ]
    },
    {
     "name": "stderr",
     "output_type": "stream",
     "text": [
      "\n",
      "llama_print_timings:        load time =     577.18 ms\n",
      "llama_print_timings:      sample time =       9.81 ms /    21 runs   (    0.47 ms per token,  2140.67 tokens per second)\n",
      "llama_print_timings: prompt eval time =    1027.46 ms /   146 tokens (    7.04 ms per token,   142.10 tokens per second)\n",
      "llama_print_timings:        eval time =     895.45 ms /    20 runs   (   44.77 ms per token,    22.34 tokens per second)\n",
      "llama_print_timings:       total time =    2034.43 ms /   166 tokens\n",
      "Llama.generate: prefix-match hit\n"
     ]
    },
    {
     "name": "stdout",
     "output_type": "stream",
     "text": [
      " SELECT p.weight FROM Pets p ORDER BY p.pet_age ASC LIMIT 1;\n",
      "index is 49\n"
     ]
    },
    {
     "name": "stderr",
     "output_type": "stream",
     "text": [
      "\n",
      "llama_print_timings:        load time =     577.18 ms\n",
      "llama_print_timings:      sample time =       9.91 ms /    21 runs   (    0.47 ms per token,  2118.22 tokens per second)\n",
      "llama_print_timings: prompt eval time =    1032.55 ms /   150 tokens (    6.88 ms per token,   145.27 tokens per second)\n",
      "llama_print_timings:        eval time =     895.46 ms /    20 runs   (   44.77 ms per token,    22.33 tokens per second)\n",
      "llama_print_timings:       total time =    2038.85 ms /   170 tokens\n",
      "Llama.generate: prefix-match hit\n"
     ]
    },
    {
     "name": "stdout",
     "output_type": "stream",
     "text": [
      " SELECT p.pet_type, MAX(p.weight) AS max_weight FROM Pets p GROUP BY p.pet_type ORDER BY max_weight DESC NULLS LAST;\n",
      "index is 50\n"
     ]
    },
    {
     "name": "stderr",
     "output_type": "stream",
     "text": [
      "\n",
      "llama_print_timings:        load time =     577.18 ms\n",
      "llama_print_timings:      sample time =      18.48 ms /    40 runs   (    0.46 ms per token,  2163.92 tokens per second)\n",
      "llama_print_timings: prompt eval time =    1139.25 ms /   164 tokens (    6.95 ms per token,   143.95 tokens per second)\n",
      "llama_print_timings:        eval time =    1748.11 ms /    39 runs   (   44.82 ms per token,    22.31 tokens per second)\n",
      "llama_print_timings:       total time =    3075.06 ms /   203 tokens\n",
      "Llama.generate: prefix-match hit\n"
     ]
    },
    {
     "name": "stdout",
     "output_type": "stream",
     "text": [
      " SELECT p.pet_type, MAX(p.weight) AS max_weight FROM \"Pets\" p GROUP BY p.pet_type ORDER BY max_weight DESC NULLS LAST;\n",
      "index is 51\n"
     ]
    },
    {
     "name": "stderr",
     "output_type": "stream",
     "text": [
      "\n",
      "llama_print_timings:        load time =     577.18 ms\n",
      "llama_print_timings:      sample time =      19.73 ms /    42 runs   (    0.47 ms per token,  2128.85 tokens per second)\n",
      "llama_print_timings: prompt eval time =    1033.49 ms /   152 tokens (    6.80 ms per token,   147.08 tokens per second)\n",
      "llama_print_timings:        eval time =    1837.07 ms /    41 runs   (   44.81 ms per token,    22.32 tokens per second)\n",
      "llama_print_timings:       total time =    3057.22 ms /   193 tokens\n",
      "Llama.generate: prefix-match hit\n"
     ]
    },
    {
     "name": "stdout",
     "output_type": "stream",
     "text": [
      " SELECT COUNT(DISTINCT hp.petid) AS total_pets FROM has_pet hp JOIN student s ON hp.stuid = s.stuid WHERE s.age > 20;\n",
      "index is 52\n"
     ]
    },
    {
     "name": "stderr",
     "output_type": "stream",
     "text": [
      "\n",
      "llama_print_timings:        load time =     577.18 ms\n",
      "llama_print_timings:      sample time =      22.51 ms /    47 runs   (    0.48 ms per token,  2087.59 tokens per second)\n",
      "llama_print_timings: prompt eval time =    2030.65 ms /   295 tokens (    6.88 ms per token,   145.27 tokens per second)\n",
      "llama_print_timings:        eval time =    2081.67 ms /    46 runs   (   45.25 ms per token,    22.10 tokens per second)\n",
      "llama_print_timings:       total time =    4360.91 ms /   341 tokens\n",
      "Llama.generate: prefix-match hit\n"
     ]
    },
    {
     "name": "stdout",
     "output_type": "stream",
     "text": [
      " SELECT COUNT(DISTINCT hp.petid) AS total_pets FROM has_pet hp JOIN student s ON hp.stuid = s.stuid WHERE s.age > 20;\n",
      "index is 53\n",
      "\n",
      "index is 54\n"
     ]
    },
    {
     "name": "stderr",
     "output_type": "stream",
     "text": [
      "\n",
      "llama_print_timings:        load time =     577.18 ms\n",
      "llama_print_timings:      sample time =      22.68 ms /    47 runs   (    0.48 ms per token,  2072.40 tokens per second)\n",
      "llama_print_timings: prompt eval time =    2081.92 ms /   301 tokens (    6.92 ms per token,   144.58 tokens per second)\n",
      "llama_print_timings:        eval time =    2082.32 ms /    46 runs   (   45.27 ms per token,    22.09 tokens per second)\n",
      "llama_print_timings:       total time =    4414.37 ms /   347 tokens\n",
      "Llama.generate: prefix-match hit\n"
     ]
    },
    {
     "name": "stdout",
     "output_type": "stream",
     "text": [
      " SELECT COUNT(*) FROM \"Pets\" p JOIN \"Student\" s ON p.pet_age = s.stu_id WHERE p.pet_type = 'dog' AND s.sex = 'f';\n",
      "index is 55\n"
     ]
    },
    {
     "name": "stderr",
     "output_type": "stream",
     "text": [
      "\n",
      "llama_print_timings:        load time =     577.18 ms\n",
      "llama_print_timings:      sample time =      21.64 ms /    46 runs   (    0.47 ms per token,  2125.59 tokens per second)\n",
      "llama_print_timings: prompt eval time =    1803.48 ms /   261 tokens (    6.91 ms per token,   144.72 tokens per second)\n",
      "llama_print_timings:        eval time =    2031.95 ms /    45 runs   (   45.15 ms per token,    22.15 tokens per second)\n",
      "llama_print_timings:       total time =    4068.12 ms /   306 tokens\n",
      "Llama.generate: prefix-match hit\n"
     ]
    },
    {
     "name": "stdout",
     "output_type": "stream",
     "text": [
      " SELECT COUNT(DISTINCT p.pet_type) AS number_of_pet_types FROM pets p;\n",
      "index is 56\n"
     ]
    },
    {
     "name": "stderr",
     "output_type": "stream",
     "text": [
      "\n",
      "llama_print_timings:        load time =     577.18 ms\n",
      "llama_print_timings:      sample time =      12.29 ms /    26 runs   (    0.47 ms per token,  2115.37 tokens per second)\n",
      "llama_print_timings: prompt eval time =    1027.32 ms /   148 tokens (    6.94 ms per token,   144.06 tokens per second)\n",
      "llama_print_timings:        eval time =    1119.01 ms /    25 runs   (   44.76 ms per token,    22.34 tokens per second)\n",
      "llama_print_timings:       total time =    2277.03 ms /   173 tokens\n",
      "Llama.generate: prefix-match hit\n"
     ]
    },
    {
     "name": "stdout",
     "output_type": "stream",
     "text": [
      " SELECT COUNT(DISTINCT p.pet_type) AS number_of_pet_types FROM pets p;\n",
      "index is 57\n"
     ]
    },
    {
     "name": "stderr",
     "output_type": "stream",
     "text": [
      "\n",
      "llama_print_timings:        load time =     577.18 ms\n",
      "llama_print_timings:      sample time =      12.32 ms /    26 runs   (    0.47 ms per token,  2110.56 tokens per second)\n",
      "llama_print_timings: prompt eval time =    1030.40 ms /   148 tokens (    6.96 ms per token,   143.63 tokens per second)\n",
      "llama_print_timings:        eval time =    1117.55 ms /    25 runs   (   44.70 ms per token,    22.37 tokens per second)\n",
      "llama_print_timings:       total time =    2277.92 ms /   173 tokens\n",
      "Llama.generate: prefix-match hit\n"
     ]
    },
    {
     "name": "stdout",
     "output_type": "stream",
     "text": [
      " SELECT s.fname FROM Student s JOIN Has_Pet hp ON s.stuid = hp.stuid JOIN Pets p ON hp.petid = p.petid WHERE p.pettype IN ('cat', 'dog')\n",
      "index is 58\n",
      "\n",
      "index is 59\n",
      "\n",
      "index is 60\n"
     ]
    },
    {
     "name": "stderr",
     "output_type": "stream",
     "text": [
      "\n",
      "llama_print_timings:        load time =     577.18 ms\n",
      "llama_print_timings:      sample time =      25.40 ms /    54 runs   (    0.47 ms per token,  2126.24 tokens per second)\n",
      "llama_print_timings: prompt eval time =    2418.55 ms /   352 tokens (    6.87 ms per token,   145.54 tokens per second)\n",
      "llama_print_timings:        eval time =    2445.56 ms /    54 runs   (   45.29 ms per token,    22.08 tokens per second)\n",
      "llama_print_timings:       total time =    5155.19 ms /   406 tokens\n",
      "Llama.generate: prefix-match hit\n"
     ]
    },
    {
     "name": "stdout",
     "output_type": "stream",
     "text": [
      " SELECT DISTINCT s.fname FROM student s JOIN has_pet hp ON s.stuid = hp.stuid JOIN pets p ON hp.petid = p.petid WHERE p.pettype IN ('cat', 'dog') GROUP BY s.fname HAVING COUNT(DISTINCT CASE WHEN p.pettype IN ('cat', 'dog') THEN p.petid END) = COUNT(DISTINCT CASE WHEN p.pettype IN ('cat', 'dog') THEN p.petid END);\n",
      "index is 61\n"
     ]
    },
    {
     "name": "stderr",
     "output_type": "stream",
     "text": [
      "\n",
      "llama_print_timings:        load time =     577.18 ms\n",
      "llama_print_timings:      sample time =      56.15 ms /   116 runs   (    0.48 ms per token,  2065.89 tokens per second)\n",
      "llama_print_timings: prompt eval time =    2525.22 ms /   365 tokens (    6.92 ms per token,   144.54 tokens per second)\n",
      "llama_print_timings:        eval time =    5233.91 ms /   115 runs   (   45.51 ms per token,    21.97 tokens per second)\n",
      "llama_print_timings:       total time =    8286.87 ms /   480 tokens\n",
      "Llama.generate: prefix-match hit\n"
     ]
    },
    {
     "name": "stdout",
     "output_type": "stream",
     "text": [
      " SELECT s.major, s.age FROM \"Student\" s LEFT JOIN \"Pets\" p ON s.stuid = p.petid AND p.pettype = 'cat' WHERE p.petid IS NULL;\n",
      "index is 62\n"
     ]
    },
    {
     "name": "stderr",
     "output_type": "stream",
     "text": [
      "\n",
      "llama_print_timings:        load time =     577.18 ms\n",
      "llama_print_timings:      sample time =      22.66 ms /    48 runs   (    0.47 ms per token,  2118.64 tokens per second)\n",
      "llama_print_timings: prompt eval time =    1858.82 ms /   269 tokens (    6.91 ms per token,   144.72 tokens per second)\n",
      "llama_print_timings:        eval time =    2119.68 ms /    47 runs   (   45.10 ms per token,    22.17 tokens per second)\n",
      "llama_print_timings:       total time =    4222.90 ms /   316 tokens\n",
      "Llama.generate: prefix-match hit\n"
     ]
    },
    {
     "name": "stdout",
     "output_type": "stream",
     "text": [
      " SELECT s.stuid, s.major, s.age FROM Student s LEFT JOIN Has_Pet hp ON s.stuid = hp.stuid WHERE hp.petid IS NULL;\n",
      "index is 63\n"
     ]
    },
    {
     "name": "stderr",
     "output_type": "stream",
     "text": [
      "\n",
      "llama_print_timings:        load time =     577.18 ms\n",
      "llama_print_timings:      sample time =      21.40 ms /    45 runs   (    0.48 ms per token,  2103.20 tokens per second)\n",
      "llama_print_timings: prompt eval time =    2582.98 ms /   373 tokens (    6.92 ms per token,   144.41 tokens per second)\n",
      "llama_print_timings:        eval time =    2000.27 ms /    44 runs   (   45.46 ms per token,    22.00 tokens per second)\n",
      "llama_print_timings:       total time =    4846.32 ms /   417 tokens\n",
      "Llama.generate: prefix-match hit\n"
     ]
    },
    {
     "name": "stdout",
     "output_type": "stream",
     "text": [
      " SELECT \"s\".stuid FROM \"student\" \"s\" LEFT JOIN \"has_pet\" \"h\" ON \"s\".stuid = \"h\".stuid WHERE \"h\".petid IS NULL OR \"h\".petid NOT IN (SELECT \"petid\" FROM \"pets\" WHERE \"pettype\" = 'cat'));\n",
      "index is 64\n"
     ]
    },
    {
     "name": "stderr",
     "output_type": "stream",
     "text": [
      "\n",
      "llama_print_timings:        load time =     577.18 ms\n",
      "llama_print_timings:      sample time =      33.74 ms /    72 runs   (    0.47 ms per token,  2133.84 tokens per second)\n",
      "llama_print_timings: prompt eval time =    2416.00 ms /   352 tokens (    6.86 ms per token,   145.70 tokens per second)\n",
      "llama_print_timings:        eval time =    3250.00 ms /    72 runs   (   45.14 ms per token,    22.15 tokens per second)\n",
      "llama_print_timings:       total time =    6031.00 ms /   424 tokens\n",
      "Llama.generate: prefix-match hit\n"
     ]
    },
    {
     "name": "stdout",
     "output_type": "stream",
     "text": [
      " SELECT hp.stuid FROM \"Has_Pet\" hp LEFT JOIN \"Pets\" p ON hp.petid = p.petid AND p.pettype = 'cat' WHERE p.petid IS NULL;\n",
      "index is 65\n"
     ]
    },
    {
     "name": "stderr",
     "output_type": "stream",
     "text": [
      "\n",
      "llama_print_timings:        load time =     577.18 ms\n",
      "llama_print_timings:      sample time =      24.86 ms /    52 runs   (    0.48 ms per token,  2091.46 tokens per second)\n",
      "llama_print_timings: prompt eval time =    2520.93 ms /   363 tokens (    6.94 ms per token,   143.99 tokens per second)\n",
      "llama_print_timings:        eval time =    2316.70 ms /    51 runs   (   45.43 ms per token,    22.01 tokens per second)\n",
      "llama_print_timings:       total time =    5127.82 ms /   414 tokens\n",
      "Llama.generate: prefix-match hit\n"
     ]
    },
    {
     "name": "stdout",
     "output_type": "stream",
     "text": [
      " SELECT s.fname, s.age FROM Student s JOIN Has_Pet hp ON s.stuid = hp.stuid JOIN Pets p ON hp.petid = p.petid WHERE p.pettype != 'cat' ORDER BY s.fname NULLS LAST;\n",
      "index is 66\n",
      "\n",
      "index is 67\n"
     ]
    },
    {
     "name": "stderr",
     "output_type": "stream",
     "text": [
      "\n",
      "llama_print_timings:        load time =     577.18 ms\n",
      "llama_print_timings:      sample time =      30.89 ms /    66 runs   (    0.47 ms per token,  2136.68 tokens per second)\n",
      "llama_print_timings: prompt eval time =    2583.25 ms /   371 tokens (    6.96 ms per token,   143.62 tokens per second)\n",
      "llama_print_timings:        eval time =    2931.83 ms /    65 runs   (   45.11 ms per token,    22.17 tokens per second)\n",
      "llama_print_timings:       total time =    5853.49 ms /   436 tokens\n",
      "Llama.generate: prefix-match hit\n"
     ]
    },
    {
     "name": "stdout",
     "output_type": "stream",
     "text": [
      " SELECT p.pet_type, p.weight FROM pets p ORDER BY p.pet_age ASC LIMIT 1;\n",
      "index is 68\n"
     ]
    },
    {
     "name": "stderr",
     "output_type": "stream",
     "text": [
      "\n",
      "llama_print_timings:        load time =     577.18 ms\n",
      "llama_print_timings:      sample time =      12.66 ms /    27 runs   (    0.47 ms per token,  2132.87 tokens per second)\n",
      "llama_print_timings: prompt eval time =    1027.09 ms /   148 tokens (    6.94 ms per token,   144.10 tokens per second)\n",
      "llama_print_timings:        eval time =    1163.30 ms /    26 runs   (   44.74 ms per token,    22.35 tokens per second)\n",
      "llama_print_timings:       total time =    2325.84 ms /   174 tokens\n",
      "Llama.generate: prefix-match hit\n"
     ]
    },
    {
     "name": "stdout",
     "output_type": "stream",
     "text": [
      " SELECT p.pet_type, p.weight FROM pets p ORDER BY p.pet_age ASC LIMIT 1;\n",
      "index is 69\n"
     ]
    },
    {
     "name": "stderr",
     "output_type": "stream",
     "text": [
      "\n",
      "llama_print_timings:        load time =     577.18 ms\n",
      "llama_print_timings:      sample time =      12.96 ms /    27 runs   (    0.48 ms per token,  2083.49 tokens per second)\n",
      "llama_print_timings: prompt eval time =    1140.55 ms /   166 tokens (    6.87 ms per token,   145.54 tokens per second)\n",
      "llama_print_timings:        eval time =    1164.02 ms /    26 runs   (   44.77 ms per token,    22.34 tokens per second)\n",
      "llama_print_timings:       total time =    2444.18 ms /   192 tokens\n",
      "Llama.generate: prefix-match hit\n"
     ]
    },
    {
     "name": "stdout",
     "output_type": "stream",
     "text": [
      " SELECT p.petid, p.weight FROM pets p WHERE p.pet_age > 1;\n",
      "index is 70\n"
     ]
    },
    {
     "name": "stderr",
     "output_type": "stream",
     "text": [
      "\n",
      "llama_print_timings:        load time =     577.18 ms\n",
      "llama_print_timings:      sample time =      11.43 ms /    24 runs   (    0.48 ms per token,  2099.55 tokens per second)\n",
      "llama_print_timings: prompt eval time =    1134.29 ms /   162 tokens (    7.00 ms per token,   142.82 tokens per second)\n",
      "llama_print_timings:        eval time =    1030.80 ms /    23 runs   (   44.82 ms per token,    22.31 tokens per second)\n",
      "llama_print_timings:       total time =    2295.30 ms /   185 tokens\n",
      "Llama.generate: prefix-match hit\n"
     ]
    },
    {
     "name": "stdout",
     "output_type": "stream",
     "text": [
      " SELECT p.petid, p.weight FROM pets p WHERE p.pet_age > 1;\n",
      "index is 71\n"
     ]
    },
    {
     "name": "stderr",
     "output_type": "stream",
     "text": [
      "\n",
      "llama_print_timings:        load time =     577.18 ms\n",
      "llama_print_timings:      sample time =      11.48 ms /    24 runs   (    0.48 ms per token,  2089.68 tokens per second)\n",
      "llama_print_timings: prompt eval time =    1136.82 ms /   162 tokens (    7.02 ms per token,   142.50 tokens per second)\n",
      "llama_print_timings:        eval time =    1022.90 ms /    23 runs   (   44.47 ms per token,    22.49 tokens per second)\n",
      "llama_print_timings:       total time =    2287.96 ms /   185 tokens\n",
      "Llama.generate: prefix-match hit\n"
     ]
    },
    {
     "name": "stdout",
     "output_type": "stream",
     "text": [
      " SELECT p.PetType, AVG(p.pet_age) AS average_age, MAX(p.pet_age) AS maximum_age FROM Pets p GROUP BY p.PetType;\n",
      "index is 72\n"
     ]
    },
    {
     "name": "stderr",
     "output_type": "stream",
     "text": [
      "\n",
      "llama_print_timings:        load time =     577.18 ms\n",
      "llama_print_timings:      sample time =      21.62 ms /    46 runs   (    0.47 ms per token,  2127.46 tokens per second)\n",
      "llama_print_timings: prompt eval time =    1033.52 ms /   152 tokens (    6.80 ms per token,   147.07 tokens per second)\n",
      "llama_print_timings:        eval time =    2001.66 ms /    45 runs   (   44.48 ms per token,    22.48 tokens per second)\n",
      "llama_print_timings:       total time =    3244.88 ms /   197 tokens\n",
      "Llama.generate: prefix-match hit\n"
     ]
    },
    {
     "name": "stdout",
     "output_type": "stream",
     "text": [
      " SELECT p.PetType, AVG(p.pet_age) AS average_age, MAX(p.pet_age) AS maximum_age FROM Pets p GROUP BY p.PetType;\n",
      "index is 73\n"
     ]
    },
    {
     "name": "stderr",
     "output_type": "stream",
     "text": [
      "\n",
      "llama_print_timings:        load time =     577.18 ms\n",
      "llama_print_timings:      sample time =      21.37 ms /    46 runs   (    0.46 ms per token,  2152.25 tokens per second)\n",
      "llama_print_timings: prompt eval time =    1082.17 ms /   154 tokens (    7.03 ms per token,   142.31 tokens per second)\n",
      "llama_print_timings:        eval time =    2000.56 ms /    45 runs   (   44.46 ms per token,    22.49 tokens per second)\n",
      "llama_print_timings:       total time =    3290.54 ms /   199 tokens\n",
      "Llama.generate: prefix-match hit\n"
     ]
    },
    {
     "name": "stdout",
     "output_type": "stream",
     "text": [
      " SELECT p.pet_type, AVG(p.weight) AS average_weight FROM Pets p GROUP BY p.pet_type;\n",
      "index is 74\n"
     ]
    },
    {
     "name": "stderr",
     "output_type": "stream",
     "text": [
      "\n",
      "llama_print_timings:        load time =     577.18 ms\n",
      "llama_print_timings:      sample time =      14.60 ms /    31 runs   (    0.47 ms per token,  2123.43 tokens per second)\n",
      "llama_print_timings: prompt eval time =    1025.55 ms /   146 tokens (    7.02 ms per token,   142.36 tokens per second)\n",
      "llama_print_timings:        eval time =    1333.08 ms /    30 runs   (   44.44 ms per token,    22.50 tokens per second)\n",
      "llama_print_timings:       total time =    2508.72 ms /   176 tokens\n",
      "Llama.generate: prefix-match hit\n"
     ]
    },
    {
     "name": "stdout",
     "output_type": "stream",
     "text": [
      " SELECT p.pet_type, AVG(p.weight) AS average_weight FROM Pets p GROUP BY p.pet_type;\n",
      "index is 75\n"
     ]
    },
    {
     "name": "stderr",
     "output_type": "stream",
     "text": [
      "\n",
      "llama_print_timings:        load time =     577.18 ms\n",
      "llama_print_timings:      sample time =      14.31 ms /    31 runs   (    0.46 ms per token,  2166.32 tokens per second)\n",
      "llama_print_timings: prompt eval time =    1033.62 ms /   152 tokens (    6.80 ms per token,   147.06 tokens per second)\n",
      "llama_print_timings:        eval time =    1334.14 ms /    30 runs   (   44.47 ms per token,    22.49 tokens per second)\n",
      "llama_print_timings:       total time =    2518.80 ms /   182 tokens\n",
      "Llama.generate: prefix-match hit\n"
     ]
    },
    {
     "name": "stdout",
     "output_type": "stream",
     "text": [
      " SELECT s.fname, s.age FROM \"Student\" s JOIN \"Has_Pet\" hp ON s.stuid = hp.stuid;\n",
      "index is 76\n"
     ]
    },
    {
     "name": "stderr",
     "output_type": "stream",
     "text": [
      "\n",
      "llama_print_timings:        load time =     577.18 ms\n",
      "llama_print_timings:      sample time =      16.84 ms /    36 runs   (    0.47 ms per token,  2137.89 tokens per second)\n",
      "llama_print_timings: prompt eval time =    1969.85 ms /   288 tokens (    6.84 ms per token,   146.20 tokens per second)\n",
      "llama_print_timings:        eval time =    1614.46 ms /    36 runs   (   44.85 ms per token,    22.30 tokens per second)\n",
      "llama_print_timings:       total time =    3791.38 ms /   324 tokens\n",
      "Llama.generate: prefix-match hit\n"
     ]
    },
    {
     "name": "stdout",
     "output_type": "stream",
     "text": [
      " SELECT s.fname, s.age FROM Student s JOIN Has_Pet h ON s.stuid = h.stuid ORDER BY s.fname, s.age NULLS LAST;\n",
      "index is 77\n",
      "\n",
      "index is 78\n"
     ]
    },
    {
     "name": "stderr",
     "output_type": "stream",
     "text": [
      "\n",
      "llama_print_timings:        load time =     577.18 ms\n",
      "llama_print_timings:      sample time =      21.32 ms /    44 runs   (    0.48 ms per token,  2063.40 tokens per second)\n",
      "llama_print_timings: prompt eval time =    2074.15 ms /   299 tokens (    6.94 ms per token,   144.16 tokens per second)\n",
      "llama_print_timings:        eval time =    1945.18 ms /    43 runs   (   45.24 ms per token,    22.11 tokens per second)\n",
      "llama_print_timings:       total time =    4260.30 ms /   342 tokens\n",
      "Llama.generate: prefix-match hit\n"
     ]
    },
    {
     "name": "stdout",
     "output_type": "stream",
     "text": [
      " SELECT hp.petid FROM has_pet hp JOIN student s ON hp.stuid = s.stuid WHERE s.lname = 'Smith';\n",
      "index is 79\n"
     ]
    },
    {
     "name": "stderr",
     "output_type": "stream",
     "text": [
      "\n",
      "llama_print_timings:        load time =     577.18 ms\n",
      "llama_print_timings:      sample time =      16.75 ms /    36 runs   (    0.47 ms per token,  2149.38 tokens per second)\n",
      "llama_print_timings: prompt eval time =    2084.13 ms /   302 tokens (    6.90 ms per token,   144.90 tokens per second)\n",
      "llama_print_timings:        eval time =    1571.26 ms /    35 runs   (   44.89 ms per token,    22.28 tokens per second)\n",
      "llama_print_timings:       total time =    3869.11 ms /   337 tokens\n",
      "Llama.generate: prefix-match hit\n"
     ]
    },
    {
     "name": "stdout",
     "output_type": "stream",
     "text": [
      " SELECT hp.stuid, COUNT(hp.petid) AS num_pets FROM \"Has_Pet\" hp GROUP BY hp.stuid ORDER BY num_pets DESC NULLS LAST;\n",
      "index is 80\n"
     ]
    },
    {
     "name": "stderr",
     "output_type": "stream",
     "text": [
      "\n",
      "llama_print_timings:        load time =     577.18 ms\n",
      "llama_print_timings:      sample time =      23.93 ms /    50 runs   (    0.48 ms per token,  2089.78 tokens per second)\n",
      "llama_print_timings: prompt eval time =    2027.12 ms /   296 tokens (    6.85 ms per token,   146.02 tokens per second)\n",
      "llama_print_timings:        eval time =    2245.54 ms /    50 runs   (   44.91 ms per token,    22.27 tokens per second)\n",
      "llama_print_timings:       total time =    4535.65 ms /   346 tokens\n",
      "Llama.generate: prefix-match hit\n"
     ]
    },
    {
     "name": "stdout",
     "output_type": "stream",
     "text": [
      " SELECT hp.stuID, COUNT(hp.petID) AS pet_count FROM \"Has_Pet\" hp GROUP BY hp.stuID ORDER BY pet_count DESC NULLS LAST;\n",
      "index is 81\n",
      "\n",
      "index is 82\n",
      "\n",
      "index is 83\n"
     ]
    },
    {
     "name": "stderr",
     "output_type": "stream",
     "text": [
      "\n",
      "llama_print_timings:        load time =     577.18 ms\n",
      "llama_print_timings:      sample time =      22.77 ms /    48 runs   (    0.47 ms per token,  2108.13 tokens per second)\n",
      "llama_print_timings: prompt eval time =    1361.38 ms /   200 tokens (    6.81 ms per token,   146.91 tokens per second)\n",
      "llama_print_timings:        eval time =    2095.68 ms /    47 runs   (   44.59 ms per token,    22.43 tokens per second)\n",
      "llama_print_timings:       total time =    3683.21 ms /   247 tokens\n",
      "Llama.generate: prefix-match hit\n"
     ]
    },
    {
     "name": "stdout",
     "output_type": "stream",
     "text": [
      " SELECT s.lname FROM student s JOIN pets p ON s.stuid = p.petid WHERE p.pet_age = 3;\n",
      "index is 84\n"
     ]
    },
    {
     "name": "stderr",
     "output_type": "stream",
     "text": [
      "\n",
      "llama_print_timings:        load time =     577.18 ms\n",
      "llama_print_timings:      sample time =      15.52 ms /    33 runs   (    0.47 ms per token,  2125.88 tokens per second)\n",
      "llama_print_timings: prompt eval time =    1863.48 ms /   272 tokens (    6.85 ms per token,   145.96 tokens per second)\n",
      "llama_print_timings:        eval time =    1487.01 ms /    33 runs   (   45.06 ms per token,    22.19 tokens per second)\n",
      "llama_print_timings:       total time =    3543.08 ms /   305 tokens\n",
      "Llama.generate: prefix-match hit\n"
     ]
    },
    {
     "name": "stdout",
     "output_type": "stream",
     "text": [
      " SELECT s.lname FROM student s JOIN has_pet hp ON s.stuid = hp.stuid JOIN pets p ON hp.petid = p.petid WHERE p.pet_age = 3;\n",
      "index is 85\n"
     ]
    },
    {
     "name": "stderr",
     "output_type": "stream",
     "text": [
      "\n",
      "llama_print_timings:        load time =     577.18 ms\n",
      "llama_print_timings:      sample time =      23.75 ms /    51 runs   (    0.47 ms per token,  2147.82 tokens per second)\n",
      "llama_print_timings: prompt eval time =    2526.81 ms /   367 tokens (    6.89 ms per token,   145.24 tokens per second)\n",
      "llama_print_timings:        eval time =    2271.45 ms /    50 runs   (   45.43 ms per token,    22.01 tokens per second)\n",
      "llama_print_timings:       total time =    5080.87 ms /   417 tokens\n",
      "Llama.generate: prefix-match hit\n"
     ]
    },
    {
     "name": "stdout",
     "output_type": "stream",
     "text": [
      " SELECT AVG(s.age) AS average_age FROM \"Student\" s LEFT JOIN \"Has_Pet\" h ON s.stuid = h.stuid;\n",
      "index is 86\n"
     ]
    },
    {
     "name": "stderr",
     "output_type": "stream",
     "text": [
      "\n",
      "llama_print_timings:        load time =     577.18 ms\n",
      "llama_print_timings:      sample time =      17.79 ms /    38 runs   (    0.47 ms per token,  2136.39 tokens per second)\n",
      "llama_print_timings: prompt eval time =    2020.66 ms /   291 tokens (    6.94 ms per token,   144.01 tokens per second)\n",
      "llama_print_timings:        eval time =    1673.33 ms /    37 runs   (   45.23 ms per token,    22.11 tokens per second)\n",
      "llama_print_timings:       total time =    3909.56 ms /   328 tokens\n",
      "Llama.generate: prefix-match hit\n"
     ]
    },
    {
     "name": "stdout",
     "output_type": "stream",
     "text": [
      " SELECT AVG(s.age) AS average_age FROM \"Student\" s LEFT JOIN \"Has_Pet\" h ON s.stuid = h.stuid WHERE h.stuid IS NULL;\n",
      "index is 87\n"
     ]
    },
    {
     "name": "stderr",
     "output_type": "stream",
     "text": [
      "\n",
      "llama_print_timings:        load time =     577.18 ms\n",
      "llama_print_timings:      sample time =      21.62 ms /    45 runs   (    0.48 ms per token,  2081.60 tokens per second)\n",
      "llama_print_timings: prompt eval time =    2030.39 ms /   296 tokens (    6.86 ms per token,   145.78 tokens per second)\n",
      "llama_print_timings:        eval time =    2031.30 ms /    45 runs   (   45.14 ms per token,    22.15 tokens per second)\n",
      "llama_print_timings:       total time =    4308.61 ms /   341 tokens\n",
      "Llama.generate: prefix-match hit\n"
     ]
    },
    {
     "name": "stdout",
     "output_type": "stream",
     "text": [
      " SELECT COUNT(c.contid) AS number_of_continents FROM continents c;\n",
      "index is 88\n"
     ]
    },
    {
     "name": "stderr",
     "output_type": "stream",
     "text": [
      "\n",
      "llama_print_timings:        load time =     577.18 ms\n",
      "llama_print_timings:      sample time =      10.16 ms /    22 runs   (    0.46 ms per token,  2165.78 tokens per second)\n",
      "llama_print_timings: prompt eval time =     814.32 ms /   120 tokens (    6.79 ms per token,   147.36 tokens per second)\n",
      "llama_print_timings:        eval time =     939.44 ms /    21 runs   (   44.74 ms per token,    22.35 tokens per second)\n",
      "llama_print_timings:       total time =    1861.84 ms /   141 tokens\n",
      "Llama.generate: prefix-match hit\n"
     ]
    },
    {
     "name": "stdout",
     "output_type": "stream",
     "text": [
      " SELECT COUNT(c.contid) AS number_of_continents FROM continents c;\n",
      "index is 89\n"
     ]
    },
    {
     "name": "stderr",
     "output_type": "stream",
     "text": [
      "\n",
      "llama_print_timings:        load time =     577.18 ms\n",
      "llama_print_timings:      sample time =      10.14 ms /    22 runs   (    0.46 ms per token,  2168.56 tokens per second)\n",
      "llama_print_timings: prompt eval time =     863.26 ms /   122 tokens (    7.08 ms per token,   141.32 tokens per second)\n",
      "llama_print_timings:        eval time =     939.56 ms /    21 runs   (   44.74 ms per token,    22.35 tokens per second)\n",
      "llama_print_timings:       total time =    1913.72 ms /   143 tokens\n",
      "Llama.generate: prefix-match hit\n"
     ]
    },
    {
     "name": "stdout",
     "output_type": "stream",
     "text": [
      " SELECT c.contid, c.continent, COUNT(co.countryid) AS country_count FROM continents c JOIN countries co ON c.contid = co.continent GROUP BY c.contid, c.continent ORDER BY country_count DESC NULLS LAST;\n",
      "index is 90\n"
     ]
    },
    {
     "name": "stderr",
     "output_type": "stream",
     "text": [
      "\n",
      "llama_print_timings:        load time =     577.18 ms\n",
      "llama_print_timings:      sample time =      28.96 ms /    62 runs   (    0.47 ms per token,  2141.25 tokens per second)\n",
      "llama_print_timings: prompt eval time =    1520.20 ms /   218 tokens (    6.97 ms per token,   143.40 tokens per second)\n",
      "llama_print_timings:        eval time =    2726.62 ms /    61 runs   (   44.70 ms per token,    22.37 tokens per second)\n",
      "llama_print_timings:       total time =    4532.50 ms /   279 tokens\n",
      "Llama.generate: prefix-match hit\n"
     ]
    },
    {
     "name": "stdout",
     "output_type": "stream",
     "text": [
      " SELECT c.continent, c.contid, COUNT(DISTINCT co.countryid) AS country_count FROM continents c JOIN countries co ON c.contid = co.continent GROUP BY c.continent, c.contid ORDER BY country_count DESC NULLS LAST;\n",
      "index is 91\n"
     ]
    },
    {
     "name": "stderr",
     "output_type": "stream",
     "text": [
      "\n",
      "llama_print_timings:        load time =     577.18 ms\n",
      "llama_print_timings:      sample time =      30.87 ms /    65 runs   (    0.47 ms per token,  2105.74 tokens per second)\n",
      "llama_print_timings: prompt eval time =    1469.97 ms /   212 tokens (    6.93 ms per token,   144.22 tokens per second)\n",
      "llama_print_timings:        eval time =    2880.29 ms /    64 runs   (   45.00 ms per token,    22.22 tokens per second)\n",
      "llama_print_timings:       total time =    4646.31 ms /   276 tokens\n",
      "Llama.generate: prefix-match hit\n"
     ]
    },
    {
     "name": "stdout",
     "output_type": "stream",
     "text": [
      " SELECT COUNT(c.countryid) AS number_of_countries FROM countries c;\n",
      "index is 92\n"
     ]
    },
    {
     "name": "stderr",
     "output_type": "stream",
     "text": [
      "\n",
      "llama_print_timings:        load time =     577.18 ms\n",
      "llama_print_timings:      sample time =       9.35 ms /    20 runs   (    0.47 ms per token,  2138.35 tokens per second)\n",
      "llama_print_timings: prompt eval time =    1033.61 ms /   150 tokens (    6.89 ms per token,   145.12 tokens per second)\n",
      "llama_print_timings:        eval time =     848.93 ms /    19 runs   (   44.68 ms per token,    22.38 tokens per second)\n",
      "llama_print_timings:       total time =    1994.31 ms /   169 tokens\n",
      "Llama.generate: prefix-match hit\n"
     ]
    },
    {
     "name": "stdout",
     "output_type": "stream",
     "text": [
      " SELECT COUNT(c.countryid) AS number_of_countries FROM countries c;\n",
      "index is 93\n"
     ]
    },
    {
     "name": "stderr",
     "output_type": "stream",
     "text": [
      "\n",
      "llama_print_timings:        load time =     577.18 ms\n",
      "llama_print_timings:      sample time =       9.24 ms /    20 runs   (    0.46 ms per token,  2163.80 tokens per second)\n",
      "llama_print_timings: prompt eval time =     977.71 ms /   144 tokens (    6.79 ms per token,   147.28 tokens per second)\n",
      "llama_print_timings:        eval time =     894.59 ms /    20 runs   (   44.73 ms per token,    22.36 tokens per second)\n",
      "llama_print_timings:       total time =    1986.60 ms /   164 tokens\n",
      "Llama.generate: prefix-match hit\n"
     ]
    },
    {
     "name": "stdout",
     "output_type": "stream",
     "text": [
      " SELECT cm.full_name, cm.id, COUNT(cn.model) AS model_count FROM car_makers cm JOIN car_names cn ON cm.id = cn.makeid GROUP BY cm.full_name, cm.id ORDER BY model_count DESC NULLS LAST;\n",
      "index is 94\n"
     ]
    },
    {
     "name": "stderr",
     "output_type": "stream",
     "text": [
      "\n",
      "llama_print_timings:        load time =     577.18 ms\n",
      "llama_print_timings:      sample time =      31.61 ms /    66 runs   (    0.48 ms per token,  2087.88 tokens per second)\n",
      "llama_print_timings: prompt eval time =    1743.94 ms /   253 tokens (    6.89 ms per token,   145.07 tokens per second)\n",
      "llama_print_timings:        eval time =    2927.55 ms /    65 runs   (   45.04 ms per token,    22.20 tokens per second)\n",
      "llama_print_timings:       total time =    4989.56 ms /   318 tokens\n",
      "Llama.generate: prefix-match hit\n"
     ]
    },
    {
     "name": "stdout",
     "output_type": "stream",
     "text": [
      " SELECT cm.id AS maker_id, cm.full_name AS maker_full_name, COUNT(ml.model_id) AS number_of_models FROM car_makers cm JOIN model_list ml ON cm.id = ml.maker GROUP BY cm.id, cm.full_name;\n",
      "index is 95\n"
     ]
    },
    {
     "name": "stderr",
     "output_type": "stream",
     "text": [
      "\n",
      "llama_print_timings:        load time =     577.18 ms\n",
      "llama_print_timings:      sample time =      34.53 ms /    71 runs   (    0.49 ms per token,  2056.12 tokens per second)\n",
      "llama_print_timings: prompt eval time =    1864.83 ms /   272 tokens (    6.86 ms per token,   145.86 tokens per second)\n",
      "llama_print_timings:        eval time =    3146.44 ms /    70 runs   (   44.95 ms per token,    22.25 tokens per second)\n",
      "llama_print_timings:       total time =    5350.86 ms /   342 tokens\n",
      "Llama.generate: prefix-match hit\n"
     ]
    },
    {
     "name": "stdout",
     "output_type": "stream",
     "text": [
      " SELECT cn.model FROM cars_data cd JOIN car_names cn ON cd.id = cn.makeid WHERE cd.horsepower = (SELECT MIN(horsepower) FROM cars_data)\n",
      "index is 96\n"
     ]
    },
    {
     "name": "stderr",
     "output_type": "stream",
     "text": [
      "\n",
      "llama_print_timings:        load time =     577.18 ms\n",
      "llama_print_timings:      sample time =      22.58 ms /    48 runs   (    0.47 ms per token,  2125.49 tokens per second)\n",
      "llama_print_timings: prompt eval time =    1973.17 ms /   287 tokens (    6.88 ms per token,   145.45 tokens per second)\n",
      "llama_print_timings:        eval time =    2108.22 ms /    47 runs   (   44.86 ms per token,    22.29 tokens per second)\n",
      "llama_print_timings:       total time =    4332.85 ms /   334 tokens\n",
      "Llama.generate: prefix-match hit\n"
     ]
    },
    {
     "name": "stdout",
     "output_type": "stream",
     "text": [
      " SELECT c.model FROM cars_data c ORDER BY c.horsepower ASC LIMIT 1;\n",
      "index is 97\n"
     ]
    },
    {
     "name": "stderr",
     "output_type": "stream",
     "text": [
      "\n",
      "llama_print_timings:        load time =     577.18 ms\n",
      "llama_print_timings:      sample time =      10.22 ms /    22 runs   (    0.46 ms per token,  2151.80 tokens per second)\n",
      "llama_print_timings: prompt eval time =    2022.49 ms /   293 tokens (    6.90 ms per token,   144.87 tokens per second)\n",
      "llama_print_timings:        eval time =     948.34 ms /    21 runs   (   45.16 ms per token,    22.14 tokens per second)\n",
      "llama_print_timings:       total time =    3128.08 ms /   314 tokens\n",
      "Llama.generate: prefix-match hit\n"
     ]
    },
    {
     "name": "stdout",
     "output_type": "stream",
     "text": [
      " SELECT c.model FROM cars_data c WHERE c.weight < (SELECT AVG(c.weight) FROM cars_data);\n",
      "index is 98\n"
     ]
    },
    {
     "name": "stderr",
     "output_type": "stream",
     "text": [
      "\n",
      "llama_print_timings:        load time =     577.18 ms\n",
      "llama_print_timings:      sample time =      13.09 ms /    29 runs   (    0.45 ms per token,  2214.92 tokens per second)\n",
      "llama_print_timings: prompt eval time =    1974.79 ms /   288 tokens (    6.86 ms per token,   145.84 tokens per second)\n",
      "llama_print_timings:        eval time =    1311.02 ms /    29 runs   (   45.21 ms per token,    22.12 tokens per second)\n",
      "llama_print_timings:       total time =    3468.46 ms /   317 tokens\n",
      "Llama.generate: prefix-match hit\n"
     ]
    },
    {
     "name": "stdout",
     "output_type": "stream",
     "text": [
      " SELECT c.model FROM cars_data c WHERE c.weight < (SELECT AVG(c.weight) FROM cars_data);\n",
      "index is 99\n"
     ]
    },
    {
     "name": "stderr",
     "output_type": "stream",
     "text": [
      "\n",
      "llama_print_timings:        load time =     577.18 ms\n",
      "llama_print_timings:      sample time =      13.38 ms /    29 runs   (    0.46 ms per token,  2167.58 tokens per second)\n",
      "llama_print_timings: prompt eval time =    2022.29 ms /   293 tokens (    6.90 ms per token,   144.89 tokens per second)\n",
      "llama_print_timings:        eval time =    1265.69 ms /    28 runs   (   45.20 ms per token,    22.12 tokens per second)\n",
      "llama_print_timings:       total time =    3478.20 ms /   321 tokens\n",
      "Llama.generate: prefix-match hit\n"
     ]
    },
    {
     "name": "stdout",
     "output_type": "stream",
     "text": [
      " SELECT DISTINCT car_makers.maker FROM car_makers JOIN cars_data ON car_makers.id = cars_data.id WHERE cars_data.year = 1970;\n",
      "index is 100\n"
     ]
    },
    {
     "name": "stderr",
     "output_type": "stream",
     "text": [
      "\n",
      "llama_print_timings:        load time =     577.18 ms\n",
      "llama_print_timings:      sample time =      21.91 ms /    46 runs   (    0.48 ms per token,  2099.98 tokens per second)\n",
      "llama_print_timings: prompt eval time =    2187.50 ms /   314 tokens (    6.97 ms per token,   143.54 tokens per second)\n",
      "llama_print_timings:        eval time =    2035.90 ms /    45 runs   (   45.24 ms per token,    22.10 tokens per second)\n",
      "llama_print_timings:       total time =    4482.13 ms /   359 tokens\n",
      "Llama.generate: prefix-match hit\n"
     ]
    },
    {
     "name": "stdout",
     "output_type": "stream",
     "text": [
      " SELECT DISTINCT cm.maker FROM cars_data cd JOIN car_makers cm ON cd.id = cm.id WHERE cd.year = 1970;\n",
      "index is 101\n"
     ]
    },
    {
     "name": "stderr",
     "output_type": "stream",
     "text": [
      "\n",
      "llama_print_timings:        load time =     577.18 ms\n",
      "llama_print_timings:      sample time =      17.80 ms /    38 runs   (    0.47 ms per token,  2134.95 tokens per second)\n",
      "llama_print_timings: prompt eval time =    2189.97 ms /   314 tokens (    6.97 ms per token,   143.38 tokens per second)\n",
      "llama_print_timings:        eval time =    1668.06 ms /    37 runs   (   45.08 ms per token,    22.18 tokens per second)\n",
      "llama_print_timings:       total time =    4086.45 ms /   351 tokens\n",
      "Llama.generate: prefix-match hit\n"
     ]
    },
    {
     "name": "stdout",
     "output_type": "stream",
     "text": [
      " SELECT c.make, MIN(c.year)) AS min_year FROM car_names c GROUP BY c.make ORDER BY min_year NULLS LAST;\n",
      "index is 102\n"
     ]
    },
    {
     "name": "stderr",
     "output_type": "stream",
     "text": [
      "\n",
      "llama_print_timings:        load time =     577.18 ms\n",
      "llama_print_timings:      sample time =      17.59 ms /    37 runs   (    0.48 ms per token,  2103.95 tokens per second)\n",
      "llama_print_timings: prompt eval time =    2025.54 ms /   296 tokens (    6.84 ms per token,   146.13 tokens per second)\n",
      "llama_print_timings:        eval time =    1659.86 ms /    37 runs   (   44.86 ms per token,    22.29 tokens per second)\n",
      "llama_print_timings:       total time =    3908.54 ms /   333 tokens\n",
      "Llama.generate: prefix-match hit\n"
     ]
    },
    {
     "name": "stdout",
     "output_type": "stream",
     "text": [
      " SELECT c.maker, MIN(c.year) AS min_year FROM cars_data c GROUP BY c.maker ORDER BY min_year NULLS LAST;\n",
      "index is 103\n"
     ]
    },
    {
     "name": "stderr",
     "output_type": "stream",
     "text": [
      "\n",
      "llama_print_timings:        load time =     577.18 ms\n",
      "llama_print_timings:      sample time =      17.36 ms /    37 runs   (    0.47 ms per token,  2131.21 tokens per second)\n",
      "llama_print_timings: prompt eval time =    2142.17 ms /   312 tokens (    6.87 ms per token,   145.65 tokens per second)\n",
      "llama_print_timings:        eval time =    1621.80 ms /    36 runs   (   45.05 ms per token,    22.20 tokens per second)\n",
      "llama_print_timings:       total time =    3984.19 ms /   348 tokens\n",
      "Llama.generate: prefix-match hit\n"
     ]
    },
    {
     "name": "stdout",
     "output_type": "stream",
     "text": [
      " SELECT DISTINCT c.model FROM cars_data c WHERE c.year > 1980;\n",
      "index is 104\n"
     ]
    },
    {
     "name": "stderr",
     "output_type": "stream",
     "text": [
      "\n",
      "llama_print_timings:        load time =     577.18 ms\n",
      "llama_print_timings:      sample time =      11.56 ms /    24 runs   (    0.48 ms per token,  2075.77 tokens per second)\n",
      "llama_print_timings: prompt eval time =    2027.32 ms /   293 tokens (    6.92 ms per token,   144.53 tokens per second)\n",
      "llama_print_timings:        eval time =    1037.62 ms /    23 runs   (   45.11 ms per token,    22.17 tokens per second)\n",
      "llama_print_timings:       total time =    3235.25 ms /   316 tokens\n",
      "Llama.generate: prefix-match hit\n"
     ]
    },
    {
     "name": "stdout",
     "output_type": "stream",
     "text": [
      " SELECT DISTINCT c.model FROM cars_data c WHERE c.year > 1980;\n",
      "index is 105\n"
     ]
    },
    {
     "name": "stderr",
     "output_type": "stream",
     "text": [
      "\n",
      "llama_print_timings:        load time =     577.18 ms\n",
      "llama_print_timings:      sample time =      11.43 ms /    24 runs   (    0.48 ms per token,  2100.47 tokens per second)\n",
      "llama_print_timings: prompt eval time =    2027.26 ms /   295 tokens (    6.87 ms per token,   145.52 tokens per second)\n",
      "llama_print_timings:        eval time =    1032.09 ms /    23 runs   (   44.87 ms per token,    22.28 tokens per second)\n",
      "llama_print_timings:       total time =    3223.95 ms /   318 tokens\n",
      "Llama.generate: prefix-match hit\n"
     ]
    },
    {
     "name": "stdout",
     "output_type": "stream",
     "text": [
      " SELECT c.continent, COUNT(cm.id) AS maker_count FROM car_makers cm JOIN countries co ON cm.country = co.countryId JOIN continents c ON co.continent = c.contid GROUP BY c.continent ORDER BY maker_count DESC NULLS LAST;\n",
      "index is 106\n"
     ]
    },
    {
     "name": "stderr",
     "output_type": "stream",
     "text": [
      "\n",
      "llama_print_timings:        load time =     577.18 ms\n",
      "llama_print_timings:      sample time =      32.62 ms /    68 runs   (    0.48 ms per token,  2084.87 tokens per second)\n",
      "llama_print_timings: prompt eval time =    1529.24 ms /   223 tokens (    6.86 ms per token,   145.82 tokens per second)\n",
      "llama_print_timings:        eval time =    3003.53 ms /    67 runs   (   44.83 ms per token,    22.31 tokens per second)\n",
      "llama_print_timings:       total time =    4854.34 ms /   290 tokens\n",
      "Llama.generate: prefix-match hit\n"
     ]
    },
    {
     "name": "stdout",
     "output_type": "stream",
     "text": [
      " SELECT c.continent, COUNT(cm.id) AS number_of_car_makers FROM continents c JOIN countries co ON c.contid = co.continent JOIN car_makers cm ON co.countryid = cm.country WHERE c.continent IS NOT NULL GROUP BY c.continent ORDER BY number_of_car_makers DESC NULLS LAST;\n",
      "index is 107\n"
     ]
    },
    {
     "name": "stderr",
     "output_type": "stream",
     "text": [
      "\n",
      "llama_print_timings:        load time =     577.18 ms\n",
      "llama_print_timings:      sample time =      39.78 ms /    84 runs   (    0.47 ms per token,  2111.56 tokens per second)\n",
      "llama_print_timings: prompt eval time =    2025.28 ms /   295 tokens (    6.87 ms per token,   145.66 tokens per second)\n",
      "llama_print_timings:        eval time =    3760.11 ms /    83 runs   (   45.30 ms per token,    22.07 tokens per second)\n",
      "llama_print_timings:       total time =    6183.42 ms /   378 tokens\n",
      "Llama.generate: prefix-match hit\n"
     ]
    },
    {
     "name": "stdout",
     "output_type": "stream",
     "text": [
      " SELECT c.country_name FROM car_makers cm JOIN countries c ON cm.country = c.country_id GROUP BY c.country_name ORDER BY COUNT(cm.id) DESC LIMIT 1;\n",
      "index is 108\n"
     ]
    },
    {
     "name": "stderr",
     "output_type": "stream",
     "text": [
      "\n",
      "llama_print_timings:        load time =     577.18 ms\n",
      "llama_print_timings:      sample time =      21.97 ms /    46 runs   (    0.48 ms per token,  2093.57 tokens per second)\n",
      "llama_print_timings: prompt eval time =    1697.18 ms /   248 tokens (    6.84 ms per token,   146.12 tokens per second)\n",
      "llama_print_timings:        eval time =    2076.58 ms /    46 runs   (   45.14 ms per token,    22.15 tokens per second)\n",
      "llama_print_timings:       total time =    4010.32 ms /   294 tokens\n",
      "Llama.generate: prefix-match hit\n"
     ]
    },
    {
     "name": "stdout",
     "output_type": "stream",
     "text": [
      " SELECT c.country_name FROM countries c JOIN (SELECT m.country FROM car_makers m GROUP BY m.country ORDER BY COUNT(m.country) DESC LIMIT 1) AS mc ON c.country_id = mc.country;\n",
      "index is 109\n"
     ]
    },
    {
     "name": "stderr",
     "output_type": "stream",
     "text": [
      "\n",
      "llama_print_timings:        load time =     577.18 ms\n",
      "llama_print_timings:      sample time =      25.72 ms /    55 runs   (    0.47 ms per token,  2138.25 tokens per second)\n",
      "llama_print_timings: prompt eval time =    1692.59 ms /   245 tokens (    6.91 ms per token,   144.75 tokens per second)\n",
      "llama_print_timings:        eval time =    2439.23 ms /    54 runs   (   45.17 ms per token,    22.14 tokens per second)\n",
      "llama_print_timings:       total time =    4403.72 ms /   299 tokens\n",
      "Llama.generate: prefix-match hit\n"
     ]
    },
    {
     "name": "stdout",
     "output_type": "stream",
     "text": [
      " SELECT cm.full_name, COUNT(cn.model) AS model_count FROM car_makers cm JOIN car_names cn ON cm.id = cn.makeid GROUP BY cm.full_name ORDER BY model_count DESC NULLS LAST;\n",
      "index is 110\n"
     ]
    },
    {
     "name": "stderr",
     "output_type": "stream",
     "text": [
      "\n",
      "llama_print_timings:        load time =     577.18 ms\n",
      "llama_print_timings:      sample time =      27.38 ms /    58 runs   (    0.47 ms per token,  2118.26 tokens per second)\n",
      "llama_print_timings: prompt eval time =    1800.69 ms /   259 tokens (    6.95 ms per token,   143.83 tokens per second)\n",
      "llama_print_timings:        eval time =    2574.33 ms /    57 runs   (   45.16 ms per token,    22.14 tokens per second)\n",
      "llama_print_timings:       total time =    4662.05 ms /   316 tokens\n",
      "Llama.generate: prefix-match hit\n"
     ]
    },
    {
     "name": "stdout",
     "output_type": "stream",
     "text": [
      " SELECT m.id, m.full_name, COUNT(n.model) AS model_count FROM car_makers m JOIN car_names n ON m.id = n.makeid GROUP BY m.id, m.full_name ORDER BY model_count DESC NULLS LAST;\n",
      "index is 111\n"
     ]
    },
    {
     "name": "stderr",
     "output_type": "stream",
     "text": [
      "\n",
      "llama_print_timings:        load time =     577.18 ms\n",
      "llama_print_timings:      sample time =      29.57 ms /    64 runs   (    0.46 ms per token,  2164.65 tokens per second)\n",
      "llama_print_timings: prompt eval time =    1854.53 ms /   269 tokens (    6.89 ms per token,   145.05 tokens per second)\n",
      "llama_print_timings:        eval time =    2848.28 ms /    63 runs   (   45.21 ms per token,    22.12 tokens per second)\n",
      "llama_print_timings:       total time =    5011.79 ms /   332 tokens\n",
      "Llama.generate: prefix-match hit\n"
     ]
    },
    {
     "name": "stdout",
     "output_type": "stream",
     "text": [
      " SELECT AVG(c.Accelerate) AS average_accelerate FROM car_names c WHERE c.Make ILIKE '%AMC%Hornet%Sportabout%(SW)%'\n",
      "index is 112\n"
     ]
    },
    {
     "name": "stderr",
     "output_type": "stream",
     "text": [
      "\n",
      "llama_print_timings:        load time =     577.18 ms\n",
      "llama_print_timings:      sample time =      21.36 ms /    45 runs   (    0.47 ms per token,  2106.45 tokens per second)\n",
      "llama_print_timings: prompt eval time =    2030.00 ms /   296 tokens (    6.86 ms per token,   145.81 tokens per second)\n",
      "llama_print_timings:        eval time =    1991.33 ms /    44 runs   (   45.26 ms per token,    22.10 tokens per second)\n",
      "llama_print_timings:       total time =    4265.41 ms /   340 tokens\n",
      "Llama.generate: prefix-match hit\n"
     ]
    },
    {
     "name": "stdout",
     "output_type": "stream",
     "text": [
      " SELECT c.accelerate FROM cars_data c JOIN car_names n ON c.id = n.makeid WHERE n.make = 'AMC' AND n.model = 'Hornet Sportabout' AND c.accelerate > 0 ORDER BY c.accelerate DESC NULLS LAST LIMIT 1;\n",
      "index is 113\n"
     ]
    },
    {
     "name": "stderr",
     "output_type": "stream",
     "text": [
      "\n",
      "llama_print_timings:        load time =     577.18 ms\n",
      "llama_print_timings:      sample time =      35.79 ms /    74 runs   (    0.48 ms per token,  2067.50 tokens per second)\n",
      "llama_print_timings: prompt eval time =    2093.81 ms /   299 tokens (    7.00 ms per token,   142.80 tokens per second)\n",
      "llama_print_timings:        eval time =    3278.35 ms /    73 runs   (   44.91 ms per token,    22.27 tokens per second)\n",
      "llama_print_timings:       total time =    5737.31 ms /   372 tokens\n",
      "Llama.generate: prefix-match hit\n"
     ]
    },
    {
     "name": "stdout",
     "output_type": "stream",
     "text": [
      " SELECT COUNT(DISTINCT cm.id) FROM car_makers cm WHERE cm.country = 'france';\n",
      "index is 114\n"
     ]
    },
    {
     "name": "stderr",
     "output_type": "stream",
     "text": [
      "\n",
      "llama_print_timings:        load time =     577.18 ms\n",
      "llama_print_timings:      sample time =      12.29 ms /    26 runs   (    0.47 ms per token,  2116.40 tokens per second)\n",
      "llama_print_timings: prompt eval time =    1139.19 ms /   166 tokens (    6.86 ms per token,   145.72 tokens per second)\n",
      "llama_print_timings:        eval time =    1114.08 ms /    25 runs   (   44.56 ms per token,    22.44 tokens per second)\n",
      "llama_print_timings:       total time =    2393.80 ms /   191 tokens\n",
      "Llama.generate: prefix-match hit\n"
     ]
    },
    {
     "name": "stdout",
     "output_type": "stream",
     "text": [
      " SELECT COUNT(DISTINCT cm.id) AS number_of_makers FROM car_makers cm WHERE cm.country = 'France';\n",
      "index is 115\n"
     ]
    },
    {
     "name": "stderr",
     "output_type": "stream",
     "text": [
      "\n",
      "llama_print_timings:        load time =     577.18 ms\n",
      "llama_print_timings:      sample time =      14.70 ms /    32 runs   (    0.46 ms per token,  2177.61 tokens per second)\n",
      "llama_print_timings: prompt eval time =    1144.65 ms /   168 tokens (    6.81 ms per token,   146.77 tokens per second)\n",
      "llama_print_timings:        eval time =    1433.19 ms /    32 runs   (   44.79 ms per token,    22.33 tokens per second)\n",
      "llama_print_timings:       total time =    2740.67 ms /   200 tokens\n",
      "Llama.generate: prefix-match hit\n"
     ]
    },
    {
     "name": "stdout",
     "output_type": "stream",
     "text": [
      " SELECT COUNT(DISTINCT cn.Model) AS number_of_models FROM car_makers cm JOIN car_names cn ON cm.Id = cn.MakeId WHERE cm.Country = 'USA';\n",
      "index is 116\n"
     ]
    },
    {
     "name": "stderr",
     "output_type": "stream",
     "text": [
      "\n",
      "llama_print_timings:        load time =     577.18 ms\n",
      "llama_print_timings:      sample time =      22.37 ms /    48 runs   (    0.47 ms per token,  2145.83 tokens per second)\n",
      "llama_print_timings: prompt eval time =    1637.26 ms /   237 tokens (    6.91 ms per token,   144.75 tokens per second)\n",
      "llama_print_timings:        eval time =    2121.82 ms /    47 runs   (   45.15 ms per token,    22.15 tokens per second)\n",
      "llama_print_timings:       total time =    3998.70 ms /   284 tokens\n",
      "Llama.generate: prefix-match hit\n"
     ]
    },
    {
     "name": "stdout",
     "output_type": "stream",
     "text": [
      " SELECT COUNT(DISTINCT cn.Model) AS number_of_models FROM car_makers cm JOIN car_names cn ON cm.Id = cn.MakeId WHERE cm.Country = 'United States';\n",
      "index is 117\n"
     ]
    },
    {
     "name": "stderr",
     "output_type": "stream",
     "text": [
      "\n",
      "llama_print_timings:        load time =     577.18 ms\n",
      "llama_print_timings:      sample time =      22.92 ms /    50 runs   (    0.46 ms per token,  2181.79 tokens per second)\n",
      "llama_print_timings: prompt eval time =    1685.96 ms /   243 tokens (    6.94 ms per token,   144.13 tokens per second)\n",
      "llama_print_timings:        eval time =    2212.98 ms /    49 runs   (   45.16 ms per token,    22.14 tokens per second)\n",
      "llama_print_timings:       total time =    4151.05 ms /   292 tokens\n",
      "Llama.generate: prefix-match hit\n"
     ]
    },
    {
     "name": "stdout",
     "output_type": "stream",
     "text": [
      " SELECT AVG(c.mpg::FLOAT) AS average_mpg FROM cars_data c WHERE c.cylinders = 4;\n",
      "index is 118\n"
     ]
    },
    {
     "name": "stderr",
     "output_type": "stream",
     "text": [
      "\n",
      "llama_print_timings:        load time =     577.18 ms\n",
      "llama_print_timings:      sample time =      17.05 ms /    35 runs   (    0.49 ms per token,  2053.15 tokens per second)\n",
      "llama_print_timings: prompt eval time =    1633.39 ms /   234 tokens (    6.98 ms per token,   143.26 tokens per second)\n",
      "llama_print_timings:        eval time =    1534.38 ms /    34 runs   (   45.13 ms per token,    22.16 tokens per second)\n",
      "llama_print_timings:       total time =    3362.30 ms /   268 tokens\n",
      "Llama.generate: prefix-match hit\n"
     ]
    },
    {
     "name": "stdout",
     "output_type": "stream",
     "text": [
      " SELECT AVG(c.mpg::FLOAT) AS average_mpg FROM cars_data c WHERE c.cylinders = 4;\n",
      "index is 119\n"
     ]
    },
    {
     "name": "stderr",
     "output_type": "stream",
     "text": [
      "\n",
      "llama_print_timings:        load time =     577.18 ms\n",
      "llama_print_timings:      sample time =      16.72 ms /    35 runs   (    0.48 ms per token,  2092.93 tokens per second)\n",
      "llama_print_timings: prompt eval time =    1530.67 ms /   223 tokens (    6.86 ms per token,   145.69 tokens per second)\n",
      "llama_print_timings:        eval time =    1532.65 ms /    34 runs   (   45.08 ms per token,    22.18 tokens per second)\n",
      "llama_print_timings:       total time =    3249.14 ms /   257 tokens\n",
      "Llama.generate: prefix-match hit\n"
     ]
    },
    {
     "name": "stdout",
     "output_type": "stream",
     "text": [
      " SELECT MIN(c.weight) AS min_weight FROM cars_data c WHERE c.cylinders = 8 AND c.year = 1974;\n",
      "index is 120\n"
     ]
    },
    {
     "name": "stderr",
     "output_type": "stream",
     "text": [
      "\n",
      "llama_print_timings:        load time =     577.18 ms\n",
      "llama_print_timings:      sample time =      18.43 ms /    39 runs   (    0.47 ms per token,  2116.23 tokens per second)\n",
      "llama_print_timings: prompt eval time =    1632.97 ms /   234 tokens (    6.98 ms per token,   143.30 tokens per second)\n",
      "llama_print_timings:        eval time =    1714.62 ms /    38 runs   (   45.12 ms per token,    22.16 tokens per second)\n",
      "llama_print_timings:       total time =    3553.69 ms /   272 tokens\n",
      "Llama.generate: prefix-match hit\n"
     ]
    },
    {
     "name": "stdout",
     "output_type": "stream",
     "text": [
      " SELECT MIN(c.weight) AS min_weight FROM cars_data c WHERE c.cylinders = 8 AND c.year = 1974;\n",
      "index is 121\n"
     ]
    },
    {
     "name": "stderr",
     "output_type": "stream",
     "text": [
      "\n",
      "llama_print_timings:        load time =     577.18 ms\n",
      "llama_print_timings:      sample time =      18.60 ms /    39 runs   (    0.48 ms per token,  2097.11 tokens per second)\n",
      "llama_print_timings: prompt eval time =    1633.79 ms /   234 tokens (    6.98 ms per token,   143.23 tokens per second)\n",
      "llama_print_timings:        eval time =    1715.24 ms /    38 runs   (   45.14 ms per token,    22.15 tokens per second)\n",
      "llama_print_timings:       total time =    3559.16 ms /   272 tokens\n",
      "Llama.generate: prefix-match hit\n"
     ]
    },
    {
     "name": "stdout",
     "output_type": "stream",
     "text": [
      " SELECT DISTINCT m.maker, n.model FROM car_makers m JOIN car_names n ON m.id = n.makeid;\n",
      "index is 122\n"
     ]
    },
    {
     "name": "stderr",
     "output_type": "stream",
     "text": [
      "\n",
      "llama_print_timings:        load time =     577.18 ms\n",
      "llama_print_timings:      sample time =      15.64 ms /    33 runs   (    0.47 ms per token,  2109.70 tokens per second)\n",
      "llama_print_timings: prompt eval time =    1586.57 ms /   232 tokens (    6.84 ms per token,   146.23 tokens per second)\n",
      "llama_print_timings:        eval time =    1442.96 ms /    32 runs   (   45.09 ms per token,    22.18 tokens per second)\n",
      "llama_print_timings:       total time =    3214.07 ms /   264 tokens\n",
      "Llama.generate: prefix-match hit\n"
     ]
    },
    {
     "name": "stdout",
     "output_type": "stream",
     "text": [
      " SELECT c.make, c.model FROM car_names c;\n",
      "index is 123\n"
     ]
    },
    {
     "name": "stderr",
     "output_type": "stream",
     "text": [
      "\n",
      "llama_print_timings:        load time =     577.18 ms\n",
      "llama_print_timings:      sample time =       7.06 ms /    15 runs   (    0.47 ms per token,  2123.74 tokens per second)\n",
      "llama_print_timings: prompt eval time =    1581.60 ms /   229 tokens (    6.91 ms per token,   144.79 tokens per second)\n",
      "llama_print_timings:        eval time =     630.03 ms /    14 runs   (   45.00 ms per token,    22.22 tokens per second)\n",
      "llama_print_timings:       total time =    2324.77 ms /   243 tokens\n",
      "Llama.generate: prefix-match hit\n"
     ]
    },
    {
     "name": "stdout",
     "output_type": "stream",
     "text": [
      " SELECT c.country_name, c.country_id FROM countries c JOIN car_makers cm ON c.country_id = cm.country WHERE c.country_id IS NOT NULL;\n",
      "index is 124\n"
     ]
    },
    {
     "name": "stderr",
     "output_type": "stream",
     "text": [
      "\n",
      "llama_print_timings:        load time =     577.18 ms\n",
      "llama_print_timings:      sample time =      20.61 ms /    42 runs   (    0.49 ms per token,  2037.55 tokens per second)\n",
      "llama_print_timings: prompt eval time =    1693.52 ms /   246 tokens (    6.88 ms per token,   145.26 tokens per second)\n",
      "llama_print_timings:        eval time =    1841.00 ms /    41 runs   (   44.90 ms per token,    22.27 tokens per second)\n",
      "llama_print_timings:       total time =    3764.70 ms /   287 tokens\n",
      "Llama.generate: prefix-match hit\n"
     ]
    },
    {
     "name": "stdout",
     "output_type": "stream",
     "text": [
      " SELECT c.countryid, c.countryname FROM countries c JOIN car_makers cm ON c.countryid = cm.country WHERE c.countryid IS NOT NULL;\n",
      "index is 125\n"
     ]
    },
    {
     "name": "stderr",
     "output_type": "stream",
     "text": [
      "\n",
      "llama_print_timings:        load time =     577.18 ms\n",
      "llama_print_timings:      sample time =      19.86 ms /    41 runs   (    0.48 ms per token,  2064.35 tokens per second)\n",
      "llama_print_timings: prompt eval time =    1692.36 ms /   248 tokens (    6.82 ms per token,   146.54 tokens per second)\n",
      "llama_print_timings:        eval time =    1791.74 ms /    40 runs   (   44.79 ms per token,    22.32 tokens per second)\n",
      "llama_print_timings:       total time =    3705.78 ms /   288 tokens\n",
      "Llama.generate: prefix-match hit\n"
     ]
    },
    {
     "name": "stdout",
     "output_type": "stream",
     "text": [
      " SELECT COUNT(*) FROM cars_data WHERE CAST(horsepower AS INTEGER) > 150;\n",
      "index is 126\n"
     ]
    },
    {
     "name": "stderr",
     "output_type": "stream",
     "text": [
      "\n",
      "llama_print_timings:        load time =     577.18 ms\n",
      "llama_print_timings:      sample time =      12.57 ms /    26 runs   (    0.48 ms per token,  2068.42 tokens per second)\n",
      "llama_print_timings: prompt eval time =    1575.30 ms /   226 tokens (    6.97 ms per token,   143.46 tokens per second)\n",
      "llama_print_timings:        eval time =    1127.05 ms /    25 runs   (   45.08 ms per token,    22.18 tokens per second)\n",
      "llama_print_timings:       total time =    2861.89 ms /   251 tokens\n",
      "Llama.generate: prefix-match hit\n"
     ]
    },
    {
     "name": "stdout",
     "output_type": "stream",
     "text": [
      " SELECT COUNT(*) FROM cars_data WHERE CAST(horsepower AS INTEGER) > 150;\n",
      "index is 127\n"
     ]
    },
    {
     "name": "stderr",
     "output_type": "stream",
     "text": [
      "\n",
      "llama_print_timings:        load time =     577.18 ms\n",
      "llama_print_timings:      sample time =      12.42 ms /    26 runs   (    0.48 ms per token,  2092.72 tokens per second)\n",
      "llama_print_timings: prompt eval time =    1527.91 ms /   222 tokens (    6.88 ms per token,   145.30 tokens per second)\n",
      "llama_print_timings:        eval time =    1125.81 ms /    25 runs   (   45.03 ms per token,    22.21 tokens per second)\n",
      "llama_print_timings:       total time =    2806.15 ms /   247 tokens\n",
      "Llama.generate: prefix-match hit\n"
     ]
    },
    {
     "name": "stdout",
     "output_type": "stream",
     "text": [
      " SELECT c.year, AVG(c.weight) AS average_weight FROM cars_data c GROUP BY c.year ORDER BY c.year NULLS LAST;\n",
      "index is 128\n"
     ]
    },
    {
     "name": "stderr",
     "output_type": "stream",
     "text": [
      "\n",
      "llama_print_timings:        load time =     577.18 ms\n",
      "llama_print_timings:      sample time =      17.18 ms /    37 runs   (    0.46 ms per token,  2154.29 tokens per second)\n",
      "llama_print_timings: prompt eval time =    1465.21 ms /   210 tokens (    6.98 ms per token,   143.32 tokens per second)\n",
      "llama_print_timings:        eval time =    1619.71 ms /    36 runs   (   44.99 ms per token,    22.23 tokens per second)\n",
      "llama_print_timings:       total time =    3276.02 ms /   246 tokens\n",
      "Llama.generate: prefix-match hit\n"
     ]
    },
    {
     "name": "stdout",
     "output_type": "stream",
     "text": [
      " SELECT EXTRACT(YEAR FROM TO_DATE(c.year::TEXT, 'YYYY'))) AS YEAR, AVG(c.weight) AS AVERAGE_WEIGHT FROM cars_data c GROUP BY YEAR ORDER BY YEAR NULLS LAST;\n",
      "index is 129\n"
     ]
    },
    {
     "name": "stderr",
     "output_type": "stream",
     "text": [
      "\n",
      "llama_print_timings:        load time =     577.18 ms\n",
      "llama_print_timings:      sample time =      27.95 ms /    61 runs   (    0.46 ms per token,  2182.39 tokens per second)\n",
      "llama_print_timings: prompt eval time =    1463.79 ms /   210 tokens (    6.97 ms per token,   143.46 tokens per second)\n",
      "llama_print_timings:        eval time =    2716.34 ms /    60 runs   (   45.27 ms per token,    22.09 tokens per second)\n",
      "llama_print_timings:       total time =    4462.80 ms /   270 tokens\n",
      "Llama.generate: prefix-match hit\n"
     ]
    },
    {
     "name": "stdout",
     "output_type": "stream",
     "text": [
      " SELECT c.country_name FROM countries c JOIN car_makers cm ON c.country_id = cm.country WHERE c.continent = 1 GROUP BY c.country_name HAVING COUNT(DISTINCT cm.maker) >= 3;\n",
      "index is 130\n"
     ]
    },
    {
     "name": "stderr",
     "output_type": "stream",
     "text": [
      "\n",
      "llama_print_timings:        load time =     577.18 ms\n",
      "llama_print_timings:      sample time =      27.02 ms /    57 runs   (    0.47 ms per token,  2109.78 tokens per second)\n",
      "llama_print_timings: prompt eval time =    1971.91 ms /   287 tokens (    6.87 ms per token,   145.54 tokens per second)\n",
      "llama_print_timings:        eval time =    2513.74 ms /    56 runs   (   44.89 ms per token,    22.28 tokens per second)\n",
      "llama_print_timings:       total time =    4777.75 ms /   343 tokens\n",
      "Llama.generate: prefix-match hit\n"
     ]
    },
    {
     "name": "stdout",
     "output_type": "stream",
     "text": [
      " SELECT c.country_name FROM countries c JOIN car_makers cm ON c.country_id = cm.country WHERE c.continent = 1 GROUP BY c.country_name HAVING COUNT(DISTINCT cm.maker) >= 3;\n",
      "index is 131\n"
     ]
    },
    {
     "name": "stderr",
     "output_type": "stream",
     "text": [
      "\n",
      "llama_print_timings:        load time =     577.18 ms\n",
      "llama_print_timings:      sample time =      27.83 ms /    57 runs   (    0.49 ms per token,  2048.37 tokens per second)\n",
      "llama_print_timings: prompt eval time =    1742.92 ms /   251 tokens (    6.94 ms per token,   144.01 tokens per second)\n",
      "llama_print_timings:        eval time =    2529.36 ms /    56 runs   (   45.17 ms per token,    22.14 tokens per second)\n",
      "llama_print_timings:       total time =    4551.38 ms /   307 tokens\n",
      "Llama.generate: prefix-match hit\n"
     ]
    },
    {
     "name": "stdout",
     "output_type": "stream",
     "text": [
      " SELECT MAX(c.Horsepower) AS Max_Horsepower, c.Make FROM cars_data c WHERE c.Cylinders = 3 GROUP BY c.Make;\n",
      "index is 132\n"
     ]
    },
    {
     "name": "stderr",
     "output_type": "stream",
     "text": [
      "\n",
      "llama_print_timings:        load time =     577.18 ms\n",
      "llama_print_timings:      sample time =      19.33 ms /    41 runs   (    0.47 ms per token,  2121.27 tokens per second)\n",
      "llama_print_timings: prompt eval time =    2078.12 ms /   302 tokens (    6.88 ms per token,   145.32 tokens per second)\n",
      "llama_print_timings:        eval time =    1810.15 ms /    40 runs   (   45.25 ms per token,    22.10 tokens per second)\n",
      "llama_print_timings:       total time =    4118.82 ms /   342 tokens\n",
      "Llama.generate: prefix-match hit\n"
     ]
    },
    {
     "name": "stdout",
     "output_type": "stream",
     "text": [
      " SELECT c.make, c.model, MAX(cd.horsepower) AS max_horsepower FROM cars_data cd JOIN car_names c ON cd.id = c.makeid WHERE cd.cylinders = 3 GROUP BY c.make, c.model ORDER BY max_horsepower DESC NULLS LAST;\n",
      "index is 133\n"
     ]
    },
    {
     "name": "stderr",
     "output_type": "stream",
     "text": [
      "\n",
      "llama_print_timings:        load time =     577.18 ms\n",
      "llama_print_timings:      sample time =      35.44 ms /    75 runs   (    0.47 ms per token,  2116.37 tokens per second)\n",
      "llama_print_timings: prompt eval time =    2131.07 ms /   306 tokens (    6.96 ms per token,   143.59 tokens per second)\n",
      "llama_print_timings:        eval time =    3346.08 ms /    74 runs   (   45.22 ms per token,    22.12 tokens per second)\n",
      "llama_print_timings:       total time =    5847.53 ms /   380 tokens\n",
      "Llama.generate: prefix-match hit\n"
     ]
    },
    {
     "name": "stdout",
     "output_type": "stream",
     "text": [
      " SELECT c.model, MAX(c.mpg) AS max_mpg FROM cars_data c GROUP BY c.model ORDER BY max_mpg DESC NULLS LAST LIMIT 1;\n",
      "index is 134\n"
     ]
    },
    {
     "name": "stderr",
     "output_type": "stream",
     "text": [
      "\n",
      "llama_print_timings:        load time =     577.18 ms\n",
      "llama_print_timings:      sample time =      20.35 ms /    43 runs   (    0.47 ms per token,  2113.13 tokens per second)\n",
      "llama_print_timings: prompt eval time =    2083.29 ms /   304 tokens (    6.85 ms per token,   145.92 tokens per second)\n",
      "llama_print_timings:        eval time =    1929.17 ms /    43 runs   (   44.86 ms per token,    22.29 tokens per second)\n",
      "llama_print_timings:       total time =    4257.72 ms /   347 tokens\n",
      "Llama.generate: prefix-match hit\n"
     ]
    },
    {
     "name": "stdout",
     "output_type": "stream",
     "text": [
      " SELECT c.model FROM cars_data c ORDER BY c.mpg DESC NULLS LAST LIMIT 1;\n",
      "index is 135\n"
     ]
    },
    {
     "name": "stderr",
     "output_type": "stream",
     "text": [
      "\n",
      "llama_print_timings:        load time =     577.18 ms\n",
      "llama_print_timings:      sample time =      11.69 ms /    25 runs   (    0.47 ms per token,  2138.03 tokens per second)\n",
      "llama_print_timings: prompt eval time =    1970.26 ms /   285 tokens (    6.91 ms per token,   144.65 tokens per second)\n",
      "llama_print_timings:        eval time =    1076.95 ms /    24 runs   (   44.87 ms per token,    22.29 tokens per second)\n",
      "llama_print_timings:       total time =    3215.72 ms /   309 tokens\n",
      "Llama.generate: prefix-match hit\n"
     ]
    },
    {
     "name": "stdout",
     "output_type": "stream",
     "text": [
      " SELECT AVG(c.horsepower::INTEGER) AS average_horsepower FROM cars_data c WHERE c.year < 1980;\n",
      "index is 136\n"
     ]
    },
    {
     "name": "stderr",
     "output_type": "stream",
     "text": [
      "\n",
      "llama_print_timings:        load time =     577.18 ms\n",
      "llama_print_timings:      sample time =      17.80 ms /    37 runs   (    0.48 ms per token,  2078.30 tokens per second)\n",
      "llama_print_timings: prompt eval time =    1527.92 ms /   222 tokens (    6.88 ms per token,   145.30 tokens per second)\n",
      "llama_print_timings:        eval time =    1607.77 ms /    36 runs   (   44.66 ms per token,    22.39 tokens per second)\n",
      "llama_print_timings:       total time =    3335.17 ms /   258 tokens\n",
      "Llama.generate: prefix-match hit\n"
     ]
    },
    {
     "name": "stdout",
     "output_type": "stream",
     "text": [
      " SELECT AVG(c.horsepower::INTEGER) AS average_horsepower FROM cars_data c WHERE c.year < 1980;\n",
      "index is 137\n"
     ]
    },
    {
     "name": "stderr",
     "output_type": "stream",
     "text": [
      "\n",
      "llama_print_timings:        load time =     577.18 ms\n",
      "llama_print_timings:      sample time =      17.76 ms /    37 runs   (    0.48 ms per token,  2083.10 tokens per second)\n",
      "llama_print_timings: prompt eval time =    1526.20 ms /   221 tokens (    6.91 ms per token,   144.80 tokens per second)\n",
      "llama_print_timings:        eval time =    1621.96 ms /    36 runs   (   45.05 ms per token,    22.20 tokens per second)\n",
      "llama_print_timings:       total time =    3343.31 ms /   257 tokens\n",
      "Llama.generate: prefix-match hit\n"
     ]
    },
    {
     "name": "stdout",
     "output_type": "stream",
     "text": [
      " SELECT AVG(c.Edispl) AS average_edispl FROM car_names c WHERE c.Model = 'volvo';\n",
      "index is 138\n"
     ]
    },
    {
     "name": "stderr",
     "output_type": "stream",
     "text": [
      "\n",
      "llama_print_timings:        load time =     577.18 ms\n",
      "llama_print_timings:      sample time =      14.67 ms /    31 runs   (    0.47 ms per token,  2112.87 tokens per second)\n",
      "llama_print_timings: prompt eval time =    1974.99 ms /   288 tokens (    6.86 ms per token,   145.82 tokens per second)\n",
      "llama_print_timings:        eval time =    1400.80 ms /    31 runs   (   45.19 ms per token,    22.13 tokens per second)\n",
      "llama_print_timings:       total time =    3568.61 ms /   319 tokens\n",
      "Llama.generate: prefix-match hit\n"
     ]
    },
    {
     "name": "stdout",
     "output_type": "stream",
     "text": [
      " SELECT AVG(c.edispl) AS average_edispl FROM car_names c WHERE c.make = 'Volvo';\n",
      "index is 139\n"
     ]
    },
    {
     "name": "stderr",
     "output_type": "stream",
     "text": [
      "\n",
      "llama_print_timings:        load time =     577.18 ms\n",
      "llama_print_timings:      sample time =      14.32 ms /    31 runs   (    0.46 ms per token,  2164.35 tokens per second)\n",
      "llama_print_timings: prompt eval time =    1918.02 ms /   280 tokens (    6.85 ms per token,   145.98 tokens per second)\n",
      "llama_print_timings:        eval time =    1356.17 ms /    30 runs   (   45.21 ms per token,    22.12 tokens per second)\n",
      "llama_print_timings:       total time =    3460.46 ms /   310 tokens\n",
      "Llama.generate: prefix-match hit\n"
     ]
    },
    {
     "name": "stdout",
     "output_type": "stream",
     "text": [
      " SELECT c.cylinders, MAX(c.accelerate) AS max_accelerate FROM cars_data c GROUP BY c.cylinders ORDER BY c.cylinders NULLS LAST;\n",
      "index is 140\n"
     ]
    },
    {
     "name": "stderr",
     "output_type": "stream",
     "text": [
      "\n",
      "llama_print_timings:        load time =     577.18 ms\n",
      "llama_print_timings:      sample time =      23.87 ms /    51 runs   (    0.47 ms per token,  2136.30 tokens per second)\n",
      "llama_print_timings: prompt eval time =    1519.10 ms /   218 tokens (    6.97 ms per token,   143.51 tokens per second)\n",
      "llama_print_timings:        eval time =    2253.63 ms /    50 runs   (   45.07 ms per token,    22.19 tokens per second)\n",
      "llama_print_timings:       total time =    4021.00 ms /   268 tokens\n",
      "Llama.generate: prefix-match hit\n"
     ]
    },
    {
     "name": "stdout",
     "output_type": "stream",
     "text": [
      " SELECT c.cylinders, MAX(c.accelerate) AS max_accelerate FROM cars_data c GROUP BY c.cylinders ORDER BY max_accelerate DESC NULLS LAST;\n",
      "index is 141\n"
     ]
    },
    {
     "name": "stderr",
     "output_type": "stream",
     "text": [
      "\n",
      "llama_print_timings:        load time =     577.18 ms\n",
      "llama_print_timings:      sample time =      23.97 ms /    52 runs   (    0.46 ms per token,  2169.56 tokens per second)\n",
      "llama_print_timings: prompt eval time =    1469.98 ms /   214 tokens (    6.87 ms per token,   145.58 tokens per second)\n",
      "llama_print_timings:        eval time =    2298.26 ms /    51 runs   (   45.06 ms per token,    22.19 tokens per second)\n",
      "llama_print_timings:       total time =    4018.84 ms /   265 tokens\n",
      "Llama.generate: prefix-match hit\n"
     ]
    },
    {
     "name": "stdout",
     "output_type": "stream",
     "text": [
      " SELECT cn.model, cn.make, COUNT(*) AS version_count FROM car_names cn GROUP BY cn.model, cn.make ORDER BY version_count DESC LIMIT 1;\n",
      "index is 142\n"
     ]
    },
    {
     "name": "stderr",
     "output_type": "stream",
     "text": [
      "\n",
      "llama_print_timings:        load time =     577.18 ms\n",
      "llama_print_timings:      sample time =      21.22 ms /    45 runs   (    0.47 ms per token,  2120.64 tokens per second)\n",
      "llama_print_timings: prompt eval time =    1137.80 ms /   162 tokens (    7.02 ms per token,   142.38 tokens per second)\n",
      "llama_print_timings:        eval time =    1973.79 ms /    44 runs   (   44.86 ms per token,    22.29 tokens per second)\n",
      "llama_print_timings:       total time =    3323.90 ms /   206 tokens\n",
      "Llama.generate: prefix-match hit\n"
     ]
    },
    {
     "name": "stdout",
     "output_type": "stream",
     "text": [
      " SELECT m.model, COUNT(DISTINCT m.model_id) AS version_count FROM model_list m GROUP BY m.model ORDER BY version_count DESC LIMIT 1;\n",
      "index is 143\n"
     ]
    },
    {
     "name": "stderr",
     "output_type": "stream",
     "text": [
      "\n",
      "llama_print_timings:        load time =     577.18 ms\n",
      "llama_print_timings:      sample time =      19.38 ms /    41 runs   (    0.47 ms per token,  2115.26 tokens per second)\n",
      "llama_print_timings: prompt eval time =    1141.00 ms /   165 tokens (    6.92 ms per token,   144.61 tokens per second)\n",
      "llama_print_timings:        eval time =    1792.95 ms /    40 runs   (   44.82 ms per token,    22.31 tokens per second)\n",
      "llama_print_timings:       total time =    3131.56 ms /   205 tokens\n",
      "Llama.generate: prefix-match hit\n"
     ]
    },
    {
     "name": "stdout",
     "output_type": "stream",
     "text": [
      " SELECT COUNT(*) FROM cars_data WHERE cylinders > 4;\n",
      "index is 144\n"
     ]
    },
    {
     "name": "stderr",
     "output_type": "stream",
     "text": [
      "\n",
      "llama_print_timings:        load time =     577.18 ms\n",
      "llama_print_timings:      sample time =       7.57 ms /    16 runs   (    0.47 ms per token,  2112.49 tokens per second)\n",
      "llama_print_timings: prompt eval time =    1475.22 ms /   216 tokens (    6.83 ms per token,   146.42 tokens per second)\n",
      "llama_print_timings:        eval time =     717.64 ms /    16 runs   (   44.85 ms per token,    22.30 tokens per second)\n",
      "llama_print_timings:       total time =    2308.61 ms /   232 tokens\n",
      "Llama.generate: prefix-match hit\n"
     ]
    },
    {
     "name": "stdout",
     "output_type": "stream",
     "text": [
      " SELECT COUNT(*) FROM cars_data WHERE Cylinders > 4;\n",
      "index is 145\n"
     ]
    },
    {
     "name": "stderr",
     "output_type": "stream",
     "text": [
      "\n",
      "llama_print_timings:        load time =     577.18 ms\n",
      "llama_print_timings:      sample time =       8.09 ms /    17 runs   (    0.48 ms per token,  2102.14 tokens per second)\n",
      "llama_print_timings: prompt eval time =    1530.03 ms /   223 tokens (    6.86 ms per token,   145.75 tokens per second)\n",
      "llama_print_timings:        eval time =     718.25 ms /    16 runs   (   44.89 ms per token,    22.28 tokens per second)\n",
      "llama_print_timings:       total time =    2367.83 ms /   239 tokens\n",
      "Llama.generate: prefix-match hit\n"
     ]
    },
    {
     "name": "stdout",
     "output_type": "stream",
     "text": [
      " SELECT COUNT(c.id) AS number_of_cars FROM cars_data c WHERE c.year = 1980;\n",
      "index is 146\n"
     ]
    },
    {
     "name": "stderr",
     "output_type": "stream",
     "text": [
      "\n",
      "llama_print_timings:        load time =     577.18 ms\n",
      "llama_print_timings:      sample time =      14.47 ms /    31 runs   (    0.47 ms per token,  2142.81 tokens per second)\n",
      "llama_print_timings: prompt eval time =    1497.05 ms /   216 tokens (    6.93 ms per token,   144.28 tokens per second)\n",
      "llama_print_timings:        eval time =    1393.56 ms /    31 runs   (   44.95 ms per token,    22.25 tokens per second)\n",
      "llama_print_timings:       total time =    3064.28 ms /   247 tokens\n",
      "Llama.generate: prefix-match hit\n"
     ]
    },
    {
     "name": "stdout",
     "output_type": "stream",
     "text": [
      " SELECT COUNT(c.id) AS number_of_cars FROM cars_data c WHERE c.year = 1980;\n",
      "index is 147\n"
     ]
    },
    {
     "name": "stderr",
     "output_type": "stream",
     "text": [
      "\n",
      "llama_print_timings:        load time =     577.18 ms\n",
      "llama_print_timings:      sample time =      14.64 ms /    31 runs   (    0.47 ms per token,  2117.20 tokens per second)\n",
      "llama_print_timings: prompt eval time =    1520.09 ms /   219 tokens (    6.94 ms per token,   144.07 tokens per second)\n",
      "llama_print_timings:        eval time =    1345.36 ms /    30 runs   (   44.85 ms per token,    22.30 tokens per second)\n",
      "llama_print_timings:       total time =    3040.18 ms /   249 tokens\n",
      "Llama.generate: prefix-match hit\n"
     ]
    },
    {
     "name": "stdout",
     "output_type": "stream",
     "text": [
      " SELECT COUNT(DISTINCT cn.Model) AS number_of_models FROM car_makers cm JOIN car_names cn ON cm.Id = cn.MakeId WHERE cm.FullName = 'American Motor Company';\n",
      "index is 148\n",
      "\n",
      "index is 149\n"
     ]
    },
    {
     "name": "stderr",
     "output_type": "stream",
     "text": [
      "\n",
      "llama_print_timings:        load time =     577.18 ms\n",
      "llama_print_timings:      sample time =      24.72 ms /    51 runs   (    0.48 ms per token,  2062.94 tokens per second)\n",
      "llama_print_timings: prompt eval time =    1695.32 ms /   248 tokens (    6.84 ms per token,   146.29 tokens per second)\n",
      "llama_print_timings:        eval time =    2302.70 ms /    51 runs   (   45.15 ms per token,    22.15 tokens per second)\n",
      "llama_print_timings:       total time =    4256.98 ms /   299 tokens\n",
      "Llama.generate: prefix-match hit\n"
     ]
    },
    {
     "name": "stdout",
     "output_type": "stream",
     "text": [
      " SELECT cm.full_name, cm.id FROM car_makers cm JOIN car_names cn ON cm.id = cn.makeid GROUP BY cm.full_name, cm.id HAVING COUNT(cn.model) > 3;\n",
      "index is 150\n"
     ]
    },
    {
     "name": "stderr",
     "output_type": "stream",
     "text": [
      "\n",
      "llama_print_timings:        load time =     577.18 ms\n",
      "llama_print_timings:      sample time =      27.77 ms /    57 runs   (    0.49 ms per token,  2052.65 tokens per second)\n",
      "llama_print_timings: prompt eval time =    1745.97 ms /   251 tokens (    6.96 ms per token,   143.76 tokens per second)\n",
      "llama_print_timings:        eval time =    2529.20 ms /    56 runs   (   45.16 ms per token,    22.14 tokens per second)\n",
      "llama_print_timings:       total time =    4558.60 ms /   307 tokens\n",
      "Llama.generate: prefix-match hit\n"
     ]
    },
    {
     "name": "stdout",
     "output_type": "stream",
     "text": [
      " SELECT m.maker, m.id FROM car_makers m JOIN model_list ml ON m.id = ml.maker GROUP BY m.maker, m.id HAVING COUNT(ml.modelid) > 3;\n",
      "index is 151\n"
     ]
    },
    {
     "name": "stderr",
     "output_type": "stream",
     "text": [
      "\n",
      "llama_print_timings:        load time =     577.18 ms\n",
      "llama_print_timings:      sample time =      25.72 ms /    53 runs   (    0.49 ms per token,  2060.57 tokens per second)\n",
      "llama_print_timings: prompt eval time =    1804.71 ms /   262 tokens (    6.89 ms per token,   145.18 tokens per second)\n",
      "llama_print_timings:        eval time =    2348.87 ms /    52 runs   (   45.17 ms per token,    22.14 tokens per second)\n",
      "llama_print_timings:       total time =    4421.68 ms /   314 tokens\n",
      "Llama.generate: prefix-match hit\n"
     ]
    },
    {
     "name": "stdout",
     "output_type": "stream",
     "text": [
      " SELECT DISTINCT car_names.model FROM car_makers JOIN car_names ON car_makers.id = car_names.makeid WHERE car_makers.fullname ilike '%General%Motors%' OR car_makers.country ilike '%United%States%' OR cars_data.weight > 3500 ORDER BY car_names.model NULLS LAST;\n",
      "index is 152\n"
     ]
    },
    {
     "name": "stderr",
     "output_type": "stream",
     "text": [
      "\n",
      "llama_print_timings:        load time =     577.18 ms\n",
      "llama_print_timings:      sample time =      43.59 ms /    90 runs   (    0.48 ms per token,  2064.74 tokens per second)\n",
      "llama_print_timings: prompt eval time =    2767.70 ms /   400 tokens (    6.92 ms per token,   144.52 tokens per second)\n",
      "llama_print_timings:        eval time =    4044.24 ms /    89 runs   (   45.44 ms per token,    22.01 tokens per second)\n",
      "llama_print_timings:       total time =    7271.92 ms /   489 tokens\n",
      "Llama.generate: prefix-match hit\n"
     ]
    },
    {
     "name": "stdout",
     "output_type": "stream",
     "text": [
      " SELECT DISTINCT c.model FROM cars_data c JOIN car_names n ON c.id = n.makeid WHERE (n.make = 'General Motors' OR n.make = 'GM') AND (c.weight > 3500 OR c.weight = ''));\n",
      "index is 153\n"
     ]
    },
    {
     "name": "stderr",
     "output_type": "stream",
     "text": [
      "\n",
      "llama_print_timings:        load time =     577.18 ms\n",
      "llama_print_timings:      sample time =      30.77 ms /    64 runs   (    0.48 ms per token,  2079.88 tokens per second)\n",
      "llama_print_timings: prompt eval time =    2744.12 ms /   394 tokens (    6.96 ms per token,   143.58 tokens per second)\n",
      "llama_print_timings:        eval time =    2846.10 ms /    63 runs   (   45.18 ms per token,    22.14 tokens per second)\n",
      "llama_print_timings:       total time =    5938.39 ms /   457 tokens\n",
      "Llama.generate: prefix-match hit\n"
     ]
    },
    {
     "name": "stdout",
     "output_type": "stream",
     "text": [
      " SELECT DISTINCT c.year FROM cars_data c WHERE c.weight >= 3000 AND c.weight <= 4000 ORDER BY c.year NULLS LAST;\n",
      "index is 154\n"
     ]
    },
    {
     "name": "stderr",
     "output_type": "stream",
     "text": [
      "\n",
      "llama_print_timings:        load time =     577.18 ms\n",
      "llama_print_timings:      sample time =      19.50 ms /    43 runs   (    0.45 ms per token,  2205.58 tokens per second)\n",
      "llama_print_timings: prompt eval time =    1695.58 ms /   247 tokens (    6.86 ms per token,   145.67 tokens per second)\n",
      "llama_print_timings:        eval time =    1892.94 ms /    42 runs   (   45.07 ms per token,    22.19 tokens per second)\n",
      "llama_print_timings:       total time =    3814.88 ms /   289 tokens\n",
      "Llama.generate: prefix-match hit\n"
     ]
    },
    {
     "name": "stdout",
     "output_type": "stream",
     "text": [
      " SELECT DISTINCT c.year FROM cars_data c WHERE c.weight < 4000 AND c.weight > 3000 ORDER BY c.year NULLS LAST;\n",
      "index is 155\n"
     ]
    },
    {
     "name": "stderr",
     "output_type": "stream",
     "text": [
      "\n",
      "llama_print_timings:        load time =     577.18 ms\n",
      "llama_print_timings:      sample time =      19.88 ms /    43 runs   (    0.46 ms per token,  2162.76 tokens per second)\n",
      "llama_print_timings: prompt eval time =    1806.69 ms /   263 tokens (    6.87 ms per token,   145.57 tokens per second)\n",
      "llama_print_timings:        eval time =    1896.67 ms /    42 runs   (   45.16 ms per token,    22.14 tokens per second)\n",
      "llama_print_timings:       total time =    3935.25 ms /   305 tokens\n",
      "Llama.generate: prefix-match hit\n"
     ]
    },
    {
     "name": "stdout",
     "output_type": "stream",
     "text": [
      " SELECT MAX(c.Accelerate), c.Horsepower FROM cars_data c GROUP BY c.Horsepower ORDER BY MAX(c.Accelerate) DESC LIMIT 1;\n",
      "index is 156\n"
     ]
    },
    {
     "name": "stderr",
     "output_type": "stream",
     "text": [
      "\n",
      "llama_print_timings:        load time =     577.18 ms\n",
      "llama_print_timings:      sample time =      19.38 ms /    42 runs   (    0.46 ms per token,  2166.85 tokens per second)\n",
      "llama_print_timings: prompt eval time =    1525.24 ms /   220 tokens (    6.93 ms per token,   144.24 tokens per second)\n",
      "llama_print_timings:        eval time =    1844.20 ms /    41 runs   (   44.98 ms per token,    22.23 tokens per second)\n",
      "llama_print_timings:       total time =    3588.46 ms /   261 tokens\n",
      "Llama.generate: prefix-match hit\n"
     ]
    },
    {
     "name": "stdout",
     "output_type": "stream",
     "text": [
      " SELECT MAX(c.Accelerate) AS MaxAccelerate, c.Horsepower FROM cars_data c GROUP BY c.Horsepower ORDER BY MaxAccelerate DESC LIMIT 1;\n",
      "index is 157\n"
     ]
    },
    {
     "name": "stderr",
     "output_type": "stream",
     "text": [
      "\n",
      "llama_print_timings:        load time =     577.18 ms\n",
      "llama_print_timings:      sample time =      20.29 ms /    44 runs   (    0.46 ms per token,  2168.56 tokens per second)\n",
      "llama_print_timings: prompt eval time =    1466.53 ms /   211 tokens (    6.95 ms per token,   143.88 tokens per second)\n",
      "llama_print_timings:        eval time =    1935.68 ms /    43 runs   (   45.02 ms per token,    22.21 tokens per second)\n",
      "llama_print_timings:       total time =    3621.85 ms /   254 tokens\n",
      "Llama.generate: prefix-match hit\n"
     ]
    },
    {
     "name": "stdout",
     "output_type": "stream",
     "text": [
      " SELECT MIN(c.Cylinders)) AS min_cylinders FROM cars_data c JOIN car_names n ON c.Id = n.MakeId WHERE n.Model = 'volvo';\n",
      "index is 158\n"
     ]
    },
    {
     "name": "stderr",
     "output_type": "stream",
     "text": [
      "\n",
      "llama_print_timings:        load time =     577.18 ms\n",
      "llama_print_timings:      sample time =      22.27 ms /    47 runs   (    0.47 ms per token,  2110.84 tokens per second)\n",
      "llama_print_timings: prompt eval time =    2085.48 ms /   303 tokens (    6.88 ms per token,   145.29 tokens per second)\n",
      "llama_print_timings:        eval time =    2081.92 ms /    46 runs   (   45.26 ms per token,    22.10 tokens per second)\n",
      "llama_print_timings:       total time =    4422.32 ms /   349 tokens\n",
      "Llama.generate: prefix-match hit\n"
     ]
    },
    {
     "name": "stdout",
     "output_type": "stream",
     "text": [
      " SELECT MIN(c.Cylinders) AS min_cylinders FROM car_names c JOIN cars_data d ON c.MakeId = d.Id WHERE c.Make = 'Volvo';\n",
      "index is 159\n"
     ]
    },
    {
     "name": "stderr",
     "output_type": "stream",
     "text": [
      "\n",
      "llama_print_timings:        load time =     577.18 ms\n",
      "llama_print_timings:      sample time =      22.30 ms /    47 runs   (    0.47 ms per token,  2107.72 tokens per second)\n",
      "llama_print_timings: prompt eval time =    2083.14 ms /   302 tokens (    6.90 ms per token,   144.97 tokens per second)\n",
      "llama_print_timings:        eval time =    2082.90 ms /    46 runs   (   45.28 ms per token,    22.08 tokens per second)\n",
      "llama_print_timings:       total time =    4421.34 ms /   348 tokens\n",
      "Llama.generate: prefix-match hit\n"
     ]
    },
    {
     "name": "stdout",
     "output_type": "stream",
     "text": [
      " SELECT COUNT(*) FROM cars_data c WHERE c.Accelerate > (SELECT MAX(c.Horsepower) FROM cars_data);\n",
      "index is 160\n"
     ]
    },
    {
     "name": "stderr",
     "output_type": "stream",
     "text": [
      "\n",
      "llama_print_timings:        load time =     577.18 ms\n",
      "llama_print_timings:      sample time =      14.64 ms /    31 runs   (    0.47 ms per token,  2117.92 tokens per second)\n",
      "llama_print_timings: prompt eval time =    1579.78 ms /   227 tokens (    6.96 ms per token,   143.69 tokens per second)\n",
      "llama_print_timings:        eval time =    1350.86 ms /    30 runs   (   45.03 ms per token,    22.21 tokens per second)\n",
      "llama_print_timings:       total time =    3105.06 ms /   257 tokens\n",
      "Llama.generate: prefix-match hit\n"
     ]
    },
    {
     "name": "stdout",
     "output_type": "stream",
     "text": [
      " SELECT COUNT(*) FROM (SELECT c.id FROM cars_data c WHERE c.accelerate > (SELECT MAX(accelerate) FROM cars_data)) AS subquery;\n",
      "index is 161\n"
     ]
    },
    {
     "name": "stderr",
     "output_type": "stream",
     "text": [
      "\n",
      "llama_print_timings:        load time =     577.18 ms\n",
      "llama_print_timings:      sample time =      18.80 ms /    41 runs   (    0.46 ms per token,  2180.85 tokens per second)\n",
      "llama_print_timings: prompt eval time =    1585.92 ms /   232 tokens (    6.84 ms per token,   146.29 tokens per second)\n",
      "llama_print_timings:        eval time =    1848.78 ms /    41 runs   (   45.09 ms per token,    22.18 tokens per second)\n",
      "llama_print_timings:       total time =    3649.93 ms /   273 tokens\n",
      "Llama.generate: prefix-match hit\n"
     ]
    },
    {
     "name": "stdout",
     "output_type": "stream",
     "text": [
      " SELECT c.countryid, c.countryname, COUNT(cm.id) AS number_of_car_makers FROM car_makers cm JOIN countries c ON cm.country = c.countryid GROUP BY c.countryid, c.countryname HAVING COUNT(cm.id) > 2 ORDER BY number_of_car_makers DESC NULLS LAST;\n",
      "index is 162\n"
     ]
    },
    {
     "name": "stderr",
     "output_type": "stream",
     "text": [
      "\n",
      "llama_print_timings:        load time =     577.18 ms\n",
      "llama_print_timings:      sample time =      42.60 ms /    90 runs   (    0.47 ms per token,  2112.63 tokens per second)\n",
      "llama_print_timings: prompt eval time =    1636.87 ms /   240 tokens (    6.82 ms per token,   146.62 tokens per second)\n",
      "llama_print_timings:        eval time =    4066.98 ms /    90 runs   (   45.19 ms per token,    22.13 tokens per second)\n",
      "llama_print_timings:       total time =    6111.24 ms /   330 tokens\n",
      "Llama.generate: prefix-match hit\n"
     ]
    },
    {
     "name": "stdout",
     "output_type": "stream",
     "text": [
      " SELECT COUNT(DISTINCT c.country) AS num_countries FROM car_makers cm JOIN countries c ON cm.country = c.country GROUP BY c.country HAVING COUNT(DISTINCT cm.maker) > 2;\n",
      "index is 163\n"
     ]
    },
    {
     "name": "stderr",
     "output_type": "stream",
     "text": [
      "\n",
      "llama_print_timings:        load time =     577.18 ms\n",
      "llama_print_timings:      sample time =      25.69 ms /    54 runs   (    0.48 ms per token,  2101.82 tokens per second)\n",
      "llama_print_timings: prompt eval time =    1693.33 ms /   247 tokens (    6.86 ms per token,   145.87 tokens per second)\n",
      "llama_print_timings:        eval time =    2393.86 ms /    53 runs   (   45.17 ms per token,    22.14 tokens per second)\n",
      "llama_print_timings:       total time =    4353.77 ms /   300 tokens\n",
      "Llama.generate: prefix-match hit\n"
     ]
    },
    {
     "name": "stdout",
     "output_type": "stream",
     "text": [
      " SELECT COUNT(*) FROM cars_data WHERE Cylinders > 6;\n",
      "index is 164\n"
     ]
    },
    {
     "name": "stderr",
     "output_type": "stream",
     "text": [
      "\n",
      "llama_print_timings:        load time =     577.18 ms\n",
      "llama_print_timings:      sample time =       8.12 ms /    17 runs   (    0.48 ms per token,  2092.31 tokens per second)\n",
      "llama_print_timings: prompt eval time =    1474.44 ms /   215 tokens (    6.86 ms per token,   145.82 tokens per second)\n",
      "llama_print_timings:        eval time =     718.91 ms /    16 runs   (   44.93 ms per token,    22.26 tokens per second)\n",
      "llama_print_timings:       total time =    2311.85 ms /   231 tokens\n",
      "Llama.generate: prefix-match hit\n"
     ]
    },
    {
     "name": "stdout",
     "output_type": "stream",
     "text": [
      " SELECT COUNT(*) FROM cars_data WHERE Cylinders > 6;\n",
      "index is 165\n"
     ]
    },
    {
     "name": "stderr",
     "output_type": "stream",
     "text": [
      "\n",
      "llama_print_timings:        load time =     577.18 ms\n",
      "llama_print_timings:      sample time =       8.16 ms /    17 runs   (    0.48 ms per token,  2083.59 tokens per second)\n",
      "llama_print_timings: prompt eval time =    1530.60 ms /   224 tokens (    6.83 ms per token,   146.35 tokens per second)\n",
      "llama_print_timings:        eval time =     763.54 ms /    17 runs   (   44.91 ms per token,    22.26 tokens per second)\n",
      "llama_print_timings:       total time =    2416.45 ms /   241 tokens\n",
      "Llama.generate: prefix-match hit\n"
     ]
    },
    {
     "name": "stdout",
     "output_type": "stream",
     "text": [
      " SELECT car_names.MakeName FROM cars_data JOIN car_names ON cars_data.Id = car_names.MakeId WHERE cars_data.Cylinders = 4 ORDER BY car_names.MakeName DESC NULLS LAST LIMIT 1;\n",
      "index is 166\n"
     ]
    },
    {
     "name": "stderr",
     "output_type": "stream",
     "text": [
      "\n",
      "llama_print_timings:        load time =     577.18 ms\n",
      "llama_print_timings:      sample time =      27.66 ms /    58 runs   (    0.48 ms per token,  2097.04 tokens per second)\n",
      "llama_print_timings: prompt eval time =    1577.65 ms /   229 tokens (    6.89 ms per token,   145.15 tokens per second)\n",
      "llama_print_timings:        eval time =    2571.00 ms /    57 runs   (   45.11 ms per token,    22.17 tokens per second)\n",
      "llama_print_timings:       total time =    4428.46 ms /   286 tokens\n",
      "Llama.generate: prefix-match hit\n"
     ]
    },
    {
     "name": "stdout",
     "output_type": "stream",
     "text": [
      " SELECT cn.model FROM car_names cn JOIN cars_data cd ON cn.makeid = cd.id WHERE cd.cylinders = 4 ORDER BY cd.horsepower DESC LIMIT 1;\n",
      "index is 167\n"
     ]
    },
    {
     "name": "stderr",
     "output_type": "stream",
     "text": [
      "\n",
      "llama_print_timings:        load time =     577.18 ms\n",
      "llama_print_timings:      sample time =      23.43 ms /    49 runs   (    0.48 ms per token,  2091.25 tokens per second)\n",
      "llama_print_timings: prompt eval time =    2078.48 ms /   298 tokens (    6.97 ms per token,   143.37 tokens per second)\n",
      "llama_print_timings:        eval time =    2172.38 ms /    48 runs   (   45.26 ms per token,    22.10 tokens per second)\n",
      "llama_print_timings:       total time =    4514.88 ms /   346 tokens\n",
      "Llama.generate: prefix-match hit\n"
     ]
    },
    {
     "name": "stdout",
     "output_type": "stream",
     "text": [
      " SELECT c.makeid, c.make FROM cars_data c WHERE c.horsepower > (SELECT MIN(horsepower) FROM cars_data) AND c.cylinders <= 3 ORDER BY c.makeid NULLS LAST;\n",
      "index is 168\n"
     ]
    },
    {
     "name": "stderr",
     "output_type": "stream",
     "text": [
      "\n",
      "llama_print_timings:        load time =     577.18 ms\n",
      "llama_print_timings:      sample time =      27.57 ms /    57 runs   (    0.48 ms per token,  2067.39 tokens per second)\n",
      "llama_print_timings: prompt eval time =    2252.48 ms /   327 tokens (    6.89 ms per token,   145.17 tokens per second)\n",
      "llama_print_timings:        eval time =    2531.00 ms /    56 runs   (   45.20 ms per token,    22.13 tokens per second)\n",
      "llama_print_timings:       total time =    5084.86 ms /   383 tokens\n",
      "Llama.generate: prefix-match hit\n"
     ]
    },
    {
     "name": "stdout",
     "output_type": "stream",
     "text": [
      " SELECT c.id AS car_id, c.make_id, c.model, c.make, c.year, c.mpg, c.cylinders, c.edispl, c.horsepower, c.weight, c.accelerate FROM cars_data c WHERE c.cylinders < 4 AND CAST(c.horsepower AS INTEGER) < 100;\n",
      "index is 169\n"
     ]
    },
    {
     "name": "stderr",
     "output_type": "stream",
     "text": [
      "\n",
      "llama_print_timings:        load time =     577.18 ms\n",
      "llama_print_timings:      sample time =      47.51 ms /    97 runs   (    0.49 ms per token,  2041.50 tokens per second)\n",
      "llama_print_timings: prompt eval time =    2247.02 ms /   323 tokens (    6.96 ms per token,   143.75 tokens per second)\n",
      "llama_print_timings:        eval time =    4354.06 ms /    96 runs   (   45.35 ms per token,    22.05 tokens per second)\n",
      "llama_print_timings:       total time =    7063.20 ms /   419 tokens\n",
      "Llama.generate: prefix-match hit\n"
     ]
    },
    {
     "name": "stdout",
     "output_type": "stream",
     "text": [
      " SELECT MAX(c.mpg::FLOAT) AS max_mpg FROM cars_data c WHERE c.cylinders = 8 OR c.year < 1980;\n",
      "index is 170\n"
     ]
    },
    {
     "name": "stderr",
     "output_type": "stream",
     "text": [
      "\n",
      "llama_print_timings:        load time =     577.18 ms\n",
      "llama_print_timings:      sample time =      21.00 ms /    44 runs   (    0.48 ms per token,  2094.84 tokens per second)\n",
      "llama_print_timings: prompt eval time =    1693.06 ms /   245 tokens (    6.91 ms per token,   144.71 tokens per second)\n",
      "llama_print_timings:        eval time =    1939.95 ms /    43 runs   (   45.12 ms per token,    22.17 tokens per second)\n",
      "llama_print_timings:       total time =    3863.72 ms /   288 tokens\n",
      "Llama.generate: prefix-match hit\n"
     ]
    },
    {
     "name": "stdout",
     "output_type": "stream",
     "text": [
      " SELECT MAX(c.mpg::INTEGER) AS max_mpg FROM cars_data c WHERE c.cylinders = 8 OR c.year < 1980;\n",
      "index is 171\n"
     ]
    },
    {
     "name": "stderr",
     "output_type": "stream",
     "text": [
      "\n",
      "llama_print_timings:        load time =     577.18 ms\n",
      "llama_print_timings:      sample time =      20.81 ms /    44 runs   (    0.47 ms per token,  2114.27 tokens per second)\n",
      "llama_print_timings: prompt eval time =    1686.08 ms /   243 tokens (    6.94 ms per token,   144.12 tokens per second)\n",
      "llama_print_timings:        eval time =    1926.48 ms /    43 runs   (   44.80 ms per token,    22.32 tokens per second)\n",
      "llama_print_timings:       total time =    3843.56 ms /   286 tokens\n",
      "Llama.generate: prefix-match hit\n"
     ]
    },
    {
     "name": "stdout",
     "output_type": "stream",
     "text": [
      " SELECT DISTINCT cn.Model FROM car_names cn JOIN cars_data cd ON cn.MakeId = cd.Id JOIN car_makers cm ON cd.Country = cm.Country WHERE cd.Weight < 35000 AND cm.Maker != 'Ford Motor Company' ORDER BY cn.Model NULLS LAST;\n",
      "index is 172\n"
     ]
    },
    {
     "name": "stderr",
     "output_type": "stream",
     "text": [
      "\n",
      "llama_print_timings:        load time =     577.18 ms\n",
      "llama_print_timings:      sample time =      37.45 ms /    78 runs   (    0.48 ms per token,  2082.83 tokens per second)\n",
      "llama_print_timings: prompt eval time =    2700.28 ms /   390 tokens (    6.92 ms per token,   144.43 tokens per second)\n",
      "llama_print_timings:        eval time =    3478.90 ms /    77 runs   (   45.18 ms per token,    22.13 tokens per second)\n",
      "llama_print_timings:       total time =    6582.32 ms /   467 tokens\n",
      "Llama.generate: prefix-match hit\n"
     ]
    },
    {
     "name": "stdout",
     "output_type": "stream",
     "text": [
      " SELECT DISTINCT c.model FROM cars_data c JOIN car_makers cm ON c.make_id = cm.id WHERE c.weight > 3500 AND cm.maker != 'Ford Motor Company' ORDER BY c.model NULLS LAST;\n",
      "index is 173\n"
     ]
    },
    {
     "name": "stderr",
     "output_type": "stream",
     "text": [
      "\n",
      "llama_print_timings:        load time =     577.18 ms\n",
      "llama_print_timings:      sample time =      28.79 ms /    60 runs   (    0.48 ms per token,  2084.35 tokens per second)\n",
      "llama_print_timings: prompt eval time =    2745.31 ms /   394 tokens (    6.97 ms per token,   143.52 tokens per second)\n",
      "llama_print_timings:        eval time =    2665.63 ms /    59 runs   (   45.18 ms per token,    22.13 tokens per second)\n",
      "llama_print_timings:       total time =    5747.72 ms /   453 tokens\n",
      "Llama.generate: prefix-match hit\n"
     ]
    },
    {
     "name": "stdout",
     "output_type": "stream",
     "text": [
      " SELECT c.country_name FROM countries c LEFT JOIN car_makers cm ON c.country_id = cm.country WHERE cm.country IS NULL\n",
      "index is 174\n"
     ]
    },
    {
     "name": "stderr",
     "output_type": "stream",
     "text": [
      "\n",
      "llama_print_timings:        load time =     577.18 ms\n",
      "llama_print_timings:      sample time =      15.77 ms /    33 runs   (    0.48 ms per token,  2092.58 tokens per second)\n",
      "llama_print_timings: prompt eval time =    1696.60 ms /   248 tokens (    6.84 ms per token,   146.17 tokens per second)\n",
      "llama_print_timings:        eval time =    1433.42 ms /    32 runs   (   44.79 ms per token,    22.32 tokens per second)\n",
      "llama_print_timings:       total time =    3317.01 ms /   280 tokens\n",
      "Llama.generate: prefix-match hit\n"
     ]
    },
    {
     "name": "stdout",
     "output_type": "stream",
     "text": [
      " SELECT c.country_name FROM countries c LEFT JOIN car_makers cm ON c.country_id = cm.country WHERE cm.country IS NULL;\n",
      "index is 175\n"
     ]
    },
    {
     "name": "stderr",
     "output_type": "stream",
     "text": [
      "\n",
      "llama_print_timings:        load time =     577.18 ms\n",
      "llama_print_timings:      sample time =      15.96 ms /    34 runs   (    0.47 ms per token,  2130.86 tokens per second)\n",
      "llama_print_timings: prompt eval time =    1641.88 ms /   240 tokens (    6.84 ms per token,   146.17 tokens per second)\n",
      "llama_print_timings:        eval time =    1488.20 ms /    33 runs   (   45.10 ms per token,    22.17 tokens per second)\n",
      "llama_print_timings:       total time =    3323.42 ms /   273 tokens\n",
      "Llama.generate: prefix-match hit\n"
     ]
    },
    {
     "name": "stdout",
     "output_type": "stream",
     "text": [
      " SELECT cm.id, cm.maker FROM car_makers cm GROUP BY cm.id, cm.maker HAVING COUNT(DISTINCT cm.id) >= 2 AND COUNT(DISTINCT cm.maker) > 3;\n",
      "index is 176\n"
     ]
    },
    {
     "name": "stderr",
     "output_type": "stream",
     "text": [
      "\n",
      "llama_print_timings:        load time =     577.18 ms\n",
      "llama_print_timings:      sample time =      24.46 ms /    53 runs   (    0.46 ms per token,  2166.63 tokens per second)\n",
      "llama_print_timings: prompt eval time =    1416.78 ms /   207 tokens (    6.84 ms per token,   146.11 tokens per second)\n",
      "llama_print_timings:        eval time =    2336.91 ms /    52 runs   (   44.94 ms per token,    22.25 tokens per second)\n",
      "llama_print_timings:       total time =    4010.85 ms /   259 tokens\n",
      "Llama.generate: prefix-match hit\n"
     ]
    },
    {
     "name": "stdout",
     "output_type": "stream",
     "text": [
      " SELECT cm.id, cm.maker FROM car_makers cm JOIN model_list ml ON cm.id = ml.maker GROUP BY cm.id, cm.maker HAVING COUNT(ml.model) >= 2 AND COUNT(ml.maker) > 3;\n",
      "index is 177\n"
     ]
    },
    {
     "name": "stderr",
     "output_type": "stream",
     "text": [
      "\n",
      "llama_print_timings:        load time =     577.18 ms\n",
      "llama_print_timings:      sample time =      29.08 ms /    62 runs   (    0.47 ms per token,  2131.83 tokens per second)\n",
      "llama_print_timings: prompt eval time =    2419.29 ms /   352 tokens (    6.87 ms per token,   145.50 tokens per second)\n",
      "llama_print_timings:        eval time =    2770.30 ms /    61 runs   (   45.41 ms per token,    22.02 tokens per second)\n",
      "llama_print_timings:       total time =    5523.13 ms /   413 tokens\n",
      "Llama.generate: prefix-match hit\n"
     ]
    },
    {
     "name": "stdout",
     "output_type": "stream",
     "text": [
      " SELECT c.countryid, c.countryname, COUNT(DISTINCT cm.id) AS car_maker_count, SUM(CASE WHEN cn.model = 'fiat' THEN 1 ELSE 0 END) AS fiat_model_count FROM countries c JOIN car_makers cm ON c.countryid = cm.country JOIN car_names cn ON cm.id = cn.makeid GROUP BY c.countryid, c.countryname HAVING COUNT(DISTINCT cm.id) > 3 OR SUM(CASE WHEN cn.model = 'fiat' THEN 1 ELSE 0 END) > 0;\n",
      "index is 178\n"
     ]
    },
    {
     "name": "stderr",
     "output_type": "stream",
     "text": [
      "\n",
      "llama_print_timings:        load time =     577.18 ms\n",
      "llama_print_timings:      sample time =      70.84 ms /   148 runs   (    0.48 ms per token,  2089.30 tokens per second)\n",
      "llama_print_timings: prompt eval time =    2358.14 ms /   338 tokens (    6.98 ms per token,   143.33 tokens per second)\n",
      "llama_print_timings:        eval time =    6688.71 ms /   147 runs   (   45.50 ms per token,    21.98 tokens per second)\n",
      "llama_print_timings:       total time =    9718.10 ms /   485 tokens\n",
      "Llama.generate: prefix-match hit\n"
     ]
    },
    {
     "name": "stdout",
     "output_type": "stream",
     "text": [
      " SELECT c.countryid, c.countryname, COUNT(DISTINCT cm.id) AS car_maker_count, COUNT(DISTINCT mn.model) AS model_count FROM countries c JOIN car_makers cm ON c.countryid = cm.country JOIN car_names mn ON cm.id = mn.makeid WHERE c.countryid IN (SELECT country FROM countries WHERE countryname ilike '%fiat%') GROUP BY c.countryid, c.countryname HAVING COUNT(DISTINCT cm.id) > 3;\n",
      "index is 179\n"
     ]
    },
    {
     "name": "stderr",
     "output_type": "stream",
     "text": [
      "\n",
      "llama_print_timings:        load time =     577.18 ms\n",
      "llama_print_timings:      sample time =      62.39 ms /   129 runs   (    0.48 ms per token,  2067.57 tokens per second)\n",
      "llama_print_timings: prompt eval time =    2301.74 ms /   334 tokens (    6.89 ms per token,   145.11 tokens per second)\n",
      "llama_print_timings:        eval time =    5822.17 ms /   128 runs   (   45.49 ms per token,    21.98 tokens per second)\n",
      "llama_print_timings:       total time =    8710.91 ms /   462 tokens\n",
      "Llama.generate: prefix-match hit\n"
     ]
    },
    {
     "name": "stdout",
     "output_type": "stream",
     "text": [
      " SELECT a.\"Country\" FROM airlines a WHERE a.\"Airline\" ILIKE '%JetBlue%Airways%'\n",
      "index is 180\n"
     ]
    },
    {
     "name": "stderr",
     "output_type": "stream",
     "text": [
      "\n",
      "llama_print_timings:        load time =     577.18 ms\n",
      "llama_print_timings:      sample time =      13.96 ms /    29 runs   (    0.48 ms per token,  2077.81 tokens per second)\n",
      "llama_print_timings: prompt eval time =    1083.13 ms /   155 tokens (    6.99 ms per token,   143.10 tokens per second)\n",
      "llama_print_timings:        eval time =    1244.49 ms /    28 runs   (   44.45 ms per token,    22.50 tokens per second)\n",
      "llama_print_timings:       total time =    2476.47 ms /   183 tokens\n",
      "Llama.generate: prefix-match hit\n"
     ]
    },
    {
     "name": "stdout",
     "output_type": "stream",
     "text": [
      " SELECT a.\"Country\" FROM airlines a WHERE a.\"Airline\" ILIKE '%JetBlue%Airways%'\n",
      "index is 181\n"
     ]
    },
    {
     "name": "stderr",
     "output_type": "stream",
     "text": [
      "\n",
      "llama_print_timings:        load time =     577.18 ms\n",
      "llama_print_timings:      sample time =      13.60 ms /    29 runs   (    0.47 ms per token,  2132.20 tokens per second)\n",
      "llama_print_timings: prompt eval time =     977.81 ms /   144 tokens (    6.79 ms per token,   147.27 tokens per second)\n",
      "llama_print_timings:        eval time =    1288.96 ms /    29 runs   (   44.45 ms per token,    22.50 tokens per second)\n",
      "llama_print_timings:       total time =    2412.86 ms /   173 tokens\n",
      "Llama.generate: prefix-match hit\n"
     ]
    },
    {
     "name": "stdout",
     "output_type": "stream",
     "text": [
      " SELECT a.\"Abbreviation\" FROM airlines a WHERE a.\"Airline\" ILIKE '%JetBlue%Airways%'\n",
      "index is 182\n"
     ]
    },
    {
     "name": "stderr",
     "output_type": "stream",
     "text": [
      "\n",
      "llama_print_timings:        load time =     577.18 ms\n",
      "llama_print_timings:      sample time =      14.62 ms /    31 runs   (    0.47 ms per token,  2120.82 tokens per second)\n",
      "llama_print_timings: prompt eval time =    1036.35 ms /   152 tokens (    6.82 ms per token,   146.67 tokens per second)\n",
      "llama_print_timings:        eval time =    1333.23 ms /    30 runs   (   44.44 ms per token,    22.50 tokens per second)\n",
      "llama_print_timings:       total time =    2522.82 ms /   182 tokens\n",
      "Llama.generate: prefix-match hit\n"
     ]
    },
    {
     "name": "stdout",
     "output_type": "stream",
     "text": [
      " SELECT a.\"Abbreviation\" FROM airlines a WHERE a.\"Airline\" ILIKE '%Jetblue%Airways%'\n",
      "index is 183\n"
     ]
    },
    {
     "name": "stderr",
     "output_type": "stream",
     "text": [
      "\n",
      "llama_print_timings:        load time =     577.18 ms\n",
      "llama_print_timings:      sample time =      14.60 ms /    31 runs   (    0.47 ms per token,  2122.85 tokens per second)\n",
      "llama_print_timings: prompt eval time =     981.35 ms /   144 tokens (    6.81 ms per token,   146.74 tokens per second)\n",
      "llama_print_timings:        eval time =    1376.38 ms /    31 runs   (   44.40 ms per token,    22.52 tokens per second)\n",
      "llama_print_timings:       total time =    2515.47 ms /   175 tokens\n",
      "Llama.generate: prefix-match hit\n"
     ]
    },
    {
     "name": "stdout",
     "output_type": "stream",
     "text": [
      " SELECT a.\"Airline\", a.\"Abbreviation\" FROM airlines a WHERE a.\"Country\" ILIKE '%USA%' ORDER BY a.\"Airline\" NULLS LAST;\n",
      "index is 184\n"
     ]
    },
    {
     "name": "stderr",
     "output_type": "stream",
     "text": [
      "\n",
      "llama_print_timings:        load time =     577.18 ms\n",
      "llama_print_timings:      sample time =      19.75 ms /    42 runs   (    0.47 ms per token,  2126.58 tokens per second)\n",
      "llama_print_timings: prompt eval time =    1032.22 ms /   151 tokens (    6.84 ms per token,   146.29 tokens per second)\n",
      "llama_print_timings:        eval time =    1823.37 ms /    41 runs   (   44.47 ms per token,    22.49 tokens per second)\n",
      "llama_print_timings:       total time =    3051.99 ms /   192 tokens\n",
      "Llama.generate: prefix-match hit\n"
     ]
    },
    {
     "name": "stdout",
     "output_type": "stream",
     "text": [
      " SELECT a.\"Airline\", a.\"Abbreviation\" FROM airlines a WHERE a.\"Country\" ILIKE '%USA%' ORDER BY a.\"Airline\" NULLS LAST;\n",
      "index is 185\n"
     ]
    },
    {
     "name": "stderr",
     "output_type": "stream",
     "text": [
      "\n",
      "llama_print_timings:        load time =     577.18 ms\n",
      "llama_print_timings:      sample time =      19.69 ms /    42 runs   (    0.47 ms per token,  2133.28 tokens per second)\n",
      "llama_print_timings: prompt eval time =    1086.10 ms /   157 tokens (    6.92 ms per token,   144.55 tokens per second)\n",
      "llama_print_timings:        eval time =    1821.93 ms /    41 runs   (   44.44 ms per token,    22.50 tokens per second)\n",
      "llama_print_timings:       total time =    3108.97 ms /   198 tokens\n",
      "Llama.generate: prefix-match hit\n"
     ]
    },
    {
     "name": "stdout",
     "output_type": "stream",
     "text": [
      " SELECT a.\"AirportCode\", a.\"AirportName\" FROM airports a WHERE a.\"City\" ILIKE '%Anthony%' ORDER BY a.\"AirportCode\" NULLS LAST;\n",
      "index is 186\n"
     ]
    },
    {
     "name": "stderr",
     "output_type": "stream",
     "text": [
      "\n",
      "llama_print_timings:        load time =     577.18 ms\n",
      "llama_print_timings:      sample time =      21.90 ms /    47 runs   (    0.47 ms per token,  2145.82 tokens per second)\n",
      "llama_print_timings: prompt eval time =    1138.89 ms /   165 tokens (    6.90 ms per token,   144.88 tokens per second)\n",
      "llama_print_timings:        eval time =    2046.12 ms /    46 runs   (   44.48 ms per token,    22.48 tokens per second)\n",
      "llama_print_timings:       total time =    3405.60 ms /   211 tokens\n",
      "Llama.generate: prefix-match hit\n"
     ]
    },
    {
     "name": "stdout",
     "output_type": "stream",
     "text": [
      " SELECT a.\"AirportCode\", a.\"AirportName\" FROM airports a WHERE a.\"City\" ILIKE '%Anthony%'\n",
      "index is 187\n"
     ]
    },
    {
     "name": "stderr",
     "output_type": "stream",
     "text": [
      "\n",
      "llama_print_timings:        load time =     577.18 ms\n",
      "llama_print_timings:      sample time =      15.47 ms /    33 runs   (    0.47 ms per token,  2132.75 tokens per second)\n",
      "llama_print_timings: prompt eval time =    1197.80 ms /   176 tokens (    6.81 ms per token,   146.94 tokens per second)\n",
      "llama_print_timings:        eval time =    1475.59 ms /    33 runs   (   44.71 ms per token,    22.36 tokens per second)\n",
      "llama_print_timings:       total time =    2845.72 ms /   209 tokens\n",
      "Llama.generate: prefix-match hit\n"
     ]
    },
    {
     "name": "stdout",
     "output_type": "stream",
     "text": [
      " SELECT COUNT(a.uid) AS number_of_airlines FROM airlines a;\n",
      "index is 188\n"
     ]
    },
    {
     "name": "stderr",
     "output_type": "stream",
     "text": [
      "\n",
      "llama_print_timings:        load time =     577.18 ms\n",
      "llama_print_timings:      sample time =       9.36 ms /    20 runs   (    0.47 ms per token,  2136.07 tokens per second)\n",
      "llama_print_timings: prompt eval time =     973.73 ms /   139 tokens (    7.01 ms per token,   142.75 tokens per second)\n",
      "llama_print_timings:        eval time =     844.54 ms /    19 runs   (   44.45 ms per token,    22.50 tokens per second)\n",
      "llama_print_timings:       total time =    1928.79 ms /   158 tokens\n",
      "Llama.generate: prefix-match hit\n"
     ]
    },
    {
     "name": "stdout",
     "output_type": "stream",
     "text": [
      " SELECT COUNT(a.uid) AS total_airlines FROM airlines a;\n",
      "index is 189\n"
     ]
    },
    {
     "name": "stderr",
     "output_type": "stream",
     "text": [
      "\n",
      "llama_print_timings:        load time =     577.18 ms\n",
      "llama_print_timings:      sample time =       8.32 ms /    18 runs   (    0.46 ms per token,  2162.68 tokens per second)\n",
      "llama_print_timings: prompt eval time =     973.79 ms /   141 tokens (    6.91 ms per token,   144.80 tokens per second)\n",
      "llama_print_timings:        eval time =     761.55 ms /    17 runs   (   44.80 ms per token,    22.32 tokens per second)\n",
      "llama_print_timings:       total time =    1837.63 ms /   158 tokens\n",
      "Llama.generate: prefix-match hit\n"
     ]
    },
    {
     "name": "stdout",
     "output_type": "stream",
     "text": [
      " SELECT COUNT(a.AirportCode) FROM airports a;\n",
      "index is 190\n"
     ]
    },
    {
     "name": "stderr",
     "output_type": "stream",
     "text": [
      "\n",
      "llama_print_timings:        load time =     577.18 ms\n",
      "llama_print_timings:      sample time =       7.42 ms /    16 runs   (    0.46 ms per token,  2157.21 tokens per second)\n",
      "llama_print_timings: prompt eval time =    1086.24 ms /   157 tokens (    6.92 ms per token,   144.54 tokens per second)\n",
      "llama_print_timings:        eval time =     671.50 ms /    15 runs   (   44.77 ms per token,    22.34 tokens per second)\n",
      "llama_print_timings:       total time =    1856.80 ms /   172 tokens\n",
      "Llama.generate: prefix-match hit\n"
     ]
    },
    {
     "name": "stdout",
     "output_type": "stream",
     "text": [
      " SELECT COUNT(a.AirportCode) AS total_airports FROM airports a;\n",
      "index is 191\n"
     ]
    },
    {
     "name": "stderr",
     "output_type": "stream",
     "text": [
      "\n",
      "llama_print_timings:        load time =     577.18 ms\n",
      "llama_print_timings:      sample time =       9.70 ms /    21 runs   (    0.46 ms per token,  2165.84 tokens per second)\n",
      "llama_print_timings: prompt eval time =    1081.10 ms /   155 tokens (    6.97 ms per token,   143.37 tokens per second)\n",
      "llama_print_timings:        eval time =     888.87 ms /    20 runs   (   44.44 ms per token,    22.50 tokens per second)\n",
      "llama_print_timings:       total time =    2087.65 ms /   175 tokens\n",
      "Llama.generate: prefix-match hit\n"
     ]
    },
    {
     "name": "stdout",
     "output_type": "stream",
     "text": [
      " SELECT COUNT(*) FROM flights;\n",
      "index is 192\n"
     ]
    },
    {
     "name": "stderr",
     "output_type": "stream",
     "text": [
      "\n",
      "llama_print_timings:        load time =     577.18 ms\n",
      "llama_print_timings:      sample time =       3.71 ms /     8 runs   (    0.46 ms per token,  2155.75 tokens per second)\n",
      "llama_print_timings: prompt eval time =    1416.70 ms /   207 tokens (    6.84 ms per token,   146.11 tokens per second)\n",
      "llama_print_timings:        eval time =     311.87 ms /     7 runs   (   44.55 ms per token,    22.45 tokens per second)\n",
      "llama_print_timings:       total time =    1810.01 ms /   214 tokens\n",
      "Llama.generate: prefix-match hit\n"
     ]
    },
    {
     "name": "stdout",
     "output_type": "stream",
     "text": [
      " SELECT COUNT(f.FlightNo) AS total_flights FROM flights f;\n",
      "index is 193\n"
     ]
    },
    {
     "name": "stderr",
     "output_type": "stream",
     "text": [
      "\n",
      "llama_print_timings:        load time =     577.18 ms\n",
      "llama_print_timings:      sample time =       9.17 ms /    20 runs   (    0.46 ms per token,  2180.79 tokens per second)\n",
      "llama_print_timings: prompt eval time =    1414.70 ms /   203 tokens (    6.97 ms per token,   143.49 tokens per second)\n",
      "llama_print_timings:        eval time =     851.60 ms /    19 runs   (   44.82 ms per token,    22.31 tokens per second)\n",
      "llama_print_timings:       total time =    2397.07 ms /   222 tokens\n",
      "Llama.generate: prefix-match hit\n"
     ]
    },
    {
     "name": "stdout",
     "output_type": "stream",
     "text": [
      " SELECT \"Airline\" FROM airlines WHERE \"Abbreviation\" = 'UAL';\n",
      "index is 194\n"
     ]
    },
    {
     "name": "stderr",
     "output_type": "stream",
     "text": [
      "\n",
      "llama_print_timings:        load time =     577.18 ms\n",
      "llama_print_timings:      sample time =       9.97 ms /    21 runs   (    0.47 ms per token,  2106.11 tokens per second)\n",
      "llama_print_timings: prompt eval time =    1027.15 ms /   147 tokens (    6.99 ms per token,   143.11 tokens per second)\n",
      "llama_print_timings:        eval time =     890.33 ms /    20 runs   (   44.52 ms per token,    22.46 tokens per second)\n",
      "llama_print_timings:       total time =    2033.06 ms /   167 tokens\n",
      "Llama.generate: prefix-match hit\n"
     ]
    },
    {
     "name": "stdout",
     "output_type": "stream",
     "text": [
      " SELECT \"Airline\" FROM airlines WHERE \"Abbreviation\" = 'UAL';\n",
      "index is 195\n"
     ]
    },
    {
     "name": "stderr",
     "output_type": "stream",
     "text": [
      "\n",
      "llama_print_timings:        load time =     577.18 ms\n",
      "llama_print_timings:      sample time =       9.92 ms /    21 runs   (    0.47 ms per token,  2116.72 tokens per second)\n",
      "llama_print_timings: prompt eval time =    1026.24 ms /   147 tokens (    6.98 ms per token,   143.24 tokens per second)\n",
      "llama_print_timings:        eval time =     888.42 ms /    20 runs   (   44.42 ms per token,    22.51 tokens per second)\n",
      "llama_print_timings:       total time =    2031.34 ms /   167 tokens\n",
      "Llama.generate: prefix-match hit\n"
     ]
    },
    {
     "name": "stdout",
     "output_type": "stream",
     "text": [
      " SELECT COUNT(*) FROM airlines a WHERE a.\"Country\" ILIKE '%USA%';\n",
      "index is 196\n"
     ]
    },
    {
     "name": "stderr",
     "output_type": "stream",
     "text": [
      "\n",
      "llama_print_timings:        load time =     577.18 ms\n",
      "llama_print_timings:      sample time =       9.25 ms /    20 runs   (    0.46 ms per token,  2162.16 tokens per second)\n",
      "llama_print_timings: prompt eval time =     972.06 ms /   139 tokens (    6.99 ms per token,   142.99 tokens per second)\n",
      "llama_print_timings:        eval time =     849.92 ms /    19 runs   (   44.73 ms per token,    22.35 tokens per second)\n",
      "llama_print_timings:       total time =    1931.70 ms /   158 tokens\n",
      "Llama.generate: prefix-match hit\n"
     ]
    },
    {
     "name": "stdout",
     "output_type": "stream",
     "text": [
      " SELECT COUNT(*) FROM airlines a WHERE a.\"Country\" ILIKE '%USA%';\n",
      "index is 197\n"
     ]
    },
    {
     "name": "stderr",
     "output_type": "stream",
     "text": [
      "\n",
      "llama_print_timings:        load time =     577.18 ms\n",
      "llama_print_timings:      sample time =       9.19 ms /    20 runs   (    0.46 ms per token,  2176.04 tokens per second)\n",
      "llama_print_timings: prompt eval time =     976.18 ms /   141 tokens (    6.92 ms per token,   144.44 tokens per second)\n",
      "llama_print_timings:        eval time =     850.30 ms /    19 runs   (   44.75 ms per token,    22.34 tokens per second)\n",
      "llama_print_timings:       total time =    1935.84 ms /   160 tokens\n",
      "Llama.generate: prefix-match hit\n"
     ]
    },
    {
     "name": "stdout",
     "output_type": "stream",
     "text": [
      " SELECT a.\"City\", a.\"Country\" FROM airports a WHERE a.\"AirportCode\" = 'ALT';\n",
      "index is 198\n"
     ]
    },
    {
     "name": "stderr",
     "output_type": "stream",
     "text": [
      "\n",
      "llama_print_timings:        load time =     577.18 ms\n",
      "llama_print_timings:      sample time =      12.67 ms /    27 runs   (    0.47 ms per token,  2131.69 tokens per second)\n",
      "llama_print_timings: prompt eval time =    1140.78 ms /   167 tokens (    6.83 ms per token,   146.39 tokens per second)\n",
      "llama_print_timings:        eval time =    1155.48 ms /    26 runs   (   44.44 ms per token,    22.50 tokens per second)\n",
      "llama_print_timings:       total time =    2439.06 ms /   193 tokens\n",
      "Llama.generate: prefix-match hit\n"
     ]
    },
    {
     "name": "stdout",
     "output_type": "stream",
     "text": [
      " SELECT a.\"City\", a.\"Country\" FROM airports a WHERE a.\"AirportCode\" = 'ALT';\n",
      "index is 199\n"
     ]
    },
    {
     "name": "stderr",
     "output_type": "stream",
     "text": [
      "\n",
      "llama_print_timings:        load time =     577.18 ms\n",
      "llama_print_timings:      sample time =      12.60 ms /    27 runs   (    0.47 ms per token,  2142.52 tokens per second)\n",
      "llama_print_timings: prompt eval time =    1139.12 ms /   165 tokens (    6.90 ms per token,   144.85 tokens per second)\n",
      "llama_print_timings:        eval time =    1156.34 ms /    26 runs   (   44.47 ms per token,    22.48 tokens per second)\n",
      "llama_print_timings:       total time =    2439.17 ms /   191 tokens\n",
      "Llama.generate: prefix-match hit\n"
     ]
    },
    {
     "name": "stdout",
     "output_type": "stream",
     "text": [
      " SELECT a.\"AirportName\" FROM airports a WHERE a.\"AirportCode\" = 'AKO';\n",
      "index is 200\n"
     ]
    },
    {
     "name": "stderr",
     "output_type": "stream",
     "text": [
      "\n",
      "llama_print_timings:        load time =     577.18 ms\n",
      "llama_print_timings:      sample time =      11.95 ms /    26 runs   (    0.46 ms per token,  2176.46 tokens per second)\n",
      "llama_print_timings: prompt eval time =    1143.09 ms /   168 tokens (    6.80 ms per token,   146.97 tokens per second)\n",
      "llama_print_timings:        eval time =    1155.56 ms /    26 runs   (   44.44 ms per token,    22.50 tokens per second)\n",
      "llama_print_timings:       total time =    2439.64 ms /   194 tokens\n",
      "Llama.generate: prefix-match hit\n"
     ]
    },
    {
     "name": "stdout",
     "output_type": "stream",
     "text": [
      " SELECT \"AirportName\" FROM airports WHERE \"AirportCode\" = 'AKO';\n",
      "index is 201\n"
     ]
    },
    {
     "name": "stderr",
     "output_type": "stream",
     "text": [
      "\n",
      "llama_print_timings:        load time =     577.18 ms\n",
      "llama_print_timings:      sample time =      10.86 ms /    23 runs   (    0.47 ms per token,  2118.45 tokens per second)\n",
      "llama_print_timings: prompt eval time =    1140.88 ms /   167 tokens (    6.83 ms per token,   146.38 tokens per second)\n",
      "llama_print_timings:        eval time =     977.50 ms /    22 runs   (   44.43 ms per token,    22.51 tokens per second)\n",
      "llama_print_timings:       total time =    2246.66 ms /   189 tokens\n",
      "Llama.generate: prefix-match hit\n"
     ]
    },
    {
     "name": "stdout",
     "output_type": "stream",
     "text": [
      " SELECT a.AirportName FROM airports a WHERE a.City ilike '%Aberdeen%' ORDER BY a.AirportName NULLS LAST;\n",
      "index is 202\n"
     ]
    },
    {
     "name": "stderr",
     "output_type": "stream",
     "text": [
      "\n",
      "llama_print_timings:        load time =     577.18 ms\n",
      "llama_print_timings:      sample time =      17.85 ms /    37 runs   (    0.48 ms per token,  2072.60 tokens per second)\n",
      "llama_print_timings: prompt eval time =    1142.95 ms /   168 tokens (    6.80 ms per token,   146.99 tokens per second)\n",
      "llama_print_timings:        eval time =    1645.96 ms /    37 runs   (   44.49 ms per token,    22.48 tokens per second)\n",
      "llama_print_timings:       total time =    2978.69 ms /   205 tokens\n",
      "Llama.generate: prefix-match hit\n"
     ]
    },
    {
     "name": "stdout",
     "output_type": "stream",
     "text": [
      " SELECT a.\"AirportName\" FROM airports a WHERE a.\"City\" ILIKE '%Aberdeen%'\n",
      "index is 203\n"
     ]
    },
    {
     "name": "stderr",
     "output_type": "stream",
     "text": [
      "\n",
      "llama_print_timings:        load time =     577.18 ms\n",
      "llama_print_timings:      sample time =      12.67 ms /    27 runs   (    0.47 ms per token,  2131.52 tokens per second)\n",
      "llama_print_timings: prompt eval time =    1138.80 ms /   163 tokens (    6.99 ms per token,   143.13 tokens per second)\n",
      "llama_print_timings:        eval time =    1155.50 ms /    26 runs   (   44.44 ms per token,    22.50 tokens per second)\n",
      "llama_print_timings:       total time =    2440.58 ms /   189 tokens\n",
      "Llama.generate: prefix-match hit\n"
     ]
    },
    {
     "name": "stdout",
     "output_type": "stream",
     "text": [
      " SELECT COUNT(f.FlightNo) AS number_of_flights FROM flights f WHERE f.SourceAirport = 'APG';\n",
      "index is 204\n"
     ]
    },
    {
     "name": "stderr",
     "output_type": "stream",
     "text": [
      "\n",
      "llama_print_timings:        load time =     577.18 ms\n",
      "llama_print_timings:      sample time =      15.67 ms /    33 runs   (    0.47 ms per token,  2105.93 tokens per second)\n",
      "llama_print_timings: prompt eval time =    1472.37 ms /   213 tokens (    6.91 ms per token,   144.66 tokens per second)\n",
      "llama_print_timings:        eval time =    1439.40 ms /    32 runs   (   44.98 ms per token,    22.23 tokens per second)\n",
      "llama_print_timings:       total time =    3091.06 ms /   245 tokens\n",
      "Llama.generate: prefix-match hit\n"
     ]
    },
    {
     "name": "stdout",
     "output_type": "stream",
     "text": [
      " SELECT COUNT(*) FROM flights f WHERE f.SourceAirport = 'APG';\n",
      "index is 205\n"
     ]
    },
    {
     "name": "stderr",
     "output_type": "stream",
     "text": [
      "\n",
      "llama_print_timings:        load time =     577.18 ms\n",
      "llama_print_timings:      sample time =       9.39 ms /    20 runs   (    0.47 ms per token,  2128.79 tokens per second)\n",
      "llama_print_timings: prompt eval time =    1475.50 ms /   216 tokens (    6.83 ms per token,   146.39 tokens per second)\n",
      "llama_print_timings:        eval time =     897.50 ms /    20 runs   (   44.87 ms per token,    22.28 tokens per second)\n",
      "llama_print_timings:       total time =    2504.61 ms /   236 tokens\n",
      "Llama.generate: prefix-match hit\n"
     ]
    },
    {
     "name": "stdout",
     "output_type": "stream",
     "text": [
      " SELECT COUNT(*) FROM flights f WHERE f.DestAirport = 'ATO';\n",
      "index is 206\n"
     ]
    },
    {
     "name": "stderr",
     "output_type": "stream",
     "text": [
      "\n",
      "llama_print_timings:        load time =     577.18 ms\n",
      "llama_print_timings:      sample time =       9.27 ms /    20 runs   (    0.46 ms per token,  2157.50 tokens per second)\n",
      "llama_print_timings: prompt eval time =    1420.25 ms /   208 tokens (    6.83 ms per token,   146.45 tokens per second)\n",
      "llama_print_timings:        eval time =     898.14 ms /    20 runs   (   44.91 ms per token,    22.27 tokens per second)\n",
      "llama_print_timings:       total time =    2447.85 ms /   228 tokens\n",
      "Llama.generate: prefix-match hit\n"
     ]
    },
    {
     "name": "stdout",
     "output_type": "stream",
     "text": [
      " SELECT COUNT(*) FROM flights f WHERE f.DestAirport = 'ATO';\n",
      "index is 207\n"
     ]
    },
    {
     "name": "stderr",
     "output_type": "stream",
     "text": [
      "\n",
      "llama_print_timings:        load time =     577.18 ms\n",
      "llama_print_timings:      sample time =       9.26 ms /    20 runs   (    0.46 ms per token,  2158.89 tokens per second)\n",
      "llama_print_timings: prompt eval time =    1421.26 ms /   208 tokens (    6.83 ms per token,   146.35 tokens per second)\n",
      "llama_print_timings:        eval time =     890.51 ms /    20 runs   (   44.53 ms per token,    22.46 tokens per second)\n",
      "llama_print_timings:       total time =    2446.34 ms /   228 tokens\n",
      "Llama.generate: prefix-match hit\n"
     ]
    },
    {
     "name": "stdout",
     "output_type": "stream",
     "text": [
      " SELECT COUNT(f.FlightNo) AS number_of_flights FROM airports a JOIN flights f ON a.AirportCode = f.SourceAirport WHERE a.City ilike '%Aberdeen%';\n",
      "index is 208\n"
     ]
    },
    {
     "name": "stderr",
     "output_type": "stream",
     "text": [
      "\n",
      "llama_print_timings:        load time =     577.18 ms\n",
      "llama_print_timings:      sample time =      24.54 ms /    52 runs   (    0.47 ms per token,  2118.73 tokens per second)\n",
      "llama_print_timings: prompt eval time =    1974.61 ms /   288 tokens (    6.86 ms per token,   145.85 tokens per second)\n",
      "llama_print_timings:        eval time =    2306.26 ms /    51 runs   (   45.22 ms per token,    22.11 tokens per second)\n",
      "llama_print_timings:       total time =    4555.48 ms /   339 tokens\n",
      "Llama.generate: prefix-match hit\n"
     ]
    },
    {
     "name": "stdout",
     "output_type": "stream",
     "text": [
      " SELECT COUNT(f.FlightNo) AS total_flights FROM flights f JOIN airports a ON (f.SourceAirport = a.AirportCode OR f.DestAirport = a.AirportCode) WHERE a.AirportName = 'Aberdeen';\n",
      "index is 209\n"
     ]
    },
    {
     "name": "stderr",
     "output_type": "stream",
     "text": [
      "\n",
      "llama_print_timings:        load time =     577.18 ms\n",
      "llama_print_timings:      sample time =      31.75 ms /    67 runs   (    0.47 ms per token,  2110.44 tokens per second)\n",
      "llama_print_timings: prompt eval time =    1470.54 ms /   215 tokens (    6.84 ms per token,   146.20 tokens per second)\n",
      "llama_print_timings:        eval time =    2974.57 ms /    66 runs   (   45.07 ms per token,    22.19 tokens per second)\n",
      "llama_print_timings:       total time =    4755.59 ms /   281 tokens\n",
      "Llama.generate: prefix-match hit\n"
     ]
    },
    {
     "name": "stdout",
     "output_type": "stream",
     "text": [
      " SELECT COUNT(f.FlightNo) AS number_of_flights FROM flights f JOIN airports a ON f.DestAirport = a.AirportCode WHERE a.City ilike '%Aberdeen%';\n",
      "index is 210\n"
     ]
    },
    {
     "name": "stderr",
     "output_type": "stream",
     "text": [
      "\n",
      "llama_print_timings:        load time =     577.18 ms\n",
      "llama_print_timings:      sample time =      24.37 ms /    52 runs   (    0.47 ms per token,  2133.42 tokens per second)\n",
      "llama_print_timings: prompt eval time =    2020.42 ms /   290 tokens (    6.97 ms per token,   143.53 tokens per second)\n",
      "llama_print_timings:        eval time =    2290.34 ms /    51 runs   (   44.91 ms per token,    22.27 tokens per second)\n",
      "llama_print_timings:       total time =    4590.34 ms /   341 tokens\n",
      "Llama.generate: prefix-match hit\n"
     ]
    },
    {
     "name": "stdout",
     "output_type": "stream",
     "text": [
      " SELECT COUNT(*) FROM flights f JOIN airports a ON f.DestAirport = a.AirportCode WHERE a.AirportName = 'Aberdeen';\n",
      "index is 211\n"
     ]
    },
    {
     "name": "stderr",
     "output_type": "stream",
     "text": [
      "\n",
      "llama_print_timings:        load time =     577.18 ms\n",
      "llama_print_timings:      sample time =      18.95 ms /    40 runs   (    0.47 ms per token,  2110.48 tokens per second)\n",
      "llama_print_timings: prompt eval time =    1474.50 ms /   215 tokens (    6.86 ms per token,   145.81 tokens per second)\n",
      "llama_print_timings:        eval time =    1741.81 ms /    39 runs   (   44.66 ms per token,    22.39 tokens per second)\n",
      "llama_print_timings:       total time =    3424.12 ms /   254 tokens\n",
      "Llama.generate: prefix-match hit\n"
     ]
    },
    {
     "name": "stdout",
     "output_type": "stream",
     "text": [
      " SELECT COUNT(*) FROM airports a WHERE a.city ilike '%Aberdeen%' AND a.city ilike '%Ashley%';\n",
      "index is 212\n"
     ]
    },
    {
     "name": "stderr",
     "output_type": "stream",
     "text": [
      "\n",
      "llama_print_timings:        load time =     577.18 ms\n",
      "llama_print_timings:      sample time =      15.11 ms /    32 runs   (    0.47 ms per token,  2117.80 tokens per second)\n",
      "llama_print_timings: prompt eval time =    1301.12 ms /   187 tokens (    6.96 ms per token,   143.72 tokens per second)\n",
      "llama_print_timings:        eval time =    1379.33 ms /    31 runs   (   44.49 ms per token,    22.47 tokens per second)\n",
      "llama_print_timings:       total time =    2850.68 ms /   218 tokens\n",
      "Llama.generate: prefix-match hit\n"
     ]
    },
    {
     "name": "stdout",
     "output_type": "stream",
     "text": [
      " SELECT COUNT(*) FROM flights f WHERE f.SourceAirport = 'ABD' AND f.DestAirport = 'ASH';\n",
      "index is 213\n"
     ]
    },
    {
     "name": "stderr",
     "output_type": "stream",
     "text": [
      "\n",
      "llama_print_timings:        load time =     577.18 ms\n",
      "llama_print_timings:      sample time =      14.51 ms /    31 runs   (    0.47 ms per token,  2136.02 tokens per second)\n",
      "llama_print_timings: prompt eval time =    1474.79 ms /   213 tokens (    6.92 ms per token,   144.43 tokens per second)\n",
      "llama_print_timings:        eval time =    1357.82 ms /    30 runs   (   45.26 ms per token,    22.09 tokens per second)\n",
      "llama_print_timings:       total time =    3011.56 ms /   243 tokens\n",
      "Llama.generate: prefix-match hit\n"
     ]
    },
    {
     "name": "stdout",
     "output_type": "stream",
     "text": [
      " SELECT COUNT(f.FlightNo) AS number_of_flights FROM flights f WHERE f.Airline = (SELECT id FROM airlines WHERE name = 'JetBlue Airways');\n",
      "index is 214\n"
     ]
    },
    {
     "name": "stderr",
     "output_type": "stream",
     "text": [
      "\n",
      "llama_print_timings:        load time =     577.18 ms\n",
      "llama_print_timings:      sample time =      21.33 ms /    44 runs   (    0.48 ms per token,  2062.63 tokens per second)\n",
      "llama_print_timings: prompt eval time =    1524.17 ms /   219 tokens (    6.96 ms per token,   143.69 tokens per second)\n",
      "llama_print_timings:        eval time =    1922.45 ms /    43 runs   (   44.71 ms per token,    22.37 tokens per second)\n",
      "llama_print_timings:       total time =    3670.90 ms /   262 tokens\n",
      "Llama.generate: prefix-match hit\n"
     ]
    },
    {
     "name": "stdout",
     "output_type": "stream",
     "text": [
      " SELECT COUNT(*) FROM flights f WHERE f.Airline = 1;\n",
      "index is 215\n"
     ]
    },
    {
     "name": "stderr",
     "output_type": "stream",
     "text": [
      "\n",
      "llama_print_timings:        load time =     577.18 ms\n",
      "llama_print_timings:      sample time =       8.56 ms /    18 runs   (    0.48 ms per token,  2101.82 tokens per second)\n",
      "llama_print_timings: prompt eval time =    1468.75 ms /   213 tokens (    6.90 ms per token,   145.02 tokens per second)\n",
      "llama_print_timings:        eval time =     757.66 ms /    17 runs   (   44.57 ms per token,    22.44 tokens per second)\n",
      "llama_print_timings:       total time =    2352.89 ms /   230 tokens\n",
      "Llama.generate: prefix-match hit\n"
     ]
    },
    {
     "name": "stdout",
     "output_type": "stream",
     "text": [
      " SELECT COUNT(*) FROM flights f WHERE f.airline = 1 AND f.destairport = 'ASY';\n",
      "index is 216\n"
     ]
    },
    {
     "name": "stderr",
     "output_type": "stream",
     "text": [
      "\n",
      "llama_print_timings:        load time =     577.18 ms\n",
      "llama_print_timings:      sample time =      12.71 ms /    27 runs   (    0.47 ms per token,  2123.48 tokens per second)\n",
      "llama_print_timings: prompt eval time =    1533.25 ms /   224 tokens (    6.84 ms per token,   146.09 tokens per second)\n",
      "llama_print_timings:        eval time =    1206.49 ms /    27 runs   (   44.68 ms per token,    22.38 tokens per second)\n",
      "llama_print_timings:       total time =    2903.99 ms /   251 tokens\n",
      "Llama.generate: prefix-match hit\n"
     ]
    },
    {
     "name": "stdout",
     "output_type": "stream",
     "text": [
      " SELECT COUNT(*) FROM flights f WHERE f.Airline = 1 AND f.DestAirport = 'ASY';\n",
      "index is 217\n"
     ]
    },
    {
     "name": "stderr",
     "output_type": "stream",
     "text": [
      "\n",
      "llama_print_timings:        load time =     577.18 ms\n",
      "llama_print_timings:      sample time =      13.85 ms /    29 runs   (    0.48 ms per token,  2093.56 tokens per second)\n",
      "llama_print_timings: prompt eval time =    1522.04 ms /   219 tokens (    6.95 ms per token,   143.89 tokens per second)\n",
      "llama_print_timings:        eval time =    1249.06 ms /    28 runs   (   44.61 ms per token,    22.42 tokens per second)\n",
      "llama_print_timings:       total time =    2940.87 ms /   247 tokens\n",
      "Llama.generate: prefix-match hit\n"
     ]
    },
    {
     "name": "stdout",
     "output_type": "stream",
     "text": [
      " SELECT COUNT(*) FROM flights f JOIN airlines a ON f.airline = a.uid WHERE a.\"Airline\" = 'United Airlines' AND f.sourceairport = 'AHD';\n",
      "index is 218\n"
     ]
    },
    {
     "name": "stderr",
     "output_type": "stream",
     "text": [
      "\n",
      "llama_print_timings:        load time =     577.18 ms\n",
      "llama_print_timings:      sample time =      21.55 ms /    45 runs   (    0.48 ms per token,  2087.68 tokens per second)\n",
      "llama_print_timings: prompt eval time =    1963.09 ms /   282 tokens (    6.96 ms per token,   143.65 tokens per second)\n",
      "llama_print_timings:        eval time =    1973.89 ms /    44 runs   (   44.86 ms per token,    22.29 tokens per second)\n",
      "llama_print_timings:       total time =    4182.50 ms /   326 tokens\n",
      "Llama.generate: prefix-match hit\n"
     ]
    },
    {
     "name": "stdout",
     "output_type": "stream",
     "text": [
      " SELECT COUNT(*) FROM flights f WHERE f.Airline = 1 AND f.SourceAirport = 'AHD';\n",
      "index is 219\n"
     ]
    },
    {
     "name": "stderr",
     "output_type": "stream",
     "text": [
      "\n",
      "llama_print_timings:        load time =     577.18 ms\n",
      "llama_print_timings:      sample time =      13.78 ms /    29 runs   (    0.48 ms per token,  2104.35 tokens per second)\n",
      "llama_print_timings: prompt eval time =    1474.08 ms /   216 tokens (    6.82 ms per token,   146.53 tokens per second)\n",
      "llama_print_timings:        eval time =    1293.42 ms /    29 runs   (   44.60 ms per token,    22.42 tokens per second)\n",
      "llama_print_timings:       total time =    2933.47 ms /   245 tokens\n",
      "Llama.generate: prefix-match hit\n"
     ]
    },
    {
     "name": "stdout",
     "output_type": "stream",
     "text": [
      " SELECT COUNT(*) FROM flights f JOIN airports a ON f.DestAirport = a.AirportCode JOIN airlines al ON f.Airline = al.uid WHERE al.\"Airline\" = 'United Airlines' AND a.\"City\" = 'Aberdeen';\n",
      "index is 220\n"
     ]
    },
    {
     "name": "stderr",
     "output_type": "stream",
     "text": [
      "\n",
      "llama_print_timings:        load time =     577.18 ms\n",
      "llama_print_timings:      sample time =      31.13 ms /    65 runs   (    0.48 ms per token,  2088.22 tokens per second)\n",
      "llama_print_timings: prompt eval time =    2471.74 ms /   355 tokens (    6.96 ms per token,   143.62 tokens per second)\n",
      "llama_print_timings:        eval time =    2884.43 ms /    64 runs   (   45.07 ms per token,    22.19 tokens per second)\n",
      "llama_print_timings:       total time =    5698.00 ms /   419 tokens\n",
      "Llama.generate: prefix-match hit\n"
     ]
    },
    {
     "name": "stdout",
     "output_type": "stream",
     "text": [
      " SELECT COUNT(*) FROM flights f JOIN airports a ON f.DestAirport = a.AirportCode WHERE f.Airline = 1 AND a.City ILIKE '%Aberdeen%'\n",
      "index is 221\n"
     ]
    },
    {
     "name": "stderr",
     "output_type": "stream",
     "text": [
      "\n",
      "llama_print_timings:        load time =     577.18 ms\n",
      "llama_print_timings:      sample time =      22.62 ms /    48 runs   (    0.47 ms per token,  2121.55 tokens per second)\n",
      "llama_print_timings: prompt eval time =    2029.04 ms /   294 tokens (    6.90 ms per token,   144.90 tokens per second)\n",
      "llama_print_timings:        eval time =    2113.66 ms /    47 runs   (   44.97 ms per token,    22.24 tokens per second)\n",
      "llama_print_timings:       total time =    4408.68 ms /   341 tokens\n",
      "Llama.generate: prefix-match hit\n"
     ]
    },
    {
     "name": "stdout",
     "output_type": "stream",
     "text": [
      " SELECT airports.city, COUNT(flights.sourceairport) AS flight_count FROM airports JOIN flights ON airports.airportcode = flights.sourceairport GROUP BY airports.city ORDER BY flight_count DESC LIMIT 1;\n",
      "index is 222\n"
     ]
    },
    {
     "name": "stderr",
     "output_type": "stream",
     "text": [
      "\n",
      "llama_print_timings:        load time =     577.18 ms\n",
      "llama_print_timings:      sample time =      26.37 ms /    56 runs   (    0.47 ms per token,  2123.87 tokens per second)\n",
      "llama_print_timings: prompt eval time =    2019.33 ms /   290 tokens (    6.96 ms per token,   143.61 tokens per second)\n",
      "llama_print_timings:        eval time =    2471.15 ms /    55 runs   (   44.93 ms per token,    22.26 tokens per second)\n",
      "llama_print_timings:       total time =    4782.45 ms /   345 tokens\n",
      "Llama.generate: prefix-match hit\n"
     ]
    },
    {
     "name": "stdout",
     "output_type": "stream",
     "text": [
      " SELECT ai.city, ai.airportcode, COUNT(f.sourceairport) AS flight_count FROM airports ai JOIN flights f ON ai.airportcode = f.sourceairport GROUP BY ai.city, ai.airportcode ORDER BY flight_count DESC LIMIT 1;\n",
      "index is 223\n"
     ]
    },
    {
     "name": "stderr",
     "output_type": "stream",
     "text": [
      "\n",
      "llama_print_timings:        load time =     577.18 ms\n",
      "llama_print_timings:      sample time =      30.83 ms /    65 runs   (    0.47 ms per token,  2108.54 tokens per second)\n",
      "llama_print_timings: prompt eval time =    1970.32 ms /   284 tokens (    6.94 ms per token,   144.14 tokens per second)\n",
      "llama_print_timings:        eval time =    2872.74 ms /    64 runs   (   44.89 ms per token,    22.28 tokens per second)\n",
      "llama_print_timings:       total time =    5163.26 ms /   348 tokens\n",
      "Llama.generate: prefix-match hit\n"
     ]
    },
    {
     "name": "stdout",
     "output_type": "stream",
     "text": [
      " SELECT airports.city, COUNT(*) AS flight_count FROM airports JOIN flights ON airports.airportcode = flights.sourceairport GROUP BY airports.city ORDER BY flight_count DESC LIMIT 1;\n",
      "index is 224\n"
     ]
    },
    {
     "name": "stderr",
     "output_type": "stream",
     "text": [
      "\n",
      "llama_print_timings:        load time =     577.18 ms\n",
      "llama_print_timings:      sample time =      23.15 ms /    49 runs   (    0.47 ms per token,  2116.45 tokens per second)\n",
      "llama_print_timings: prompt eval time =    1971.44 ms /   286 tokens (    6.89 ms per token,   145.07 tokens per second)\n",
      "llama_print_timings:        eval time =    2153.97 ms /    48 runs   (   44.87 ms per token,    22.28 tokens per second)\n",
      "llama_print_timings:       total time =    4386.09 ms /   334 tokens\n",
      "Llama.generate: prefix-match hit\n"
     ]
    },
    {
     "name": "stdout",
     "output_type": "stream",
     "text": [
      " SELECT a.City, COUNT(f.SourceAirport) AS Frequency FROM airports a JOIN flights f ON a.AirportCode = f.SourceAirport GROUP BY a.City ORDER BY Frequency DESC LIMIT 1;\n",
      "index is 225\n"
     ]
    },
    {
     "name": "stderr",
     "output_type": "stream",
     "text": [
      "\n",
      "llama_print_timings:        load time =     577.18 ms\n",
      "llama_print_timings:      sample time =      25.48 ms /    54 runs   (    0.47 ms per token,  2119.56 tokens per second)\n",
      "llama_print_timings: prompt eval time =    1971.36 ms /   285 tokens (    6.92 ms per token,   144.57 tokens per second)\n",
      "llama_print_timings:        eval time =    2380.11 ms /    53 runs   (   44.91 ms per token,    22.27 tokens per second)\n",
      "llama_print_timings:       total time =    4636.52 ms /   338 tokens\n",
      "Llama.generate: prefix-match hit\n"
     ]
    },
    {
     "name": "stdout",
     "output_type": "stream",
     "text": [
      " SELECT a.\"AirportCode\" FROM airports a JOIN (SELECT f.\"SourceAirport\" FROM flights f GROUP BY f.\"SourceAirport\" ORDER BY COUNT(f.\"SourceAirport\") DESC LIMIT 1) AS subquery ON a.\"AirportCode\" = subquery.\"SourceAirport\";\n",
      "index is 226\n"
     ]
    },
    {
     "name": "stderr",
     "output_type": "stream",
     "text": [
      "\n",
      "llama_print_timings:        load time =     577.18 ms\n",
      "llama_print_timings:      sample time =      34.12 ms /    72 runs   (    0.47 ms per token,  2110.08 tokens per second)\n",
      "llama_print_timings: prompt eval time =    2074.80 ms /   298 tokens (    6.96 ms per token,   143.63 tokens per second)\n",
      "llama_print_timings:        eval time =    3192.70 ms /    71 runs   (   44.97 ms per token,    22.24 tokens per second)\n",
      "llama_print_timings:       total time =    5620.78 ms /   369 tokens\n",
      "Llama.generate: prefix-match hit\n"
     ]
    },
    {
     "name": "stdout",
     "output_type": "stream",
     "text": [
      " SELECT a.\"AirportCode\" FROM airports a JOIN (SELECT f.\"SourceAirport\" FROM flights f GROUP BY f.\"SourceAirport\" ORDER BY COUNT(f.\"SourceAirport\") DESC LIMIT 1) AS mf ON a.\"AirportCode\" = mf.\"SourceAirport\";\n",
      "index is 227\n"
     ]
    },
    {
     "name": "stderr",
     "output_type": "stream",
     "text": [
      "\n",
      "llama_print_timings:        load time =     577.18 ms\n",
      "llama_print_timings:      sample time =      33.49 ms /    72 runs   (    0.47 ms per token,  2149.57 tokens per second)\n",
      "llama_print_timings: prompt eval time =    2029.37 ms /   295 tokens (    6.88 ms per token,   145.37 tokens per second)\n",
      "llama_print_timings:        eval time =    3214.67 ms /    71 runs   (   45.28 ms per token,    22.09 tokens per second)\n",
      "llama_print_timings:       total time =    5601.89 ms /   366 tokens\n",
      "Llama.generate: prefix-match hit\n"
     ]
    },
    {
     "name": "stdout",
     "output_type": "stream",
     "text": [
      " SELECT a.\"AirportCode\" FROM airports a JOIN (SELECT f.\"SourceAirport\" FROM flights f GROUP BY f.\"SourceAirport\" ORDER BY COUNT(f.\"SourceAirport\") ASC LIMIT 1) AS subquery ON a.\"AirportCode\" = subquery.\"SourceAirport\";\n",
      "index is 228\n"
     ]
    },
    {
     "name": "stderr",
     "output_type": "stream",
     "text": [
      "\n",
      "llama_print_timings:        load time =     577.18 ms\n",
      "llama_print_timings:      sample time =      34.40 ms /    72 runs   (    0.48 ms per token,  2093.08 tokens per second)\n",
      "llama_print_timings: prompt eval time =    2027.17 ms /   295 tokens (    6.87 ms per token,   145.52 tokens per second)\n",
      "llama_print_timings:        eval time =    3214.99 ms /    71 runs   (   45.28 ms per token,    22.08 tokens per second)\n",
      "llama_print_timings:       total time =    5596.12 ms /   366 tokens\n",
      "Llama.generate: prefix-match hit\n"
     ]
    },
    {
     "name": "stdout",
     "output_type": "stream",
     "text": [
      " SELECT a.\"AirportCode\" FROM airports a JOIN (SELECT \"SourceAirport\" FROM flights GROUP BY \"SourceAirport\" ORDER BY COUNT(*) ASC LIMIT 1) AS m ON a.\"AirportCode\" = m.\"SourceAirport\";\n",
      "index is 229\n"
     ]
    },
    {
     "name": "stderr",
     "output_type": "stream",
     "text": [
      "\n",
      "llama_print_timings:        load time =     577.18 ms\n",
      "llama_print_timings:      sample time =      27.93 ms /    60 runs   (    0.47 ms per token,  2148.61 tokens per second)\n",
      "llama_print_timings: prompt eval time =    2025.28 ms /   292 tokens (    6.94 ms per token,   144.18 tokens per second)\n",
      "llama_print_timings:        eval time =    2670.14 ms /    59 runs   (   45.26 ms per token,    22.10 tokens per second)\n",
      "llama_print_timings:       total time =    5000.89 ms /   351 tokens\n",
      "Llama.generate: prefix-match hit\n"
     ]
    },
    {
     "name": "stdout",
     "output_type": "stream",
     "text": [
      " SELECT a.\"Airline\", COUNT(f.\"FlightNo\") AS flight_count FROM airlines a JOIN flights f ON a.uid = f.\"Airline\" GROUP BY a.\"Airline\" ORDER BY flight_count DESC LIMIT 1;\n",
      "index is 230\n"
     ]
    },
    {
     "name": "stderr",
     "output_type": "stream",
     "text": [
      "\n",
      "llama_print_timings:        load time =     577.18 ms\n",
      "llama_print_timings:      sample time =      27.15 ms /    57 runs   (    0.48 ms per token,  2099.52 tokens per second)\n",
      "llama_print_timings: prompt eval time =    1857.60 ms /   270 tokens (    6.88 ms per token,   145.35 tokens per second)\n",
      "llama_print_timings:        eval time =    2510.01 ms /    56 runs   (   44.82 ms per token,    22.31 tokens per second)\n",
      "llama_print_timings:       total time =    4659.34 ms /   326 tokens\n",
      "Llama.generate: prefix-match hit\n"
     ]
    },
    {
     "name": "stdout",
     "output_type": "stream",
     "text": [
      " SELECT f.airline, COUNT(f.flightno) AS flight_count FROM flights f GROUP BY f.airline ORDER BY flight_count DESC LIMIT 1;\n",
      "index is 231\n"
     ]
    },
    {
     "name": "stderr",
     "output_type": "stream",
     "text": [
      "\n",
      "llama_print_timings:        load time =     577.18 ms\n",
      "llama_print_timings:      sample time =      18.22 ms /    39 runs   (    0.47 ms per token,  2140.39 tokens per second)\n",
      "llama_print_timings: prompt eval time =    1416.80 ms /   208 tokens (    6.81 ms per token,   146.81 tokens per second)\n",
      "llama_print_timings:        eval time =    1752.11 ms /    39 runs   (   44.93 ms per token,    22.26 tokens per second)\n",
      "llama_print_timings:       total time =    3374.05 ms /   247 tokens\n",
      "Llama.generate: prefix-match hit\n"
     ]
    },
    {
     "name": "stdout",
     "output_type": "stream",
     "text": [
      " SELECT a.\"Abbreviation\", a.\"Country\" FROM airlines a JOIN (SELECT \"Airline\" FROM flights GROUP BY \"Airline\" ORDER BY COUNT(flights.\"FlightNo\") ASC LIMIT 1) AS f ON a.uid = f.\"Airline\";\n",
      "index is 232\n"
     ]
    },
    {
     "name": "stderr",
     "output_type": "stream",
     "text": [
      "\n",
      "llama_print_timings:        load time =     577.18 ms\n",
      "llama_print_timings:      sample time =      30.18 ms /    63 runs   (    0.48 ms per token,  2087.27 tokens per second)\n",
      "llama_print_timings: prompt eval time =    1972.00 ms /   286 tokens (    6.90 ms per token,   145.03 tokens per second)\n",
      "llama_print_timings:        eval time =    2804.96 ms /    62 runs   (   45.24 ms per token,    22.10 tokens per second)\n",
      "llama_print_timings:       total time =    5092.35 ms /   348 tokens\n",
      "Llama.generate: prefix-match hit\n"
     ]
    },
    {
     "name": "stdout",
     "output_type": "stream",
     "text": [
      " SELECT a.\"Abbreviation\", a.\"Country\" FROM airlines a JOIN (SELECT \"Airline\" FROM flights GROUP BY \"Airline\" ORDER BY COUNT(flights.\"FlightNo\") ASC LIMIT 1) AS f ON a.uid = f.\"Airline\";\n",
      "index is 233\n"
     ]
    },
    {
     "name": "stderr",
     "output_type": "stream",
     "text": [
      "\n",
      "llama_print_timings:        load time =     577.18 ms\n",
      "llama_print_timings:      sample time =      29.85 ms /    63 runs   (    0.47 ms per token,  2110.69 tokens per second)\n",
      "llama_print_timings: prompt eval time =    2027.79 ms /   294 tokens (    6.90 ms per token,   144.99 tokens per second)\n",
      "llama_print_timings:        eval time =    2784.19 ms /    62 runs   (   44.91 ms per token,    22.27 tokens per second)\n",
      "llama_print_timings:       total time =    5128.55 ms /   356 tokens\n",
      "Llama.generate: prefix-match hit\n"
     ]
    },
    {
     "name": "stdout",
     "output_type": "stream",
     "text": [
      " SELECT DISTINCT a.\"Airline\" FROM flights f JOIN airlines a ON f.\"Airline\" = a.uid WHERE f.\"SourceAirport\" = 'AHD';\n",
      "index is 234\n"
     ]
    },
    {
     "name": "stderr",
     "output_type": "stream",
     "text": [
      "\n",
      "llama_print_timings:        load time =     577.18 ms\n",
      "llama_print_timings:      sample time =      20.69 ms /    43 runs   (    0.48 ms per token,  2078.30 tokens per second)\n",
      "llama_print_timings: prompt eval time =    1968.21 ms /   283 tokens (    6.95 ms per token,   143.79 tokens per second)\n",
      "llama_print_timings:        eval time =    1884.29 ms /    42 runs   (   44.86 ms per token,    22.29 tokens per second)\n",
      "llama_print_timings:       total time =    4093.28 ms /   325 tokens\n",
      "Llama.generate: prefix-match hit\n"
     ]
    },
    {
     "name": "stdout",
     "output_type": "stream",
     "text": [
      " SELECT DISTINCT f.airline FROM flights f WHERE f.sourceairport = 'AHD';\n",
      "index is 235\n"
     ]
    },
    {
     "name": "stderr",
     "output_type": "stream",
     "text": [
      "\n",
      "llama_print_timings:        load time =     577.18 ms\n",
      "llama_print_timings:      sample time =      11.29 ms /    24 runs   (    0.47 ms per token,  2126.53 tokens per second)\n",
      "llama_print_timings: prompt eval time =    1914.06 ms /   276 tokens (    6.93 ms per token,   144.20 tokens per second)\n",
      "llama_print_timings:        eval time =    1030.56 ms /    23 runs   (   44.81 ms per token,    22.32 tokens per second)\n",
      "llama_print_timings:       total time =    3107.68 ms /   299 tokens\n",
      "Llama.generate: prefix-match hit\n"
     ]
    },
    {
     "name": "stdout",
     "output_type": "stream",
     "text": [
      " SELECT DISTINCT a.\"Airline\" FROM airlines a JOIN flights f ON a.uid = f.\"Airline\" WHERE f.DestAirport = 'AHD';\n",
      "index is 236\n"
     ]
    },
    {
     "name": "stderr",
     "output_type": "stream",
     "text": [
      "\n",
      "llama_print_timings:        load time =     577.18 ms\n",
      "llama_print_timings:      sample time =      20.15 ms /    42 runs   (    0.48 ms per token,  2084.37 tokens per second)\n",
      "llama_print_timings: prompt eval time =    1964.65 ms /   284 tokens (    6.92 ms per token,   144.55 tokens per second)\n",
      "llama_print_timings:        eval time =    1852.47 ms /    41 runs   (   45.18 ms per token,    22.13 tokens per second)\n",
      "llama_print_timings:       total time =    4055.81 ms /   325 tokens\n",
      "Llama.generate: prefix-match hit\n"
     ]
    },
    {
     "name": "stdout",
     "output_type": "stream",
     "text": [
      " SELECT DISTINCT f.airline FROM flights f WHERE f.destairport = 'AHD';\n",
      "index is 237\n"
     ]
    },
    {
     "name": "stderr",
     "output_type": "stream",
     "text": [
      "\n",
      "llama_print_timings:        load time =     577.18 ms\n",
      "llama_print_timings:      sample time =      11.29 ms /    24 runs   (    0.47 ms per token,  2125.96 tokens per second)\n",
      "llama_print_timings: prompt eval time =    1524.27 ms /   219 tokens (    6.96 ms per token,   143.68 tokens per second)\n",
      "llama_print_timings:        eval time =    1033.40 ms /    23 runs   (   44.93 ms per token,    22.26 tokens per second)\n",
      "llama_print_timings:       total time =    2705.35 ms /   242 tokens\n",
      "Llama.generate: prefix-match hit\n"
     ]
    },
    {
     "name": "stdout",
     "output_type": "stream",
     "text": [
      " SELECT DISTINCT f.airline FROM flights f WHERE f.sourceairport IN ('APG', 'CVO') AND f.destairport IN ('APG', 'CVO'));\n",
      "index is 238\n"
     ]
    },
    {
     "name": "stderr",
     "output_type": "stream",
     "text": [
      "\n",
      "llama_print_timings:        load time =     577.18 ms\n",
      "llama_print_timings:      sample time =      20.37 ms /    43 runs   (    0.47 ms per token,  2111.47 tokens per second)\n",
      "llama_print_timings: prompt eval time =    1582.20 ms /   232 tokens (    6.82 ms per token,   146.63 tokens per second)\n",
      "llama_print_timings:        eval time =    1939.34 ms /    43 runs   (   45.10 ms per token,    22.17 tokens per second)\n",
      "llama_print_timings:       total time =    3746.60 ms /   275 tokens\n",
      "Llama.generate: prefix-match hit\n"
     ]
    },
    {
     "name": "stdout",
     "output_type": "stream",
     "text": [
      " SELECT DISTINCT f.airline FROM flights f JOIN airports a ON (f.sourceairport = a.airportcode OR f.destairport = a.airportcode) WHERE a.airportcode IN ('APG', 'CVO')\n",
      "index is 239\n"
     ]
    },
    {
     "name": "stderr",
     "output_type": "stream",
     "text": [
      "\n",
      "llama_print_timings:        load time =     577.18 ms\n",
      "llama_print_timings:      sample time =      27.80 ms /    58 runs   (    0.48 ms per token,  2085.96 tokens per second)\n",
      "llama_print_timings: prompt eval time =    1585.19 ms /   229 tokens (    6.92 ms per token,   144.46 tokens per second)\n",
      "llama_print_timings:        eval time =    2571.28 ms /    57 runs   (   45.11 ms per token,    22.17 tokens per second)\n",
      "llama_print_timings:       total time =    4437.81 ms /   286 tokens\n",
      "Llama.generate: prefix-match hit\n"
     ]
    },
    {
     "name": "stdout",
     "output_type": "stream",
     "text": [
      " SELECT DISTINCT f.airline FROM flights f WHERE f.sourceairport = 'CVO' AND f.sourceairport != 'APG' ORDER BY f.airline NULLS LAST;\n",
      "index is 240\n"
     ]
    },
    {
     "name": "stderr",
     "output_type": "stream",
     "text": [
      "\n",
      "llama_print_timings:        load time =     577.18 ms\n",
      "llama_print_timings:      sample time =      21.70 ms /    46 runs   (    0.47 ms per token,  2119.82 tokens per second)\n",
      "llama_print_timings: prompt eval time =    1632.03 ms /   235 tokens (    6.94 ms per token,   143.99 tokens per second)\n",
      "llama_print_timings:        eval time =    2030.86 ms /    45 runs   (   45.13 ms per token,    22.16 tokens per second)\n",
      "llama_print_timings:       total time =    3901.35 ms /   280 tokens\n",
      "Llama.generate: prefix-match hit\n"
     ]
    },
    {
     "name": "stdout",
     "output_type": "stream",
     "text": [
      " SELECT DISTINCT f.airline FROM flights f JOIN airports a ON (f.sourceairport = a.airportcode OR f.destairport = a.airportcode) WHERE f.sourceairport = 'CVO' AND (a.airportcode NOT ILIKE '%APG%' OR a.airportcode IS NULL) ORDER BY f.airline NULLS LAST;\n",
      "index is 241\n"
     ]
    },
    {
     "name": "stderr",
     "output_type": "stream",
     "text": [
      "\n",
      "llama_print_timings:        load time =     577.18 ms\n",
      "llama_print_timings:      sample time =      42.31 ms /    89 runs   (    0.48 ms per token,  2103.27 tokens per second)\n",
      "llama_print_timings: prompt eval time =    1579.05 ms /   227 tokens (    6.96 ms per token,   143.76 tokens per second)\n",
      "llama_print_timings:        eval time =    3972.76 ms /    88 runs   (   45.14 ms per token,    22.15 tokens per second)\n",
      "llama_print_timings:       total time =    5952.59 ms /   315 tokens\n",
      "Llama.generate: prefix-match hit\n"
     ]
    },
    {
     "name": "stdout",
     "output_type": "stream",
     "text": [
      " SELECT a.\"Airline\", COUNT(f.\"FlightNo\") AS flight_count FROM airlines a JOIN flights f ON a.uid = f.\"Airline\" GROUP BY a.\"Airline\" HAVING COUNT(f.\"FlightNo\") >= 10 ORDER BY flight_count DESC NULLS LAST;\n",
      "index is 242\n"
     ]
    },
    {
     "name": "stderr",
     "output_type": "stream",
     "text": [
      "\n",
      "llama_print_timings:        load time =     577.18 ms\n",
      "llama_print_timings:      sample time =      34.46 ms /    73 runs   (    0.47 ms per token,  2118.64 tokens per second)\n",
      "llama_print_timings: prompt eval time =    1911.37 ms /   274 tokens (    6.98 ms per token,   143.35 tokens per second)\n",
      "llama_print_timings:        eval time =    3230.39 ms /    72 runs   (   44.87 ms per token,    22.29 tokens per second)\n",
      "llama_print_timings:       total time =    5493.62 ms /   346 tokens\n",
      "Llama.generate: prefix-match hit\n"
     ]
    },
    {
     "name": "stdout",
     "output_type": "stream",
     "text": [
      " SELECT a.\"Airline\", COUNT(f.\"FlightNo\") AS flight_count FROM airlines a JOIN flights f ON a.uid = f.\"Airline\" GROUP BY a.\"Airline\" HAVING COUNT(f.\"FlightNo\") >= 10 ORDER BY flight_count DESC NULLS LAST;\n",
      "index is 243\n"
     ]
    },
    {
     "name": "stderr",
     "output_type": "stream",
     "text": [
      "\n",
      "llama_print_timings:        load time =     577.18 ms\n",
      "llama_print_timings:      sample time =      34.45 ms /    73 runs   (    0.47 ms per token,  2118.95 tokens per second)\n",
      "llama_print_timings: prompt eval time =    1910.85 ms /   274 tokens (    6.97 ms per token,   143.39 tokens per second)\n",
      "llama_print_timings:        eval time =    3255.15 ms /    72 runs   (   45.21 ms per token,    22.12 tokens per second)\n",
      "llama_print_timings:       total time =    5519.51 ms /   346 tokens\n",
      "Llama.generate: prefix-match hit\n"
     ]
    },
    {
     "name": "stdout",
     "output_type": "stream",
     "text": [
      " SELECT a.\"Airline\", COUNT(f.\"FlightNo\") AS flight_count FROM airlines a JOIN flights f ON a.uid = f.\"Airline\" GROUP BY a.\"Airline\" HAVING COUNT(f.\"FlightNo\") < 200 ORDER BY flight_count NULLS LAST;\n",
      "index is 244\n"
     ]
    },
    {
     "name": "stderr",
     "output_type": "stream",
     "text": [
      "\n",
      "llama_print_timings:        load time =     577.18 ms\n",
      "llama_print_timings:      sample time =      34.40 ms /    73 runs   (    0.47 ms per token,  2122.09 tokens per second)\n",
      "llama_print_timings: prompt eval time =    1915.47 ms /   276 tokens (    6.94 ms per token,   144.09 tokens per second)\n",
      "llama_print_timings:        eval time =    3257.40 ms /    72 runs   (   45.24 ms per token,    22.10 tokens per second)\n",
      "llama_print_timings:       total time =    5523.45 ms /   348 tokens\n",
      "Llama.generate: prefix-match hit\n"
     ]
    },
    {
     "name": "stdout",
     "output_type": "stream",
     "text": [
      " SELECT a.\"Airline\", COUNT(f.\"FlightNo\") AS flight_count FROM airlines a JOIN flights f ON a.uid = f.\"Airline\" GROUP BY a.\"Airline\" HAVING COUNT(f.\"FlightNo\") < 200 ORDER BY flight_count NULLS LAST;\n",
      "index is 245\n"
     ]
    },
    {
     "name": "stderr",
     "output_type": "stream",
     "text": [
      "\n",
      "llama_print_timings:        load time =     577.18 ms\n",
      "llama_print_timings:      sample time =      34.40 ms /    73 runs   (    0.47 ms per token,  2122.28 tokens per second)\n",
      "llama_print_timings: prompt eval time =    1913.61 ms /   276 tokens (    6.93 ms per token,   144.23 tokens per second)\n",
      "llama_print_timings:        eval time =    3256.43 ms /    72 runs   (   45.23 ms per token,    22.11 tokens per second)\n",
      "llama_print_timings:       total time =    5521.58 ms /   348 tokens\n",
      "Llama.generate: prefix-match hit\n"
     ]
    },
    {
     "name": "stdout",
     "output_type": "stream",
     "text": [
      " SELECT f.flightno FROM flights f JOIN airlines a ON f.airline = a.uid WHERE a.\"airline\" ilike '%United%Airlines%' ORDER BY f.flightno NULLS LAST;\n",
      "index is 246\n"
     ]
    },
    {
     "name": "stderr",
     "output_type": "stream",
     "text": [
      "\n",
      "llama_print_timings:        load time =     577.18 ms\n",
      "llama_print_timings:      sample time =      24.50 ms /    52 runs   (    0.47 ms per token,  2122.36 tokens per second)\n",
      "llama_print_timings: prompt eval time =    1864.41 ms /   272 tokens (    6.85 ms per token,   145.89 tokens per second)\n",
      "llama_print_timings:        eval time =    2304.89 ms /    51 runs   (   45.19 ms per token,    22.13 tokens per second)\n",
      "llama_print_timings:       total time =    4438.77 ms /   323 tokens\n",
      "Llama.generate: prefix-match hit\n"
     ]
    },
    {
     "name": "stdout",
     "output_type": "stream",
     "text": [
      " SELECT f.flightno FROM flights f JOIN airlines a ON f.airline = a.uid WHERE a.\"airline\" = 'United Airlines';\n",
      "index is 247\n"
     ]
    },
    {
     "name": "stderr",
     "output_type": "stream",
     "text": [
      "\n",
      "llama_print_timings:        load time =     577.18 ms\n",
      "llama_print_timings:      sample time =      17.03 ms /    36 runs   (    0.47 ms per token,  2113.54 tokens per second)\n",
      "llama_print_timings: prompt eval time =    1858.62 ms /   270 tokens (    6.88 ms per token,   145.27 tokens per second)\n",
      "llama_print_timings:        eval time =    1568.94 ms /    35 runs   (   44.83 ms per token,    22.31 tokens per second)\n",
      "llama_print_timings:       total time =    3638.52 ms /   305 tokens\n",
      "Llama.generate: prefix-match hit\n"
     ]
    },
    {
     "name": "stdout",
     "output_type": "stream",
     "text": [
      " SELECT f.flightno FROM flights f WHERE f.sourceairport = 'APG';\n",
      "index is 248\n"
     ]
    },
    {
     "name": "stderr",
     "output_type": "stream",
     "text": [
      "\n",
      "llama_print_timings:        load time =     577.18 ms\n",
      "llama_print_timings:      sample time =      10.61 ms /    22 runs   (    0.48 ms per token,  2073.71 tokens per second)\n",
      "llama_print_timings: prompt eval time =    1526.74 ms /   221 tokens (    6.91 ms per token,   144.75 tokens per second)\n",
      "llama_print_timings:        eval time =     938.37 ms /    21 runs   (   44.68 ms per token,    22.38 tokens per second)\n",
      "llama_print_timings:       total time =    2606.30 ms /   242 tokens\n",
      "Llama.generate: prefix-match hit\n"
     ]
    },
    {
     "name": "stdout",
     "output_type": "stream",
     "text": [
      " SELECT f.flightno FROM flights f JOIN airports a ON f.sourceairport = a.airportcode WHERE a.airportcode = 'APG';\n",
      "index is 249\n"
     ]
    },
    {
     "name": "stderr",
     "output_type": "stream",
     "text": [
      "\n",
      "llama_print_timings:        load time =     577.18 ms\n",
      "llama_print_timings:      sample time =      17.77 ms /    38 runs   (    0.47 ms per token,  2138.56 tokens per second)\n",
      "llama_print_timings: prompt eval time =    1472.53 ms /   215 tokens (    6.85 ms per token,   146.01 tokens per second)\n",
      "llama_print_timings:        eval time =    1654.90 ms /    37 runs   (   44.73 ms per token,    22.36 tokens per second)\n",
      "llama_print_timings:       total time =    3330.59 ms /   252 tokens\n",
      "Llama.generate: prefix-match hit\n"
     ]
    },
    {
     "name": "stdout",
     "output_type": "stream",
     "text": [
      " SELECT f.flightno FROM flights f JOIN airports a ON f.destairport = a.airportcode WHERE a.airportcode = 'APG';\n",
      "index is 250\n"
     ]
    },
    {
     "name": "stderr",
     "output_type": "stream",
     "text": [
      "\n",
      "llama_print_timings:        load time =     577.18 ms\n",
      "llama_print_timings:      sample time =      18.25 ms /    38 runs   (    0.48 ms per token,  2081.96 tokens per second)\n",
      "llama_print_timings: prompt eval time =    1526.96 ms /   221 tokens (    6.91 ms per token,   144.73 tokens per second)\n",
      "llama_print_timings:        eval time =    1664.53 ms /    37 runs   (   44.99 ms per token,    22.23 tokens per second)\n",
      "llama_print_timings:       total time =    3394.44 ms /   258 tokens\n",
      "Llama.generate: prefix-match hit\n"
     ]
    },
    {
     "name": "stdout",
     "output_type": "stream",
     "text": [
      " SELECT f.flightno FROM flights f JOIN airports a ON f.destairport = a.airportcode WHERE a.airportcode = 'APG';\n",
      "index is 251\n"
     ]
    },
    {
     "name": "stderr",
     "output_type": "stream",
     "text": [
      "\n",
      "llama_print_timings:        load time =     577.18 ms\n",
      "llama_print_timings:      sample time =      17.84 ms /    38 runs   (    0.47 ms per token,  2130.40 tokens per second)\n",
      "llama_print_timings: prompt eval time =    1473.20 ms /   215 tokens (    6.85 ms per token,   145.94 tokens per second)\n",
      "llama_print_timings:        eval time =    1651.63 ms /    37 runs   (   44.64 ms per token,    22.40 tokens per second)\n",
      "llama_print_timings:       total time =    3327.95 ms /   252 tokens\n",
      "Llama.generate: prefix-match hit\n"
     ]
    },
    {
     "name": "stdout",
     "output_type": "stream",
     "text": [
      " SELECT f.flightno FROM flights f JOIN airports a ON f.sourceairport = a.airportcode WHERE a.city ilike '%Aberdeen%' ORDER BY f.flightno NULLS LAST;\n",
      "index is 252\n"
     ]
    },
    {
     "name": "stderr",
     "output_type": "stream",
     "text": [
      "\n",
      "llama_print_timings:        load time =     577.18 ms\n",
      "llama_print_timings:      sample time =      24.38 ms /    51 runs   (    0.48 ms per token,  2092.31 tokens per second)\n",
      "llama_print_timings: prompt eval time =    2084.19 ms /   302 tokens (    6.90 ms per token,   144.90 tokens per second)\n",
      "llama_print_timings:        eval time =    2263.48 ms /    50 runs   (   45.27 ms per token,    22.09 tokens per second)\n",
      "llama_print_timings:       total time =    4624.54 ms /   352 tokens\n",
      "Llama.generate: prefix-match hit\n"
     ]
    },
    {
     "name": "stdout",
     "output_type": "stream",
     "text": [
      " SELECT f.flightno FROM flights f JOIN airports a ON f.sourceairport = a.airportcode WHERE a.airportname = 'Aberdeen';\n",
      "index is 253\n"
     ]
    },
    {
     "name": "stderr",
     "output_type": "stream",
     "text": [
      "\n",
      "llama_print_timings:        load time =     577.18 ms\n",
      "llama_print_timings:      sample time =      18.90 ms /    40 runs   (    0.47 ms per token,  2116.85 tokens per second)\n",
      "llama_print_timings: prompt eval time =    1475.83 ms /   216 tokens (    6.83 ms per token,   146.36 tokens per second)\n",
      "llama_print_timings:        eval time =    1791.43 ms /    40 runs   (   44.79 ms per token,    22.33 tokens per second)\n",
      "llama_print_timings:       total time =    3483.54 ms /   256 tokens\n",
      "Llama.generate: prefix-match hit\n"
     ]
    },
    {
     "name": "stdout",
     "output_type": "stream",
     "text": [
      " SELECT f.flightno FROM flights f JOIN airports a ON f.destairport = a.airportcode WHERE a.city ilike '%Aberdeen%' ORDER BY f.flightno NULLS LAST;\n",
      "index is 254\n"
     ]
    },
    {
     "name": "stderr",
     "output_type": "stream",
     "text": [
      "\n",
      "llama_print_timings:        load time =     577.18 ms\n",
      "llama_print_timings:      sample time =      24.54 ms /    51 runs   (    0.48 ms per token,  2078.32 tokens per second)\n",
      "llama_print_timings: prompt eval time =    2081.21 ms /   300 tokens (    6.94 ms per token,   144.15 tokens per second)\n",
      "llama_print_timings:        eval time =    2262.81 ms /    50 runs   (   45.26 ms per token,    22.10 tokens per second)\n",
      "llama_print_timings:       total time =    4622.41 ms /   350 tokens\n",
      "Llama.generate: prefix-match hit\n"
     ]
    },
    {
     "name": "stdout",
     "output_type": "stream",
     "text": [
      " SELECT f.flightno FROM flights f JOIN airports a ON f.destairport = a.airportcode WHERE a.city ilike '%Aberdeen%' ORDER BY f.flightno NULLS LAST;\n",
      "index is 255\n"
     ]
    },
    {
     "name": "stderr",
     "output_type": "stream",
     "text": [
      "\n",
      "llama_print_timings:        load time =     577.18 ms\n",
      "llama_print_timings:      sample time =      23.98 ms /    51 runs   (    0.47 ms per token,  2127.22 tokens per second)\n",
      "llama_print_timings: prompt eval time =    2028.44 ms /   294 tokens (    6.90 ms per token,   144.94 tokens per second)\n",
      "llama_print_timings:        eval time =    2262.23 ms /    50 runs   (   45.24 ms per token,    22.10 tokens per second)\n",
      "llama_print_timings:       total time =    4568.22 ms /   344 tokens\n",
      "Llama.generate: prefix-match hit\n"
     ]
    },
    {
     "name": "stdout",
     "output_type": "stream",
     "text": [
      " SELECT COUNT(f.FlightNo) AS total_flights FROM airports a JOIN flights f ON a.AirportCode = f.SourceAirport WHERE (a.City ilike '%Aberdeen%' OR a.City ilike '%Abilene%') GROUP BY a.AirportCode;\n",
      "index is 256\n"
     ]
    },
    {
     "name": "stderr",
     "output_type": "stream",
     "text": [
      "\n",
      "llama_print_timings:        load time =     577.18 ms\n",
      "llama_print_timings:      sample time =      33.56 ms /    71 runs   (    0.47 ms per token,  2115.30 tokens per second)\n",
      "llama_print_timings: prompt eval time =    2084.72 ms /   302 tokens (    6.90 ms per token,   144.86 tokens per second)\n",
      "llama_print_timings:        eval time =    3170.60 ms /    70 runs   (   45.29 ms per token,    22.08 tokens per second)\n",
      "llama_print_timings:       total time =    5608.47 ms /   372 tokens\n",
      "Llama.generate: prefix-match hit\n"
     ]
    },
    {
     "name": "stdout",
     "output_type": "stream",
     "text": [
      " SELECT COUNT(f.FlightNo) AS number_of_flights FROM flights f JOIN airports a ON (f.SourceAirport = a.AirportCode OR f.DestAirport = a.AirportCode) WHERE a.AirportName IN ('Aberdeen', 'Abilene'));\n",
      "index is 257\n"
     ]
    },
    {
     "name": "stderr",
     "output_type": "stream",
     "text": [
      "\n",
      "llama_print_timings:        load time =     577.18 ms\n",
      "llama_print_timings:      sample time =      35.34 ms /    74 runs   (    0.48 ms per token,  2093.94 tokens per second)\n",
      "llama_print_timings: prompt eval time =    1524.13 ms /   219 tokens (    6.96 ms per token,   143.69 tokens per second)\n",
      "llama_print_timings:        eval time =    3292.46 ms /    73 runs   (   45.10 ms per token,    22.17 tokens per second)\n",
      "llama_print_timings:       total time =    5157.66 ms /   292 tokens\n",
      "Llama.generate: prefix-match hit\n"
     ]
    },
    {
     "name": "stdout",
     "output_type": "stream",
     "text": [
      " SELECT a.\"AirportName\" FROM airports a LEFT JOIN flights f ON (a.\"AirportCode\" = f.\"SourceAirport\" OR a.\"AirportCode\" = f.\"DestAirport\") WHERE f.\"Airline\" IS NULL\n",
      "index is 258\n"
     ]
    },
    {
     "name": "stderr",
     "output_type": "stream",
     "text": [
      "\n",
      "llama_print_timings:        load time =     577.18 ms\n",
      "llama_print_timings:      sample time =      28.62 ms /    60 runs   (    0.48 ms per token,  2096.44 tokens per second)\n",
      "llama_print_timings: prompt eval time =    2027.71 ms /   296 tokens (    6.85 ms per token,   145.98 tokens per second)\n",
      "llama_print_timings:        eval time =    2666.91 ms /    59 runs   (   45.20 ms per token,    22.12 tokens per second)\n",
      "llama_print_timings:       total time =    5003.77 ms /   355 tokens\n",
      "Llama.generate: prefix-match hit\n"
     ]
    },
    {
     "name": "stdout",
     "output_type": "stream",
     "text": [
      " SELECT DISTINCT(a.AirportCode)) AS Airport FROM airports a LEFT JOIN flights f ON (a.AirportCode = f.SourceAirport OR a.AirportCode = f.DestAirport)) WHERE f.Airline IS NULL;\n",
      "index is 259\n"
     ]
    },
    {
     "name": "stderr",
     "output_type": "stream",
     "text": [
      "\n",
      "llama_print_timings:        load time =     577.18 ms\n",
      "llama_print_timings:      sample time =      30.01 ms /    63 runs   (    0.48 ms per token,  2099.44 tokens per second)\n",
      "llama_print_timings: prompt eval time =    2029.95 ms /   296 tokens (    6.86 ms per token,   145.82 tokens per second)\n",
      "llama_print_timings:        eval time =    2806.01 ms /    62 runs   (   45.26 ms per token,    22.10 tokens per second)\n",
      "llama_print_timings:       total time =    5158.68 ms /   358 tokens\n",
      "Llama.generate: prefix-match hit\n"
     ]
    },
    {
     "name": "stdout",
     "output_type": "stream",
     "text": [
      " SELECT COUNT(e.employee_id) FROM employee e;\n",
      "index is 260\n"
     ]
    },
    {
     "name": "stderr",
     "output_type": "stream",
     "text": [
      "\n",
      "llama_print_timings:        load time =     577.18 ms\n",
      "llama_print_timings:      sample time =       6.64 ms /    14 runs   (    0.47 ms per token,  2108.43 tokens per second)\n",
      "llama_print_timings: prompt eval time =     928.40 ms /   136 tokens (    6.83 ms per token,   146.49 tokens per second)\n",
      "llama_print_timings:        eval time =     622.65 ms /    14 runs   (   44.48 ms per token,    22.48 tokens per second)\n",
      "llama_print_timings:       total time =    1644.38 ms /   150 tokens\n",
      "Llama.generate: prefix-match hit\n"
     ]
    },
    {
     "name": "stdout",
     "output_type": "stream",
     "text": [
      " SELECT COUNT(e.employee_id) AS total_employees FROM employee e;\n",
      "index is 261\n"
     ]
    },
    {
     "name": "stderr",
     "output_type": "stream",
     "text": [
      "\n",
      "llama_print_timings:        load time =     577.18 ms\n",
      "llama_print_timings:      sample time =       9.38 ms /    20 runs   (    0.47 ms per token,  2131.29 tokens per second)\n",
      "llama_print_timings: prompt eval time =     924.12 ms /   135 tokens (    6.85 ms per token,   146.09 tokens per second)\n",
      "llama_print_timings:        eval time =     850.14 ms /    19 runs   (   44.74 ms per token,    22.35 tokens per second)\n",
      "llama_print_timings:       total time =    1884.54 ms /   154 tokens\n",
      "Llama.generate: prefix-match hit\n"
     ]
    },
    {
     "name": "stdout",
     "output_type": "stream",
     "text": [
      " SELECT e.name, e.age FROM employee e ORDER BY e.age ASC;\n",
      "index is 262\n"
     ]
    },
    {
     "name": "stderr",
     "output_type": "stream",
     "text": [
      "\n",
      "llama_print_timings:        load time =     577.18 ms\n",
      "llama_print_timings:      sample time =       8.79 ms /    19 runs   (    0.46 ms per token,  2162.53 tokens per second)\n",
      "llama_print_timings: prompt eval time =     980.18 ms /   144 tokens (    6.81 ms per token,   146.91 tokens per second)\n",
      "llama_print_timings:        eval time =     849.98 ms /    19 runs   (   44.74 ms per token,    22.35 tokens per second)\n",
      "llama_print_timings:       total time =    1940.61 ms /   163 tokens\n",
      "Llama.generate: prefix-match hit\n"
     ]
    },
    {
     "name": "stdout",
     "output_type": "stream",
     "text": [
      " SELECT e.name FROM employee e ORDER BY e.age ASC;\n",
      "index is 263\n"
     ]
    },
    {
     "name": "stderr",
     "output_type": "stream",
     "text": [
      "\n",
      "llama_print_timings:        load time =     577.18 ms\n",
      "llama_print_timings:      sample time =       6.92 ms /    15 runs   (    0.46 ms per token,  2166.69 tokens per second)\n",
      "llama_print_timings: prompt eval time =    1034.69 ms /   151 tokens (    6.85 ms per token,   145.94 tokens per second)\n",
      "llama_print_timings:        eval time =     626.85 ms /    14 runs   (   44.78 ms per token,    22.33 tokens per second)\n",
      "llama_print_timings:       total time =    1760.41 ms /   165 tokens\n",
      "Llama.generate: prefix-match hit\n"
     ]
    },
    {
     "name": "stdout",
     "output_type": "stream",
     "text": [
      " SELECT e.city, COUNT(e.employee_id) AS number_of_employees FROM employee e GROUP BY e.city ORDER BY number_of_employees DESC NULLS LAST;\n",
      "index is 264\n"
     ]
    },
    {
     "name": "stderr",
     "output_type": "stream",
     "text": [
      "\n",
      "llama_print_timings:        load time =     577.18 ms\n",
      "llama_print_timings:      sample time =      21.23 ms /    45 runs   (    0.47 ms per token,  2119.44 tokens per second)\n",
      "llama_print_timings: prompt eval time =     980.01 ms /   144 tokens (    6.81 ms per token,   146.94 tokens per second)\n",
      "llama_print_timings:        eval time =    1999.66 ms /    45 runs   (   44.44 ms per token,    22.50 tokens per second)\n",
      "llama_print_timings:       total time =    3190.18 ms /   189 tokens\n",
      "Llama.generate: prefix-match hit\n"
     ]
    },
    {
     "name": "stdout",
     "output_type": "stream",
     "text": [
      " SELECT e.city, COUNT(e.employee_id) AS total_employees FROM employee e GROUP BY e.city ORDER BY total_employees DESC NULLS LAST;\n",
      "index is 265\n"
     ]
    },
    {
     "name": "stderr",
     "output_type": "stream",
     "text": [
      "\n",
      "llama_print_timings:        load time =     577.18 ms\n",
      "llama_print_timings:      sample time =      19.11 ms /    41 runs   (    0.47 ms per token,  2145.59 tokens per second)\n",
      "llama_print_timings: prompt eval time =     974.33 ms /   141 tokens (    6.91 ms per token,   144.72 tokens per second)\n",
      "llama_print_timings:        eval time =    1779.68 ms /    40 runs   (   44.49 ms per token,    22.48 tokens per second)\n",
      "llama_print_timings:       total time =    2946.69 ms /   181 tokens\n",
      "Llama.generate: prefix-match hit\n"
     ]
    },
    {
     "name": "stdout",
     "output_type": "stream",
     "text": [
      " SELECT e.city FROM employee e WHERE e.age < 30 GROUP BY e.city HAVING COUNT(e.employee_id) > 1;\n",
      "index is 266\n"
     ]
    },
    {
     "name": "stderr",
     "output_type": "stream",
     "text": [
      "\n",
      "llama_print_timings:        load time =     577.18 ms\n",
      "llama_print_timings:      sample time =      17.50 ms /    36 runs   (    0.49 ms per token,  2056.79 tokens per second)\n",
      "llama_print_timings: prompt eval time =    1083.14 ms /   157 tokens (    6.90 ms per token,   144.95 tokens per second)\n",
      "llama_print_timings:        eval time =    1558.19 ms /    35 runs   (   44.52 ms per token,    22.46 tokens per second)\n",
      "llama_print_timings:       total time =    2821.40 ms /   192 tokens\n",
      "Llama.generate: prefix-match hit\n"
     ]
    },
    {
     "name": "stdout",
     "output_type": "stream",
     "text": [
      " SELECT e.city FROM employee e WHERE e.age < 30 GROUP BY e.city HAVING COUNT(e.employee_id) > 1;\n",
      "index is 267\n"
     ]
    },
    {
     "name": "stderr",
     "output_type": "stream",
     "text": [
      "\n",
      "llama_print_timings:        load time =     577.18 ms\n",
      "llama_print_timings:      sample time =      17.19 ms /    36 runs   (    0.48 ms per token,  2094.00 tokens per second)\n",
      "llama_print_timings: prompt eval time =    1034.79 ms /   152 tokens (    6.81 ms per token,   146.89 tokens per second)\n",
      "llama_print_timings:        eval time =    1599.85 ms /    36 runs   (   44.44 ms per token,    22.50 tokens per second)\n",
      "llama_print_timings:       total time =    2812.09 ms /   188 tokens\n",
      "Llama.generate: prefix-match hit\n"
     ]
    },
    {
     "name": "stdout",
     "output_type": "stream",
     "text": [
      " SELECT s.location, COUNT(s.shop_id) AS number_of_shops FROM shop s GROUP BY s.location ORDER BY number_of_shops DESC NULLS LAST;\n",
      "index is 268\n"
     ]
    },
    {
     "name": "stderr",
     "output_type": "stream",
     "text": [
      "\n",
      "llama_print_timings:        load time =     577.18 ms\n",
      "llama_print_timings:      sample time =      20.12 ms /    43 runs   (    0.47 ms per token,  2136.65 tokens per second)\n",
      "llama_print_timings: prompt eval time =    1145.58 ms /   166 tokens (    6.90 ms per token,   144.91 tokens per second)\n",
      "llama_print_timings:        eval time =    1868.46 ms /    42 runs   (   44.49 ms per token,    22.48 tokens per second)\n",
      "llama_print_timings:       total time =    3221.14 ms /   208 tokens\n",
      "Llama.generate: prefix-match hit\n"
     ]
    },
    {
     "name": "stdout",
     "output_type": "stream",
     "text": [
      " SELECT s.location, COUNT(s.shop_id) AS number_of_shops FROM shop s GROUP BY s.location ORDER BY number_of_shops DESC NULLS LAST;\n",
      "index is 269\n"
     ]
    },
    {
     "name": "stderr",
     "output_type": "stream",
     "text": [
      "\n",
      "llama_print_timings:        load time =     577.18 ms\n",
      "llama_print_timings:      sample time =      20.09 ms /    43 runs   (    0.47 ms per token,  2140.90 tokens per second)\n",
      "llama_print_timings: prompt eval time =    1191.92 ms /   170 tokens (    7.01 ms per token,   142.63 tokens per second)\n",
      "llama_print_timings:        eval time =    1878.25 ms /    42 runs   (   44.72 ms per token,    22.36 tokens per second)\n",
      "llama_print_timings:       total time =    3279.79 ms /   212 tokens\n",
      "Llama.generate: prefix-match hit\n"
     ]
    },
    {
     "name": "stdout",
     "output_type": "stream",
     "text": [
      " SELECT s.manager_name, s.district FROM shop s WHERE s.number_products = (SELECT MAX(number_products) FROM shop);\n",
      "index is 270\n"
     ]
    },
    {
     "name": "stderr",
     "output_type": "stream",
     "text": [
      "\n",
      "llama_print_timings:        load time =     577.18 ms\n",
      "llama_print_timings:      sample time =      15.25 ms /    33 runs   (    0.46 ms per token,  2164.36 tokens per second)\n",
      "llama_print_timings: prompt eval time =    1267.84 ms /   182 tokens (    6.97 ms per token,   143.55 tokens per second)\n",
      "llama_print_timings:        eval time =    1440.38 ms /    32 runs   (   45.01 ms per token,    22.22 tokens per second)\n",
      "llama_print_timings:       total time =    2880.58 ms /   214 tokens\n",
      "Llama.generate: prefix-match hit\n"
     ]
    },
    {
     "name": "stdout",
     "output_type": "stream",
     "text": [
      " SELECT s.manager_name, s.district FROM shop s WHERE s.number_products = (SELECT MAX(number_products) FROM shop);\n",
      "index is 271\n"
     ]
    },
    {
     "name": "stderr",
     "output_type": "stream",
     "text": [
      "\n",
      "llama_print_timings:        load time =     577.18 ms\n",
      "llama_print_timings:      sample time =      15.51 ms /    33 runs   (    0.47 ms per token,  2128.35 tokens per second)\n",
      "llama_print_timings: prompt eval time =    1306.29 ms /   188 tokens (    6.95 ms per token,   143.92 tokens per second)\n",
      "llama_print_timings:        eval time =    1436.12 ms /    32 runs   (   44.88 ms per token,    22.28 tokens per second)\n",
      "llama_print_timings:       total time =    2916.30 ms /   220 tokens\n",
      "Llama.generate: prefix-match hit\n"
     ]
    },
    {
     "name": "stdout",
     "output_type": "stream",
     "text": [
      " SELECT MIN(s.number_products) AS min_number_products, MAX(s.number_products) AS max_number_products FROM shop s;\n",
      "index is 272\n"
     ]
    },
    {
     "name": "stderr",
     "output_type": "stream",
     "text": [
      "\n",
      "llama_print_timings:        load time =     577.18 ms\n",
      "llama_print_timings:      sample time =      16.93 ms /    36 runs   (    0.47 ms per token,  2125.78 tokens per second)\n",
      "llama_print_timings: prompt eval time =    1195.41 ms /   172 tokens (    6.95 ms per token,   143.88 tokens per second)\n",
      "llama_print_timings:        eval time =    1569.67 ms /    35 runs   (   44.85 ms per token,    22.30 tokens per second)\n",
      "llama_print_timings:       total time =    2945.85 ms /   207 tokens\n",
      "Llama.generate: prefix-match hit\n"
     ]
    },
    {
     "name": "stdout",
     "output_type": "stream",
     "text": [
      " SELECT MIN(s.number_products) AS min_number_products, MAX(s.number_products) AS max_number_products FROM shop s;\n",
      "index is 273\n"
     ]
    },
    {
     "name": "stderr",
     "output_type": "stream",
     "text": [
      "\n",
      "llama_print_timings:        load time =     577.18 ms\n",
      "llama_print_timings:      sample time =      17.16 ms /    36 runs   (    0.48 ms per token,  2098.51 tokens per second)\n",
      "llama_print_timings: prompt eval time =    1247.87 ms /   180 tokens (    6.93 ms per token,   144.25 tokens per second)\n",
      "llama_print_timings:        eval time =    1563.81 ms /    35 runs   (   44.68 ms per token,    22.38 tokens per second)\n",
      "llama_print_timings:       total time =    2995.95 ms /   215 tokens\n",
      "Llama.generate: prefix-match hit\n"
     ]
    },
    {
     "name": "stdout",
     "output_type": "stream",
     "text": [
      " SELECT s.name, s.location, s.district FROM shop s ORDER BY s.number_products DESC;\n",
      "index is 274\n"
     ]
    },
    {
     "name": "stderr",
     "output_type": "stream",
     "text": [
      "\n",
      "llama_print_timings:        load time =     577.18 ms\n",
      "llama_print_timings:      sample time =      12.33 ms /    26 runs   (    0.47 ms per token,  2108.85 tokens per second)\n",
      "llama_print_timings: prompt eval time =    1305.01 ms /   188 tokens (    6.94 ms per token,   144.06 tokens per second)\n",
      "llama_print_timings:        eval time =    1120.30 ms /    25 runs   (   44.81 ms per token,    22.32 tokens per second)\n",
      "llama_print_timings:       total time =    2576.31 ms /   213 tokens\n",
      "Llama.generate: prefix-match hit\n"
     ]
    },
    {
     "name": "stdout",
     "output_type": "stream",
     "text": [
      " SELECT s.name, s.location, s.district FROM shop s ORDER BY s.number_products DESC;\n",
      "index is 275\n"
     ]
    },
    {
     "name": "stderr",
     "output_type": "stream",
     "text": [
      "\n",
      "llama_print_timings:        load time =     577.18 ms\n",
      "llama_print_timings:      sample time =      12.27 ms /    26 runs   (    0.47 ms per token,  2119.16 tokens per second)\n",
      "llama_print_timings: prompt eval time =    1359.71 ms /   198 tokens (    6.87 ms per token,   145.62 tokens per second)\n",
      "llama_print_timings:        eval time =    1122.31 ms /    25 runs   (   44.89 ms per token,    22.28 tokens per second)\n",
      "llama_print_timings:       total time =    2631.50 ms /   223 tokens\n",
      "Llama.generate: prefix-match hit\n"
     ]
    },
    {
     "name": "stdout",
     "output_type": "stream",
     "text": [
      " SELECT s.name FROM shop s WHERE s.number_products > (SELECT AVG(number_products) FROM shop);\n",
      "index is 276\n"
     ]
    },
    {
     "name": "stderr",
     "output_type": "stream",
     "text": [
      "\n",
      "llama_print_timings:        load time =     577.18 ms\n",
      "llama_print_timings:      sample time =      12.42 ms /    27 runs   (    0.46 ms per token,  2173.91 tokens per second)\n",
      "llama_print_timings: prompt eval time =    1252.00 ms /   182 tokens (    6.88 ms per token,   145.37 tokens per second)\n",
      "llama_print_timings:        eval time =    1165.67 ms /    26 runs   (   44.83 ms per token,    22.30 tokens per second)\n",
      "llama_print_timings:       total time =    2566.65 ms /   208 tokens\n",
      "Llama.generate: prefix-match hit\n"
     ]
    },
    {
     "name": "stdout",
     "output_type": "stream",
     "text": [
      " SELECT s.name FROM shop s WHERE s.number_products > (SELECT AVG(number_products) FROM shop);\n",
      "index is 277\n",
      "\n",
      "index is 278\n"
     ]
    },
    {
     "name": "stderr",
     "output_type": "stream",
     "text": [
      "\n",
      "llama_print_timings:        load time =     577.18 ms\n",
      "llama_print_timings:      sample time =      12.78 ms /    27 runs   (    0.47 ms per token,  2112.68 tokens per second)\n",
      "llama_print_timings: prompt eval time =    1255.88 ms /   184 tokens (    6.83 ms per token,   146.51 tokens per second)\n",
      "llama_print_timings:        eval time =    1165.05 ms /    26 runs   (   44.81 ms per token,    22.32 tokens per second)\n",
      "llama_print_timings:       total time =    2569.56 ms /   210 tokens\n",
      "Llama.generate: prefix-match hit\n"
     ]
    },
    {
     "name": "stdout",
     "output_type": "stream",
     "text": [
      " SELECT e.name FROM employee e JOIN evaluation ea ON e.employee_id = ea.employee_id GROUP BY e.name ORDER BY COUNT(ea.employee_id) DESC LIMIT 1;\n",
      "index is 279\n"
     ]
    },
    {
     "name": "stderr",
     "output_type": "stream",
     "text": [
      "\n",
      "llama_print_timings:        load time =     577.18 ms\n",
      "llama_print_timings:      sample time =      21.21 ms /    45 runs   (    0.47 ms per token,  2121.44 tokens per second)\n",
      "llama_print_timings: prompt eval time =    1663.41 ms /   239 tokens (    6.96 ms per token,   143.68 tokens per second)\n",
      "llama_print_timings:        eval time =    1987.03 ms /    44 runs   (   45.16 ms per token,    22.14 tokens per second)\n",
      "llama_print_timings:       total time =    3887.46 ms /   283 tokens\n",
      "Llama.generate: prefix-match hit\n"
     ]
    },
    {
     "name": "stdout",
     "output_type": "stream",
     "text": [
      " SELECT e.name, MAX(v.bonus) AS max_bonus FROM evaluation v JOIN employee e ON v.employee_id = e.employee_id GROUP BY e.name ORDER BY max_bonus DESC NULLS LAST LIMIT 1;\n",
      "index is 280\n"
     ]
    },
    {
     "name": "stderr",
     "output_type": "stream",
     "text": [
      "\n",
      "llama_print_timings:        load time =     577.18 ms\n",
      "llama_print_timings:      sample time =      25.82 ms /    56 runs   (    0.46 ms per token,  2169.20 tokens per second)\n",
      "llama_print_timings: prompt eval time =    1636.75 ms /   235 tokens (    6.96 ms per token,   143.58 tokens per second)\n",
      "llama_print_timings:        eval time =    2480.82 ms /    55 runs   (   45.11 ms per token,    22.17 tokens per second)\n",
      "llama_print_timings:       total time =    4394.76 ms /   290 tokens\n",
      "Llama.generate: prefix-match hit\n"
     ]
    },
    {
     "name": "stdout",
     "output_type": "stream",
     "text": [
      " SELECT e.name FROM evaluation e ORDER BY e.bonus DESC NULLS LAST LIMIT 1;\n",
      "index is 281\n"
     ]
    },
    {
     "name": "stderr",
     "output_type": "stream",
     "text": [
      "\n",
      "llama_print_timings:        load time =     577.18 ms\n",
      "llama_print_timings:      sample time =      10.70 ms /    23 runs   (    0.47 ms per token,  2149.13 tokens per second)\n",
      "llama_print_timings: prompt eval time =    1631.30 ms /   235 tokens (    6.94 ms per token,   144.06 tokens per second)\n",
      "llama_print_timings:        eval time =     990.38 ms /    22 runs   (   45.02 ms per token,    22.21 tokens per second)\n",
      "llama_print_timings:       total time =    2772.09 ms /   257 tokens\n",
      "Llama.generate: prefix-match hit\n"
     ]
    },
    {
     "name": "stdout",
     "output_type": "stream",
     "text": [
      " SELECT e.name FROM employee e LEFT JOIN evaluation ea ON e.employee_id = ea.employee_id WHERE ea.employee_id IS NULL;\n",
      "index is 282\n"
     ]
    },
    {
     "name": "stderr",
     "output_type": "stream",
     "text": [
      "\n",
      "llama_print_timings:        load time =     577.18 ms\n",
      "llama_print_timings:      sample time =      16.69 ms /    36 runs   (    0.46 ms per token,  2156.85 tokens per second)\n",
      "llama_print_timings: prompt eval time =    1631.21 ms /   235 tokens (    6.94 ms per token,   144.07 tokens per second)\n",
      "llama_print_timings:        eval time =    1578.82 ms /    35 runs   (   45.11 ms per token,    22.17 tokens per second)\n",
      "llama_print_timings:       total time =    3408.62 ms /   270 tokens\n",
      "Llama.generate: prefix-match hit\n"
     ]
    },
    {
     "name": "stdout",
     "output_type": "stream",
     "text": [
      " SELECT e.name FROM employee e LEFT JOIN evaluation ea ON e.employee_id = ea.employee_id WHERE ea.employee_id IS NULL;\n",
      "index is 283\n"
     ]
    },
    {
     "name": "stderr",
     "output_type": "stream",
     "text": [
      "\n",
      "llama_print_timings:        load time =     577.18 ms\n",
      "llama_print_timings:      sample time =      16.84 ms /    36 runs   (    0.47 ms per token,  2138.28 tokens per second)\n",
      "llama_print_timings: prompt eval time =    1634.17 ms /   235 tokens (    6.95 ms per token,   143.80 tokens per second)\n",
      "llama_print_timings:        eval time =    1577.54 ms /    35 runs   (   45.07 ms per token,    22.19 tokens per second)\n",
      "llama_print_timings:       total time =    3410.81 ms /   270 tokens\n",
      "Llama.generate: prefix-match hit\n"
     ]
    },
    {
     "name": "stdout",
     "output_type": "stream",
     "text": [
      " SELECT s.name FROM shop s JOIN (SELECT h.shop_id, COUNT(h.employee_id) AS employee_count FROM hiring h GROUP BY h.shop_id) AS subquery ON s.shop_id = subquery.shop_id ORDER BY employee_count DESC LIMIT 1;\n",
      "index is 284\n"
     ]
    },
    {
     "name": "stderr",
     "output_type": "stream",
     "text": [
      "\n",
      "llama_print_timings:        load time =     577.18 ms\n",
      "llama_print_timings:      sample time =      31.10 ms /    67 runs   (    0.46 ms per token,  2154.06 tokens per second)\n",
      "llama_print_timings: prompt eval time =    2082.99 ms /   302 tokens (    6.90 ms per token,   144.98 tokens per second)\n",
      "llama_print_timings:        eval time =    2988.61 ms /    66 runs   (   45.28 ms per token,    22.08 tokens per second)\n",
      "llama_print_timings:       total time =    5408.28 ms /   368 tokens\n",
      "Llama.generate: prefix-match hit\n"
     ]
    },
    {
     "name": "stdout",
     "output_type": "stream",
     "text": [
      " SELECT s.name FROM shop s JOIN hiring h ON s.shop_id = h.shop_id GROUP BY s.name ORDER BY COUNT(h.employee_id) DESC LIMIT 1;\n",
      "index is 285\n"
     ]
    },
    {
     "name": "stderr",
     "output_type": "stream",
     "text": [
      "\n",
      "llama_print_timings:        load time =     577.18 ms\n",
      "llama_print_timings:      sample time =      20.44 ms /    44 runs   (    0.46 ms per token,  2152.54 tokens per second)\n",
      "llama_print_timings: prompt eval time =    2026.32 ms /   295 tokens (    6.87 ms per token,   145.58 tokens per second)\n",
      "llama_print_timings:        eval time =    1945.50 ms /    43 runs   (   45.24 ms per token,    22.10 tokens per second)\n",
      "llama_print_timings:       total time =    4217.41 ms /   338 tokens\n",
      "Llama.generate: prefix-match hit\n"
     ]
    },
    {
     "name": "stdout",
     "output_type": "stream",
     "text": [
      " SELECT s.name FROM shop s LEFT JOIN hiring h ON s.shop_id = h.shop_id WHERE h.employee_id IS NULL\n",
      "index is 286\n"
     ]
    },
    {
     "name": "stderr",
     "output_type": "stream",
     "text": [
      "\n",
      "llama_print_timings:        load time =     577.18 ms\n",
      "llama_print_timings:      sample time =      15.59 ms /    33 runs   (    0.47 ms per token,  2117.01 tokens per second)\n",
      "llama_print_timings: prompt eval time =    2030.05 ms /   296 tokens (    6.86 ms per token,   145.81 tokens per second)\n",
      "llama_print_timings:        eval time =    1492.11 ms /    33 runs   (   45.22 ms per token,    22.12 tokens per second)\n",
      "llama_print_timings:       total time =    3727.85 ms /   329 tokens\n",
      "Llama.generate: prefix-match hit\n"
     ]
    },
    {
     "name": "stdout",
     "output_type": "stream",
     "text": [
      " SELECT s.name FROM shop s LEFT JOIN hiring h ON s.shop_id = h.shop_id AND h.employee_id IS NULL WHERE h.employee_id IS NULL\n",
      "index is 287\n"
     ]
    },
    {
     "name": "stderr",
     "output_type": "stream",
     "text": [
      "\n",
      "llama_print_timings:        load time =     577.18 ms\n",
      "llama_print_timings:      sample time =      19.08 ms /    41 runs   (    0.47 ms per token,  2148.51 tokens per second)\n",
      "llama_print_timings: prompt eval time =    2027.13 ms /   295 tokens (    6.87 ms per token,   145.53 tokens per second)\n",
      "llama_print_timings:        eval time =    1808.95 ms /    40 runs   (   45.22 ms per token,    22.11 tokens per second)\n",
      "llama_print_timings:       total time =    4076.47 ms /   335 tokens\n",
      "Llama.generate: prefix-match hit\n"
     ]
    },
    {
     "name": "stdout",
     "output_type": "stream",
     "text": [
      " SELECT s.name AS shop_name, COUNT(h.employee_id) AS total_employees FROM hiring h JOIN shop s ON h.shop_id = s.shop_id GROUP BY s.name ORDER BY total_employees DESC NULLS LAST;\n",
      "index is 288\n"
     ]
    },
    {
     "name": "stderr",
     "output_type": "stream",
     "text": [
      "\n",
      "llama_print_timings:        load time =     577.18 ms\n",
      "llama_print_timings:      sample time =      28.64 ms /    61 runs   (    0.47 ms per token,  2130.19 tokens per second)\n",
      "llama_print_timings: prompt eval time =    2082.15 ms /   303 tokens (    6.87 ms per token,   145.52 tokens per second)\n",
      "llama_print_timings:        eval time =    2716.36 ms /    60 runs   (   45.27 ms per token,    22.09 tokens per second)\n",
      "llama_print_timings:       total time =    5114.85 ms /   363 tokens\n",
      "Llama.generate: prefix-match hit\n"
     ]
    },
    {
     "name": "stdout",
     "output_type": "stream",
     "text": [
      " SELECT s.name AS shop_name, COUNT(h.employee_id) AS total_employees FROM shop s JOIN hiring h ON s.shop_id = h.shop_id GROUP BY s.name;\n",
      "index is 289\n"
     ]
    },
    {
     "name": "stderr",
     "output_type": "stream",
     "text": [
      "\n",
      "llama_print_timings:        load time =     577.18 ms\n",
      "llama_print_timings:      sample time =      22.91 ms /    49 runs   (    0.47 ms per token,  2138.99 tokens per second)\n",
      "llama_print_timings: prompt eval time =    2081.97 ms /   303 tokens (    6.87 ms per token,   145.53 tokens per second)\n",
      "llama_print_timings:        eval time =    2163.49 ms /    48 runs   (   45.07 ms per token,    22.19 tokens per second)\n",
      "llama_print_timings:       total time =    4513.14 ms /   351 tokens\n",
      "Llama.generate: prefix-match hit\n"
     ]
    },
    {
     "name": "stdout",
     "output_type": "stream",
     "text": [
      " SELECT SUM(e.Bonus) AS total_bonus FROM evaluation e;\n",
      "index is 290\n"
     ]
    },
    {
     "name": "stderr",
     "output_type": "stream",
     "text": [
      "\n",
      "llama_print_timings:        load time =     577.18 ms\n",
      "llama_print_timings:      sample time =       8.91 ms /    19 runs   (    0.47 ms per token,  2132.67 tokens per second)\n",
      "llama_print_timings: prompt eval time =    1189.71 ms /   170 tokens (    7.00 ms per token,   142.89 tokens per second)\n",
      "llama_print_timings:        eval time =     799.76 ms /    18 runs   (   44.43 ms per token,    22.51 tokens per second)\n",
      "llama_print_timings:       total time =    2110.96 ms /   188 tokens\n",
      "Llama.generate: prefix-match hit\n"
     ]
    },
    {
     "name": "stdout",
     "output_type": "stream",
     "text": [
      " SELECT SUM(e.Bonus) AS Total_Bonus FROM evaluation e;\n",
      "index is 291\n"
     ]
    },
    {
     "name": "stderr",
     "output_type": "stream",
     "text": [
      "\n",
      "llama_print_timings:        load time =     577.18 ms\n",
      "llama_print_timings:      sample time =       9.29 ms /    20 runs   (    0.46 ms per token,  2154.01 tokens per second)\n",
      "llama_print_timings: prompt eval time =    1195.07 ms /   174 tokens (    6.87 ms per token,   145.60 tokens per second)\n",
      "llama_print_timings:        eval time =     844.51 ms /    19 runs   (   44.45 ms per token,    22.50 tokens per second)\n",
      "llama_print_timings:       total time =    2159.22 ms /   193 tokens\n",
      "Llama.generate: prefix-match hit\n"
     ]
    },
    {
     "name": "stdout",
     "output_type": "stream",
     "text": [
      " SELECT * FROM hiring;\n",
      "index is 292\n"
     ]
    },
    {
     "name": "stderr",
     "output_type": "stream",
     "text": [
      "\n",
      "llama_print_timings:        load time =     577.18 ms\n",
      "llama_print_timings:      sample time =       3.24 ms /     7 runs   (    0.46 ms per token,  2161.16 tokens per second)\n",
      "llama_print_timings: prompt eval time =    1413.90 ms /   203 tokens (    6.97 ms per token,   143.57 tokens per second)\n",
      "llama_print_timings:        eval time =     267.03 ms /     6 runs   (   44.51 ms per token,    22.47 tokens per second)\n",
      "llama_print_timings:       total time =    1760.07 ms /   209 tokens\n",
      "Llama.generate: prefix-match hit\n"
     ]
    },
    {
     "name": "stdout",
     "output_type": "stream",
     "text": [
      " SELECT * FROM hiring;\n",
      "index is 293\n"
     ]
    },
    {
     "name": "stderr",
     "output_type": "stream",
     "text": [
      "\n",
      "llama_print_timings:        load time =     577.18 ms\n",
      "llama_print_timings:      sample time =       3.23 ms /     7 runs   (    0.46 ms per token,  2167.18 tokens per second)\n",
      "llama_print_timings: prompt eval time =    1413.87 ms /   203 tokens (    6.96 ms per token,   143.58 tokens per second)\n",
      "llama_print_timings:        eval time =     267.67 ms /     6 runs   (   44.61 ms per token,    22.42 tokens per second)\n",
      "llama_print_timings:       total time =    1760.80 ms /   209 tokens\n",
      "Llama.generate: prefix-match hit\n"
     ]
    },
    {
     "name": "stdout",
     "output_type": "stream",
     "text": [
      " SELECT s.district FROM shop s WHERE s.number_products < 30000 AND EXISTS (SELECT 1 FROM shop s2 WHERE s2.district = s.district AND s2.number_products > 100000)) GROUP BY s.district;\n",
      "index is 294\n"
     ]
    },
    {
     "name": "stderr",
     "output_type": "stream",
     "text": [
      "\n",
      "llama_print_timings:        load time =     577.18 ms\n",
      "llama_print_timings:      sample time =      29.23 ms /    66 runs   (    0.44 ms per token,  2257.80 tokens per second)\n",
      "llama_print_timings: prompt eval time =    1417.86 ms /   206 tokens (    6.88 ms per token,   145.29 tokens per second)\n",
      "llama_print_timings:        eval time =    2918.00 ms /    65 runs   (   44.89 ms per token,    22.28 tokens per second)\n",
      "llama_print_timings:       total time =    4648.38 ms /   271 tokens\n",
      "Llama.generate: prefix-match hit\n"
     ]
    },
    {
     "name": "stdout",
     "output_type": "stream",
     "text": [
      " SELECT DISTINCT s.district FROM shop s WHERE s.number_products < 30000 AND s.number_products > 10000 ORDER BY s.district NULLS LAST;\n",
      "index is 295\n"
     ]
    },
    {
     "name": "stderr",
     "output_type": "stream",
     "text": [
      "\n",
      "llama_print_timings:        load time =     577.18 ms\n",
      "llama_print_timings:      sample time =      21.71 ms /    49 runs   (    0.44 ms per token,  2257.54 tokens per second)\n",
      "llama_print_timings: prompt eval time =    1522.89 ms /   218 tokens (    6.99 ms per token,   143.15 tokens per second)\n",
      "llama_print_timings:        eval time =    2148.91 ms /    48 runs   (   44.77 ms per token,    22.34 tokens per second)\n",
      "llama_print_timings:       total time =    3918.51 ms /   266 tokens\n",
      "Llama.generate: prefix-match hit\n"
     ]
    },
    {
     "name": "stdout",
     "output_type": "stream",
     "text": [
      " SELECT COUNT(DISTINCT s.location) AS number_of_locations FROM shop s;\n",
      "index is 296\n"
     ]
    },
    {
     "name": "stderr",
     "output_type": "stream",
     "text": [
      "\n",
      "llama_print_timings:        load time =     577.18 ms\n",
      "llama_print_timings:      sample time =      10.37 ms /    22 runs   (    0.47 ms per token,  2121.50 tokens per second)\n",
      "llama_print_timings: prompt eval time =    1139.49 ms /   166 tokens (    6.86 ms per token,   145.68 tokens per second)\n",
      "llama_print_timings:        eval time =     933.50 ms /    21 runs   (   44.45 ms per token,    22.50 tokens per second)\n",
      "llama_print_timings:       total time =    2198.81 ms /   187 tokens\n",
      "Llama.generate: prefix-match hit\n"
     ]
    },
    {
     "name": "stdout",
     "output_type": "stream",
     "text": [
      " SELECT COUNT(DISTINCT s.location) AS num_distinct_locations FROM shop s;\n",
      "index is 297\n"
     ]
    },
    {
     "name": "stderr",
     "output_type": "stream",
     "text": [
      "\n",
      "llama_print_timings:        load time =     577.18 ms\n",
      "llama_print_timings:      sample time =      10.83 ms /    23 runs   (    0.47 ms per token,  2124.52 tokens per second)\n",
      "llama_print_timings: prompt eval time =    1139.69 ms /   164 tokens (    6.95 ms per token,   143.90 tokens per second)\n",
      "llama_print_timings:        eval time =     979.30 ms /    22 runs   (   44.51 ms per token,    22.47 tokens per second)\n",
      "llama_print_timings:       total time =    2247.36 ms /   186 tokens\n",
      "Llama.generate: prefix-match hit\n"
     ]
    },
    {
     "name": "stdout",
     "output_type": "stream",
     "text": [
      " SELECT COUNT(d.document_id) AS total_documents FROM documents d;\n",
      "index is 298\n"
     ]
    },
    {
     "name": "stderr",
     "output_type": "stream",
     "text": [
      "\n",
      "llama_print_timings:        load time =     577.18 ms\n",
      "llama_print_timings:      sample time =       9.01 ms /    19 runs   (    0.47 ms per token,  2108.30 tokens per second)\n",
      "llama_print_timings: prompt eval time =    1363.29 ms /   195 tokens (    6.99 ms per token,   143.04 tokens per second)\n",
      "llama_print_timings:        eval time =     801.48 ms /    18 runs   (   44.53 ms per token,    22.46 tokens per second)\n",
      "llama_print_timings:       total time =    2287.94 ms /   213 tokens\n",
      "Llama.generate: prefix-match hit\n"
     ]
    },
    {
     "name": "stdout",
     "output_type": "stream",
     "text": [
      " SELECT COUNT(d.document_id) AS total_documents FROM documents d;\n",
      "index is 299\n"
     ]
    },
    {
     "name": "stderr",
     "output_type": "stream",
     "text": [
      "\n",
      "llama_print_timings:        load time =     577.18 ms\n",
      "llama_print_timings:      sample time =       8.94 ms /    19 runs   (    0.47 ms per token,  2126.47 tokens per second)\n",
      "llama_print_timings: prompt eval time =    1308.93 ms /   191 tokens (    6.85 ms per token,   145.92 tokens per second)\n",
      "llama_print_timings:        eval time =     804.42 ms /    18 runs   (   44.69 ms per token,    22.38 tokens per second)\n",
      "llama_print_timings:       total time =    2235.87 ms /   209 tokens\n",
      "Llama.generate: prefix-match hit\n"
     ]
    },
    {
     "name": "stdout",
     "output_type": "stream",
     "text": [
      " SELECT d.document_id, d.document_name, d.document_description FROM documents d ORDER BY d.document_id NULLS LAST;\n",
      "index is 300\n"
     ]
    },
    {
     "name": "stderr",
     "output_type": "stream",
     "text": [
      "\n",
      "llama_print_timings:        load time =     577.18 ms\n",
      "llama_print_timings:      sample time =      15.62 ms /    34 runs   (    0.46 ms per token,  2176.56 tokens per second)\n",
      "llama_print_timings: prompt eval time =    1420.04 ms /   208 tokens (    6.83 ms per token,   146.47 tokens per second)\n",
      "llama_print_timings:        eval time =    1527.43 ms /    34 runs   (   44.92 ms per token,    22.26 tokens per second)\n",
      "llama_print_timings:       total time =    3134.60 ms /   242 tokens\n",
      "Llama.generate: prefix-match hit\n"
     ]
    },
    {
     "name": "stdout",
     "output_type": "stream",
     "text": [
      " SELECT d.document_id, d.document_name, d.document_description FROM documents d ORDER BY d.document_id NULLS LAST;\n",
      "index is 301\n"
     ]
    },
    {
     "name": "stderr",
     "output_type": "stream",
     "text": [
      "\n",
      "llama_print_timings:        load time =     577.18 ms\n",
      "llama_print_timings:      sample time =      15.85 ms /    34 runs   (    0.47 ms per token,  2145.38 tokens per second)\n",
      "llama_print_timings: prompt eval time =    1420.49 ms /   208 tokens (    6.83 ms per token,   146.43 tokens per second)\n",
      "llama_print_timings:        eval time =    1527.07 ms /    34 runs   (   44.91 ms per token,    22.26 tokens per second)\n",
      "llama_print_timings:       total time =    3135.43 ms /   242 tokens\n",
      "Llama.generate: prefix-match hit\n"
     ]
    },
    {
     "name": "stdout",
     "output_type": "stream",
     "text": [
      " SELECT d.document_name, d.template_id FROM documents d WHERE d.document_description ilike '%w%';\n",
      "index is 302\n"
     ]
    },
    {
     "name": "stderr",
     "output_type": "stream",
     "text": [
      "\n",
      "llama_print_timings:        load time =     577.18 ms\n",
      "llama_print_timings:      sample time =      12.95 ms /    28 runs   (    0.46 ms per token,  2162.00 tokens per second)\n",
      "llama_print_timings: prompt eval time =    1549.94 ms /   222 tokens (    6.98 ms per token,   143.23 tokens per second)\n",
      "llama_print_timings:        eval time =    1214.89 ms /    27 runs   (   45.00 ms per token,    22.22 tokens per second)\n",
      "llama_print_timings:       total time =    2928.09 ms /   249 tokens\n",
      "Llama.generate: prefix-match hit\n"
     ]
    },
    {
     "name": "stdout",
     "output_type": "stream",
     "text": [
      " SELECT d.document_name, d.template_id FROM documents d WHERE d.document_description ilike '%w%';\n",
      "index is 303\n"
     ]
    },
    {
     "name": "stderr",
     "output_type": "stream",
     "text": [
      "\n",
      "llama_print_timings:        load time =     577.18 ms\n",
      "llama_print_timings:      sample time =      13.17 ms /    28 runs   (    0.47 ms per token,  2125.40 tokens per second)\n",
      "llama_print_timings: prompt eval time =    1469.00 ms /   213 tokens (    6.90 ms per token,   145.00 tokens per second)\n",
      "llama_print_timings:        eval time =    1212.87 ms /    27 runs   (   44.92 ms per token,    22.26 tokens per second)\n",
      "llama_print_timings:       total time =    2842.64 ms /   240 tokens\n",
      "Llama.generate: prefix-match hit\n"
     ]
    },
    {
     "name": "stdout",
     "output_type": "stream",
     "text": [
      " SELECT d.document_id, d.template_id, d.document_description FROM documents d WHERE d.document_name ilike '%Robbin%CV%'\n",
      "index is 304\n"
     ]
    },
    {
     "name": "stderr",
     "output_type": "stream",
     "text": [
      "\n",
      "llama_print_timings:        load time =     577.18 ms\n",
      "llama_print_timings:      sample time =      16.82 ms /    36 runs   (    0.47 ms per token,  2140.95 tokens per second)\n",
      "llama_print_timings: prompt eval time =    1478.12 ms /   216 tokens (    6.84 ms per token,   146.13 tokens per second)\n",
      "llama_print_timings:        eval time =    1619.80 ms /    36 runs   (   44.99 ms per token,    22.23 tokens per second)\n",
      "llama_print_timings:       total time =    3293.38 ms /   252 tokens\n",
      "Llama.generate: prefix-match hit\n"
     ]
    },
    {
     "name": "stdout",
     "output_type": "stream",
     "text": [
      " SELECT d.document_id, d.template_id, d.document_description FROM documents d WHERE d.document_name = 'Robbin CV';\n",
      "index is 305\n"
     ]
    },
    {
     "name": "stderr",
     "output_type": "stream",
     "text": [
      "\n",
      "llama_print_timings:        load time =     577.18 ms\n",
      "llama_print_timings:      sample time =      15.63 ms /    34 runs   (    0.46 ms per token,  2175.72 tokens per second)\n",
      "llama_print_timings: prompt eval time =    1524.22 ms /   219 tokens (    6.96 ms per token,   143.68 tokens per second)\n",
      "llama_print_timings:        eval time =    1482.71 ms /    33 runs   (   44.93 ms per token,    22.26 tokens per second)\n",
      "llama_print_timings:       total time =    3194.17 ms /   252 tokens\n",
      "Llama.generate: prefix-match hit\n"
     ]
    },
    {
     "name": "stdout",
     "output_type": "stream",
     "text": [
      " SELECT COUNT(DISTINCT d.template_id) AS number_of_templates FROM documents d;\n",
      "index is 306\n"
     ]
    },
    {
     "name": "stderr",
     "output_type": "stream",
     "text": [
      "\n",
      "llama_print_timings:        load time =     577.18 ms\n",
      "llama_print_timings:      sample time =      10.99 ms /    23 runs   (    0.48 ms per token,  2093.00 tokens per second)\n",
      "llama_print_timings: prompt eval time =    1363.51 ms /   199 tokens (    6.85 ms per token,   145.95 tokens per second)\n",
      "llama_print_timings:        eval time =     985.99 ms /    22 runs   (   44.82 ms per token,    22.31 tokens per second)\n",
      "llama_print_timings:       total time =    2489.91 ms /   221 tokens\n",
      "Llama.generate: prefix-match hit\n"
     ]
    },
    {
     "name": "stdout",
     "output_type": "stream",
     "text": [
      " SELECT COUNT(DISTINCT d.template_id) AS num_templates FROM documents d;\n",
      "index is 307\n"
     ]
    },
    {
     "name": "stderr",
     "output_type": "stream",
     "text": [
      "\n",
      "llama_print_timings:        load time =     577.18 ms\n",
      "llama_print_timings:      sample time =       9.82 ms /    21 runs   (    0.47 ms per token,  2137.84 tokens per second)\n",
      "llama_print_timings: prompt eval time =    1360.64 ms /   199 tokens (    6.84 ms per token,   146.25 tokens per second)\n",
      "llama_print_timings:        eval time =     897.76 ms /    20 runs   (   44.89 ms per token,    22.28 tokens per second)\n",
      "llama_print_timings:       total time =    2389.20 ms /   219 tokens\n",
      "Llama.generate: prefix-match hit\n"
     ]
    },
    {
     "name": "stdout",
     "output_type": "stream",
     "text": [
      " SELECT COUNT(d.document_id) FROM documents d JOIN templates t ON d.template_id = t.template_id WHERE t.template_type_code = 'PPT';\n",
      "index is 308\n"
     ]
    },
    {
     "name": "stderr",
     "output_type": "stream",
     "text": [
      "\n",
      "llama_print_timings:        load time =     577.18 ms\n",
      "llama_print_timings:      sample time =      19.72 ms /    41 runs   (    0.48 ms per token,  2079.42 tokens per second)\n",
      "llama_print_timings: prompt eval time =    2479.09 ms /   359 tokens (    6.91 ms per token,   144.81 tokens per second)\n",
      "llama_print_timings:        eval time =    1815.44 ms /    40 runs   (   45.39 ms per token,    22.03 tokens per second)\n",
      "llama_print_timings:       total time =    4548.36 ms /   399 tokens\n",
      "Llama.generate: prefix-match hit\n"
     ]
    },
    {
     "name": "stdout",
     "output_type": "stream",
     "text": [
      " SELECT COUNT(d.document_id) FROM documents d JOIN templates t ON d.template_id = t.template_id WHERE t.template_type_code = 'PPT';\n",
      "index is 309\n"
     ]
    },
    {
     "name": "stderr",
     "output_type": "stream",
     "text": [
      "\n",
      "llama_print_timings:        load time =     577.18 ms\n",
      "llama_print_timings:      sample time =      19.26 ms /    41 runs   (    0.47 ms per token,  2129.10 tokens per second)\n",
      "llama_print_timings: prompt eval time =    2866.23 ms /   416 tokens (    6.89 ms per token,   145.14 tokens per second)\n",
      "llama_print_timings:        eval time =    1865.96 ms /    41 runs   (   45.51 ms per token,    21.97 tokens per second)\n",
      "llama_print_timings:       total time =    5008.74 ms /   457 tokens\n",
      "Llama.generate: prefix-match hit\n"
     ]
    },
    {
     "name": "stdout",
     "output_type": "stream",
     "text": [
      " SELECT t.template_id, COUNT(d.document_id) AS document_count FROM templates t JOIN documents d ON t.template_id = d.template_id GROUP BY t.template_id ORDER BY document_count DESC NULLS LAST;\n",
      "index is 310\n"
     ]
    },
    {
     "name": "stderr",
     "output_type": "stream",
     "text": [
      "\n",
      "llama_print_timings:        load time =     577.18 ms\n",
      "llama_print_timings:      sample time =      26.17 ms /    56 runs   (    0.47 ms per token,  2139.53 tokens per second)\n",
      "llama_print_timings: prompt eval time =    2421.70 ms /   351 tokens (    6.90 ms per token,   144.94 tokens per second)\n",
      "llama_print_timings:        eval time =    2495.93 ms /    55 runs   (   45.38 ms per token,    22.04 tokens per second)\n",
      "llama_print_timings:       total time =    5228.87 ms /   406 tokens\n",
      "Llama.generate: prefix-match hit\n"
     ]
    },
    {
     "name": "stdout",
     "output_type": "stream",
     "text": [
      " SELECT d.template_id, COUNT(d.document_id) AS document_count FROM \"Documents\" d GROUP BY d.template_id ORDER BY document_count DESC NULLS LAST;\n",
      "index is 311\n"
     ]
    },
    {
     "name": "stderr",
     "output_type": "stream",
     "text": [
      "\n",
      "llama_print_timings:        load time =     577.18 ms\n",
      "llama_print_timings:      sample time =      20.48 ms /    43 runs   (    0.48 ms per token,  2099.71 tokens per second)\n",
      "llama_print_timings: prompt eval time =    1542.15 ms /   221 tokens (    6.98 ms per token,   143.31 tokens per second)\n",
      "llama_print_timings:        eval time =    1891.20 ms /    42 runs   (   45.03 ms per token,    22.21 tokens per second)\n",
      "llama_print_timings:       total time =    3654.22 ms /   263 tokens\n",
      "Llama.generate: prefix-match hit\n"
     ]
    },
    {
     "name": "stdout",
     "output_type": "stream",
     "text": [
      " SELECT t.template_id, t.template_type_code FROM (SELECT d.template_id, COUNT(d.document_id) AS num_documents FROM \"Documents\" d GROUP BY d.template_id ORDER BY num_documents DESC LIMIT 1) AS t;\n",
      "index is 312\n"
     ]
    },
    {
     "name": "stderr",
     "output_type": "stream",
     "text": [
      "\n",
      "llama_print_timings:        load time =     577.18 ms\n",
      "llama_print_timings:      sample time =      29.51 ms /    63 runs   (    0.47 ms per token,  2134.87 tokens per second)\n",
      "llama_print_timings: prompt eval time =    2472.29 ms /   360 tokens (    6.87 ms per token,   145.61 tokens per second)\n",
      "llama_print_timings:        eval time =    2810.03 ms /    62 runs   (   45.32 ms per token,    22.06 tokens per second)\n",
      "llama_print_timings:       total time =    5629.36 ms /   422 tokens\n",
      "Llama.generate: prefix-match hit\n"
     ]
    },
    {
     "name": "stdout",
     "output_type": "stream",
     "text": [
      " SELECT d.template_id, t.template_type_code FROM documents d JOIN templates t ON d.template_id = t.template_id GROUP BY d.template_id, t.template_type_code ORDER BY COUNT(d.document_id) DESC LIMIT 1;\n",
      "index is 313\n"
     ]
    },
    {
     "name": "stderr",
     "output_type": "stream",
     "text": [
      "\n",
      "llama_print_timings:        load time =     577.18 ms\n",
      "llama_print_timings:      sample time =      29.09 ms /    63 runs   (    0.46 ms per token,  2166.06 tokens per second)\n",
      "llama_print_timings: prompt eval time =    2526.42 ms /   365 tokens (    6.92 ms per token,   144.47 tokens per second)\n",
      "llama_print_timings:        eval time =    2807.88 ms /    62 runs   (   45.29 ms per token,    22.08 tokens per second)\n",
      "llama_print_timings:       total time =    5681.73 ms /   427 tokens\n",
      "Llama.generate: prefix-match hit\n"
     ]
    },
    {
     "name": "stdout",
     "output_type": "stream",
     "text": [
      " SELECT t.template_id FROM \"Templates\" t JOIN \"Documents\" d ON t.template_id = d.template_id GROUP BY t.template_id HAVING COUNT(d.document_id) > 1;\n",
      "index is 314\n"
     ]
    },
    {
     "name": "stderr",
     "output_type": "stream",
     "text": [
      "\n",
      "llama_print_timings:        load time =     577.18 ms\n",
      "llama_print_timings:      sample time =      24.34 ms /    52 runs   (    0.47 ms per token,  2136.49 tokens per second)\n",
      "llama_print_timings: prompt eval time =    2467.47 ms /   355 tokens (    6.95 ms per token,   143.87 tokens per second)\n",
      "llama_print_timings:        eval time =    2297.35 ms /    51 runs   (   45.05 ms per token,    22.20 tokens per second)\n",
      "llama_print_timings:       total time =    5058.42 ms /   406 tokens\n",
      "Llama.generate: prefix-match hit\n"
     ]
    },
    {
     "name": "stdout",
     "output_type": "stream",
     "text": [
      " SELECT t.template_id FROM templates t JOIN documents d ON t.template_id = d.template_id GROUP BY t.template_id HAVING COUNT(d.document_id) > 1;\n",
      "index is 315\n"
     ]
    },
    {
     "name": "stderr",
     "output_type": "stream",
     "text": [
      "\n",
      "llama_print_timings:        load time =     577.18 ms\n",
      "llama_print_timings:      sample time =      22.55 ms /    47 runs   (    0.48 ms per token,  2084.26 tokens per second)\n",
      "llama_print_timings: prompt eval time =    2478.06 ms /   360 tokens (    6.88 ms per token,   145.27 tokens per second)\n",
      "llama_print_timings:        eval time =    2118.92 ms /    47 runs   (   45.08 ms per token,    22.18 tokens per second)\n",
      "llama_print_timings:       total time =    4875.59 ms /   407 tokens\n",
      "Llama.generate: prefix-match hit\n"
     ]
    },
    {
     "name": "stdout",
     "output_type": "stream",
     "text": [
      " SELECT t.template_id FROM templates t LEFT JOIN documents d ON t.template_id = d.template_id WHERE d.template_id IS NULL;\n",
      "index is 316\n"
     ]
    },
    {
     "name": "stderr",
     "output_type": "stream",
     "text": [
      "\n",
      "llama_print_timings:        load time =     577.18 ms\n",
      "llama_print_timings:      sample time =      16.36 ms /    35 runs   (    0.47 ms per token,  2139.89 tokens per second)\n",
      "llama_print_timings: prompt eval time =    2414.32 ms /   349 tokens (    6.92 ms per token,   144.55 tokens per second)\n",
      "llama_print_timings:        eval time =    1530.15 ms /    34 runs   (   45.00 ms per token,    22.22 tokens per second)\n",
      "llama_print_timings:       total time =    4178.50 ms /   383 tokens\n",
      "Llama.generate: prefix-match hit\n"
     ]
    },
    {
     "name": "stdout",
     "output_type": "stream",
     "text": [
      " SELECT t.template_id FROM templates t LEFT JOIN documents d ON t.template_id = d.template_id WHERE d.template_id IS NULL;\n",
      "index is 317\n"
     ]
    },
    {
     "name": "stderr",
     "output_type": "stream",
     "text": [
      "\n",
      "llama_print_timings:        load time =     577.18 ms\n",
      "llama_print_timings:      sample time =      16.27 ms /    35 runs   (    0.46 ms per token,  2150.93 tokens per second)\n",
      "llama_print_timings: prompt eval time =    2470.39 ms /   357 tokens (    6.92 ms per token,   144.51 tokens per second)\n",
      "llama_print_timings:        eval time =    1541.37 ms /    34 runs   (   45.33 ms per token,    22.06 tokens per second)\n",
      "llama_print_timings:       total time =    4240.99 ms /   391 tokens\n",
      "Llama.generate: prefix-match hit\n"
     ]
    },
    {
     "name": "stdout",
     "output_type": "stream",
     "text": [
      " SELECT COUNT(t.template_id) AS total_templates FROM templates t;\n",
      "index is 318\n"
     ]
    },
    {
     "name": "stderr",
     "output_type": "stream",
     "text": [
      "\n",
      "llama_print_timings:        load time =     577.18 ms\n",
      "llama_print_timings:      sample time =       8.58 ms /    18 runs   (    0.48 ms per token,  2098.15 tokens per second)\n",
      "llama_print_timings: prompt eval time =    1577.86 ms /   228 tokens (    6.92 ms per token,   144.50 tokens per second)\n",
      "llama_print_timings:        eval time =     760.02 ms /    17 runs   (   44.71 ms per token,    22.37 tokens per second)\n",
      "llama_print_timings:       total time =    2467.61 ms /   245 tokens\n",
      "Llama.generate: prefix-match hit\n"
     ]
    },
    {
     "name": "stdout",
     "output_type": "stream",
     "text": [
      " SELECT COUNT(t.template_id) AS total_templates FROM templates t;\n",
      "index is 319\n"
     ]
    },
    {
     "name": "stderr",
     "output_type": "stream",
     "text": [
      "\n",
      "llama_print_timings:        load time =     577.18 ms\n",
      "llama_print_timings:      sample time =       8.47 ms /    18 runs   (    0.47 ms per token,  2124.14 tokens per second)\n",
      "llama_print_timings: prompt eval time =    1530.31 ms /   224 tokens (    6.83 ms per token,   146.38 tokens per second)\n",
      "llama_print_timings:        eval time =     758.73 ms /    17 runs   (   44.63 ms per token,    22.41 tokens per second)\n",
      "llama_print_timings:       total time =    2418.07 ms /   241 tokens\n",
      "Llama.generate: prefix-match hit\n"
     ]
    },
    {
     "name": "stdout",
     "output_type": "stream",
     "text": [
      " SELECT t.template_id, t.version_number, t.template_type_code FROM \"Templates\" t ORDER BY t.template_id NULLS LAST;\n",
      "index is 320\n"
     ]
    },
    {
     "name": "stderr",
     "output_type": "stream",
     "text": [
      "\n",
      "llama_print_timings:        load time =     577.18 ms\n",
      "llama_print_timings:      sample time =      18.01 ms /    39 runs   (    0.46 ms per token,  2164.98 tokens per second)\n",
      "llama_print_timings: prompt eval time =    1687.52 ms /   242 tokens (    6.97 ms per token,   143.41 tokens per second)\n",
      "llama_print_timings:        eval time =    1701.27 ms /    38 runs   (   44.77 ms per token,    22.34 tokens per second)\n",
      "llama_print_timings:       total time =    3601.14 ms /   280 tokens\n",
      "Llama.generate: prefix-match hit\n"
     ]
    },
    {
     "name": "stdout",
     "output_type": "stream",
     "text": [
      " SELECT t.template_id, t.version_number, t.template_type_code FROM templates t;\n",
      "index is 321\n"
     ]
    },
    {
     "name": "stderr",
     "output_type": "stream",
     "text": [
      "\n",
      "llama_print_timings:        load time =     577.18 ms\n",
      "llama_print_timings:      sample time =      11.82 ms /    25 runs   (    0.47 ms per token,  2114.34 tokens per second)\n",
      "llama_print_timings: prompt eval time =    1688.75 ms /   244 tokens (    6.92 ms per token,   144.49 tokens per second)\n",
      "llama_print_timings:        eval time =    1074.39 ms /    24 runs   (   44.77 ms per token,    22.34 tokens per second)\n",
      "llama_print_timings:       total time =    2925.09 ms /   268 tokens\n",
      "Llama.generate: prefix-match hit\n"
     ]
    },
    {
     "name": "stdout",
     "output_type": "stream",
     "text": [
      " SELECT DISTINCT t.template_type_code FROM templates t;\n",
      "index is 322\n"
     ]
    },
    {
     "name": "stderr",
     "output_type": "stream",
     "text": [
      "\n",
      "llama_print_timings:        load time =     577.18 ms\n",
      "llama_print_timings:      sample time =       7.43 ms /    16 runs   (    0.46 ms per token,  2154.30 tokens per second)\n",
      "llama_print_timings: prompt eval time =    1581.89 ms /   232 tokens (    6.82 ms per token,   146.66 tokens per second)\n",
      "llama_print_timings:        eval time =     671.02 ms /    15 runs   (   44.73 ms per token,    22.35 tokens per second)\n",
      "llama_print_timings:       total time =    2377.78 ms /   247 tokens\n",
      "Llama.generate: prefix-match hit\n"
     ]
    },
    {
     "name": "stdout",
     "output_type": "stream",
     "text": [
      " SELECT tt.template_type_code FROM ref_template_types tt ORDER BY tt.template_type_code NULLS LAST;\n",
      "index is 323\n"
     ]
    },
    {
     "name": "stderr",
     "output_type": "stream",
     "text": [
      "\n",
      "llama_print_timings:        load time =     577.18 ms\n",
      "llama_print_timings:      sample time =      15.80 ms /    33 runs   (    0.48 ms per token,  2088.61 tokens per second)\n",
      "llama_print_timings: prompt eval time =    1027.52 ms /   146 tokens (    7.04 ms per token,   142.09 tokens per second)\n",
      "llama_print_timings:        eval time =    1422.24 ms /    32 runs   (   44.45 ms per token,    22.50 tokens per second)\n",
      "llama_print_timings:       total time =    2613.00 ms /   178 tokens\n",
      "Llama.generate: prefix-match hit\n"
     ]
    },
    {
     "name": "stdout",
     "output_type": "stream",
     "text": [
      " SELECT t.template_id FROM \"Templates\" t WHERE t.template_type_code IN ('PP', 'PPT');\n",
      "index is 324\n"
     ]
    },
    {
     "name": "stderr",
     "output_type": "stream",
     "text": [
      "\n",
      "llama_print_timings:        load time =     577.18 ms\n",
      "llama_print_timings:      sample time =      13.98 ms /    29 runs   (    0.48 ms per token,  2074.99 tokens per second)\n",
      "llama_print_timings: prompt eval time =    1690.26 ms /   243 tokens (    6.96 ms per token,   143.77 tokens per second)\n",
      "llama_print_timings:        eval time =    1254.90 ms /    28 runs   (   44.82 ms per token,    22.31 tokens per second)\n",
      "llama_print_timings:       total time =    3119.69 ms /   271 tokens\n",
      "Llama.generate: prefix-match hit\n"
     ]
    },
    {
     "name": "stdout",
     "output_type": "stream",
     "text": [
      " SELECT t.template_id FROM templates t WHERE t.template_type_code IN ('PP', 'PPT');\n",
      "index is 325\n"
     ]
    },
    {
     "name": "stderr",
     "output_type": "stream",
     "text": [
      "\n",
      "llama_print_timings:        load time =     577.18 ms\n",
      "llama_print_timings:      sample time =      12.16 ms /    26 runs   (    0.47 ms per token,  2137.63 tokens per second)\n",
      "llama_print_timings: prompt eval time =    2135.43 ms /   306 tokens (    6.98 ms per token,   143.30 tokens per second)\n",
      "llama_print_timings:        eval time =    1121.67 ms /    25 runs   (   44.87 ms per token,    22.29 tokens per second)\n",
      "llama_print_timings:       total time =    3439.28 ms /   331 tokens\n",
      "Llama.generate: prefix-match hit\n"
     ]
    },
    {
     "name": "stdout",
     "output_type": "stream",
     "text": [
      " SELECT COUNT(*) FROM \"Templates\" t WHERE t.\"Template_Type_Code\" = 'CV';\n",
      "index is 326\n"
     ]
    },
    {
     "name": "stderr",
     "output_type": "stream",
     "text": [
      "\n",
      "llama_print_timings:        load time =     577.18 ms\n",
      "llama_print_timings:      sample time =      10.89 ms /    23 runs   (    0.47 ms per token,  2112.03 tokens per second)\n",
      "llama_print_timings: prompt eval time =    1583.59 ms /   232 tokens (    6.83 ms per token,   146.50 tokens per second)\n",
      "llama_print_timings:        eval time =     983.05 ms /    22 runs   (   44.68 ms per token,    22.38 tokens per second)\n",
      "llama_print_timings:       total time =    2713.40 ms /   254 tokens\n",
      "Llama.generate: prefix-match hit\n"
     ]
    },
    {
     "name": "stdout",
     "output_type": "stream",
     "text": [
      " SELECT COUNT(*) FROM Templates t JOIN Ref_Template_Types rtt ON t.Template_Type_Code = rtt.Template_Type_Code WHERE rtt.Template_Type_Description = 'CV';\n",
      "index is 327\n"
     ]
    },
    {
     "name": "stderr",
     "output_type": "stream",
     "text": [
      "\n",
      "llama_print_timings:        load time =     577.18 ms\n",
      "llama_print_timings:      sample time =      21.30 ms /    46 runs   (    0.46 ms per token,  2160.03 tokens per second)\n",
      "llama_print_timings: prompt eval time =    2025.50 ms /   296 tokens (    6.84 ms per token,   146.14 tokens per second)\n",
      "llama_print_timings:        eval time =    2022.93 ms /    45 runs   (   44.95 ms per token,    22.24 tokens per second)\n",
      "llama_print_timings:       total time =    4302.36 ms /   341 tokens\n",
      "Llama.generate: prefix-match hit\n"
     ]
    },
    {
     "name": "stdout",
     "output_type": "stream",
     "text": [
      " SELECT t.version_number, t.template_type_code FROM templates t WHERE t.version_number > 5;\n",
      "index is 328\n"
     ]
    },
    {
     "name": "stderr",
     "output_type": "stream",
     "text": [
      "\n",
      "llama_print_timings:        load time =     577.18 ms\n",
      "llama_print_timings:      sample time =      12.81 ms /    28 runs   (    0.46 ms per token,  2186.13 tokens per second)\n",
      "llama_print_timings: prompt eval time =    1749.36 ms /   254 tokens (    6.89 ms per token,   145.20 tokens per second)\n",
      "llama_print_timings:        eval time =    1218.83 ms /    27 runs   (   45.14 ms per token,    22.15 tokens per second)\n",
      "llama_print_timings:       total time =    3140.63 ms /   281 tokens\n",
      "Llama.generate: prefix-match hit\n"
     ]
    },
    {
     "name": "stdout",
     "output_type": "stream",
     "text": [
      " SELECT t.version_number, t.template_type_code FROM \"Templates\" t WHERE t.version_number > 5;\n",
      "index is 329\n"
     ]
    },
    {
     "name": "stderr",
     "output_type": "stream",
     "text": [
      "\n",
      "llama_print_timings:        load time =     577.18 ms\n",
      "llama_print_timings:      sample time =      14.76 ms /    31 runs   (    0.48 ms per token,  2100.70 tokens per second)\n",
      "llama_print_timings: prompt eval time =    1741.88 ms /   250 tokens (    6.97 ms per token,   143.52 tokens per second)\n",
      "llama_print_timings:        eval time =    1342.90 ms /    30 runs   (   44.76 ms per token,    22.34 tokens per second)\n",
      "llama_print_timings:       total time =    3269.75 ms /   280 tokens\n",
      "Llama.generate: prefix-match hit\n"
     ]
    },
    {
     "name": "stdout",
     "output_type": "stream",
     "text": [
      " SELECT tt.template_type_code, COUNT(t.template_id) AS number_of_templates FROM templates t JOIN ref_template_types tt ON t.template_type_code = tt.template_type_code GROUP BY tt.template_type_code ORDER BY number_of_templates DESC NULLS LAST;\n",
      "index is 330\n"
     ]
    },
    {
     "name": "stderr",
     "output_type": "stream",
     "text": [
      "\n",
      "llama_print_timings:        load time =     577.18 ms\n",
      "llama_print_timings:      sample time =      35.82 ms /    76 runs   (    0.47 ms per token,  2121.66 tokens per second)\n",
      "llama_print_timings: prompt eval time =    2077.70 ms /   300 tokens (    6.93 ms per token,   144.39 tokens per second)\n",
      "llama_print_timings:        eval time =    3375.72 ms /    75 runs   (   45.01 ms per token,    22.22 tokens per second)\n",
      "llama_print_timings:       total time =    5826.47 ms /   375 tokens\n",
      "Llama.generate: prefix-match hit\n"
     ]
    },
    {
     "name": "stdout",
     "output_type": "stream",
     "text": [
      " SELECT tt.template_type_code, COUNT(t.template_id) AS number_of_templates FROM templates t JOIN ref_template_types tt ON t.template_type_code = tt.template_type_code GROUP BY tt.template_type_code ORDER BY number_of_templates DESC NULLS LAST;\n",
      "index is 331\n"
     ]
    },
    {
     "name": "stderr",
     "output_type": "stream",
     "text": [
      "\n",
      "llama_print_timings:        load time =     577.18 ms\n",
      "llama_print_timings:      sample time =      36.76 ms /    76 runs   (    0.48 ms per token,  2067.41 tokens per second)\n",
      "llama_print_timings: prompt eval time =    2139.54 ms /   310 tokens (    6.90 ms per token,   144.89 tokens per second)\n",
      "llama_print_timings:        eval time =    3389.21 ms /    75 runs   (   45.19 ms per token,    22.13 tokens per second)\n",
      "llama_print_timings:       total time =    5906.57 ms /   385 tokens\n",
      "Llama.generate: prefix-match hit\n"
     ]
    },
    {
     "name": "stdout",
     "output_type": "stream",
     "text": [
      " SELECT \"t\".Template_Type_Code, COUNT(*) AS Template_Count FROM \"Templates\" \"t\" GROUP BY \"t\".Template_Type_Code ORDER BY Template_Count DESC LIMIT 1;\n",
      "index is 332\n"
     ]
    },
    {
     "name": "stderr",
     "output_type": "stream",
     "text": [
      "\n",
      "llama_print_timings:        load time =     577.18 ms\n",
      "llama_print_timings:      sample time =      21.70 ms /    45 runs   (    0.48 ms per token,  2073.64 tokens per second)\n",
      "llama_print_timings: prompt eval time =    1631.41 ms /   236 tokens (    6.91 ms per token,   144.66 tokens per second)\n",
      "llama_print_timings:        eval time =    1982.26 ms /    44 runs   (   45.05 ms per token,    22.20 tokens per second)\n",
      "llama_print_timings:       total time =    3851.71 ms /   280 tokens\n",
      "Llama.generate: prefix-match hit\n"
     ]
    },
    {
     "name": "stdout",
     "output_type": "stream",
     "text": [
      " SELECT \"Ref_Template_Types\".\"Template_Type_Code\" FROM \"Templates\" JOIN \"Ref_Template_Types\" ON \"Templates\".\"Template_Type_Code\" = \"Ref_Template_Types\".\"Template_Type_Code\" GROUP BY \"Ref_Template_Types\".\"Template_Type_Code\" ORDER BY COUNT(DISTINCT \"Templates\".\"Template_ID\") DESC LIMIT 1;\n",
      "index is 333\n"
     ]
    },
    {
     "name": "stderr",
     "output_type": "stream",
     "text": [
      "\n",
      "llama_print_timings:        load time =     577.18 ms\n",
      "llama_print_timings:      sample time =      42.79 ms /    93 runs   (    0.46 ms per token,  2173.61 tokens per second)\n",
      "llama_print_timings: prompt eval time =    2130.62 ms /   306 tokens (    6.96 ms per token,   143.62 tokens per second)\n",
      "llama_print_timings:        eval time =    4137.96 ms /    92 runs   (   44.98 ms per token,    22.23 tokens per second)\n",
      "llama_print_timings:       total time =    6711.64 ms /   398 tokens\n",
      "Llama.generate: prefix-match hit\n"
     ]
    },
    {
     "name": "stdout",
     "output_type": "stream",
     "text": [
      " SELECT tt.template_type_code FROM ref_template_types tt JOIN (SELECT template_type_code, COUNT(*) AS num_templates FROM templates GROUP BY template_type_code HAVING COUNT(*) < 3) AS subquery ON tt.template_type_code = subquery.template_type_code ORDER BY tt.template_type_code NULLS LAST;\n",
      "index is 334\n"
     ]
    },
    {
     "name": "stderr",
     "output_type": "stream",
     "text": [
      "\n",
      "llama_print_timings:        load time =     577.18 ms\n",
      "llama_print_timings:      sample time =      41.25 ms /    87 runs   (    0.47 ms per token,  2109.19 tokens per second)\n",
      "llama_print_timings: prompt eval time =    2072.84 ms /   298 tokens (    6.96 ms per token,   143.76 tokens per second)\n",
      "llama_print_timings:        eval time =    3888.14 ms /    86 runs   (   45.21 ms per token,    22.12 tokens per second)\n",
      "llama_print_timings:       total time =    6377.14 ms /   384 tokens\n",
      "Llama.generate: prefix-match hit\n"
     ]
    },
    {
     "name": "stdout",
     "output_type": "stream",
     "text": [
      " SELECT tt.template_type_code FROM ref_template_types tt JOIN templates t ON tt.template_type_code = t.template_type_code GROUP BY tt.template_type_code HAVING COUNT(t.template_id) < 3;\n",
      "index is 335\n"
     ]
    },
    {
     "name": "stderr",
     "output_type": "stream",
     "text": [
      "\n",
      "llama_print_timings:        load time =     577.18 ms\n",
      "llama_print_timings:      sample time =      30.29 ms /    63 runs   (    0.48 ms per token,  2080.03 tokens per second)\n",
      "llama_print_timings: prompt eval time =    2131.49 ms /   308 tokens (    6.92 ms per token,   144.50 tokens per second)\n",
      "llama_print_timings:        eval time =    2786.21 ms /    62 runs   (   44.94 ms per token,    22.25 tokens per second)\n",
      "llama_print_timings:       total time =    5241.01 ms /   370 tokens\n",
      "Llama.generate: prefix-match hit\n"
     ]
    },
    {
     "name": "stdout",
     "output_type": "stream",
     "text": [
      " SELECT MIN(t.version_number) AS min_version_number, t.template_type_code FROM templates t GROUP BY t.template_type_code;\n",
      "index is 336\n"
     ]
    },
    {
     "name": "stderr",
     "output_type": "stream",
     "text": [
      "\n",
      "llama_print_timings:        load time =     577.18 ms\n",
      "llama_print_timings:      sample time =      18.11 ms /    38 runs   (    0.48 ms per token,  2098.64 tokens per second)\n",
      "llama_print_timings: prompt eval time =    1630.65 ms /   235 tokens (    6.94 ms per token,   144.11 tokens per second)\n",
      "llama_print_timings:        eval time =    1669.72 ms /    37 runs   (   45.13 ms per token,    22.16 tokens per second)\n",
      "llama_print_timings:       total time =    3507.80 ms /   272 tokens\n",
      "Llama.generate: prefix-match hit\n"
     ]
    },
    {
     "name": "stdout",
     "output_type": "stream",
     "text": [
      " SELECT MIN(t.version_number) AS min_version_number, t.template_type_code FROM templates t GROUP BY t.template_type_code;\n",
      "index is 337\n"
     ]
    },
    {
     "name": "stderr",
     "output_type": "stream",
     "text": [
      "\n",
      "llama_print_timings:        load time =     577.18 ms\n",
      "llama_print_timings:      sample time =      17.94 ms /    38 runs   (    0.47 ms per token,  2118.17 tokens per second)\n",
      "llama_print_timings: prompt eval time =    1641.50 ms /   240 tokens (    6.84 ms per token,   146.21 tokens per second)\n",
      "llama_print_timings:        eval time =    1669.11 ms /    37 runs   (   45.11 ms per token,    22.17 tokens per second)\n",
      "llama_print_timings:       total time =    3522.52 ms /   277 tokens\n",
      "Llama.generate: prefix-match hit\n"
     ]
    },
    {
     "name": "stdout",
     "output_type": "stream",
     "text": [
      " SELECT t.template_type_code FROM \"Documents\" d JOIN \"Templates\" t ON d.template_id = t.template_id WHERE d.document_name = 'Data base';\n",
      "index is 338\n"
     ]
    },
    {
     "name": "stderr",
     "output_type": "stream",
     "text": [
      "\n",
      "llama_print_timings:        load time =     577.18 ms\n",
      "llama_print_timings:      sample time =      20.27 ms /    43 runs   (    0.47 ms per token,  2121.26 tokens per second)\n",
      "llama_print_timings: prompt eval time =    2526.70 ms /   367 tokens (    6.88 ms per token,   145.25 tokens per second)\n",
      "llama_print_timings:        eval time =    1902.69 ms /    42 runs   (   45.30 ms per token,    22.07 tokens per second)\n",
      "llama_print_timings:       total time =    4692.77 ms /   409 tokens\n",
      "Llama.generate: prefix-match hit\n"
     ]
    },
    {
     "name": "stdout",
     "output_type": "stream",
     "text": [
      " SELECT t.template_type_code FROM \"Documents\" d JOIN \"Templates\" t ON d.template_id = t.template_id WHERE d.document_name = 'Data base';\n",
      "index is 339\n"
     ]
    },
    {
     "name": "stderr",
     "output_type": "stream",
     "text": [
      "\n",
      "llama_print_timings:        load time =     577.18 ms\n",
      "llama_print_timings:      sample time =      20.16 ms /    43 runs   (    0.47 ms per token,  2133.15 tokens per second)\n",
      "llama_print_timings: prompt eval time =    2523.82 ms /   363 tokens (    6.95 ms per token,   143.83 tokens per second)\n",
      "llama_print_timings:        eval time =    1892.47 ms /    42 runs   (   45.06 ms per token,    22.19 tokens per second)\n",
      "llama_print_timings:       total time =    4677.67 ms /   405 tokens\n",
      "Llama.generate: prefix-match hit\n"
     ]
    },
    {
     "name": "stdout",
     "output_type": "stream",
     "text": [
      " SELECT d.document_name FROM documents d JOIN templates t ON d.template_id = t.template_id WHERE t.template_type_code = 'BK';\n",
      "index is 340\n"
     ]
    },
    {
     "name": "stderr",
     "output_type": "stream",
     "text": [
      "\n",
      "llama_print_timings:        load time =     577.18 ms\n",
      "llama_print_timings:      sample time =      17.85 ms /    38 runs   (    0.47 ms per token,  2128.49 tokens per second)\n",
      "llama_print_timings: prompt eval time =    2418.38 ms /   352 tokens (    6.87 ms per token,   145.55 tokens per second)\n",
      "llama_print_timings:        eval time =    1722.70 ms /    38 runs   (   45.33 ms per token,    22.06 tokens per second)\n",
      "llama_print_timings:       total time =    4381.67 ms /   390 tokens\n",
      "Llama.generate: prefix-match hit\n"
     ]
    },
    {
     "name": "stdout",
     "output_type": "stream",
     "text": [
      " SELECT d.document_name FROM documents d JOIN templates t ON d.template_id = t.template_id WHERE t.template_type_code = 'BK';\n",
      "index is 341\n"
     ]
    },
    {
     "name": "stderr",
     "output_type": "stream",
     "text": [
      "\n",
      "llama_print_timings:        load time =     577.18 ms\n",
      "llama_print_timings:      sample time =      18.00 ms /    38 runs   (    0.47 ms per token,  2111.35 tokens per second)\n",
      "llama_print_timings: prompt eval time =    2921.22 ms /   423 tokens (    6.91 ms per token,   144.80 tokens per second)\n",
      "llama_print_timings:        eval time =    1684.45 ms /    37 runs   (   45.53 ms per token,    21.97 tokens per second)\n",
      "llama_print_timings:       total time =    4864.27 ms /   460 tokens\n",
      "Llama.generate: prefix-match hit\n"
     ]
    },
    {
     "name": "stdout",
     "output_type": "stream",
     "text": [
      " SELECT tt.template_type_code, COUNT(DISTINCT d.document_id) AS document_count FROM templates t JOIN ref_template_types tt ON t.template_type_code = tt.template_type_code JOIN documents d ON t.template_id = d.template_id GROUP BY tt.template_type_code ORDER BY document_count DESC NULLS LAST;\n",
      "index is 342\n"
     ]
    },
    {
     "name": "stderr",
     "output_type": "stream",
     "text": [
      "\n",
      "llama_print_timings:        load time =     577.18 ms\n",
      "llama_print_timings:      sample time =      41.88 ms /    90 runs   (    0.47 ms per token,  2148.74 tokens per second)\n",
      "llama_print_timings: prompt eval time =    2921.09 ms /   419 tokens (    6.97 ms per token,   143.44 tokens per second)\n",
      "llama_print_timings:        eval time =    4061.30 ms /    89 runs   (   45.63 ms per token,    21.91 tokens per second)\n",
      "llama_print_timings:       total time =    7446.44 ms /   508 tokens\n",
      "Llama.generate: prefix-match hit\n"
     ]
    },
    {
     "name": "stdout",
     "output_type": "stream",
     "text": [
      " SELECT tt.template_type_code, COUNT(d.document_id) AS document_count FROM templates t JOIN ref_template_types tt ON t.template_type_code = tt.template_type_code JOIN documents d ON t.template_id = d.template_id GROUP BY tt.template_type_code ORDER BY document_count DESC NULLS LAST;\n",
      "index is 343\n"
     ]
    },
    {
     "name": "stderr",
     "output_type": "stream",
     "text": [
      "\n",
      "llama_print_timings:        load time =     577.18 ms\n",
      "llama_print_timings:      sample time =      42.19 ms /    87 runs   (    0.48 ms per token,  2062.25 tokens per second)\n",
      "llama_print_timings: prompt eval time =    2921.70 ms /   424 tokens (    6.89 ms per token,   145.12 tokens per second)\n",
      "llama_print_timings:        eval time =    3961.84 ms /    87 runs   (   45.54 ms per token,    21.96 tokens per second)\n",
      "llama_print_timings:       total time =    7348.08 ms /   511 tokens\n",
      "Llama.generate: prefix-match hit\n"
     ]
    },
    {
     "name": "stdout",
     "output_type": "stream",
     "text": [
      " SELECT t.template_type_code, COUNT(d.document_id) AS document_count FROM \"Documents\" d JOIN \"Templates\" t ON d.template_id = t.template_id GROUP BY t.template_type_code ORDER BY document_count DESC LIMIT 1;\n",
      "index is 344\n"
     ]
    },
    {
     "name": "stderr",
     "output_type": "stream",
     "text": [
      "\n",
      "llama_print_timings:        load time =     577.18 ms\n",
      "llama_print_timings:      sample time =      30.07 ms /    64 runs   (    0.47 ms per token,  2128.30 tokens per second)\n",
      "llama_print_timings: prompt eval time =    2471.99 ms /   355 tokens (    6.96 ms per token,   143.61 tokens per second)\n",
      "llama_print_timings:        eval time =    2840.76 ms /    63 runs   (   45.09 ms per token,    22.18 tokens per second)\n",
      "llama_print_timings:       total time =    5665.76 ms /   418 tokens\n",
      "Llama.generate: prefix-match hit\n"
     ]
    },
    {
     "name": "stdout",
     "output_type": "stream",
     "text": [
      " SELECT \"Template_Type_Code\" FROM \"Templates\" t JOIN \"Documents\" d ON t.\"Template_ID\" = d.\"Template_ID\" GROUP BY \"Template_Type_Code\" ORDER BY COUNT(t.\"Template_ID\") DESC LIMIT 1;\n",
      "index is 345\n"
     ]
    },
    {
     "name": "stderr",
     "output_type": "stream",
     "text": [
      "\n",
      "llama_print_timings:        load time =     577.18 ms\n",
      "llama_print_timings:      sample time =      26.89 ms /    58 runs   (    0.46 ms per token,  2156.70 tokens per second)\n",
      "llama_print_timings: prompt eval time =    2918.15 ms /   421 tokens (    6.93 ms per token,   144.27 tokens per second)\n",
      "llama_print_timings:        eval time =    2589.79 ms /    57 runs   (   45.43 ms per token,    22.01 tokens per second)\n",
      "llama_print_timings:       total time =    5849.01 ms /   478 tokens\n",
      "Llama.generate: prefix-match hit\n"
     ]
    },
    {
     "name": "stdout",
     "output_type": "stream",
     "text": [
      " SELECT tt.template_type_code FROM ref_template_types tt LEFT JOIN templates t ON tt.template_type_code = t.template_type_code WHERE t.template_id IS NULL ORDER BY tt.template_type_code NULLS LAST;\n",
      "index is 346\n"
     ]
    },
    {
     "name": "stderr",
     "output_type": "stream",
     "text": [
      "\n",
      "llama_print_timings:        load time =     577.18 ms\n",
      "llama_print_timings:      sample time =      29.53 ms /    62 runs   (    0.48 ms per token,  2099.56 tokens per second)\n",
      "llama_print_timings: prompt eval time =    2083.70 ms /   302 tokens (    6.90 ms per token,   144.93 tokens per second)\n",
      "llama_print_timings:        eval time =    2761.22 ms /    61 runs   (   45.27 ms per token,    22.09 tokens per second)\n",
      "llama_print_timings:       total time =    5163.55 ms /   363 tokens\n",
      "Llama.generate: prefix-match hit\n"
     ]
    },
    {
     "name": "stdout",
     "output_type": "stream",
     "text": [
      " SELECT \"Template_Type_Code\" FROM \"Ref_Template_Types\" WHERE \"Template_Type_Code\" NOT IN (SELECT \"Template_Type_Code\" FROM \"Templates\") ORDER BY \"Template_Type_Code\" NULLS LAST;\n",
      "index is 347\n"
     ]
    },
    {
     "name": "stderr",
     "output_type": "stream",
     "text": [
      "\n",
      "llama_print_timings:        load time =     577.18 ms\n",
      "llama_print_timings:      sample time =      25.91 ms /    55 runs   (    0.47 ms per token,  2123.14 tokens per second)\n",
      "llama_print_timings: prompt eval time =    2924.15 ms /   423 tokens (    6.91 ms per token,   144.66 tokens per second)\n",
      "llama_print_timings:        eval time =    2443.01 ms /    54 runs   (   45.24 ms per token,    22.10 tokens per second)\n",
      "llama_print_timings:       total time =    5689.88 ms /   477 tokens\n",
      "Llama.generate: prefix-match hit\n"
     ]
    },
    {
     "name": "stdout",
     "output_type": "stream",
     "text": [
      " SELECT tt.template_type_code, tt.template_type_description FROM ref_template_types tt;\n",
      "index is 348\n"
     ]
    },
    {
     "name": "stderr",
     "output_type": "stream",
     "text": [
      "\n",
      "llama_print_timings:        load time =     577.18 ms\n",
      "llama_print_timings:      sample time =      13.44 ms /    28 runs   (    0.48 ms per token,  2082.87 tokens per second)\n",
      "llama_print_timings: prompt eval time =    1025.57 ms /   146 tokens (    7.02 ms per token,   142.36 tokens per second)\n",
      "llama_print_timings:        eval time =    1208.09 ms /    27 runs   (   44.74 ms per token,    22.35 tokens per second)\n",
      "llama_print_timings:       total time =    2379.64 ms /   173 tokens\n",
      "Llama.generate: prefix-match hit\n"
     ]
    },
    {
     "name": "stdout",
     "output_type": "stream",
     "text": [
      " SELECT tt.template_type_code, tt.template_type_description FROM ref_template_types tt ORDER BY tt.template_type_code NULLS LAST;\n",
      "index is 349\n"
     ]
    },
    {
     "name": "stderr",
     "output_type": "stream",
     "text": [
      "\n",
      "llama_print_timings:        load time =     577.18 ms\n",
      "llama_print_timings:      sample time =      19.75 ms /    42 runs   (    0.47 ms per token,  2126.37 tokens per second)\n",
      "llama_print_timings: prompt eval time =    1084.87 ms /   156 tokens (    6.95 ms per token,   143.80 tokens per second)\n",
      "llama_print_timings:        eval time =    1836.85 ms /    41 runs   (   44.80 ms per token,    22.32 tokens per second)\n",
      "llama_print_timings:       total time =    3126.87 ms /   197 tokens\n",
      "Llama.generate: prefix-match hit\n"
     ]
    },
    {
     "name": "stdout",
     "output_type": "stream",
     "text": [
      " SELECT rtt.Template_Type_Description FROM Ref_Template_Types rtt WHERE rtt.Template_Type_Code = 'AD';\n",
      "index is 350\n"
     ]
    },
    {
     "name": "stderr",
     "output_type": "stream",
     "text": [
      "\n",
      "llama_print_timings:        load time =     577.18 ms\n",
      "llama_print_timings:      sample time =      14.31 ms /    31 runs   (    0.46 ms per token,  2166.01 tokens per second)\n",
      "llama_print_timings: prompt eval time =    1083.04 ms /   157 tokens (    6.90 ms per token,   144.96 tokens per second)\n",
      "llama_print_timings:        eval time =    1344.98 ms /    30 runs   (   44.83 ms per token,    22.31 tokens per second)\n",
      "llama_print_timings:       total time =    2585.06 ms /   187 tokens\n",
      "Llama.generate: prefix-match hit\n"
     ]
    },
    {
     "name": "stdout",
     "output_type": "stream",
     "text": [
      " SELECT \"Template_Type_Description\" FROM \"Ref_Template_Types\" WHERE \"Template_Type_Code\" = 'AD';\n",
      "index is 351\n"
     ]
    },
    {
     "name": "stderr",
     "output_type": "stream",
     "text": [
      "\n",
      "llama_print_timings:        load time =     577.18 ms\n",
      "llama_print_timings:      sample time =      13.18 ms /    29 runs   (    0.45 ms per token,  2200.80 tokens per second)\n",
      "llama_print_timings: prompt eval time =    1082.82 ms /   156 tokens (    6.94 ms per token,   144.07 tokens per second)\n",
      "llama_print_timings:        eval time =    1252.62 ms /    28 runs   (   44.74 ms per token,    22.35 tokens per second)\n",
      "llama_print_timings:       total time =    2485.54 ms /   184 tokens\n",
      "Llama.generate: prefix-match hit\n"
     ]
    },
    {
     "name": "stdout",
     "output_type": "stream",
     "text": [
      " SELECT \"Ref_Template_Types\".\"Template_Type_Code\" FROM \"Ref_Template_Types\" WHERE \"Ref_Template_Types\".\"Template_Type_Description\" = 'Book';\n",
      "index is 352\n"
     ]
    },
    {
     "name": "stderr",
     "output_type": "stream",
     "text": [
      "\n",
      "llama_print_timings:        load time =     577.18 ms\n",
      "llama_print_timings:      sample time =      19.66 ms /    43 runs   (    0.46 ms per token,  2186.74 tokens per second)\n",
      "llama_print_timings: prompt eval time =    1082.94 ms /   156 tokens (    6.94 ms per token,   144.05 tokens per second)\n",
      "llama_print_timings:        eval time =    1882.18 ms /    42 runs   (   44.81 ms per token,    22.31 tokens per second)\n",
      "llama_print_timings:       total time =    3168.39 ms /   198 tokens\n",
      "Llama.generate: prefix-match hit\n"
     ]
    },
    {
     "name": "stdout",
     "output_type": "stream",
     "text": [
      " SELECT tt.template_type_code FROM ref_template_types tt WHERE tt.template_type_description ilike '%Book%';\n",
      "index is 353\n"
     ]
    },
    {
     "name": "stderr",
     "output_type": "stream",
     "text": [
      "\n",
      "llama_print_timings:        load time =     577.18 ms\n",
      "llama_print_timings:      sample time =      15.32 ms /    33 runs   (    0.46 ms per token,  2154.33 tokens per second)\n",
      "llama_print_timings: prompt eval time =    1085.37 ms /   158 tokens (    6.87 ms per token,   145.57 tokens per second)\n",
      "llama_print_timings:        eval time =    1431.04 ms /    32 runs   (   44.72 ms per token,    22.36 tokens per second)\n",
      "llama_print_timings:       total time =    2682.98 ms /   190 tokens\n",
      "Llama.generate: prefix-match hit\n"
     ]
    },
    {
     "name": "stdout",
     "output_type": "stream",
     "text": [
      " SELECT DISTINCT tt.template_type_description FROM \"Documents\" d JOIN \"Templates\" t ON d.template_id = t.template_id JOIN \"Ref_Template_Types\" tt ON t.template_type_code = tt.template_type_code;\n",
      "index is 354\n"
     ]
    },
    {
     "name": "stderr",
     "output_type": "stream",
     "text": [
      "\n",
      "llama_print_timings:        load time =     577.18 ms\n",
      "llama_print_timings:      sample time =      30.46 ms /    64 runs   (    0.48 ms per token,  2101.12 tokens per second)\n",
      "llama_print_timings: prompt eval time =    2971.58 ms /   427 tokens (    6.96 ms per token,   143.69 tokens per second)\n",
      "llama_print_timings:        eval time =    2850.05 ms /    63 runs   (   45.24 ms per token,    22.10 tokens per second)\n",
      "llama_print_timings:       total time =    6186.01 ms /   490 tokens\n",
      "Llama.generate: prefix-match hit\n"
     ]
    },
    {
     "name": "stdout",
     "output_type": "stream",
     "text": [
      " SELECT t.template_id, t.template_details, d.document_description FROM \"Templates\" t JOIN \"Documents\" d ON t.template_id = d.template_id;\n",
      "index is 355\n",
      "\n",
      "index is 356\n"
     ]
    },
    {
     "name": "stderr",
     "output_type": "stream",
     "text": [
      "\n",
      "llama_print_timings:        load time =     577.18 ms\n",
      "llama_print_timings:      sample time =      19.77 ms /    43 runs   (    0.46 ms per token,  2174.90 tokens per second)\n",
      "llama_print_timings: prompt eval time =    2473.72 ms /   357 tokens (    6.93 ms per token,   144.32 tokens per second)\n",
      "llama_print_timings:        eval time =    1904.24 ms /    42 runs   (   45.34 ms per token,    22.06 tokens per second)\n",
      "llama_print_timings:       total time =    4643.84 ms /   399 tokens\n",
      "Llama.generate: prefix-match hit\n"
     ]
    },
    {
     "name": "stdout",
     "output_type": "stream",
     "text": [
      " SELECT t.template_id FROM templates t JOIN ref_template_types rtt ON t.template_type_code = rtt.template_type_code WHERE rtt.template_type_description ilike '%Presentation%';\n",
      "index is 357\n"
     ]
    },
    {
     "name": "stderr",
     "output_type": "stream",
     "text": [
      "\n",
      "llama_print_timings:        load time =     577.18 ms\n",
      "llama_print_timings:      sample time =      23.53 ms /    51 runs   (    0.46 ms per token,  2167.45 tokens per second)\n",
      "llama_print_timings: prompt eval time =    2084.23 ms /   302 tokens (    6.90 ms per token,   144.90 tokens per second)\n",
      "llama_print_timings:        eval time =    2262.72 ms /    50 runs   (   45.25 ms per token,    22.10 tokens per second)\n",
      "llama_print_timings:       total time =    4622.67 ms /   352 tokens\n",
      "Llama.generate: prefix-match hit\n"
     ]
    },
    {
     "name": "stdout",
     "output_type": "stream",
     "text": [
      " SELECT COUNT(p.paragraph_id) AS total_paragraphs FROM paragraphs p;\n",
      "index is 358\n"
     ]
    },
    {
     "name": "stderr",
     "output_type": "stream",
     "text": [
      "\n",
      "llama_print_timings:        load time =     577.18 ms\n",
      "llama_print_timings:      sample time =       9.79 ms /    21 runs   (    0.47 ms per token,  2145.05 tokens per second)\n",
      "llama_print_timings: prompt eval time =    1304.20 ms /   187 tokens (    6.97 ms per token,   143.38 tokens per second)\n",
      "llama_print_timings:        eval time =     898.91 ms /    20 runs   (   44.95 ms per token,    22.25 tokens per second)\n",
      "llama_print_timings:       total time =    2331.21 ms /   207 tokens\n",
      "Llama.generate: prefix-match hit\n"
     ]
    },
    {
     "name": "stdout",
     "output_type": "stream",
     "text": [
      " SELECT COUNT(p.paragraph_id) AS total_paragraphs FROM paragraphs p;\n",
      "index is 359\n"
     ]
    },
    {
     "name": "stderr",
     "output_type": "stream",
     "text": [
      "\n",
      "llama_print_timings:        load time =     577.18 ms\n",
      "llama_print_timings:      sample time =       9.84 ms /    21 runs   (    0.47 ms per token,  2133.93 tokens per second)\n",
      "llama_print_timings: prompt eval time =    1255.14 ms /   184 tokens (    6.82 ms per token,   146.60 tokens per second)\n",
      "llama_print_timings:        eval time =     934.77 ms /    21 runs   (   44.51 ms per token,    22.47 tokens per second)\n",
      "llama_print_timings:       total time =    2320.95 ms /   205 tokens\n",
      "Llama.generate: prefix-match hit\n"
     ]
    },
    {
     "name": "stdout",
     "output_type": "stream",
     "text": [
      " SELECT COUNT(p.Paragraph_ID) AS number_of_paragraphs FROM \"Documents\" d JOIN \"Paragraphs\" p ON d.Document_ID = p.Document_ID WHERE d.Document_Name = 'Summer Show';\n",
      "index is 360\n"
     ]
    },
    {
     "name": "stderr",
     "output_type": "stream",
     "text": [
      "\n",
      "llama_print_timings:        load time =     577.18 ms\n",
      "llama_print_timings:      sample time =      25.81 ms /    54 runs   (    0.48 ms per token,  2092.54 tokens per second)\n",
      "llama_print_timings: prompt eval time =    2190.53 ms /   318 tokens (    6.89 ms per token,   145.17 tokens per second)\n",
      "llama_print_timings:        eval time =    2382.08 ms /    53 runs   (   44.94 ms per token,    22.25 tokens per second)\n",
      "llama_print_timings:       total time =    4867.60 ms /   371 tokens\n",
      "Llama.generate: prefix-match hit\n"
     ]
    },
    {
     "name": "stdout",
     "output_type": "stream",
     "text": [
      " SELECT COUNT(p.Paragraph_ID) AS total_paragraphs FROM \"Documents\" d JOIN \"Paragraphs\" p ON d.Document_ID = p.Document_ID WHERE d.Document_Name = 'Summer Show';\n",
      "index is 361\n"
     ]
    },
    {
     "name": "stderr",
     "output_type": "stream",
     "text": [
      "\n",
      "llama_print_timings:        load time =     577.18 ms\n",
      "llama_print_timings:      sample time =      24.58 ms /    52 runs   (    0.47 ms per token,  2115.28 tokens per second)\n",
      "llama_print_timings: prompt eval time =    2195.42 ms /   318 tokens (    6.90 ms per token,   144.85 tokens per second)\n",
      "llama_print_timings:        eval time =    2293.83 ms /    51 runs   (   44.98 ms per token,    22.23 tokens per second)\n",
      "llama_print_timings:       total time =    4772.65 ms /   369 tokens\n",
      "Llama.generate: prefix-match hit\n"
     ]
    },
    {
     "name": "stdout",
     "output_type": "stream",
     "text": [
      " SELECT * FROM \"Paragraphs\" p WHERE p.\"Paragraph_Text\" ILIKE '%Korea%';\n",
      "index is 362\n"
     ]
    },
    {
     "name": "stderr",
     "output_type": "stream",
     "text": [
      "\n",
      "llama_print_timings:        load time =     577.18 ms\n",
      "llama_print_timings:      sample time =      12.43 ms /    27 runs   (    0.46 ms per token,  2172.34 tokens per second)\n",
      "llama_print_timings: prompt eval time =    1360.47 ms /   199 tokens (    6.84 ms per token,   146.27 tokens per second)\n",
      "llama_print_timings:        eval time =    1166.28 ms /    26 runs   (   44.86 ms per token,    22.29 tokens per second)\n",
      "llama_print_timings:       total time =    2681.63 ms /   225 tokens\n",
      "Llama.generate: prefix-match hit\n"
     ]
    },
    {
     "name": "stdout",
     "output_type": "stream",
     "text": [
      " SELECT p.Paragraph_ID, p.Document_ID, p.Paragraph_Text, p.Other_Details FROM Paragraphs p WHERE p.Paragraph_Text ILIKE '%Korea%';\n",
      "index is 363\n"
     ]
    },
    {
     "name": "stderr",
     "output_type": "stream",
     "text": [
      "\n",
      "llama_print_timings:        load time =     577.18 ms\n",
      "llama_print_timings:      sample time =      22.41 ms /    48 runs   (    0.47 ms per token,  2141.52 tokens per second)\n",
      "llama_print_timings: prompt eval time =    1416.67 ms /   207 tokens (    6.84 ms per token,   146.12 tokens per second)\n",
      "llama_print_timings:        eval time =    2108.91 ms /    47 runs   (   44.87 ms per token,    22.29 tokens per second)\n",
      "llama_print_timings:       total time =    3766.80 ms /   254 tokens\n",
      "Llama.generate: prefix-match hit\n"
     ]
    },
    {
     "name": "stdout",
     "output_type": "stream",
     "text": [
      " SELECT p.paragraph_id, p.paragraph_text FROM paragraphs p JOIN documents d ON p.document_id = d.document_id WHERE d.document_name = 'Welcome to NY';\n",
      "index is 364\n"
     ]
    },
    {
     "name": "stderr",
     "output_type": "stream",
     "text": [
      "\n",
      "llama_print_timings:        load time =     577.18 ms\n",
      "llama_print_timings:      sample time =      21.42 ms /    45 runs   (    0.48 ms per token,  2100.84 tokens per second)\n",
      "llama_print_timings: prompt eval time =    2246.28 ms /   322 tokens (    6.98 ms per token,   143.35 tokens per second)\n",
      "llama_print_timings:        eval time =    1977.33 ms /    44 runs   (   44.94 ms per token,    22.25 tokens per second)\n",
      "llama_print_timings:       total time =    4483.16 ms /   366 tokens\n",
      "Llama.generate: prefix-match hit\n"
     ]
    },
    {
     "name": "stdout",
     "output_type": "stream",
     "text": [
      " SELECT p.paragraph_id, p.paragraph_text FROM paragraphs p JOIN documents d ON p.document_id = d.document_id WHERE d.document_name ilike '%Welcome%to%NY%' ORDER BY p.paragraph_id NULLS LAST;\n",
      "index is 365\n"
     ]
    },
    {
     "name": "stderr",
     "output_type": "stream",
     "text": [
      "\n",
      "llama_print_timings:        load time =     577.18 ms\n",
      "llama_print_timings:      sample time =      29.06 ms /    61 runs   (    0.48 ms per token,  2099.11 tokens per second)\n",
      "llama_print_timings: prompt eval time =    2255.42 ms /   328 tokens (    6.88 ms per token,   145.43 tokens per second)\n",
      "llama_print_timings:        eval time =    2699.70 ms /    60 runs   (   45.00 ms per token,    22.22 tokens per second)\n",
      "llama_print_timings:       total time =    5277.50 ms /   388 tokens\n",
      "Llama.generate: prefix-match hit\n"
     ]
    },
    {
     "name": "stdout",
     "output_type": "stream",
     "text": [
      " SELECT p.paragraph_text FROM paragraphs p JOIN documents d ON p.document_id = d.document_id WHERE d.document_name = 'Customer reviews';\n",
      "index is 366\n"
     ]
    },
    {
     "name": "stderr",
     "output_type": "stream",
     "text": [
      "\n",
      "llama_print_timings:        load time =     577.18 ms\n",
      "llama_print_timings:      sample time =      17.38 ms /    37 runs   (    0.47 ms per token,  2128.76 tokens per second)\n",
      "llama_print_timings: prompt eval time =    2142.23 ms /   310 tokens (    6.91 ms per token,   144.71 tokens per second)\n",
      "llama_print_timings:        eval time =    1618.94 ms /    36 runs   (   44.97 ms per token,    22.24 tokens per second)\n",
      "llama_print_timings:       total time =    3983.67 ms /   346 tokens\n",
      "Llama.generate: prefix-match hit\n"
     ]
    },
    {
     "name": "stdout",
     "output_type": "stream",
     "text": [
      " SELECT p.paragraph_text FROM documents d JOIN paragraphs p ON d.document_id = p.document_id WHERE d.document_name = 'Customer reviews';\n",
      "index is 367\n"
     ]
    },
    {
     "name": "stderr",
     "output_type": "stream",
     "text": [
      "\n",
      "llama_print_timings:        load time =     577.18 ms\n",
      "llama_print_timings:      sample time =      17.48 ms /    37 runs   (    0.47 ms per token,  2116.58 tokens per second)\n",
      "llama_print_timings: prompt eval time =    2197.76 ms /   320 tokens (    6.87 ms per token,   145.60 tokens per second)\n",
      "llama_print_timings:        eval time =    1619.24 ms /    36 runs   (   44.98 ms per token,    22.23 tokens per second)\n",
      "llama_print_timings:       total time =    4043.97 ms /   356 tokens\n",
      "Llama.generate: prefix-match hit\n"
     ]
    },
    {
     "name": "stdout",
     "output_type": "stream",
     "text": [
      " SELECT d.document_id, COUNT(p.paragraph_id) AS number_of_paragraphs FROM documents d JOIN paragraphs p ON d.document_id = p.document_id GROUP BY d.document_id ORDER BY d.document_id NULLS LAST;\n",
      "index is 368\n"
     ]
    },
    {
     "name": "stderr",
     "output_type": "stream",
     "text": [
      "\n",
      "llama_print_timings:        load time =     577.18 ms\n",
      "llama_print_timings:      sample time =      28.80 ms /    61 runs   (    0.47 ms per token,  2118.42 tokens per second)\n",
      "llama_print_timings: prompt eval time =    2248.31 ms /   324 tokens (    6.94 ms per token,   144.11 tokens per second)\n",
      "llama_print_timings:        eval time =    2719.40 ms /    60 runs   (   45.32 ms per token,    22.06 tokens per second)\n",
      "llama_print_timings:       total time =    5288.99 ms /   384 tokens\n",
      "Llama.generate: prefix-match hit\n"
     ]
    },
    {
     "name": "stdout",
     "output_type": "stream",
     "text": [
      " SELECT d.document_id, COUNT(p.paragraph_id) AS number_of_paragraphs FROM documents d JOIN paragraphs p ON d.document_id = p.document_id GROUP BY d.document_id ORDER BY d.document_id NULLS LAST;\n",
      "index is 369\n"
     ]
    },
    {
     "name": "stderr",
     "output_type": "stream",
     "text": [
      "\n",
      "llama_print_timings:        load time =     577.18 ms\n",
      "llama_print_timings:      sample time =      29.00 ms /    61 runs   (    0.48 ms per token,  2103.59 tokens per second)\n",
      "llama_print_timings: prompt eval time =    2251.29 ms /   326 tokens (    6.91 ms per token,   144.81 tokens per second)\n",
      "llama_print_timings:        eval time =    2721.31 ms /    60 runs   (   45.36 ms per token,    22.05 tokens per second)\n",
      "llama_print_timings:       total time =    5292.54 ms /   386 tokens\n",
      "Llama.generate: prefix-match hit\n"
     ]
    },
    {
     "name": "stdout",
     "output_type": "stream",
     "text": [
      " SELECT d.document_id, d.document_name, COUNT(p.paragraph_id) AS number_of_paragraphs FROM documents d JOIN paragraphs p ON d.document_id = p.document_id GROUP BY d.document_id, d.document_name ORDER BY d.document_id NULLS LAST;\n",
      "index is 370\n"
     ]
    },
    {
     "name": "stderr",
     "output_type": "stream",
     "text": [
      "\n",
      "llama_print_timings:        load time =     577.18 ms\n",
      "llama_print_timings:      sample time =      34.34 ms /    73 runs   (    0.47 ms per token,  2125.68 tokens per second)\n",
      "llama_print_timings: prompt eval time =    2195.40 ms /   318 tokens (    6.90 ms per token,   144.85 tokens per second)\n",
      "llama_print_timings:        eval time =    3262.55 ms /    72 runs   (   45.31 ms per token,    22.07 tokens per second)\n",
      "llama_print_timings:       total time =    5822.50 ms /   390 tokens\n",
      "Llama.generate: prefix-match hit\n"
     ]
    },
    {
     "name": "stdout",
     "output_type": "stream",
     "text": [
      " SELECT d.document_id, d.document_name, COUNT(p.paragraph_id) AS number_of_paragraphs FROM documents d JOIN paragraphs p ON d.document_id = p.document_id GROUP BY d.document_id, d.document_name ORDER BY d.document_id NULLS LAST;\n",
      "index is 371\n",
      "\n",
      "index is 372\n"
     ]
    },
    {
     "name": "stderr",
     "output_type": "stream",
     "text": [
      "\n",
      "llama_print_timings:        load time =     577.18 ms\n",
      "llama_print_timings:      sample time =      34.05 ms /    73 runs   (    0.47 ms per token,  2144.22 tokens per second)\n",
      "llama_print_timings: prompt eval time =    2303.36 ms /   330 tokens (    6.98 ms per token,   143.27 tokens per second)\n",
      "llama_print_timings:        eval time =    3236.73 ms /    72 runs   (   44.95 ms per token,    22.24 tokens per second)\n",
      "llama_print_timings:       total time =    5923.15 ms /   402 tokens\n",
      "Llama.generate: prefix-match hit\n"
     ]
    },
    {
     "name": "stdout",
     "output_type": "stream",
     "text": [
      " SELECT d.document_id FROM documents d JOIN paragraphs p ON d.document_id = p.document_id GROUP BY d.document_id HAVING COUNT(p.paragraph_id) >= 2;\n",
      "index is 373\n"
     ]
    },
    {
     "name": "stderr",
     "output_type": "stream",
     "text": [
      "\n",
      "llama_print_timings:        load time =     577.18 ms\n",
      "llama_print_timings:      sample time =      23.00 ms /    48 runs   (    0.48 ms per token,  2087.05 tokens per second)\n",
      "llama_print_timings: prompt eval time =    2190.27 ms /   314 tokens (    6.98 ms per token,   143.36 tokens per second)\n",
      "llama_print_timings:        eval time =    2124.70 ms /    47 runs   (   45.21 ms per token,    22.12 tokens per second)\n",
      "llama_print_timings:       total time =    4583.10 ms /   361 tokens\n",
      "Llama.generate: prefix-match hit\n"
     ]
    },
    {
     "name": "stdout",
     "output_type": "stream",
     "text": [
      " SELECT d.document_id, d.document_name, COUNT(p.paragraph_id) AS paragraph_count FROM documents d JOIN paragraphs p ON d.document_id = p.document_id GROUP BY d.document_id, d.document_name ORDER BY paragraph_count DESC LIMIT 1;\n",
      "index is 374\n"
     ]
    },
    {
     "name": "stderr",
     "output_type": "stream",
     "text": [
      "\n",
      "llama_print_timings:        load time =     577.18 ms\n",
      "llama_print_timings:      sample time =      32.22 ms /    68 runs   (    0.47 ms per token,  2110.23 tokens per second)\n",
      "llama_print_timings: prompt eval time =    2187.83 ms /   315 tokens (    6.95 ms per token,   143.98 tokens per second)\n",
      "llama_print_timings:        eval time =    3037.72 ms /    67 runs   (   45.34 ms per token,    22.06 tokens per second)\n",
      "llama_print_timings:       total time =    5571.09 ms /   382 tokens\n",
      "Llama.generate: prefix-match hit\n"
     ]
    },
    {
     "name": "stdout",
     "output_type": "stream",
     "text": [
      " SELECT d.document_id, d.document_name, COUNT(p.paragraph_id) AS number_of_paragraphs FROM documents d JOIN paragraphs p ON d.document_id = p.document_id GROUP BY d.document_id, d.document_name ORDER BY number_of_paragraphs DESC LIMIT 1;\n",
      "index is 375\n"
     ]
    },
    {
     "name": "stderr",
     "output_type": "stream",
     "text": [
      "\n",
      "llama_print_timings:        load time =     577.18 ms\n",
      "llama_print_timings:      sample time =      34.43 ms /    74 runs   (    0.47 ms per token,  2149.10 tokens per second)\n",
      "llama_print_timings: prompt eval time =    2190.34 ms /   314 tokens (    6.98 ms per token,   143.36 tokens per second)\n",
      "llama_print_timings:        eval time =    3309.29 ms /    73 runs   (   45.33 ms per token,    22.06 tokens per second)\n",
      "llama_print_timings:       total time =    5866.91 ms /   387 tokens\n",
      "Llama.generate: prefix-match hit\n"
     ]
    },
    {
     "name": "stdout",
     "output_type": "stream",
     "text": [
      " SELECT d.document_id FROM documents d JOIN (SELECT p.document_id, COUNT(*) AS paragraph_count FROM paragraphs p GROUP BY p.document_id ORDER BY paragraph_count ASC LIMIT 1) AS m ON d.document_id = m.document_id;\n",
      "index is 376\n"
     ]
    },
    {
     "name": "stderr",
     "output_type": "stream",
     "text": [
      "\n",
      "llama_print_timings:        load time =     577.18 ms\n",
      "llama_print_timings:      sample time =      28.55 ms /    61 runs   (    0.47 ms per token,  2136.90 tokens per second)\n",
      "llama_print_timings: prompt eval time =    2140.19 ms /   312 tokens (    6.86 ms per token,   145.78 tokens per second)\n",
      "llama_print_timings:        eval time =    2717.69 ms /    60 runs   (   45.29 ms per token,    22.08 tokens per second)\n",
      "llama_print_timings:       total time =    5176.14 ms /   372 tokens\n",
      "Llama.generate: prefix-match hit\n"
     ]
    },
    {
     "name": "stdout",
     "output_type": "stream",
     "text": [
      " SELECT d.document_id FROM documents d JOIN (SELECT p.document_id, COUNT(*) AS paragraph_count FROM paragraphs p GROUP BY p.document_id ORDER BY paragraph_count ASC LIMIT 1) AS m ON d.document_id = m.document_id;\n",
      "index is 377\n",
      "\n",
      "index is 378\n"
     ]
    },
    {
     "name": "stderr",
     "output_type": "stream",
     "text": [
      "\n",
      "llama_print_timings:        load time =     577.18 ms\n",
      "llama_print_timings:      sample time =      28.20 ms /    61 runs   (    0.46 ms per token,  2163.50 tokens per second)\n",
      "llama_print_timings: prompt eval time =    2139.01 ms /   312 tokens (    6.86 ms per token,   145.86 tokens per second)\n",
      "llama_print_timings:        eval time =    2718.41 ms /    60 runs   (   45.31 ms per token,    22.07 tokens per second)\n",
      "llama_print_timings:       total time =    5175.17 ms /   372 tokens\n",
      "Llama.generate: prefix-match hit\n"
     ]
    },
    {
     "name": "stdout",
     "output_type": "stream",
     "text": [
      " SELECT d.document_id FROM documents d JOIN paragraphs p ON d.document_id = p.document_id GROUP BY d.document_id HAVING COUNT(p.paragraph_id) BETWEEN 1 AND 2;\n",
      "index is 379\n"
     ]
    },
    {
     "name": "stderr",
     "output_type": "stream",
     "text": [
      "\n",
      "llama_print_timings:        load time =     577.18 ms\n",
      "llama_print_timings:      sample time =      25.70 ms /    54 runs   (    0.48 ms per token,  2101.25 tokens per second)\n",
      "llama_print_timings: prompt eval time =    2191.51 ms /   316 tokens (    6.94 ms per token,   144.19 tokens per second)\n",
      "llama_print_timings:        eval time =    2395.44 ms /    53 runs   (   45.20 ms per token,    22.13 tokens per second)\n",
      "llama_print_timings:       total time =    4884.50 ms /   369 tokens\n",
      "Llama.generate: prefix-match hit\n"
     ]
    },
    {
     "name": "stdout",
     "output_type": "stream",
     "text": [
      " SELECT d.document_id FROM documents d JOIN paragraphs p ON d.document_id = p.document_id WHERE p.paragraph_text ilike '%Brazil%' AND p.paragraph_text ilike '%Ireland%';\n",
      "index is 380\n"
     ]
    },
    {
     "name": "stderr",
     "output_type": "stream",
     "text": [
      "\n",
      "llama_print_timings:        load time =     577.18 ms\n",
      "llama_print_timings:      sample time =      25.20 ms /    52 runs   (    0.48 ms per token,  2063.49 tokens per second)\n",
      "llama_print_timings: prompt eval time =    2247.31 ms /   322 tokens (    6.98 ms per token,   143.28 tokens per second)\n",
      "llama_print_timings:        eval time =    2309.05 ms /    51 runs   (   45.28 ms per token,    22.09 tokens per second)\n",
      "llama_print_timings:       total time =    4922.16 ms /   373 tokens\n",
      "Llama.generate: prefix-match hit\n"
     ]
    },
    {
     "name": "stdout",
     "output_type": "stream",
     "text": [
      " SELECT d.document_id FROM documents d JOIN paragraphs p ON d.document_id = p.document_id WHERE p.paragraph_text ilike '%Brazil%' AND p.paragraph_text ilike '%Ireland%' ORDER BY d.document_id NULLS LAST;\n",
      "index is 381\n"
     ]
    },
    {
     "name": "stderr",
     "output_type": "stream",
     "text": [
      "\n",
      "llama_print_timings:        load time =     577.18 ms\n",
      "llama_print_timings:      sample time =      29.86 ms /    63 runs   (    0.47 ms per token,  2109.56 tokens per second)\n",
      "llama_print_timings: prompt eval time =    2301.13 ms /   332 tokens (    6.93 ms per token,   144.28 tokens per second)\n",
      "llama_print_timings:        eval time =    2805.91 ms /    62 runs   (   45.26 ms per token,    22.10 tokens per second)\n",
      "llama_print_timings:       total time =    5431.67 ms /   394 tokens\n",
      "Llama.generate: prefix-match hit\n"
     ]
    },
    {
     "name": "stdout",
     "output_type": "stream",
     "text": [
      " SELECT COUNT(t.teacher_id) AS number_of_teachers FROM teacher t;\n",
      "index is 382\n"
     ]
    },
    {
     "name": "stderr",
     "output_type": "stream",
     "text": [
      "\n",
      "llama_print_timings:        load time =     577.18 ms\n",
      "llama_print_timings:      sample time =      10.75 ms /    23 runs   (    0.47 ms per token,  2139.53 tokens per second)\n",
      "llama_print_timings: prompt eval time =     978.62 ms /   142 tokens (    6.89 ms per token,   145.10 tokens per second)\n",
      "llama_print_timings:        eval time =     978.69 ms /    22 runs   (   44.49 ms per token,    22.48 tokens per second)\n",
      "llama_print_timings:       total time =    2080.00 ms /   164 tokens\n",
      "Llama.generate: prefix-match hit\n"
     ]
    },
    {
     "name": "stdout",
     "output_type": "stream",
     "text": [
      " SELECT COUNT(t.teacher_id) AS total_teachers FROM teacher t;\n",
      "index is 383\n"
     ]
    },
    {
     "name": "stderr",
     "output_type": "stream",
     "text": [
      "\n",
      "llama_print_timings:        load time =     577.18 ms\n",
      "llama_print_timings:      sample time =       9.72 ms /    21 runs   (    0.46 ms per token,  2160.05 tokens per second)\n",
      "llama_print_timings: prompt eval time =    1025.85 ms /   146 tokens (    7.03 ms per token,   142.32 tokens per second)\n",
      "llama_print_timings:        eval time =     888.25 ms /    20 runs   (   44.41 ms per token,    22.52 tokens per second)\n",
      "llama_print_timings:       total time =    2031.87 ms /   166 tokens\n",
      "Llama.generate: prefix-match hit\n"
     ]
    },
    {
     "name": "stdout",
     "output_type": "stream",
     "text": [
      " SELECT t.name FROM teacher t ORDER BY CAST(t.age AS INTEGER) ASC;\n",
      "index is 384\n"
     ]
    },
    {
     "name": "stderr",
     "output_type": "stream",
     "text": [
      "\n",
      "llama_print_timings:        load time =     577.18 ms\n",
      "llama_print_timings:      sample time =      10.68 ms /    23 runs   (    0.46 ms per token,  2153.56 tokens per second)\n",
      "llama_print_timings: prompt eval time =    1032.99 ms /   152 tokens (    6.80 ms per token,   147.15 tokens per second)\n",
      "llama_print_timings:        eval time =     982.19 ms /    22 runs   (   44.64 ms per token,    22.40 tokens per second)\n",
      "llama_print_timings:       total time =    2141.06 ms /   174 tokens\n",
      "Llama.generate: prefix-match hit\n"
     ]
    },
    {
     "name": "stdout",
     "output_type": "stream",
     "text": [
      " SELECT t.name FROM teacher t ORDER BY CAST(t.age AS INTEGER) ASC;\n",
      "index is 385\n"
     ]
    },
    {
     "name": "stderr",
     "output_type": "stream",
     "text": [
      "\n",
      "llama_print_timings:        load time =     577.18 ms\n",
      "llama_print_timings:      sample time =      10.78 ms /    23 runs   (    0.47 ms per token,  2133.38 tokens per second)\n",
      "llama_print_timings: prompt eval time =    1082.97 ms /   156 tokens (    6.94 ms per token,   144.05 tokens per second)\n",
      "llama_print_timings:        eval time =     982.38 ms /    22 runs   (   44.65 ms per token,    22.39 tokens per second)\n",
      "llama_print_timings:       total time =    2189.93 ms /   178 tokens\n",
      "Llama.generate: prefix-match hit\n"
     ]
    },
    {
     "name": "stdout",
     "output_type": "stream",
     "text": [
      " SELECT t.age, t.hometown FROM teacher t;\n",
      "index is 386\n"
     ]
    },
    {
     "name": "stderr",
     "output_type": "stream",
     "text": [
      "\n",
      "llama_print_timings:        load time =     577.18 ms\n",
      "llama_print_timings:      sample time =       7.05 ms /    15 runs   (    0.47 ms per token,  2127.96 tokens per second)\n",
      "llama_print_timings: prompt eval time =    1029.85 ms /   149 tokens (    6.91 ms per token,   144.68 tokens per second)\n",
      "llama_print_timings:        eval time =     626.99 ms /    14 runs   (   44.79 ms per token,    22.33 tokens per second)\n",
      "llama_print_timings:       total time =    1749.06 ms /   163 tokens\n",
      "Llama.generate: prefix-match hit\n"
     ]
    },
    {
     "name": "stdout",
     "output_type": "stream",
     "text": [
      " SELECT t.name, t.age, t.hometown FROM teacher t;\n",
      "index is 387\n"
     ]
    },
    {
     "name": "stderr",
     "output_type": "stream",
     "text": [
      "\n",
      "llama_print_timings:        load time =     577.18 ms\n",
      "llama_print_timings:      sample time =       8.87 ms /    19 runs   (    0.47 ms per token,  2142.29 tokens per second)\n",
      "llama_print_timings: prompt eval time =    1033.89 ms /   152 tokens (    6.80 ms per token,   147.02 tokens per second)\n",
      "llama_print_timings:        eval time =     850.79 ms /    19 runs   (   44.78 ms per token,    22.33 tokens per second)\n",
      "llama_print_timings:       total time =    1993.06 ms /   171 tokens\n",
      "Llama.generate: prefix-match hit\n"
     ]
    },
    {
     "name": "stdout",
     "output_type": "stream",
     "text": [
      " SELECT t.name FROM teacher t WHERE t.hometown != 'Little Lever Urban District';\n",
      "index is 388\n"
     ]
    },
    {
     "name": "stderr",
     "output_type": "stream",
     "text": [
      "\n",
      "llama_print_timings:        load time =     577.18 ms\n",
      "llama_print_timings:      sample time =      10.98 ms /    23 runs   (    0.48 ms per token,  2094.15 tokens per second)\n",
      "llama_print_timings: prompt eval time =    1145.59 ms /   168 tokens (    6.82 ms per token,   146.65 tokens per second)\n",
      "llama_print_timings:        eval time =     983.05 ms /    22 runs   (   44.68 ms per token,    22.38 tokens per second)\n",
      "llama_print_timings:       total time =    2255.56 ms /   190 tokens\n",
      "Llama.generate: prefix-match hit\n"
     ]
    },
    {
     "name": "stdout",
     "output_type": "stream",
     "text": [
      " SELECT t.name FROM teacher t WHERE t.hometown != 'Little Lever Urban District';\n",
      "index is 389\n"
     ]
    },
    {
     "name": "stderr",
     "output_type": "stream",
     "text": [
      "\n",
      "llama_print_timings:        load time =     577.18 ms\n",
      "llama_print_timings:      sample time =      10.90 ms /    23 runs   (    0.47 ms per token,  2109.12 tokens per second)\n",
      "llama_print_timings: prompt eval time =    1194.73 ms /   172 tokens (    6.95 ms per token,   143.97 tokens per second)\n",
      "llama_print_timings:        eval time =     986.44 ms /    22 runs   (   44.84 ms per token,    22.30 tokens per second)\n",
      "llama_print_timings:       total time =    2312.67 ms /   194 tokens\n",
      "Llama.generate: prefix-match hit\n"
     ]
    },
    {
     "name": "stdout",
     "output_type": "stream",
     "text": [
      " SELECT t.name FROM teacher t WHERE t.age IN ('32', '33') ORDER BY t.name NULLS LAST;\n",
      "index is 390\n"
     ]
    },
    {
     "name": "stderr",
     "output_type": "stream",
     "text": [
      "\n",
      "llama_print_timings:        load time =     577.18 ms\n",
      "llama_print_timings:      sample time =      14.54 ms /    31 runs   (    0.47 ms per token,  2132.34 tokens per second)\n",
      "llama_print_timings: prompt eval time =    1091.82 ms /   160 tokens (    6.82 ms per token,   146.54 tokens per second)\n",
      "llama_print_timings:        eval time =    1343.80 ms /    30 runs   (   44.79 ms per token,    22.32 tokens per second)\n",
      "llama_print_timings:       total time =    2589.21 ms /   190 tokens\n",
      "Llama.generate: prefix-match hit\n"
     ]
    },
    {
     "name": "stdout",
     "output_type": "stream",
     "text": [
      " SELECT t.name FROM teacher t WHERE t.age IN ('32', '33') ORDER BY t.name NULLS LAST;\n",
      "index is 391\n"
     ]
    },
    {
     "name": "stderr",
     "output_type": "stream",
     "text": [
      "\n",
      "llama_print_timings:        load time =     577.18 ms\n",
      "llama_print_timings:      sample time =      14.37 ms /    31 runs   (    0.46 ms per token,  2157.57 tokens per second)\n",
      "llama_print_timings: prompt eval time =    1144.69 ms /   168 tokens (    6.81 ms per token,   146.77 tokens per second)\n",
      "llama_print_timings:        eval time =    1344.95 ms /    30 runs   (   44.83 ms per token,    22.31 tokens per second)\n",
      "llama_print_timings:       total time =    2644.23 ms /   198 tokens\n",
      "Llama.generate: prefix-match hit\n"
     ]
    },
    {
     "name": "stdout",
     "output_type": "stream",
     "text": [
      " SELECT t.hometown FROM teacher t ORDER BY t.age ASC LIMIT 1;\n",
      "index is 392\n"
     ]
    },
    {
     "name": "stderr",
     "output_type": "stream",
     "text": [
      "\n",
      "llama_print_timings:        load time =     577.18 ms\n",
      "llama_print_timings:      sample time =       9.31 ms /    20 runs   (    0.47 ms per token,  2148.46 tokens per second)\n",
      "llama_print_timings: prompt eval time =    1035.49 ms /   152 tokens (    6.81 ms per token,   146.79 tokens per second)\n",
      "llama_print_timings:        eval time =     892.93 ms /    20 runs   (   44.65 ms per token,    22.40 tokens per second)\n",
      "llama_print_timings:       total time =    2042.17 ms /   172 tokens\n",
      "Llama.generate: prefix-match hit\n"
     ]
    },
    {
     "name": "stdout",
     "output_type": "stream",
     "text": [
      " SELECT t.hometown FROM teacher t ORDER BY t.age ASC LIMIT 1;\n",
      "index is 393\n"
     ]
    },
    {
     "name": "stderr",
     "output_type": "stream",
     "text": [
      "\n",
      "llama_print_timings:        load time =     577.18 ms\n",
      "llama_print_timings:      sample time =       9.24 ms /    20 runs   (    0.46 ms per token,  2165.44 tokens per second)\n",
      "llama_print_timings: prompt eval time =    1029.06 ms /   146 tokens (    7.05 ms per token,   141.88 tokens per second)\n",
      "llama_print_timings:        eval time =     849.50 ms /    19 runs   (   44.71 ms per token,    22.37 tokens per second)\n",
      "llama_print_timings:       total time =    1990.44 ms /   165 tokens\n",
      "Llama.generate: prefix-match hit\n"
     ]
    },
    {
     "name": "stdout",
     "output_type": "stream",
     "text": [
      " SELECT t.hometown, COUNT(t.teacher_id) AS teacher_count FROM teacher t GROUP BY t.hometown ORDER BY teacher_count DESC NULLS LAST;\n",
      "index is 394\n"
     ]
    },
    {
     "name": "stderr",
     "output_type": "stream",
     "text": [
      "\n",
      "llama_print_timings:        load time =     577.18 ms\n",
      "llama_print_timings:      sample time =      19.50 ms /    42 runs   (    0.46 ms per token,  2154.07 tokens per second)\n",
      "llama_print_timings: prompt eval time =    1137.37 ms /   164 tokens (    6.94 ms per token,   144.19 tokens per second)\n",
      "llama_print_timings:        eval time =    1837.95 ms /    41 runs   (   44.83 ms per token,    22.31 tokens per second)\n",
      "llama_print_timings:       total time =    3178.03 ms /   205 tokens\n",
      "Llama.generate: prefix-match hit\n"
     ]
    },
    {
     "name": "stdout",
     "output_type": "stream",
     "text": [
      " SELECT t.hometown, COUNT(t.teacher_id) AS teacher_count FROM teacher t GROUP BY t.hometown ORDER BY teacher_count DESC NULLS LAST;\n",
      "index is 395\n"
     ]
    },
    {
     "name": "stderr",
     "output_type": "stream",
     "text": [
      "\n",
      "llama_print_timings:        load time =     577.18 ms\n",
      "llama_print_timings:      sample time =      19.95 ms /    42 runs   (    0.48 ms per token,  2105.16 tokens per second)\n",
      "llama_print_timings: prompt eval time =    1082.37 ms /   154 tokens (    7.03 ms per token,   142.28 tokens per second)\n",
      "llama_print_timings:        eval time =    1837.02 ms /    41 runs   (   44.81 ms per token,    22.32 tokens per second)\n",
      "llama_print_timings:       total time =    3114.82 ms /   195 tokens\n",
      "Llama.generate: prefix-match hit\n"
     ]
    },
    {
     "name": "stdout",
     "output_type": "stream",
     "text": [
      " SELECT t.hometown, COUNT(t.hometown) AS COUNT FROM teacher t GROUP BY t.hometown ORDER BY COUNT DESC LIMIT 1;\n",
      "index is 396\n"
     ]
    },
    {
     "name": "stderr",
     "output_type": "stream",
     "text": [
      "\n",
      "llama_print_timings:        load time =     577.18 ms\n",
      "llama_print_timings:      sample time =      17.05 ms /    36 runs   (    0.47 ms per token,  2111.19 tokens per second)\n",
      "llama_print_timings: prompt eval time =    1028.42 ms /   148 tokens (    6.95 ms per token,   143.91 tokens per second)\n",
      "llama_print_timings:        eval time =    1567.75 ms /    35 runs   (   44.79 ms per token,    22.32 tokens per second)\n",
      "llama_print_timings:       total time =    2767.26 ms /   183 tokens\n",
      "Llama.generate: prefix-match hit\n"
     ]
    },
    {
     "name": "stdout",
     "output_type": "stream",
     "text": [
      " SELECT t.hometown, COUNT(t.hometown) AS COUNT FROM teacher t GROUP BY t.hometown ORDER BY COUNT DESC LIMIT 10;\n",
      "index is 397\n"
     ]
    },
    {
     "name": "stderr",
     "output_type": "stream",
     "text": [
      "\n",
      "llama_print_timings:        load time =     577.18 ms\n",
      "llama_print_timings:      sample time =      17.16 ms /    37 runs   (    0.46 ms per token,  2156.68 tokens per second)\n",
      "llama_print_timings: prompt eval time =    1085.50 ms /   156 tokens (    6.96 ms per token,   143.71 tokens per second)\n",
      "llama_print_timings:        eval time =    1613.23 ms /    36 runs   (   44.81 ms per token,    22.32 tokens per second)\n",
      "llama_print_timings:       total time =    2876.29 ms /   192 tokens\n",
      "Llama.generate: prefix-match hit\n"
     ]
    },
    {
     "name": "stdout",
     "output_type": "stream",
     "text": [
      " SELECT t.hometown FROM teacher t GROUP BY t.hometown HAVING COUNT(t.teacher_id) >= 2;\n",
      "index is 398\n"
     ]
    },
    {
     "name": "stderr",
     "output_type": "stream",
     "text": [
      "\n",
      "llama_print_timings:        load time =     577.18 ms\n",
      "llama_print_timings:      sample time =      15.60 ms /    33 runs   (    0.47 ms per token,  2114.98 tokens per second)\n",
      "llama_print_timings: prompt eval time =    1083.72 ms /   154 tokens (    7.04 ms per token,   142.10 tokens per second)\n",
      "llama_print_timings:        eval time =    1432.65 ms /    32 runs   (   44.77 ms per token,    22.34 tokens per second)\n",
      "llama_print_timings:       total time =    2678.36 ms /   186 tokens\n",
      "Llama.generate: prefix-match hit\n"
     ]
    },
    {
     "name": "stdout",
     "output_type": "stream",
     "text": [
      " SELECT t.hometown FROM teacher t GROUP BY t.hometown HAVING COUNT(t.teacher_id) >= 2;\n",
      "index is 399\n"
     ]
    },
    {
     "name": "stderr",
     "output_type": "stream",
     "text": [
      "\n",
      "llama_print_timings:        load time =     577.18 ms\n",
      "llama_print_timings:      sample time =      15.57 ms /    33 runs   (    0.47 ms per token,  2119.32 tokens per second)\n",
      "llama_print_timings: prompt eval time =    1086.04 ms /   156 tokens (    6.96 ms per token,   143.64 tokens per second)\n",
      "llama_print_timings:        eval time =    1432.68 ms /    32 runs   (   44.77 ms per token,    22.34 tokens per second)\n",
      "llama_print_timings:       total time =    2683.89 ms /   188 tokens\n",
      "Llama.generate: prefix-match hit\n"
     ]
    },
    {
     "name": "stdout",
     "output_type": "stream",
     "text": [
      " SELECT t.name AS teacher_name, c.name AS course_name FROM teacher t JOIN course_arrange ca ON t.teacher_id = ca.teacher_id JOIN course c ON ca.course_id = c.course_id;\n",
      "index is 400\n"
     ]
    },
    {
     "name": "stderr",
     "output_type": "stream",
     "text": [
      "\n",
      "llama_print_timings:        load time =     577.18 ms\n",
      "llama_print_timings:      sample time =      26.21 ms /    56 runs   (    0.47 ms per token,  2136.18 tokens per second)\n",
      "llama_print_timings: prompt eval time =    1921.04 ms /   278 tokens (    6.91 ms per token,   144.71 tokens per second)\n",
      "llama_print_timings:        eval time =    2488.22 ms /    55 runs   (   45.24 ms per token,    22.10 tokens per second)\n",
      "llama_print_timings:       total time =    4691.56 ms /   333 tokens\n",
      "Llama.generate: prefix-match hit\n"
     ]
    },
    {
     "name": "stdout",
     "output_type": "stream",
     "text": [
      " SELECT t.name AS teacher_name, c.course AS course_name FROM teacher t JOIN course c ON t.teacher_id = c.course_id;\n",
      "index is 401\n"
     ]
    },
    {
     "name": "stderr",
     "output_type": "stream",
     "text": [
      "\n",
      "llama_print_timings:        load time =     577.18 ms\n",
      "llama_print_timings:      sample time =      17.32 ms /    37 runs   (    0.47 ms per token,  2136.51 tokens per second)\n",
      "llama_print_timings: prompt eval time =    1466.53 ms /   211 tokens (    6.95 ms per token,   143.88 tokens per second)\n",
      "llama_print_timings:        eval time =    1618.07 ms /    36 runs   (   44.95 ms per token,    22.25 tokens per second)\n",
      "llama_print_timings:       total time =    3275.59 ms /   247 tokens\n",
      "Llama.generate: prefix-match hit\n"
     ]
    },
    {
     "name": "stdout",
     "output_type": "stream",
     "text": [
      " SELECT t.name AS teacher_name, c.name AS course_name FROM course_arrange AS ca JOIN teacher AS t ON ca.teacher_id = t.teacher_id JOIN course AS c ON ca.course_id = c.course_id ORDER BY t.name ASC;\n",
      "index is 402\n"
     ]
    },
    {
     "name": "stderr",
     "output_type": "stream",
     "text": [
      "\n",
      "llama_print_timings:        load time =     577.18 ms\n",
      "llama_print_timings:      sample time =      30.54 ms /    65 runs   (    0.47 ms per token,  2128.70 tokens per second)\n",
      "llama_print_timings: prompt eval time =    2079.20 ms /   302 tokens (    6.88 ms per token,   145.25 tokens per second)\n",
      "llama_print_timings:        eval time =    2897.61 ms /    64 runs   (   45.28 ms per token,    22.09 tokens per second)\n",
      "llama_print_timings:       total time =    5300.21 ms /   366 tokens\n",
      "Llama.generate: prefix-match hit\n"
     ]
    },
    {
     "name": "stdout",
     "output_type": "stream",
     "text": [
      " SELECT t.name AS teacher_name, c.course AS course_name FROM teacher t JOIN course c ON t.teacher_id = c.course_id ORDER BY t.name ASC;\n",
      "index is 403\n"
     ]
    },
    {
     "name": "stderr",
     "output_type": "stream",
     "text": [
      "\n",
      "llama_print_timings:        load time =     577.18 ms\n",
      "llama_print_timings:      sample time =      20.20 ms /    43 runs   (    0.47 ms per token,  2129.13 tokens per second)\n",
      "llama_print_timings: prompt eval time =    1631.85 ms /   235 tokens (    6.94 ms per token,   144.01 tokens per second)\n",
      "llama_print_timings:        eval time =    1894.38 ms /    42 runs   (   45.10 ms per token,    22.17 tokens per second)\n",
      "llama_print_timings:       total time =    3747.85 ms /   277 tokens\n",
      "Llama.generate: prefix-match hit\n"
     ]
    },
    {
     "name": "stdout",
     "output_type": "stream",
     "text": [
      " SELECT t.name AS teacher_name FROM course c JOIN teacher t ON c.course_id = t.teacher_id WHERE c.course = 'math';\n",
      "index is 404\n"
     ]
    },
    {
     "name": "stderr",
     "output_type": "stream",
     "text": [
      "\n",
      "llama_print_timings:        load time =     577.18 ms\n",
      "llama_print_timings:      sample time =      16.44 ms /    36 runs   (    0.46 ms per token,  2189.51 tokens per second)\n",
      "llama_print_timings: prompt eval time =    1414.16 ms /   205 tokens (    6.90 ms per token,   144.96 tokens per second)\n",
      "llama_print_timings:        eval time =    1561.74 ms /    35 runs   (   44.62 ms per token,    22.41 tokens per second)\n",
      "llama_print_timings:       total time =    3168.01 ms /   240 tokens\n",
      "Llama.generate: prefix-match hit\n"
     ]
    },
    {
     "name": "stdout",
     "output_type": "stream",
     "text": [
      " SELECT t.name FROM teacher t JOIN course c ON t.teacher_id = c.staring_date WHERE c.course = 'math';\n",
      "index is 405\n"
     ]
    },
    {
     "name": "stderr",
     "output_type": "stream",
     "text": [
      "\n",
      "llama_print_timings:        load time =     577.18 ms\n",
      "llama_print_timings:      sample time =      15.44 ms /    33 runs   (    0.47 ms per token,  2137.58 tokens per second)\n",
      "llama_print_timings: prompt eval time =    1420.25 ms /   208 tokens (    6.83 ms per token,   146.45 tokens per second)\n",
      "llama_print_timings:        eval time =    1477.04 ms /    33 runs   (   44.76 ms per token,    22.34 tokens per second)\n",
      "llama_print_timings:       total time =    3083.60 ms /   241 tokens\n",
      "Llama.generate: prefix-match hit\n"
     ]
    },
    {
     "name": "stdout",
     "output_type": "stream",
     "text": [
      " SELECT t.name, COUNT(ca.course_id) AS num_courses FROM teacher t JOIN course_arrange ca ON t.teacher_id = ca.teacher_id GROUP BY t.name;\n",
      "index is 406\n"
     ]
    },
    {
     "name": "stderr",
     "output_type": "stream",
     "text": [
      "\n",
      "llama_print_timings:        load time =     577.18 ms\n",
      "llama_print_timings:      sample time =      22.41 ms /    48 runs   (    0.47 ms per token,  2142.09 tokens per second)\n",
      "llama_print_timings: prompt eval time =    1908.87 ms /   276 tokens (    6.92 ms per token,   144.59 tokens per second)\n",
      "llama_print_timings:        eval time =    2109.75 ms /    47 runs   (   44.89 ms per token,    22.28 tokens per second)\n",
      "llama_print_timings:       total time =    4270.60 ms /   323 tokens\n",
      "Llama.generate: prefix-match hit\n"
     ]
    },
    {
     "name": "stdout",
     "output_type": "stream",
     "text": [
      " SELECT t.name AS teacher_name, COUNT(ca.course_id) AS number_of_courses FROM teacher t JOIN course_arrange ca ON t.teacher_id = ca.teacher_id GROUP BY t.name;\n",
      "index is 407\n"
     ]
    },
    {
     "name": "stderr",
     "output_type": "stream",
     "text": [
      "\n",
      "llama_print_timings:        load time =     577.18 ms\n",
      "llama_print_timings:      sample time =      25.61 ms /    54 runs   (    0.47 ms per token,  2108.72 tokens per second)\n",
      "llama_print_timings: prompt eval time =    1968.98 ms /   284 tokens (    6.93 ms per token,   144.24 tokens per second)\n",
      "llama_print_timings:        eval time =    2393.81 ms /    53 runs   (   45.17 ms per token,    22.14 tokens per second)\n",
      "llama_print_timings:       total time =    4640.64 ms /   337 tokens\n",
      "Llama.generate: prefix-match hit\n"
     ]
    },
    {
     "name": "stdout",
     "output_type": "stream",
     "text": [
      " SELECT t.name FROM teacher t JOIN (SELECT c.teacher_id FROM course_arrange c GROUP BY c.teacher_id HAVING COUNT(c.course_id) >= 2) AS m ON t.teacher_id = m.teacher_id;\n",
      "index is 408\n"
     ]
    },
    {
     "name": "stderr",
     "output_type": "stream",
     "text": [
      "\n",
      "llama_print_timings:        load time =     577.18 ms\n",
      "llama_print_timings:      sample time =      30.07 ms /    63 runs   (    0.48 ms per token,  2095.32 tokens per second)\n",
      "llama_print_timings: prompt eval time =    1906.45 ms /   274 tokens (    6.96 ms per token,   143.72 tokens per second)\n",
      "llama_print_timings:        eval time =    2791.23 ms /    62 runs   (   45.02 ms per token,    22.21 tokens per second)\n",
      "llama_print_timings:       total time =    5012.13 ms /   336 tokens\n",
      "Llama.generate: prefix-match hit\n"
     ]
    },
    {
     "name": "stdout",
     "output_type": "stream",
     "text": [
      " SELECT t.name FROM teacher t JOIN course_arrange ca ON t.teacher_id = ca.teacher_id GROUP BY t.name HAVING COUNT(ca.course_id) >= 2;\n",
      "index is 409\n"
     ]
    },
    {
     "name": "stderr",
     "output_type": "stream",
     "text": [
      "\n",
      "llama_print_timings:        load time =     577.18 ms\n",
      "llama_print_timings:      sample time =      22.68 ms /    48 runs   (    0.47 ms per token,  2116.31 tokens per second)\n",
      "llama_print_timings: prompt eval time =    1961.72 ms /   282 tokens (    6.96 ms per token,   143.75 tokens per second)\n",
      "llama_print_timings:        eval time =    2107.97 ms /    47 runs   (   44.85 ms per token,    22.30 tokens per second)\n",
      "llama_print_timings:       total time =    4329.49 ms /   329 tokens\n",
      "Llama.generate: prefix-match hit\n"
     ]
    },
    {
     "name": "stdout",
     "output_type": "stream",
     "text": [
      " SELECT t.name FROM teacher t LEFT JOIN course_arrange ca ON (ca.teacher_id = t.teacher_id) WHERE ca.teacher_id IS NULL;\n",
      "index is 410\n"
     ]
    },
    {
     "name": "stderr",
     "output_type": "stream",
     "text": [
      "\n",
      "llama_print_timings:        load time =     577.18 ms\n",
      "llama_print_timings:      sample time =      19.21 ms /    41 runs   (    0.47 ms per token,  2134.75 tokens per second)\n",
      "llama_print_timings: prompt eval time =    1918.57 ms /   280 tokens (    6.85 ms per token,   145.94 tokens per second)\n",
      "llama_print_timings:        eval time =    1793.70 ms /    40 runs   (   44.84 ms per token,    22.30 tokens per second)\n",
      "llama_print_timings:       total time =    3936.69 ms /   320 tokens\n",
      "Llama.generate: prefix-match hit\n"
     ]
    },
    {
     "name": "stdout",
     "output_type": "stream",
     "text": [
      " SELECT t.name FROM teacher t LEFT JOIN course_arrange ca ON (t.teacher_id = ca.teacher_id) WHERE ca.teacher_id IS NULL;\n",
      "index is 411\n"
     ]
    },
    {
     "name": "stderr",
     "output_type": "stream",
     "text": [
      "\n",
      "llama_print_timings:        load time =     577.18 ms\n",
      "llama_print_timings:      sample time =      19.17 ms /    41 runs   (    0.47 ms per token,  2138.65 tokens per second)\n",
      "llama_print_timings: prompt eval time =    1966.27 ms /   282 tokens (    6.97 ms per token,   143.42 tokens per second)\n",
      "llama_print_timings:        eval time =    1803.49 ms /    40 runs   (   45.09 ms per token,    22.18 tokens per second)\n",
      "llama_print_timings:       total time =    3997.78 ms /   322 tokens\n",
      "Llama.generate: prefix-match hit\n"
     ]
    },
    {
     "name": "stdout",
     "output_type": "stream",
     "text": [
      " SELECT COUNT(*) FROM visitor v WHERE v.age < 30;\n",
      "index is 412\n"
     ]
    },
    {
     "name": "stderr",
     "output_type": "stream",
     "text": [
      "\n",
      "llama_print_timings:        load time =     577.18 ms\n",
      "llama_print_timings:      sample time =       7.57 ms /    16 runs   (    0.47 ms per token,  2112.77 tokens per second)\n",
      "llama_print_timings: prompt eval time =    1035.99 ms /   150 tokens (    6.91 ms per token,   144.79 tokens per second)\n",
      "llama_print_timings:        eval time =     670.53 ms /    15 runs   (   44.70 ms per token,    22.37 tokens per second)\n",
      "llama_print_timings:       total time =    1803.93 ms /   165 tokens\n",
      "Llama.generate: prefix-match hit\n"
     ]
    },
    {
     "name": "stdout",
     "output_type": "stream",
     "text": [
      " SELECT v.name FROM visitor v WHERE v.level_of_membership > 4 ORDER BY v.level_of_membership DESC;\n",
      "index is 413\n"
     ]
    },
    {
     "name": "stderr",
     "output_type": "stream",
     "text": [
      "\n",
      "llama_print_timings:        load time =     577.18 ms\n",
      "llama_print_timings:      sample time =      15.86 ms /    34 runs   (    0.47 ms per token,  2144.43 tokens per second)\n",
      "llama_print_timings: prompt eval time =    1264.44 ms /   180 tokens (    7.02 ms per token,   142.36 tokens per second)\n",
      "llama_print_timings:        eval time =    1468.54 ms /    33 runs   (   44.50 ms per token,    22.47 tokens per second)\n",
      "llama_print_timings:       total time =    2905.39 ms /   213 tokens\n",
      "Llama.generate: prefix-match hit\n"
     ]
    },
    {
     "name": "stdout",
     "output_type": "stream",
     "text": [
      " SELECT AVG(v.age) FROM visitor v WHERE v.level_of_membership <= 4;\n",
      "index is 414\n"
     ]
    },
    {
     "name": "stderr",
     "output_type": "stream",
     "text": [
      "\n",
      "llama_print_timings:        load time =     577.18 ms\n",
      "llama_print_timings:      sample time =      12.19 ms /    26 runs   (    0.47 ms per token,  2133.25 tokens per second)\n",
      "llama_print_timings: prompt eval time =    1139.76 ms /   164 tokens (    6.95 ms per token,   143.89 tokens per second)\n",
      "llama_print_timings:        eval time =    1111.56 ms /    25 runs   (   44.46 ms per token,    22.49 tokens per second)\n",
      "llama_print_timings:       total time =    2388.08 ms /   189 tokens\n",
      "Llama.generate: prefix-match hit\n"
     ]
    },
    {
     "name": "stdout",
     "output_type": "stream",
     "text": [
      " SELECT v.name, v.level_of_membership FROM visitor v WHERE v.level_of_membership > 4 ORDER BY v.age ASC;\n",
      "index is 415\n"
     ]
    },
    {
     "name": "stderr",
     "output_type": "stream",
     "text": [
      "\n",
      "llama_print_timings:        load time =     577.18 ms\n",
      "llama_print_timings:      sample time =      17.78 ms /    38 runs   (    0.47 ms per token,  2137.35 tokens per second)\n",
      "llama_print_timings: prompt eval time =    1250.04 ms /   182 tokens (    6.87 ms per token,   145.59 tokens per second)\n",
      "llama_print_timings:        eval time =    1646.74 ms /    37 runs   (   44.51 ms per token,    22.47 tokens per second)\n",
      "llama_print_timings:       total time =    3083.09 ms /   219 tokens\n",
      "Llama.generate: prefix-match hit\n"
     ]
    },
    {
     "name": "stdout",
     "output_type": "stream",
     "text": [
      " SELECT m.museum_id, m.name FROM museum m ORDER BY m.num_of_staff DESC LIMIT 1;\n",
      "index is 416\n"
     ]
    },
    {
     "name": "stderr",
     "output_type": "stream",
     "text": [
      "\n",
      "llama_print_timings:        load time =     577.18 ms\n",
      "llama_print_timings:      sample time =      13.72 ms /    29 runs   (    0.47 ms per token,  2112.93 tokens per second)\n",
      "llama_print_timings: prompt eval time =    1140.75 ms /   162 tokens (    7.04 ms per token,   142.01 tokens per second)\n",
      "llama_print_timings:        eval time =    1245.73 ms /    28 runs   (   44.49 ms per token,    22.48 tokens per second)\n",
      "llama_print_timings:       total time =    2535.57 ms /   190 tokens\n",
      "Llama.generate: prefix-match hit\n"
     ]
    },
    {
     "name": "stdout",
     "output_type": "stream",
     "text": [
      " SELECT AVG(m.num_of_staff) AS average_staff FROM museum m WHERE m.open_year < '2009';\n",
      "index is 417\n"
     ]
    },
    {
     "name": "stderr",
     "output_type": "stream",
     "text": [
      "\n",
      "llama_print_timings:        load time =     577.18 ms\n",
      "llama_print_timings:      sample time =      16.67 ms /    35 runs   (    0.48 ms per token,  2099.20 tokens per second)\n",
      "llama_print_timings: prompt eval time =    1195.35 ms /   172 tokens (    6.95 ms per token,   143.89 tokens per second)\n",
      "llama_print_timings:        eval time =    1511.58 ms /    34 runs   (   44.46 ms per token,    22.49 tokens per second)\n",
      "llama_print_timings:       total time =    2881.13 ms /   206 tokens\n",
      "Llama.generate: prefix-match hit\n"
     ]
    },
    {
     "name": "stdout",
     "output_type": "stream",
     "text": [
      " SELECT m.open_year, m.num_of_staff FROM museum m WHERE m.name ilike '%Plaza%Museum%';\n",
      "index is 418\n"
     ]
    },
    {
     "name": "stderr",
     "output_type": "stream",
     "text": [
      "\n",
      "llama_print_timings:        load time =     577.18 ms\n",
      "llama_print_timings:      sample time =      16.37 ms /    34 runs   (    0.48 ms per token,  2077.10 tokens per second)\n",
      "llama_print_timings: prompt eval time =    1143.16 ms /   166 tokens (    6.89 ms per token,   145.21 tokens per second)\n",
      "llama_print_timings:        eval time =    1467.26 ms /    33 runs   (   44.46 ms per token,    22.49 tokens per second)\n",
      "llama_print_timings:       total time =    2778.96 ms /   199 tokens\n",
      "Llama.generate: prefix-match hit\n"
     ]
    },
    {
     "name": "stdout",
     "output_type": "stream",
     "text": [
      " SELECT m.name FROM museum m WHERE m.num_of_staff > (SELECT MIN(num_of_staff) FROM museum WHERE open_year > '2010');\n",
      "index is 419\n"
     ]
    },
    {
     "name": "stderr",
     "output_type": "stream",
     "text": [
      "\n",
      "llama_print_timings:        load time =     577.18 ms\n",
      "llama_print_timings:      sample time =      19.83 ms /    43 runs   (    0.46 ms per token,  2168.10 tokens per second)\n",
      "llama_print_timings: prompt eval time =    1300.61 ms /   186 tokens (    6.99 ms per token,   143.01 tokens per second)\n",
      "llama_print_timings:        eval time =    1884.56 ms /    42 runs   (   44.87 ms per token,    22.29 tokens per second)\n",
      "llama_print_timings:       total time =    3392.86 ms /   228 tokens\n",
      "Llama.generate: prefix-match hit\n"
     ]
    },
    {
     "name": "stdout",
     "output_type": "stream",
     "text": [
      " SELECT v.id AS visitor_id, v.name AS visitor_name, v.age AS visitor_age, COUNT(v.id) OVER (PARTITION BY v.id) AS visit_count FROM visitor v JOIN visit e ON v.id = e.visitor_id GROUP BY v.id, v.name, v.age HAVING COUNT(v.id) > 1 ORDER BY visit_count DESC NULLS LAST;\n",
      "index is 420\n"
     ]
    },
    {
     "name": "stderr",
     "output_type": "stream",
     "text": [
      "\n",
      "llama_print_timings:        load time =     577.18 ms\n",
      "llama_print_timings:      sample time =      47.52 ms /    99 runs   (    0.48 ms per token,  2083.38 tokens per second)\n",
      "llama_print_timings: prompt eval time =    1969.86 ms /   285 tokens (    6.91 ms per token,   144.68 tokens per second)\n",
      "llama_print_timings:        eval time =    4410.05 ms /    98 runs   (   45.00 ms per token,    22.22 tokens per second)\n",
      "llama_print_timings:       total time =    6838.80 ms /   383 tokens\n",
      "Llama.generate: prefix-match hit\n"
     ]
    },
    {
     "name": "stdout",
     "output_type": "stream",
     "text": [
      " SELECT v.id AS visitor_id, v.name AS visitor_name, v.level_of_membership AS visitor_level_of_membership, rank() OVER (ORDER BY v.total_spent DESC) AS rank FROM visitor v;\n",
      "index is 421\n"
     ]
    },
    {
     "name": "stderr",
     "output_type": "stream",
     "text": [
      "\n",
      "llama_print_timings:        load time =     577.18 ms\n",
      "llama_print_timings:      sample time =      28.11 ms /    59 runs   (    0.48 ms per token,  2098.82 tokens per second)\n",
      "llama_print_timings: prompt eval time =    2133.33 ms /   307 tokens (    6.95 ms per token,   143.91 tokens per second)\n",
      "llama_print_timings:        eval time =    2609.02 ms /    58 runs   (   44.98 ms per token,    22.23 tokens per second)\n",
      "llama_print_timings:       total time =    5051.90 ms /   365 tokens\n",
      "Llama.generate: prefix-match hit\n"
     ]
    },
    {
     "name": "stdout",
     "output_type": "stream",
     "text": [
      " SELECT m.museum_id, m.name FROM museum m JOIN (SELECT v.museum_id, COUNT(*) AS visit_count FROM visit v GROUP BY v.museum_id ORDER BY visit_count DESC LIMIT 1) AS mc ON m.museum_id = mc.museum_id;\n",
      "index is 422\n"
     ]
    },
    {
     "name": "stderr",
     "output_type": "stream",
     "text": [
      "\n",
      "llama_print_timings:        load time =     577.18 ms\n",
      "llama_print_timings:      sample time =      30.92 ms /    66 runs   (    0.47 ms per token,  2134.33 tokens per second)\n",
      "llama_print_timings: prompt eval time =    1916.47 ms /   280 tokens (    6.84 ms per token,   146.10 tokens per second)\n",
      "llama_print_timings:        eval time =    2962.82 ms /    66 runs   (   44.89 ms per token,    22.28 tokens per second)\n",
      "llama_print_timings:       total time =    5208.03 ms /   346 tokens\n",
      "Llama.generate: prefix-match hit\n"
     ]
    },
    {
     "name": "stdout",
     "output_type": "stream",
     "text": [
      " SELECT m.name FROM museum m LEFT JOIN visit v ON m.museum_id = v.museum_id WHERE v.museum_id IS NULL;\n",
      "index is 423\n"
     ]
    },
    {
     "name": "stderr",
     "output_type": "stream",
     "text": [
      "\n",
      "llama_print_timings:        load time =     577.18 ms\n",
      "llama_print_timings:      sample time =      15.38 ms /    33 runs   (    0.47 ms per token,  2145.36 tokens per second)\n",
      "llama_print_timings: prompt eval time =    1964.60 ms /   284 tokens (    6.92 ms per token,   144.56 tokens per second)\n",
      "llama_print_timings:        eval time =    1434.90 ms /    32 runs   (   44.84 ms per token,    22.30 tokens per second)\n",
      "llama_print_timings:       total time =    3596.35 ms /   316 tokens\n",
      "Llama.generate: prefix-match hit\n"
     ]
    },
    {
     "name": "stdout",
     "output_type": "stream",
     "text": [
      " SELECT v.name, v.age, MAX(v.num_of_ticket) AS max_tickets FROM visit v GROUP BY v.name, v.age ORDER BY max_tickets DESC LIMIT 1;\n",
      "index is 424\n"
     ]
    },
    {
     "name": "stderr",
     "output_type": "stream",
     "text": [
      "\n",
      "llama_print_timings:        load time =     577.18 ms\n",
      "llama_print_timings:      sample time =      23.39 ms /    49 runs   (    0.48 ms per token,  2094.55 tokens per second)\n",
      "llama_print_timings: prompt eval time =    1968.76 ms /   285 tokens (    6.91 ms per token,   144.76 tokens per second)\n",
      "llama_print_timings:        eval time =    2154.29 ms /    48 runs   (   44.88 ms per token,    22.28 tokens per second)\n",
      "llama_print_timings:       total time =    4385.62 ms /   333 tokens\n",
      "Llama.generate: prefix-match hit\n"
     ]
    },
    {
     "name": "stdout",
     "output_type": "stream",
     "text": [
      " SELECT AVG(v.num_of_ticket) AS average_tickets_bought, MAX(v.num_of_ticket) AS max_tickets_bought FROM visit v;\n",
      "index is 425\n"
     ]
    },
    {
     "name": "stderr",
     "output_type": "stream",
     "text": [
      "\n",
      "llama_print_timings:        load time =     577.18 ms\n",
      "llama_print_timings:      sample time =      22.35 ms /    46 runs   (    0.49 ms per token,  2058.17 tokens per second)\n",
      "llama_print_timings: prompt eval time =    1525.51 ms /   223 tokens (    6.84 ms per token,   146.18 tokens per second)\n",
      "llama_print_timings:        eval time =    2012.81 ms /    45 runs   (   44.73 ms per token,    22.36 tokens per second)\n",
      "llama_print_timings:       total time =    3769.11 ms /   268 tokens\n",
      "Llama.generate: prefix-match hit\n"
     ]
    },
    {
     "name": "stdout",
     "output_type": "stream",
     "text": [
      " SELECT SUM(v.total_spent) AS total_spent FROM visit v JOIN visitor vi ON v.visitor_id = vi.id WHERE vi.level_of_membership = 1;\n",
      "index is 426\n"
     ]
    },
    {
     "name": "stderr",
     "output_type": "stream",
     "text": [
      "\n",
      "llama_print_timings:        load time =     577.18 ms\n",
      "llama_print_timings:      sample time =      22.02 ms /    47 runs   (    0.47 ms per token,  2134.91 tokens per second)\n",
      "llama_print_timings: prompt eval time =    1972.78 ms /   286 tokens (    6.90 ms per token,   144.97 tokens per second)\n",
      "llama_print_timings:        eval time =    2075.77 ms /    46 runs   (   45.13 ms per token,    22.16 tokens per second)\n",
      "llama_print_timings:       total time =    4300.57 ms /   332 tokens\n",
      "Llama.generate: prefix-match hit\n"
     ]
    },
    {
     "name": "stdout",
     "output_type": "stream",
     "text": [
      " SELECT v.name FROM visitor v JOIN museum m1 ON v.id = m1.museum_id JOIN museum m2 ON v.id = m2.museum_id WHERE m1.open_year < '2009' AND m2.open_year > '2011' GROUP BY v.name;\n",
      "index is 427\n"
     ]
    },
    {
     "name": "stderr",
     "output_type": "stream",
     "text": [
      "\n",
      "llama_print_timings:        load time =     577.18 ms\n",
      "llama_print_timings:      sample time =      32.41 ms /    72 runs   (    0.45 ms per token,  2221.26 tokens per second)\n",
      "llama_print_timings: prompt eval time =    1748.15 ms /   253 tokens (    6.91 ms per token,   144.72 tokens per second)\n",
      "llama_print_timings:        eval time =    3209.28 ms /    71 runs   (   45.20 ms per token,    22.12 tokens per second)\n",
      "llama_print_timings:       total time =    5293.96 ms /   324 tokens\n",
      "Llama.generate: prefix-match hit\n"
     ]
    },
    {
     "name": "stdout",
     "output_type": "stream",
     "text": [
      " SELECT COUNT(DISTINCT v.visitor_ID) AS total_visitors FROM visit v JOIN museum m ON v.museum_id = m.museum_id WHERE m.open_year > '2010';\n",
      "index is 428\n"
     ]
    },
    {
     "name": "stderr",
     "output_type": "stream",
     "text": [
      "\n",
      "llama_print_timings:        load time =     577.18 ms\n",
      "llama_print_timings:      sample time =      23.97 ms /    50 runs   (    0.48 ms per token,  2086.20 tokens per second)\n",
      "llama_print_timings: prompt eval time =    2470.59 ms /   357 tokens (    6.92 ms per token,   144.50 tokens per second)\n",
      "llama_print_timings:        eval time =    2226.84 ms /    49 runs   (   45.45 ms per token,    22.00 tokens per second)\n",
      "llama_print_timings:       total time =    4980.41 ms /   406 tokens\n",
      "Llama.generate: prefix-match hit\n"
     ]
    },
    {
     "name": "stdout",
     "output_type": "stream",
     "text": [
      " SELECT COUNT(*) FROM museum m WHERE (m.open_year > '2013' OR m.open_year < '2008')\n",
      "index is 429\n"
     ]
    },
    {
     "name": "stderr",
     "output_type": "stream",
     "text": [
      "\n",
      "llama_print_timings:        load time =     577.18 ms\n",
      "llama_print_timings:      sample time =      15.89 ms /    34 runs   (    0.47 ms per token,  2139.98 tokens per second)\n",
      "llama_print_timings: prompt eval time =    1196.61 ms /   174 tokens (    6.88 ms per token,   145.41 tokens per second)\n",
      "llama_print_timings:        eval time =    1480.20 ms /    33 runs   (   44.85 ms per token,    22.29 tokens per second)\n",
      "llama_print_timings:       total time =    2850.82 ms /   207 tokens\n",
      "Llama.generate: prefix-match hit\n"
     ]
    },
    {
     "name": "stdout",
     "output_type": "stream",
     "text": [
      " SELECT COUNT(p.player_id) AS total_players FROM players p;\n",
      "index is 430\n"
     ]
    },
    {
     "name": "stderr",
     "output_type": "stream",
     "text": [
      "\n",
      "llama_print_timings:        load time =     577.18 ms\n",
      "llama_print_timings:      sample time =       9.15 ms /    19 runs   (    0.48 ms per token,  2077.41 tokens per second)\n",
      "llama_print_timings: prompt eval time =    1032.35 ms /   150 tokens (    6.88 ms per token,   145.30 tokens per second)\n",
      "llama_print_timings:        eval time =     806.19 ms /    18 runs   (   44.79 ms per token,    22.33 tokens per second)\n",
      "llama_print_timings:       total time =    1956.05 ms /   168 tokens\n",
      "Llama.generate: prefix-match hit\n"
     ]
    },
    {
     "name": "stdout",
     "output_type": "stream",
     "text": [
      " SELECT COUNT(p.player_id) FROM players p;\n",
      "index is 431\n"
     ]
    },
    {
     "name": "stderr",
     "output_type": "stream",
     "text": [
      "\n",
      "llama_print_timings:        load time =     577.18 ms\n",
      "llama_print_timings:      sample time =       6.49 ms /    14 runs   (    0.46 ms per token,  2158.50 tokens per second)\n",
      "llama_print_timings: prompt eval time =    1029.56 ms /   150 tokens (    6.86 ms per token,   145.69 tokens per second)\n",
      "llama_print_timings:        eval time =     582.09 ms /    13 runs   (   44.78 ms per token,    22.33 tokens per second)\n",
      "llama_print_timings:       total time =    1701.08 ms /   163 tokens\n",
      "Llama.generate: prefix-match hit\n"
     ]
    },
    {
     "name": "stdout",
     "output_type": "stream",
     "text": [
      " SELECT COUNT(m.match_num) AS total_matches FROM matches m;\n",
      "index is 432\n"
     ]
    },
    {
     "name": "stderr",
     "output_type": "stream",
     "text": [
      "\n",
      "llama_print_timings:        load time =     577.18 ms\n",
      "llama_print_timings:      sample time =       8.34 ms /    18 runs   (    0.46 ms per token,  2159.31 tokens per second)\n",
      "llama_print_timings: prompt eval time =    3221.60 ms /   464 tokens (    6.94 ms per token,   144.03 tokens per second)\n",
      "llama_print_timings:        eval time =     777.29 ms /    17 runs   (   45.72 ms per token,    21.87 tokens per second)\n",
      "llama_print_timings:       total time =    4187.37 ms /   481 tokens\n",
      "Llama.generate: prefix-match hit\n"
     ]
    },
    {
     "name": "stdout",
     "output_type": "stream",
     "text": [
      " SELECT COUNT(m.match_num) AS total_matches FROM matches m;\n",
      "index is 433\n"
     ]
    },
    {
     "name": "stderr",
     "output_type": "stream",
     "text": [
      "\n",
      "llama_print_timings:        load time =     577.18 ms\n",
      "llama_print_timings:      sample time =       8.48 ms /    18 runs   (    0.47 ms per token,  2121.89 tokens per second)\n",
      "llama_print_timings: prompt eval time =    3200.34 ms /   462 tokens (    6.93 ms per token,   144.36 tokens per second)\n",
      "llama_print_timings:        eval time =     776.35 ms /    17 runs   (   45.67 ms per token,    21.90 tokens per second)\n",
      "llama_print_timings:       total time =    4166.31 ms /   479 tokens\n",
      "Llama.generate: prefix-match hit\n"
     ]
    },
    {
     "name": "stdout",
     "output_type": "stream",
     "text": [
      " SELECT p.first_name, p.birth_date FROM players p WHERE p.country_code = 'USA';\n",
      "index is 434\n"
     ]
    },
    {
     "name": "stderr",
     "output_type": "stream",
     "text": [
      "\n",
      "llama_print_timings:        load time =     577.18 ms\n",
      "llama_print_timings:      sample time =      13.12 ms /    27 runs   (    0.49 ms per token,  2058.71 tokens per second)\n",
      "llama_print_timings: prompt eval time =    1192.57 ms /   170 tokens (    7.02 ms per token,   142.55 tokens per second)\n",
      "llama_print_timings:        eval time =    1164.42 ms /    26 runs   (   44.79 ms per token,    22.33 tokens per second)\n",
      "llama_print_timings:       total time =    2504.01 ms /   196 tokens\n",
      "Llama.generate: prefix-match hit\n"
     ]
    },
    {
     "name": "stdout",
     "output_type": "stream",
     "text": [
      " SELECT p.first_name, p.birth_date FROM players p WHERE p.country_code = 'USA';\n",
      "index is 435\n"
     ]
    },
    {
     "name": "stderr",
     "output_type": "stream",
     "text": [
      "\n",
      "llama_print_timings:        load time =     577.18 ms\n",
      "llama_print_timings:      sample time =      12.74 ms /    27 runs   (    0.47 ms per token,  2119.31 tokens per second)\n",
      "llama_print_timings: prompt eval time =    1141.82 ms /   166 tokens (    6.88 ms per token,   145.38 tokens per second)\n",
      "llama_print_timings:        eval time =    1166.27 ms /    26 runs   (   44.86 ms per token,    22.29 tokens per second)\n",
      "llama_print_timings:       total time =    2450.93 ms /   192 tokens\n",
      "Llama.generate: prefix-match hit\n"
     ]
    },
    {
     "name": "stdout",
     "output_type": "stream",
     "text": [
      " SELECT AVG(m.loser_age) AS average_loser_age, AVG(m.winner_age) AS average_winner_age FROM matches m;\n",
      "index is 436\n"
     ]
    },
    {
     "name": "stderr",
     "output_type": "stream",
     "text": [
      "\n",
      "llama_print_timings:        load time =     577.18 ms\n",
      "llama_print_timings:      sample time =      19.25 ms /    41 runs   (    0.47 ms per token,  2130.09 tokens per second)\n",
      "llama_print_timings: prompt eval time =    3323.29 ms /   478 tokens (    6.95 ms per token,   143.83 tokens per second)\n",
      "llama_print_timings:        eval time =    1829.37 ms /    40 runs   (   45.73 ms per token,    21.87 tokens per second)\n",
      "llama_print_timings:       total time =    5433.93 ms /   518 tokens\n",
      "Llama.generate: prefix-match hit\n"
     ]
    },
    {
     "name": "stdout",
     "output_type": "stream",
     "text": [
      " SELECT AVG(m.loser_age) AS average_loser_age, AVG(m.winner_age) AS average_winner_age FROM matches m;\n",
      "index is 437\n"
     ]
    },
    {
     "name": "stderr",
     "output_type": "stream",
     "text": [
      "\n",
      "llama_print_timings:        load time =     577.18 ms\n",
      "llama_print_timings:      sample time =      19.59 ms /    41 runs   (    0.48 ms per token,  2092.80 tokens per second)\n",
      "llama_print_timings: prompt eval time =    3325.09 ms /   480 tokens (    6.93 ms per token,   144.36 tokens per second)\n",
      "llama_print_timings:        eval time =    1814.56 ms /    40 runs   (   45.36 ms per token,    22.04 tokens per second)\n",
      "llama_print_timings:       total time =    5425.45 ms /   520 tokens\n",
      "Llama.generate: prefix-match hit\n"
     ]
    },
    {
     "name": "stdout",
     "output_type": "stream",
     "text": [
      " SELECT AVG(m.winner_rank) AS average_rank FROM matches m;\n",
      "index is 438\n"
     ]
    },
    {
     "name": "stderr",
     "output_type": "stream",
     "text": [
      "\n",
      "llama_print_timings:        load time =     577.18 ms\n",
      "llama_print_timings:      sample time =       9.27 ms /    20 runs   (    0.46 ms per token,  2157.26 tokens per second)\n",
      "llama_print_timings: prompt eval time =    3267.95 ms /   472 tokens (    6.92 ms per token,   144.43 tokens per second)\n",
      "llama_print_timings:        eval time =     860.38 ms /    19 runs   (   45.28 ms per token,    22.08 tokens per second)\n",
      "llama_print_timings:       total time =    4337.32 ms /   491 tokens\n",
      "Llama.generate: prefix-match hit\n"
     ]
    },
    {
     "name": "stdout",
     "output_type": "stream",
     "text": [
      " SELECT AVG(m.winner_rank) AS average_rank FROM matches m;\n",
      "index is 439\n"
     ]
    },
    {
     "name": "stderr",
     "output_type": "stream",
     "text": [
      "\n",
      "llama_print_timings:        load time =     577.18 ms\n",
      "llama_print_timings:      sample time =       9.20 ms /    20 runs   (    0.46 ms per token,  2174.86 tokens per second)\n",
      "llama_print_timings: prompt eval time =    3311.12 ms /   476 tokens (    6.96 ms per token,   143.76 tokens per second)\n",
      "llama_print_timings:        eval time =     860.17 ms /    19 runs   (   45.27 ms per token,    22.09 tokens per second)\n",
      "llama_print_timings:       total time =    4373.18 ms /   495 tokens\n",
      "Llama.generate: prefix-match hit\n"
     ]
    },
    {
     "name": "stdout",
     "output_type": "stream",
     "text": [
      " SELECT MAX(m.loser_rank) AS max_loser_rank FROM matches m;\n",
      "index is 440\n"
     ]
    },
    {
     "name": "stderr",
     "output_type": "stream",
     "text": [
      "\n",
      "llama_print_timings:        load time =     577.18 ms\n",
      "llama_print_timings:      sample time =      10.34 ms /    22 runs   (    0.47 ms per token,  2127.87 tokens per second)\n",
      "llama_print_timings: prompt eval time =    3268.96 ms /   472 tokens (    6.93 ms per token,   144.39 tokens per second)\n",
      "llama_print_timings:        eval time =     958.69 ms /    21 runs   (   45.65 ms per token,    21.91 tokens per second)\n",
      "llama_print_timings:       total time =    4436.27 ms /   493 tokens\n",
      "Llama.generate: prefix-match hit\n"
     ]
    },
    {
     "name": "stdout",
     "output_type": "stream",
     "text": [
      " SELECT m.match_num, p.player_name, p.player_rank, p.player_rank_points FROM matches m JOIN players p ON m.loser_id = p.player_id ORDER BY m.match_num, p.player_rank NULLS LAST;\n",
      "index is 441\n"
     ]
    },
    {
     "name": "stderr",
     "output_type": "stream",
     "text": [
      "\n",
      "llama_print_timings:        load time =     577.18 ms\n",
      "llama_print_timings:      sample time =      30.04 ms /    64 runs   (    0.47 ms per token,  2130.21 tokens per second)\n",
      "llama_print_timings: prompt eval time =    3315.00 ms /   476 tokens (    6.96 ms per token,   143.59 tokens per second)\n",
      "llama_print_timings:        eval time =    2880.07 ms /    63 runs   (   45.72 ms per token,    21.87 tokens per second)\n",
      "llama_print_timings:       total time =    6569.23 ms /   539 tokens\n",
      "Llama.generate: prefix-match hit\n"
     ]
    },
    {
     "name": "stdout",
     "output_type": "stream",
     "text": [
      " SELECT COUNT(DISTINCT p.country_code) AS num_distinct_country_codes FROM players p;\n",
      "index is 442\n"
     ]
    },
    {
     "name": "stderr",
     "output_type": "stream",
     "text": [
      "\n",
      "llama_print_timings:        load time =     577.18 ms\n",
      "llama_print_timings:      sample time =      12.12 ms /    26 runs   (    0.47 ms per token,  2146.10 tokens per second)\n",
      "llama_print_timings: prompt eval time =    1087.16 ms /   158 tokens (    6.88 ms per token,   145.33 tokens per second)\n",
      "llama_print_timings:        eval time =    1119.23 ms /    25 runs   (   44.77 ms per token,    22.34 tokens per second)\n",
      "llama_print_timings:       total time =    2344.47 ms /   183 tokens\n",
      "Llama.generate: prefix-match hit\n"
     ]
    },
    {
     "name": "stdout",
     "output_type": "stream",
     "text": [
      " SELECT COUNT(DISTINCT p.country_code) AS number_of_countries FROM players p;\n",
      "index is 443\n"
     ]
    },
    {
     "name": "stderr",
     "output_type": "stream",
     "text": [
      "\n",
      "llama_print_timings:        load time =     577.18 ms\n",
      "llama_print_timings:      sample time =      11.23 ms /    24 runs   (    0.47 ms per token,  2137.51 tokens per second)\n",
      "llama_print_timings: prompt eval time =    1082.74 ms /   156 tokens (    6.94 ms per token,   144.08 tokens per second)\n",
      "llama_print_timings:        eval time =    1028.60 ms /    23 runs   (   44.72 ms per token,    22.36 tokens per second)\n",
      "llama_print_timings:       total time =    2239.86 ms /   179 tokens\n",
      "Llama.generate: prefix-match hit\n"
     ]
    },
    {
     "name": "stdout",
     "output_type": "stream",
     "text": [
      " SELECT COUNT(DISTINCT m.loser_name) AS num_distinct_loser_names FROM matches m;\n",
      "index is 444\n"
     ]
    },
    {
     "name": "stderr",
     "output_type": "stream",
     "text": [
      "\n",
      "llama_print_timings:        load time =     577.18 ms\n",
      "llama_print_timings:      sample time =      13.11 ms /    28 runs   (    0.47 ms per token,  2136.26 tokens per second)\n",
      "llama_print_timings: prompt eval time =    3265.55 ms /   470 tokens (    6.95 ms per token,   143.93 tokens per second)\n",
      "llama_print_timings:        eval time =    1223.18 ms /    27 runs   (   45.30 ms per token,    22.07 tokens per second)\n",
      "llama_print_timings:       total time =    4716.82 ms /   497 tokens\n",
      "Llama.generate: prefix-match hit\n"
     ]
    },
    {
     "name": "stdout",
     "output_type": "stream",
     "text": [
      " SELECT COUNT(DISTINCT m.loser_name) AS num_different_loser_names FROM matches m;\n",
      "index is 445\n"
     ]
    },
    {
     "name": "stderr",
     "output_type": "stream",
     "text": [
      "\n",
      "llama_print_timings:        load time =     577.18 ms\n",
      "llama_print_timings:      sample time =      13.22 ms /    28 runs   (    0.47 ms per token,  2117.20 tokens per second)\n",
      "llama_print_timings: prompt eval time =    3257.55 ms /   470 tokens (    6.93 ms per token,   144.28 tokens per second)\n",
      "llama_print_timings:        eval time =    1223.92 ms /    27 runs   (   45.33 ms per token,    22.06 tokens per second)\n",
      "llama_print_timings:       total time =    4709.68 ms /   497 tokens\n",
      "Llama.generate: prefix-match hit\n"
     ]
    },
    {
     "name": "stdout",
     "output_type": "stream",
     "text": [
      " SELECT m.tourney_name FROM matches m GROUP BY m.tourney_name HAVING COUNT(m.match_num) > 10;\n",
      "index is 446\n"
     ]
    },
    {
     "name": "stderr",
     "output_type": "stream",
     "text": [
      "\n",
      "llama_print_timings:        load time =     577.18 ms\n",
      "llama_print_timings:      sample time =      17.82 ms /    37 runs   (    0.48 ms per token,  2075.85 tokens per second)\n",
      "llama_print_timings: prompt eval time =    3325.02 ms /   480 tokens (    6.93 ms per token,   144.36 tokens per second)\n",
      "llama_print_timings:        eval time =    1640.10 ms /    36 runs   (   45.56 ms per token,    21.95 tokens per second)\n",
      "llama_print_timings:       total time =    5262.60 ms /   516 tokens\n",
      "Llama.generate: prefix-match hit\n"
     ]
    },
    {
     "name": "stdout",
     "output_type": "stream",
     "text": [
      " SELECT m.tourney_name FROM matches m GROUP BY m.tourney_name HAVING COUNT(m.match_num) > 10;\n",
      "index is 447\n"
     ]
    },
    {
     "name": "stderr",
     "output_type": "stream",
     "text": [
      "\n",
      "llama_print_timings:        load time =     577.18 ms\n",
      "llama_print_timings:      sample time =      18.15 ms /    37 runs   (    0.49 ms per token,  2038.79 tokens per second)\n",
      "llama_print_timings: prompt eval time =    3376.35 ms /   484 tokens (    6.98 ms per token,   143.35 tokens per second)\n",
      "llama_print_timings:        eval time =    1632.73 ms /    36 runs   (   45.35 ms per token,    22.05 tokens per second)\n",
      "llama_print_timings:       total time =    5276.78 ms /   520 tokens\n",
      "Llama.generate: prefix-match hit\n"
     ]
    },
    {
     "name": "stdout",
     "output_type": "stream",
     "text": [
      " SELECT DISTINCT p.first_name, p.last_name FROM players p JOIN matches m ON p.player_id = m.winner_id WHERE m.year IN (2013, 2016) GROUP BY p.first_name, p.last_name;\n",
      "index is 448\n"
     ]
    },
    {
     "name": "stderr",
     "output_type": "stream",
     "text": [
      "\n",
      "llama_print_timings:        load time =     577.18 ms\n",
      "llama_print_timings:      sample time =      30.94 ms /    66 runs   (    0.47 ms per token,  2133.30 tokens per second)\n",
      "llama_print_timings: prompt eval time =    3957.78 ms /   568 tokens (    6.97 ms per token,   143.51 tokens per second)\n",
      "llama_print_timings:        eval time =    2966.21 ms /    65 runs   (   45.63 ms per token,    21.91 tokens per second)\n",
      "llama_print_timings:       total time =    7334.90 ms /   633 tokens\n",
      "Llama.generate: prefix-match hit\n"
     ]
    },
    {
     "name": "stdout",
     "output_type": "stream",
     "text": [
      " SELECT DISTINCT p.first_name, p.last_name FROM players p JOIN matches m ON p.player_id = m.winner_id WHERE m.year IN (2013, 2016) GROUP BY p.first_name, p.last_name;\n",
      "index is 449\n"
     ]
    },
    {
     "name": "stderr",
     "output_type": "stream",
     "text": [
      "\n",
      "llama_print_timings:        load time =     577.18 ms\n",
      "llama_print_timings:      sample time =      30.89 ms /    66 runs   (    0.47 ms per token,  2136.82 tokens per second)\n",
      "llama_print_timings: prompt eval time =    3947.64 ms /   568 tokens (    6.95 ms per token,   143.88 tokens per second)\n",
      "llama_print_timings:        eval time =    2986.01 ms /    65 runs   (   45.94 ms per token,    21.77 tokens per second)\n",
      "llama_print_timings:       total time =    7336.50 ms /   633 tokens\n",
      "Llama.generate: prefix-match hit\n"
     ]
    },
    {
     "name": "stdout",
     "output_type": "stream",
     "text": [
      " SELECT COUNT(*) FROM matches m WHERE m.year IN (2013, 2016);\n",
      "index is 450\n"
     ]
    },
    {
     "name": "stderr",
     "output_type": "stream",
     "text": [
      "\n",
      "llama_print_timings:        load time =     577.18 ms\n",
      "llama_print_timings:      sample time =      11.09 ms /    24 runs   (    0.46 ms per token,  2165.09 tokens per second)\n",
      "llama_print_timings: prompt eval time =    3438.80 ms /   496 tokens (    6.93 ms per token,   144.24 tokens per second)\n",
      "llama_print_timings:        eval time =    1050.44 ms /    23 runs   (   45.67 ms per token,    21.90 tokens per second)\n",
      "llama_print_timings:       total time =    4710.30 ms /   519 tokens\n",
      "Llama.generate: prefix-match hit\n"
     ]
    },
    {
     "name": "stdout",
     "output_type": "stream",
     "text": [
      " SELECT COUNT(m.match_num) AS number_of_matches FROM matches m WHERE m.year IN (2013, 2016);\n",
      "index is 451\n"
     ]
    },
    {
     "name": "stderr",
     "output_type": "stream",
     "text": [
      "\n",
      "llama_print_timings:        load time =     577.18 ms\n",
      "llama_print_timings:      sample time =      16.75 ms /    36 runs   (    0.47 ms per token,  2149.13 tokens per second)\n",
      "llama_print_timings: prompt eval time =    3373.62 ms /   488 tokens (    6.91 ms per token,   144.65 tokens per second)\n",
      "llama_print_timings:        eval time =    1599.26 ms /    35 runs   (   45.69 ms per token,    21.89 tokens per second)\n",
      "llama_print_timings:       total time =    5241.43 ms /   523 tokens\n",
      "Llama.generate: prefix-match hit\n"
     ]
    },
    {
     "name": "stdout",
     "output_type": "stream",
     "text": [
      " SELECT p.country_code, p.first_name FROM players p JOIN (SELECT m.winner_id FROM matches m WHERE m.tourney_id IN ('WTAChampionships', 'AustralianOpen')) AS w ON p.player_id = w.winner_id;\n",
      "index is 452\n"
     ]
    },
    {
     "name": "stderr",
     "output_type": "stream",
     "text": [
      "\n",
      "llama_print_timings:        load time =     577.18 ms\n",
      "llama_print_timings:      sample time =      30.96 ms /    65 runs   (    0.48 ms per token,  2099.82 tokens per second)\n",
      "llama_print_timings: prompt eval time =    4026.63 ms /   572 tokens (    7.04 ms per token,   142.05 tokens per second)\n",
      "llama_print_timings:        eval time =    2918.53 ms /    64 runs   (   45.60 ms per token,    21.93 tokens per second)\n",
      "llama_print_timings:       total time =    7345.60 ms /   636 tokens\n",
      "Llama.generate: prefix-match hit\n"
     ]
    },
    {
     "name": "stdout",
     "output_type": "stream",
     "text": [
      " SELECT p.first_name, p.country_code FROM players p JOIN (SELECT m.winner_id FROM matches m WHERE m.tourney_id IN ('ausopen', 'wta')) AS w ON p.player_id = w.winner_id;\n",
      "index is 453\n"
     ]
    },
    {
     "name": "stderr",
     "output_type": "stream",
     "text": [
      "\n",
      "llama_print_timings:        load time =     577.18 ms\n",
      "llama_print_timings:      sample time =      29.03 ms /    61 runs   (    0.48 ms per token,  2101.42 tokens per second)\n",
      "llama_print_timings: prompt eval time =    3952.32 ms /   565 tokens (    7.00 ms per token,   142.95 tokens per second)\n",
      "llama_print_timings:        eval time =    2736.58 ms /    60 runs   (   45.61 ms per token,    21.93 tokens per second)\n",
      "llama_print_timings:       total time =    7079.59 ms /   625 tokens\n",
      "Llama.generate: prefix-match hit\n"
     ]
    },
    {
     "name": "stdout",
     "output_type": "stream",
     "text": [
      " SELECT p.first_name, p.country_code FROM players p ORDER BY p.birth_date ASC LIMIT 1;\n",
      "index is 454\n"
     ]
    },
    {
     "name": "stderr",
     "output_type": "stream",
     "text": [
      "\n",
      "llama_print_timings:        load time =     577.18 ms\n",
      "llama_print_timings:      sample time =      13.62 ms /    29 runs   (    0.47 ms per token,  2128.91 tokens per second)\n",
      "llama_print_timings: prompt eval time =    1089.96 ms /   160 tokens (    6.81 ms per token,   146.79 tokens per second)\n",
      "llama_print_timings:        eval time =    1245.87 ms /    28 runs   (   44.50 ms per token,    22.47 tokens per second)\n",
      "llama_print_timings:       total time =    2484.92 ms /   188 tokens\n",
      "Llama.generate: prefix-match hit\n"
     ]
    },
    {
     "name": "stdout",
     "output_type": "stream",
     "text": [
      " SELECT p.first_name, p.country_code FROM players p ORDER BY p.birth_date ASC LIMIT 1;\n",
      "index is 455\n"
     ]
    },
    {
     "name": "stderr",
     "output_type": "stream",
     "text": [
      "\n",
      "llama_print_timings:        load time =     577.18 ms\n",
      "llama_print_timings:      sample time =      13.47 ms /    29 runs   (    0.46 ms per token,  2152.93 tokens per second)\n",
      "llama_print_timings: prompt eval time =    1140.42 ms /   164 tokens (    6.95 ms per token,   143.81 tokens per second)\n",
      "llama_print_timings:        eval time =    1254.17 ms /    28 runs   (   44.79 ms per token,    22.33 tokens per second)\n",
      "llama_print_timings:       total time =    2549.61 ms /   192 tokens\n",
      "Llama.generate: prefix-match hit\n"
     ]
    },
    {
     "name": "stdout",
     "output_type": "stream",
     "text": [
      " SELECT p.first_name, p.last_name FROM players p ORDER BY p.birth_date NULLS LAST;\n",
      "index is 456\n"
     ]
    },
    {
     "name": "stderr",
     "output_type": "stream",
     "text": [
      "\n",
      "llama_print_timings:        load time =     577.18 ms\n",
      "llama_print_timings:      sample time =      13.63 ms /    29 runs   (    0.47 ms per token,  2127.50 tokens per second)\n",
      "llama_print_timings: prompt eval time =    1144.76 ms /   168 tokens (    6.81 ms per token,   146.76 tokens per second)\n",
      "llama_print_timings:        eval time =    1252.84 ms /    28 runs   (   44.74 ms per token,    22.35 tokens per second)\n",
      "llama_print_timings:       total time =    2549.49 ms /   196 tokens\n",
      "Llama.generate: prefix-match hit\n"
     ]
    },
    {
     "name": "stdout",
     "output_type": "stream",
     "text": [
      " SELECT p.first_name || ' ' || p.last_name AS full_name FROM players p ORDER BY p.birth_date NULLS LAST;\n",
      "index is 457\n"
     ]
    },
    {
     "name": "stderr",
     "output_type": "stream",
     "text": [
      "\n",
      "llama_print_timings:        load time =     577.18 ms\n",
      "llama_print_timings:      sample time =      17.27 ms /    36 runs   (    0.48 ms per token,  2084.06 tokens per second)\n",
      "llama_print_timings: prompt eval time =    1142.23 ms /   166 tokens (    6.88 ms per token,   145.33 tokens per second)\n",
      "llama_print_timings:        eval time =    1557.86 ms /    35 runs   (   44.51 ms per token,    22.47 tokens per second)\n",
      "llama_print_timings:       total time =    2880.63 ms /   201 tokens\n",
      "Llama.generate: prefix-match hit\n"
     ]
    },
    {
     "name": "stdout",
     "output_type": "stream",
     "text": [
      " SELECT p.first_name, p.last_name, p.birth_date FROM players p WHERE p.hand = 'L' ORDER BY p.birth_date NULLS LAST;\n",
      "index is 458\n"
     ]
    },
    {
     "name": "stderr",
     "output_type": "stream",
     "text": [
      "\n",
      "llama_print_timings:        load time =     577.18 ms\n",
      "llama_print_timings:      sample time =      21.00 ms /    44 runs   (    0.48 ms per token,  2095.04 tokens per second)\n",
      "llama_print_timings: prompt eval time =    1247.60 ms /   180 tokens (    6.93 ms per token,   144.28 tokens per second)\n",
      "llama_print_timings:        eval time =    1914.66 ms /    43 runs   (   44.53 ms per token,    22.46 tokens per second)\n",
      "llama_print_timings:       total time =    3374.68 ms /   223 tokens\n",
      "Llama.generate: prefix-match hit\n"
     ]
    },
    {
     "name": "stdout",
     "output_type": "stream",
     "text": [
      " SELECT p.first_name, p.last_name FROM players p WHERE p.hand = 'left' ORDER BY p.birth_date NULLS LAST;\n",
      "index is 459\n"
     ]
    },
    {
     "name": "stderr",
     "output_type": "stream",
     "text": [
      "\n",
      "llama_print_timings:        load time =     577.18 ms\n",
      "llama_print_timings:      sample time =      17.70 ms /    37 runs   (    0.48 ms per token,  2090.40 tokens per second)\n",
      "llama_print_timings: prompt eval time =    1196.06 ms /   172 tokens (    6.95 ms per token,   143.81 tokens per second)\n",
      "llama_print_timings:        eval time =    1600.69 ms /    36 runs   (   44.46 ms per token,    22.49 tokens per second)\n",
      "llama_print_timings:       total time =    2980.15 ms /   208 tokens\n",
      "Llama.generate: prefix-match hit\n"
     ]
    },
    {
     "name": "stdout",
     "output_type": "stream",
     "text": [
      " SELECT p.first_name, p.country_code FROM players p JOIN rankings r ON p.player_id = r.player_id WHERE r.ranking = (SELECT MAX(ranking) FROM rankings) ORDER BY p.first_name NULLS LAST;\n",
      "index is 460\n"
     ]
    },
    {
     "name": "stderr",
     "output_type": "stream",
     "text": [
      "\n",
      "llama_print_timings:        load time =     577.18 ms\n",
      "llama_print_timings:      sample time =      29.13 ms /    61 runs   (    0.48 ms per token,  2093.85 tokens per second)\n",
      "llama_print_timings: prompt eval time =    1750.44 ms /   254 tokens (    6.89 ms per token,   145.11 tokens per second)\n",
      "llama_print_timings:        eval time =    2710.91 ms /    60 runs   (   45.18 ms per token,    22.13 tokens per second)\n",
      "llama_print_timings:       total time =    4759.24 ms /   314 tokens\n",
      "Llama.generate: prefix-match hit\n"
     ]
    },
    {
     "name": "stdout",
     "output_type": "stream",
     "text": [
      " SELECT p.first_name, p.country_code FROM players p JOIN rankings r ON p.player_id = r.player_id WHERE r.ranking = (SELECT MAX(ranking) FROM rankings) ORDER BY p.first_name NULLS LAST;\n",
      "index is 461\n"
     ]
    },
    {
     "name": "stderr",
     "output_type": "stream",
     "text": [
      "\n",
      "llama_print_timings:        load time =     577.18 ms\n",
      "llama_print_timings:      sample time =      29.06 ms /    61 runs   (    0.48 ms per token,  2098.82 tokens per second)\n",
      "llama_print_timings: prompt eval time =    1746.98 ms /   252 tokens (    6.93 ms per token,   144.25 tokens per second)\n",
      "llama_print_timings:        eval time =    2711.65 ms /    60 runs   (   45.19 ms per token,    22.13 tokens per second)\n",
      "llama_print_timings:       total time =    4755.41 ms /   312 tokens\n",
      "Llama.generate: prefix-match hit\n"
     ]
    },
    {
     "name": "stdout",
     "output_type": "stream",
     "text": [
      " SELECT m.year, COUNT(m.match_num) AS match_count FROM matches m GROUP BY m.year ORDER BY match_count DESC LIMIT 1;\n",
      "index is 462\n"
     ]
    },
    {
     "name": "stderr",
     "output_type": "stream",
     "text": [
      "\n",
      "llama_print_timings:        load time =     577.18 ms\n",
      "llama_print_timings:      sample time =      16.65 ms /    36 runs   (    0.46 ms per token,  2162.03 tokens per second)\n",
      "llama_print_timings: prompt eval time =    3267.64 ms /   472 tokens (    6.92 ms per token,   144.45 tokens per second)\n",
      "llama_print_timings:        eval time =    1599.13 ms /    35 runs   (   45.69 ms per token,    21.89 tokens per second)\n",
      "llama_print_timings:       total time =    5126.26 ms /   507 tokens\n",
      "Llama.generate: prefix-match hit\n"
     ]
    },
    {
     "name": "stdout",
     "output_type": "stream",
     "text": [
      " SELECT m.year, COUNT(*) AS number_of_matches FROM matches m GROUP BY m.year ORDER BY number_of_matches DESC LIMIT 1;\n",
      "index is 463\n"
     ]
    },
    {
     "name": "stderr",
     "output_type": "stream",
     "text": [
      "\n",
      "llama_print_timings:        load time =     577.18 ms\n",
      "llama_print_timings:      sample time =      15.87 ms /    34 runs   (    0.47 ms per token,  2142.00 tokens per second)\n",
      "llama_print_timings: prompt eval time =    3254.66 ms /   468 tokens (    6.95 ms per token,   143.79 tokens per second)\n",
      "llama_print_timings:        eval time =    1500.24 ms /    33 runs   (   45.46 ms per token,    22.00 tokens per second)\n",
      "llama_print_timings:       total time =    5015.54 ms /   501 tokens\n",
      "Llama.generate: prefix-match hit\n"
     ]
    },
    {
     "name": "stdout",
     "output_type": "stream",
     "text": [
      " SELECT p.first_name, p.last_name, r.ranking_points FROM players p JOIN rankings r ON p.player_id = r.player_id ORDER BY r.ranking_points DESC LIMIT 1;\n",
      "index is 464\n"
     ]
    },
    {
     "name": "stderr",
     "output_type": "stream",
     "text": [
      "\n",
      "llama_print_timings:        load time =     577.18 ms\n",
      "llama_print_timings:      sample time =      24.41 ms /    52 runs   (    0.47 ms per token,  2130.45 tokens per second)\n",
      "llama_print_timings: prompt eval time =    4421.23 ms /   632 tokens (    7.00 ms per token,   142.95 tokens per second)\n",
      "llama_print_timings:        eval time =    2332.24 ms /    51 runs   (   45.73 ms per token,    21.87 tokens per second)\n",
      "llama_print_timings:       total time =    7125.37 ms /   683 tokens\n",
      "Llama.generate: prefix-match hit\n"
     ]
    },
    {
     "name": "stdout",
     "output_type": "stream",
     "text": [
      " SELECT p.first_name, p.last_name, SUM(r.ranking_points) AS total_rank_points FROM players p JOIN rankings r ON p.player_id = r.player_id GROUP BY p.first_name, p.last_name ORDER BY total_rank_points DESC LIMIT 1;\n",
      "index is 465\n"
     ]
    },
    {
     "name": "stderr",
     "output_type": "stream",
     "text": [
      "\n",
      "llama_print_timings:        load time =     577.18 ms\n",
      "llama_print_timings:      sample time =      34.63 ms /    73 runs   (    0.47 ms per token,  2107.88 tokens per second)\n",
      "llama_print_timings: prompt eval time =    4582.55 ms /   652 tokens (    7.03 ms per token,   142.28 tokens per second)\n",
      "llama_print_timings:        eval time =    3297.91 ms /    72 runs   (   45.80 ms per token,    21.83 tokens per second)\n",
      "llama_print_timings:       total time =    8343.07 ms /   724 tokens\n",
      "Llama.generate: prefix-match hit\n"
     ]
    },
    {
     "name": "stdout",
     "output_type": "stream",
     "text": [
      " SELECT p.player_name, r.ranking_points FROM players p JOIN rankings r ON p.player_id = r.player_id WHERE p.player_name IN (SELECT player_name FROM players WHERE country_code = 'AUS') ORDER BY r.ranking_points DESC LIMIT 1;\n",
      "index is 466\n"
     ]
    },
    {
     "name": "stderr",
     "output_type": "stream",
     "text": [
      "\n",
      "llama_print_timings:        load time =     577.18 ms\n",
      "llama_print_timings:      sample time =      33.02 ms /    69 runs   (    0.48 ms per token,  2089.39 tokens per second)\n",
      "llama_print_timings: prompt eval time =    4000.29 ms /   572 tokens (    6.99 ms per token,   142.99 tokens per second)\n",
      "llama_print_timings:        eval time =    3100.60 ms /    68 runs   (   45.60 ms per token,    21.93 tokens per second)\n",
      "llama_print_timings:       total time =    7523.20 ms /   640 tokens\n",
      "Llama.generate: prefix-match hit\n"
     ]
    },
    {
     "name": "stdout",
     "output_type": "stream",
     "text": [
      " SELECT p.first_name, p.last_name, SUM(r.ranking_points) AS total_ranking_points FROM players p JOIN rankings r ON p.player_id = r.player_id WHERE tourney_id = 'australian_open' GROUP BY p.first_name, p.last_name ORDER BY total_ranking_points DESC LIMIT 1;\n",
      "index is 467\n"
     ]
    },
    {
     "name": "stderr",
     "output_type": "stream",
     "text": [
      "\n",
      "llama_print_timings:        load time =     577.18 ms\n",
      "llama_print_timings:      sample time =      41.33 ms /    88 runs   (    0.47 ms per token,  2129.46 tokens per second)\n",
      "llama_print_timings: prompt eval time =    4524.66 ms /   644 tokens (    7.03 ms per token,   142.33 tokens per second)\n",
      "llama_print_timings:        eval time =    4014.42 ms /    87 runs   (   46.14 ms per token,    21.67 tokens per second)\n",
      "llama_print_timings:       total time =    9054.86 ms /   731 tokens\n",
      "Llama.generate: prefix-match hit\n"
     ]
    },
    {
     "name": "stdout",
     "output_type": "stream",
     "text": [
      " SELECT m.loser_name, m.winner_name FROM matches m WHERE m.minutes = (SELECT MAX(minutes) FROM matches);\n",
      "index is 468\n"
     ]
    },
    {
     "name": "stderr",
     "output_type": "stream",
     "text": [
      "\n",
      "llama_print_timings:        load time =     577.18 ms\n",
      "llama_print_timings:      sample time =      16.06 ms /    34 runs   (    0.47 ms per token,  2117.59 tokens per second)\n",
      "llama_print_timings: prompt eval time =    3382.42 ms /   488 tokens (    6.93 ms per token,   144.28 tokens per second)\n",
      "llama_print_timings:        eval time =    1508.58 ms /    33 runs   (   45.71 ms per token,    21.87 tokens per second)\n",
      "llama_print_timings:       total time =    5153.07 ms /   521 tokens\n",
      "Llama.generate: prefix-match hit\n"
     ]
    },
    {
     "name": "stdout",
     "output_type": "stream",
     "text": [
      " SELECT m.winner_name, m.loser_name FROM matches m ORDER BY m.minutes DESC LIMIT 1;\n",
      "index is 469\n"
     ]
    },
    {
     "name": "stderr",
     "output_type": "stream",
     "text": [
      "\n",
      "llama_print_timings:        load time =     577.18 ms\n",
      "llama_print_timings:      sample time =      13.78 ms /    29 runs   (    0.48 ms per token,  2105.11 tokens per second)\n",
      "llama_print_timings: prompt eval time =    3372.89 ms /   486 tokens (    6.94 ms per token,   144.09 tokens per second)\n",
      "llama_print_timings:        eval time =    1272.90 ms /    28 runs   (   45.46 ms per token,    22.00 tokens per second)\n",
      "llama_print_timings:       total time =    4893.34 ms /   514 tokens\n",
      "Llama.generate: prefix-match hit\n"
     ]
    },
    {
     "name": "stdout",
     "output_type": "stream",
     "text": [
      " SELECT p.first_name, AVG(r.ranking) AS average_ranking FROM players p JOIN rankings r ON p.player_id = r.player_id GROUP BY p.first_name ORDER BY average_ranking DESC NULLS LAST;\n",
      "index is 470\n"
     ]
    },
    {
     "name": "stderr",
     "output_type": "stream",
     "text": [
      "\n",
      "llama_print_timings:        load time =     577.18 ms\n",
      "llama_print_timings:      sample time =      27.82 ms /    59 runs   (    0.47 ms per token,  2120.47 tokens per second)\n",
      "llama_print_timings: prompt eval time =    1639.77 ms /   240 tokens (    6.83 ms per token,   146.36 tokens per second)\n",
      "llama_print_timings:        eval time =    2618.65 ms /    58 runs   (   45.15 ms per token,    22.15 tokens per second)\n",
      "llama_print_timings:       total time =    4544.20 ms /   298 tokens\n",
      "Llama.generate: prefix-match hit\n"
     ]
    },
    {
     "name": "stdout",
     "output_type": "stream",
     "text": [
      " SELECT p.first_name, AVG(r.ranking) AS average_ranking FROM players p JOIN rankings r ON p.player_id = r.player_id GROUP BY p.first_name;\n",
      "index is 471\n"
     ]
    },
    {
     "name": "stderr",
     "output_type": "stream",
     "text": [
      "\n",
      "llama_print_timings:        load time =     577.18 ms\n",
      "llama_print_timings:      sample time =      23.16 ms /    48 runs   (    0.48 ms per token,  2072.63 tokens per second)\n",
      "llama_print_timings: prompt eval time =    1692.63 ms /   248 tokens (    6.83 ms per token,   146.52 tokens per second)\n",
      "llama_print_timings:        eval time =    2109.39 ms /    47 runs   (   44.88 ms per token,    22.28 tokens per second)\n",
      "llama_print_timings:       total time =    4047.86 ms /   295 tokens\n",
      "Llama.generate: prefix-match hit\n"
     ]
    },
    {
     "name": "stdout",
     "output_type": "stream",
     "text": [
      " SELECT p.first_name, SUM(r.ranking_points) AS total_ranking_points FROM players p JOIN rankings r ON p.player_id = r.player_id GROUP BY p.first_name ORDER BY total_ranking_points DESC NULLS LAST;\n",
      "index is 472\n"
     ]
    },
    {
     "name": "stderr",
     "output_type": "stream",
     "text": [
      "\n",
      "llama_print_timings:        load time =     577.18 ms\n",
      "llama_print_timings:      sample time =      30.47 ms /    64 runs   (    0.48 ms per token,  2100.29 tokens per second)\n",
      "llama_print_timings: prompt eval time =    1689.40 ms /   242 tokens (    6.98 ms per token,   143.25 tokens per second)\n",
      "llama_print_timings:        eval time =    2821.84 ms /    63 runs   (   44.79 ms per token,    22.33 tokens per second)\n",
      "llama_print_timings:       total time =    4820.01 ms /   305 tokens\n",
      "Llama.generate: prefix-match hit\n"
     ]
    },
    {
     "name": "stdout",
     "output_type": "stream",
     "text": [
      " SELECT p.first_name, SUM(r.ranking_points) AS total_ranking_points FROM players p JOIN rankings r ON p.player_id = r.player_id GROUP BY p.first_name;\n",
      "index is 473\n"
     ]
    },
    {
     "name": "stderr",
     "output_type": "stream",
     "text": [
      "\n",
      "llama_print_timings:        load time =     577.18 ms\n",
      "llama_print_timings:      sample time =      24.56 ms /    51 runs   (    0.48 ms per token,  2076.38 tokens per second)\n",
      "llama_print_timings: prompt eval time =    1692.63 ms /   248 tokens (    6.83 ms per token,   146.52 tokens per second)\n",
      "llama_print_timings:        eval time =    2240.18 ms /    50 runs   (   44.80 ms per token,    22.32 tokens per second)\n",
      "llama_print_timings:       total time =    4193.76 ms /   298 tokens\n",
      "Llama.generate: prefix-match hit\n"
     ]
    },
    {
     "name": "stdout",
     "output_type": "stream",
     "text": [
      " SELECT p.country_code, COUNT(p.player_id) AS player_count FROM players p GROUP BY p.country_code ORDER BY player_count DESC NULLS LAST;\n",
      "index is 474\n"
     ]
    },
    {
     "name": "stderr",
     "output_type": "stream",
     "text": [
      "\n",
      "llama_print_timings:        load time =     577.18 ms\n",
      "llama_print_timings:      sample time =      18.99 ms /    41 runs   (    0.46 ms per token,  2159.37 tokens per second)\n",
      "llama_print_timings: prompt eval time =    1080.38 ms /   154 tokens (    7.02 ms per token,   142.54 tokens per second)\n",
      "llama_print_timings:        eval time =    1778.05 ms /    40 runs   (   44.45 ms per token,    22.50 tokens per second)\n",
      "llama_print_timings:       total time =    3051.61 ms /   194 tokens\n",
      "Llama.generate: prefix-match hit\n"
     ]
    },
    {
     "name": "stdout",
     "output_type": "stream",
     "text": [
      " SELECT p.country_code, COUNT(p.player_id) AS player_count FROM players p GROUP BY p.country_code ORDER BY player_count DESC NULLS LAST;\n",
      "index is 475\n"
     ]
    },
    {
     "name": "stderr",
     "output_type": "stream",
     "text": [
      "\n",
      "llama_print_timings:        load time =     577.18 ms\n",
      "llama_print_timings:      sample time =      19.09 ms /    41 runs   (    0.47 ms per token,  2148.06 tokens per second)\n",
      "llama_print_timings: prompt eval time =    1079.45 ms /   154 tokens (    7.01 ms per token,   142.66 tokens per second)\n",
      "llama_print_timings:        eval time =    1778.34 ms /    40 runs   (   44.46 ms per token,    22.49 tokens per second)\n",
      "llama_print_timings:       total time =    3054.33 ms /   194 tokens\n",
      "Llama.generate: prefix-match hit\n"
     ]
    },
    {
     "name": "stdout",
     "output_type": "stream",
     "text": [
      " SELECT p.country_code FROM players p GROUP BY p.country_code ORDER BY COUNT(p.player_id) DESC LIMIT 1;\n",
      "index is 476\n"
     ]
    },
    {
     "name": "stderr",
     "output_type": "stream",
     "text": [
      "\n",
      "llama_print_timings:        load time =     577.18 ms\n",
      "llama_print_timings:      sample time =      14.81 ms /    32 runs   (    0.46 ms per token,  2160.12 tokens per second)\n",
      "llama_print_timings: prompt eval time =    1137.54 ms /   164 tokens (    6.94 ms per token,   144.17 tokens per second)\n",
      "llama_print_timings:        eval time =    1378.32 ms /    31 runs   (   44.46 ms per token,    22.49 tokens per second)\n",
      "llama_print_timings:       total time =    2680.45 ms /   195 tokens\n",
      "Llama.generate: prefix-match hit\n"
     ]
    },
    {
     "name": "stdout",
     "output_type": "stream",
     "text": [
      " SELECT p.country_code, COUNT(p.player_id) AS player_count FROM players p GROUP BY p.country_code ORDER BY player_count DESC LIMIT 1;\n",
      "index is 477\n"
     ]
    },
    {
     "name": "stderr",
     "output_type": "stream",
     "text": [
      "\n",
      "llama_print_timings:        load time =     577.18 ms\n",
      "llama_print_timings:      sample time =      18.37 ms /    40 runs   (    0.46 ms per token,  2177.34 tokens per second)\n",
      "llama_print_timings: prompt eval time =    1137.73 ms /   162 tokens (    7.02 ms per token,   142.39 tokens per second)\n",
      "llama_print_timings:        eval time =    1734.61 ms /    39 runs   (   44.48 ms per token,    22.48 tokens per second)\n",
      "llama_print_timings:       total time =    3069.39 ms /   201 tokens\n",
      "Llama.generate: prefix-match hit\n"
     ]
    },
    {
     "name": "stdout",
     "output_type": "stream",
     "text": [
      " SELECT p.country_code FROM players p GROUP BY p.country_code HAVING COUNT(p.player_id) > 50;\n",
      "index is 478\n"
     ]
    },
    {
     "name": "stderr",
     "output_type": "stream",
     "text": [
      "\n",
      "llama_print_timings:        load time =     577.18 ms\n",
      "llama_print_timings:      sample time =      15.51 ms /    33 runs   (    0.47 ms per token,  2127.11 tokens per second)\n",
      "llama_print_timings: prompt eval time =    1136.78 ms /   164 tokens (    6.93 ms per token,   144.27 tokens per second)\n",
      "llama_print_timings:        eval time =    1430.44 ms /    32 runs   (   44.70 ms per token,    22.37 tokens per second)\n",
      "llama_print_timings:       total time =    2734.04 ms /   196 tokens\n",
      "Llama.generate: prefix-match hit\n"
     ]
    },
    {
     "name": "stdout",
     "output_type": "stream",
     "text": [
      " SELECT p.country_code FROM players p GROUP BY p.country_code HAVING COUNT(p.player_id) > 50;\n",
      "index is 479\n"
     ]
    },
    {
     "name": "stderr",
     "output_type": "stream",
     "text": [
      "\n",
      "llama_print_timings:        load time =     577.18 ms\n",
      "llama_print_timings:      sample time =      15.93 ms /    33 runs   (    0.48 ms per token,  2071.69 tokens per second)\n",
      "llama_print_timings: prompt eval time =    1140.20 ms /   166 tokens (    6.87 ms per token,   145.59 tokens per second)\n",
      "llama_print_timings:        eval time =    1432.61 ms /    32 runs   (   44.77 ms per token,    22.34 tokens per second)\n",
      "llama_print_timings:       total time =    2740.14 ms /   198 tokens\n",
      "Llama.generate: prefix-match hit\n"
     ]
    },
    {
     "name": "stdout",
     "output_type": "stream",
     "text": [
      " SELECT r.ranking_date, SUM(r.tours) AS total_tours FROM rankings r GROUP BY r.ranking_date ORDER BY r.ranking_date NULLS LAST;\n",
      "index is 480\n"
     ]
    },
    {
     "name": "stderr",
     "output_type": "stream",
     "text": [
      "\n",
      "llama_print_timings:        load time =     577.18 ms\n",
      "llama_print_timings:      sample time =      21.51 ms /    46 runs   (    0.47 ms per token,  2138.74 tokens per second)\n",
      "llama_print_timings: prompt eval time =    1142.22 ms /   168 tokens (    6.80 ms per token,   147.08 tokens per second)\n",
      "llama_print_timings:        eval time =    2017.50 ms /    45 runs   (   44.83 ms per token,    22.30 tokens per second)\n",
      "llama_print_timings:       total time =    3374.64 ms /   213 tokens\n",
      "Llama.generate: prefix-match hit\n"
     ]
    },
    {
     "name": "stdout",
     "output_type": "stream",
     "text": [
      " SELECT r.ranking_date, SUM(r.tours) AS total_tours FROM rankings r GROUP BY r.ranking_date ORDER BY r.ranking_date NULLS LAST;\n",
      "index is 481\n"
     ]
    },
    {
     "name": "stderr",
     "output_type": "stream",
     "text": [
      "\n",
      "llama_print_timings:        load time =     577.18 ms\n",
      "llama_print_timings:      sample time =      21.61 ms /    46 runs   (    0.47 ms per token,  2128.74 tokens per second)\n",
      "llama_print_timings: prompt eval time =    1192.34 ms /   170 tokens (    7.01 ms per token,   142.58 tokens per second)\n",
      "llama_print_timings:        eval time =    2017.83 ms /    45 runs   (   44.84 ms per token,    22.30 tokens per second)\n",
      "llama_print_timings:       total time =    3431.37 ms /   215 tokens\n",
      "Llama.generate: prefix-match hit\n"
     ]
    },
    {
     "name": "stdout",
     "output_type": "stream",
     "text": [
      " SELECT m.year, COUNT(m.match_num) AS num_matches FROM matches m GROUP BY m.year ORDER BY m.year;\n",
      "index is 482\n"
     ]
    },
    {
     "name": "stderr",
     "output_type": "stream",
     "text": [
      "\n",
      "llama_print_timings:        load time =     577.18 ms\n",
      "llama_print_timings:      sample time =      14.80 ms /    32 runs   (    0.46 ms per token,  2162.60 tokens per second)\n",
      "llama_print_timings: prompt eval time =    3257.43 ms /   470 tokens (    6.93 ms per token,   144.29 tokens per second)\n",
      "llama_print_timings:        eval time =    1416.25 ms /    31 runs   (   45.69 ms per token,    21.89 tokens per second)\n",
      "llama_print_timings:       total time =    4919.10 ms /   501 tokens\n",
      "Llama.generate: prefix-match hit\n"
     ]
    },
    {
     "name": "stdout",
     "output_type": "stream",
     "text": [
      " SELECT m.year, COUNT(m.match_num) AS number_of_matches FROM matches m GROUP BY m.year ORDER BY m.year NULLS LAST;\n",
      "index is 483\n"
     ]
    },
    {
     "name": "stderr",
     "output_type": "stream",
     "text": [
      "\n",
      "llama_print_timings:        load time =     577.18 ms\n",
      "llama_print_timings:      sample time =      17.61 ms /    38 runs   (    0.46 ms per token,  2157.86 tokens per second)\n",
      "llama_print_timings: prompt eval time =    3264.61 ms /   470 tokens (    6.95 ms per token,   143.97 tokens per second)\n",
      "llama_print_timings:        eval time =    1690.45 ms /    37 runs   (   45.69 ms per token,    21.89 tokens per second)\n",
      "llama_print_timings:       total time =    5223.60 ms /   507 tokens\n",
      "Llama.generate: prefix-match hit\n"
     ]
    },
    {
     "name": "stdout",
     "output_type": "stream",
     "text": [
      " SELECT p.first_name, p.last_name, r.ranking FROM players p JOIN rankings r ON p.player_id = r.player_id WHERE r.ranking <= 3 ORDER BY p.first_name, p.last_name, r.ranking NULLS LAST;\n",
      "index is 484\n"
     ]
    },
    {
     "name": "stderr",
     "output_type": "stream",
     "text": [
      "\n",
      "llama_print_timings:        load time =     577.18 ms\n",
      "llama_print_timings:      sample time =      32.63 ms /    68 runs   (    0.48 ms per token,  2083.97 tokens per second)\n",
      "llama_print_timings: prompt eval time =    4461.19 ms /   636 tokens (    7.01 ms per token,   142.56 tokens per second)\n",
      "llama_print_timings:        eval time =    3090.09 ms /    67 runs   (   46.12 ms per token,    21.68 tokens per second)\n",
      "llama_print_timings:       total time =    7987.62 ms /   703 tokens\n",
      "Llama.generate: prefix-match hit\n"
     ]
    },
    {
     "name": "stdout",
     "output_type": "stream",
     "text": [
      " SELECT p.player_name, r.ranking, row_number() OVER (ORDER BY p.player_name, r.ranking) AS rank_number FROM players p JOIN rankings r ON p.player_id = r.player_id WHERE r.ranking_date = (SELECT MAX(ranking_date) FROM rankings) ORDER BY rank_number NULLS LAST LIMIT 3;\n",
      "index is 485\n",
      "\n",
      "index is 486\n"
     ]
    },
    {
     "name": "stderr",
     "output_type": "stream",
     "text": [
      "\n",
      "llama_print_timings:        load time =     577.18 ms\n",
      "llama_print_timings:      sample time =      43.61 ms /    90 runs   (    0.48 ms per token,  2063.79 tokens per second)\n",
      "llama_print_timings: prompt eval time =    3954.25 ms /   566 tokens (    6.99 ms per token,   143.14 tokens per second)\n",
      "llama_print_timings:        eval time =    4090.39 ms /    89 runs   (   45.96 ms per token,    21.76 tokens per second)\n",
      "llama_print_timings:       total time =    8560.49 ms /   655 tokens\n",
      "Llama.generate: prefix-match hit\n"
     ]
    },
    {
     "name": "stdout",
     "output_type": "stream",
     "text": [
      " SELECT COUNT(*) FROM matches m JOIN players p ON m.winner_id = p.player_id WHERE p.hand = 'left' AND m.tourney_id = 'wta_championships';\n",
      "index is 487\n"
     ]
    },
    {
     "name": "stderr",
     "output_type": "stream",
     "text": [
      "\n",
      "llama_print_timings:        load time =     577.18 ms\n",
      "llama_print_timings:      sample time =      22.79 ms /    48 runs   (    0.47 ms per token,  2106.65 tokens per second)\n",
      "llama_print_timings: prompt eval time =    3882.06 ms /   554 tokens (    7.01 ms per token,   142.71 tokens per second)\n",
      "llama_print_timings:        eval time =    2157.51 ms /    47 runs   (   45.90 ms per token,    21.78 tokens per second)\n",
      "llama_print_timings:       total time =    6375.85 ms /   601 tokens\n",
      "Llama.generate: prefix-match hit\n"
     ]
    },
    {
     "name": "stdout",
     "output_type": "stream",
     "text": [
      " SELECT p.first_name, p.country_code, p.birth_date FROM players p JOIN rankings r ON p.player_id = r.player_id WHERE r.ranking_points = (SELECT MAX(ranking_points) FROM rankings));\n",
      "index is 488\n"
     ]
    },
    {
     "name": "stderr",
     "output_type": "stream",
     "text": [
      "\n",
      "llama_print_timings:        load time =     577.18 ms\n",
      "llama_print_timings:      sample time =      28.66 ms /    60 runs   (    0.48 ms per token,  2093.73 tokens per second)\n",
      "llama_print_timings: prompt eval time =    1802.13 ms /   260 tokens (    6.93 ms per token,   144.27 tokens per second)\n",
      "llama_print_timings:        eval time =    2666.48 ms /    59 runs   (   45.19 ms per token,    22.13 tokens per second)\n",
      "llama_print_timings:       total time =    4768.33 ms /   319 tokens\n",
      "Llama.generate: prefix-match hit\n"
     ]
    },
    {
     "name": "stdout",
     "output_type": "stream",
     "text": [
      " SELECT p.first_name, p.country_code, p.birth_date FROM players p JOIN (SELECT m.winner_id FROM matches m WHERE m.winner_rank_points = (SELECT MAX(winner_rank_points) FROM players)) AS subquery ON p.player_id = subquery.winner_id;\n",
      "index is 489\n"
     ]
    },
    {
     "name": "stderr",
     "output_type": "stream",
     "text": [
      "\n",
      "llama_print_timings:        load time =     577.18 ms\n",
      "llama_print_timings:      sample time =      36.44 ms /    77 runs   (    0.47 ms per token,  2113.06 tokens per second)\n",
      "llama_print_timings: prompt eval time =    4006.41 ms /   574 tokens (    6.98 ms per token,   143.27 tokens per second)\n",
      "llama_print_timings:        eval time =    3465.71 ms /    76 runs   (   45.60 ms per token,    21.93 tokens per second)\n",
      "llama_print_timings:       total time =    7925.74 ms /   650 tokens\n",
      "Llama.generate: prefix-match hit\n"
     ]
    },
    {
     "name": "stdout",
     "output_type": "stream",
     "text": [
      " SELECT p.hand, COUNT(p.player_id) AS player_count FROM players p GROUP BY p.hand ORDER BY player_count DESC NULLS LAST;\n",
      "index is 490\n"
     ]
    },
    {
     "name": "stderr",
     "output_type": "stream",
     "text": [
      "\n",
      "llama_print_timings:        load time =     577.18 ms\n",
      "llama_print_timings:      sample time =      17.28 ms /    37 runs   (    0.47 ms per token,  2141.20 tokens per second)\n",
      "llama_print_timings: prompt eval time =    1082.04 ms /   156 tokens (    6.94 ms per token,   144.17 tokens per second)\n",
      "llama_print_timings:        eval time =    1612.48 ms /    36 runs   (   44.79 ms per token,    22.33 tokens per second)\n",
      "llama_print_timings:       total time =    2875.05 ms /   192 tokens\n",
      "Llama.generate: prefix-match hit\n"
     ]
    },
    {
     "name": "stdout",
     "output_type": "stream",
     "text": [
      " SELECT p.hand, COUNT(p.player_id) AS player_count FROM players p GROUP BY p.hand ORDER BY player_count DESC NULLS LAST;\n",
      "index is 491\n"
     ]
    },
    {
     "name": "stderr",
     "output_type": "stream",
     "text": [
      "\n",
      "llama_print_timings:        load time =     577.18 ms\n",
      "llama_print_timings:      sample time =      17.17 ms /    37 runs   (    0.46 ms per token,  2154.67 tokens per second)\n",
      "llama_print_timings: prompt eval time =    1085.48 ms /   158 tokens (    6.87 ms per token,   145.56 tokens per second)\n",
      "llama_print_timings:        eval time =    1610.10 ms /    36 runs   (   44.73 ms per token,    22.36 tokens per second)\n",
      "llama_print_timings:       total time =    2876.31 ms /   194 tokens\n",
      "Llama.generate: prefix-match hit\n"
     ]
    },
    {
     "name": "stdout",
     "output_type": "stream",
     "text": [
      " SELECT COUNT(*) FROM ship s WHERE s.disposition_of_ship ILIKE '%Captured%';\n",
      "index is 492\n"
     ]
    },
    {
     "name": "stderr",
     "output_type": "stream",
     "text": [
      "\n",
      "llama_print_timings:        load time =     577.18 ms\n",
      "llama_print_timings:      sample time =      11.37 ms /    24 runs   (    0.47 ms per token,  2110.26 tokens per second)\n",
      "llama_print_timings: prompt eval time =    1322.39 ms /   192 tokens (    6.89 ms per token,   145.19 tokens per second)\n",
      "llama_print_timings:        eval time =    1023.49 ms /    23 runs   (   44.50 ms per token,    22.47 tokens per second)\n",
      "llama_print_timings:       total time =    2486.97 ms /   215 tokens\n",
      "Llama.generate: prefix-match hit\n"
     ]
    },
    {
     "name": "stdout",
     "output_type": "stream",
     "text": [
      " SELECT s.name, s.tonnage FROM ship s ORDER BY s.name DESC;\n",
      "index is 493\n"
     ]
    },
    {
     "name": "stderr",
     "output_type": "stream",
     "text": [
      "\n",
      "llama_print_timings:        load time =     577.18 ms\n",
      "llama_print_timings:      sample time =       9.97 ms /    21 runs   (    0.47 ms per token,  2106.53 tokens per second)\n",
      "llama_print_timings: prompt eval time =    1467.86 ms /   210 tokens (    6.99 ms per token,   143.07 tokens per second)\n",
      "llama_print_timings:        eval time =     892.93 ms /    20 runs   (   44.65 ms per token,    22.40 tokens per second)\n",
      "llama_print_timings:       total time =    2498.70 ms /   230 tokens\n",
      "Llama.generate: prefix-match hit\n"
     ]
    },
    {
     "name": "stdout",
     "output_type": "stream",
     "text": [
      " SELECT b.name, b.date, b.result FROM battle b ORDER BY b.date NULLS LAST;\n",
      "index is 494\n"
     ]
    },
    {
     "name": "stderr",
     "output_type": "stream",
     "text": [
      "\n",
      "llama_print_timings:        load time =     577.18 ms\n",
      "llama_print_timings:      sample time =      12.21 ms /    26 runs   (    0.47 ms per token,  2130.27 tokens per second)\n",
      "llama_print_timings: prompt eval time =    1067.47 ms /   152 tokens (    7.02 ms per token,   142.39 tokens per second)\n",
      "llama_print_timings:        eval time =    1110.78 ms /    25 runs   (   44.43 ms per token,    22.51 tokens per second)\n",
      "llama_print_timings:       total time =    2313.30 ms /   177 tokens\n",
      "Llama.generate: prefix-match hit\n"
     ]
    },
    {
     "name": "stdout",
     "output_type": "stream",
     "text": [
      " SELECT MAX(d.killed) AS max_death_toll, MIN(d.killed) AS min_death_toll FROM death d;\n",
      "index is 495\n"
     ]
    },
    {
     "name": "stderr",
     "output_type": "stream",
     "text": [
      "\n",
      "llama_print_timings:        load time =     577.18 ms\n",
      "llama_print_timings:      sample time =      17.69 ms /    38 runs   (    0.47 ms per token,  2148.59 tokens per second)\n",
      "llama_print_timings: prompt eval time =    1269.19 ms /   182 tokens (    6.97 ms per token,   143.40 tokens per second)\n",
      "llama_print_timings:        eval time =    1645.89 ms /    37 runs   (   44.48 ms per token,    22.48 tokens per second)\n",
      "llama_print_timings:       total time =    3105.19 ms /   219 tokens\n",
      "Llama.generate: prefix-match hit\n"
     ]
    },
    {
     "name": "stdout",
     "output_type": "stream",
     "text": [
      " SELECT AVG(d.injured) AS average_injuries FROM death d;\n",
      "index is 496\n"
     ]
    },
    {
     "name": "stderr",
     "output_type": "stream",
     "text": [
      "\n",
      "llama_print_timings:        load time =     577.18 ms\n",
      "llama_print_timings:      sample time =       9.79 ms /    21 runs   (    0.47 ms per token,  2144.39 tokens per second)\n",
      "llama_print_timings: prompt eval time =    1249.43 ms /   180 tokens (    6.94 ms per token,   144.07 tokens per second)\n",
      "llama_print_timings:        eval time =     890.08 ms /    20 runs   (   44.50 ms per token,    22.47 tokens per second)\n",
      "llama_print_timings:       total time =    2265.84 ms /   200 tokens\n",
      "Llama.generate: prefix-match hit\n"
     ]
    },
    {
     "name": "stdout",
     "output_type": "stream",
     "text": [
      " SELECT d.id, d.killed, d.injured FROM death d JOIN ship s ON d.caused_by_ship_id = s.id WHERE s.tonnage = 't';\n",
      "index is 497\n"
     ]
    },
    {
     "name": "stderr",
     "output_type": "stream",
     "text": [
      "\n",
      "llama_print_timings:        load time =     577.18 ms\n",
      "llama_print_timings:      sample time =      22.64 ms /    47 runs   (    0.48 ms per token,  2076.06 tokens per second)\n",
      "llama_print_timings: prompt eval time =    2084.62 ms /   301 tokens (    6.93 ms per token,   144.39 tokens per second)\n",
      "llama_print_timings:        eval time =    2067.51 ms /    46 runs   (   44.95 ms per token,    22.25 tokens per second)\n",
      "llama_print_timings:       total time =    4407.39 ms /   347 tokens\n",
      "Llama.generate: prefix-match hit\n"
     ]
    },
    {
     "name": "stdout",
     "output_type": "stream",
     "text": [
      " SELECT b.name, b.result FROM battle b WHERE b.bulgarian_commander NOT ILIKE '%Boril%' ORDER BY b.name NULLS LAST;\n",
      "index is 498\n"
     ]
    },
    {
     "name": "stderr",
     "output_type": "stream",
     "text": [
      "\n",
      "llama_print_timings:        load time =     577.18 ms\n",
      "llama_print_timings:      sample time =      19.06 ms /    40 runs   (    0.48 ms per token,  2098.75 tokens per second)\n",
      "llama_print_timings: prompt eval time =    1248.66 ms /   178 tokens (    7.01 ms per token,   142.55 tokens per second)\n",
      "llama_print_timings:        eval time =    1735.42 ms /    39 runs   (   44.50 ms per token,    22.47 tokens per second)\n",
      "llama_print_timings:       total time =    3180.21 ms /   217 tokens\n",
      "Llama.generate: prefix-match hit\n"
     ]
    },
    {
     "name": "stdout",
     "output_type": "stream",
     "text": [
      " SELECT DISTINCT b.id, b.name FROM battle b JOIN ship s ON b.id = s.lost_in_battle WHERE s.ship_type = 'Brig';\n",
      "index is 499\n"
     ]
    },
    {
     "name": "stderr",
     "output_type": "stream",
     "text": [
      "\n",
      "llama_print_timings:        load time =     577.18 ms\n",
      "llama_print_timings:      sample time =      20.12 ms /    42 runs   (    0.48 ms per token,  2087.06 tokens per second)\n",
      "llama_print_timings: prompt eval time =    1962.67 ms /   282 tokens (    6.96 ms per token,   143.68 tokens per second)\n",
      "llama_print_timings:        eval time =    1839.06 ms /    41 runs   (   44.86 ms per token,    22.29 tokens per second)\n",
      "llama_print_timings:       total time =    4037.20 ms /   323 tokens\n",
      "Llama.generate: prefix-match hit\n"
     ]
    },
    {
     "name": "stdout",
     "output_type": "stream",
     "text": [
      " SELECT b.id, b.name FROM battle b JOIN death d ON b.id = d.caused_by_ship_id WHERE d.killed > 10 GROUP BY b.id, b.name HAVING SUM(d.killed) > 10;\n",
      "index is 500\n"
     ]
    },
    {
     "name": "stderr",
     "output_type": "stream",
     "text": [
      "\n",
      "llama_print_timings:        load time =     577.18 ms\n",
      "llama_print_timings:      sample time =      29.94 ms /    63 runs   (    0.48 ms per token,  2104.14 tokens per second)\n",
      "llama_print_timings: prompt eval time =    1860.93 ms /   268 tokens (    6.94 ms per token,   144.01 tokens per second)\n",
      "llama_print_timings:        eval time =    2789.59 ms /    62 runs   (   44.99 ms per token,    22.23 tokens per second)\n",
      "llama_print_timings:       total time =    4966.33 ms /   330 tokens\n",
      "Llama.generate: prefix-match hit\n"
     ]
    },
    {
     "name": "stdout",
     "output_type": "stream",
     "text": [
      " SELECT s.id, s.name, SUM(d.injured) AS total_injuries FROM death d JOIN ship s ON d.caused_by_ship_id = s.id GROUP BY s.id, s.name ORDER BY total_injuries DESC LIMIT 1;\n",
      "index is 501\n"
     ]
    },
    {
     "name": "stderr",
     "output_type": "stream",
     "text": [
      "\n",
      "llama_print_timings:        load time =     577.18 ms\n",
      "llama_print_timings:      sample time =      31.43 ms /    66 runs   (    0.48 ms per token,  2099.64 tokens per second)\n",
      "llama_print_timings: prompt eval time =    2024.10 ms /   291 tokens (    6.96 ms per token,   143.77 tokens per second)\n",
      "llama_print_timings:        eval time =    2941.05 ms /    65 runs   (   45.25 ms per token,    22.10 tokens per second)\n",
      "llama_print_timings:       total time =    5295.21 ms /   356 tokens\n",
      "Llama.generate: prefix-match hit\n"
     ]
    },
    {
     "name": "stdout",
     "output_type": "stream",
     "text": [
      " SELECT DISTINCT b.name FROM battle b WHERE b.bulgarian_commander = 'Kaloyan' AND b.latin_commander = 'Baldwin I';\n",
      "index is 502\n"
     ]
    },
    {
     "name": "stderr",
     "output_type": "stream",
     "text": [
      "\n",
      "llama_print_timings:        load time =     577.18 ms\n",
      "llama_print_timings:      sample time =      19.42 ms /    41 runs   (    0.47 ms per token,  2111.23 tokens per second)\n",
      "llama_print_timings: prompt eval time =    1306.71 ms /   190 tokens (    6.88 ms per token,   145.40 tokens per second)\n",
      "llama_print_timings:        eval time =    1785.55 ms /    40 runs   (   44.64 ms per token,    22.40 tokens per second)\n",
      "llama_print_timings:       total time =    3296.24 ms /   230 tokens\n",
      "Llama.generate: prefix-match hit\n"
     ]
    },
    {
     "name": "stdout",
     "output_type": "stream",
     "text": [
      " SELECT COUNT(DISTINCT b.result) AS number_of_results FROM battle b;\n",
      "index is 503\n"
     ]
    },
    {
     "name": "stderr",
     "output_type": "stream",
     "text": [
      "\n",
      "llama_print_timings:        load time =     577.18 ms\n",
      "llama_print_timings:      sample time =       9.91 ms /    21 runs   (    0.47 ms per token,  2118.22 tokens per second)\n",
      "llama_print_timings: prompt eval time =    1084.14 ms /   157 tokens (    6.91 ms per token,   144.82 tokens per second)\n",
      "llama_print_timings:        eval time =     896.00 ms /    20 runs   (   44.80 ms per token,    22.32 tokens per second)\n",
      "llama_print_timings:       total time =    2100.99 ms /   177 tokens\n",
      "Llama.generate: prefix-match hit\n"
     ]
    },
    {
     "name": "stdout",
     "output_type": "stream",
     "text": [
      " SELECT COUNT(DISTINCT b.id) AS number_of_battles FROM battle b JOIN ship s ON b.id = s.lost_in_battle WHERE s.tonnage != '225';\n",
      "index is 504\n",
      "\n",
      "index is 505\n"
     ]
    },
    {
     "name": "stderr",
     "output_type": "stream",
     "text": [
      "\n",
      "llama_print_timings:        load time =     577.18 ms\n",
      "llama_print_timings:      sample time =      24.27 ms /    50 runs   (    0.49 ms per token,  2060.07 tokens per second)\n",
      "llama_print_timings: prompt eval time =    1913.47 ms /   277 tokens (    6.91 ms per token,   144.76 tokens per second)\n",
      "llama_print_timings:        eval time =    2215.59 ms /    49 runs   (   45.22 ms per token,    22.12 tokens per second)\n",
      "llama_print_timings:       total time =    4391.49 ms /   326 tokens\n",
      "Llama.generate: prefix-match hit\n"
     ]
    },
    {
     "name": "stdout",
     "output_type": "stream",
     "text": [
      " SELECT b.name AS battle_name, b.result AS battle_result, b.bulgarian_commander AS battle_bulgarian_commander FROM battle b JOIN ship s ON b.id = s.lost_in_battle WHERE s.lost_in_battle IS NULL AND b.location ilike '%English%Channel%';\n",
      "index is 506\n"
     ]
    },
    {
     "name": "stderr",
     "output_type": "stream",
     "text": [
      "\n",
      "llama_print_timings:        load time =     577.18 ms\n",
      "llama_print_timings:      sample time =      37.09 ms /    77 runs   (    0.48 ms per token,  2076.31 tokens per second)\n",
      "llama_print_timings: prompt eval time =    1975.84 ms /   288 tokens (    6.86 ms per token,   145.76 tokens per second)\n",
      "llama_print_timings:        eval time =    3458.92 ms /    77 runs   (   44.92 ms per token,    22.26 tokens per second)\n",
      "llama_print_timings:       total time =    5807.79 ms /   365 tokens\n",
      "Llama.generate: prefix-match hit\n"
     ]
    },
    {
     "name": "stdout",
     "output_type": "stream",
     "text": [
      " SELECT d.note FROM death d WHERE d.note ilike '%East%';\n",
      "index is 507\n"
     ]
    },
    {
     "name": "stderr",
     "output_type": "stream",
     "text": [
      "\n",
      "llama_print_timings:        load time =     577.18 ms\n",
      "llama_print_timings:      sample time =       9.11 ms /    19 runs   (    0.48 ms per token,  2085.39 tokens per second)\n",
      "llama_print_timings: prompt eval time =    1307.53 ms /   190 tokens (    6.88 ms per token,   145.31 tokens per second)\n",
      "llama_print_timings:        eval time =     801.27 ms /    18 runs   (   44.52 ms per token,    22.46 tokens per second)\n",
      "llama_print_timings:       total time =    2227.62 ms /   208 tokens\n",
      "Llama.generate: prefix-match hit\n"
     ]
    },
    {
     "name": "stdout",
     "output_type": "stream",
     "text": [
      " SELECT * FROM \"Addresses\" a;\n",
      "index is 508\n"
     ]
    },
    {
     "name": "stderr",
     "output_type": "stream",
     "text": [
      "\n",
      "llama_print_timings:        load time =     577.18 ms\n",
      "llama_print_timings:      sample time =       4.68 ms /    10 runs   (    0.47 ms per token,  2137.67 tokens per second)\n",
      "llama_print_timings: prompt eval time =    1533.05 ms /   224 tokens (    6.84 ms per token,   146.11 tokens per second)\n",
      "llama_print_timings:        eval time =     401.36 ms /     9 runs   (   44.59 ms per token,    22.42 tokens per second)\n",
      "llama_print_timings:       total time =    2030.42 ms /   233 tokens\n",
      "Llama.generate: prefix-match hit\n"
     ]
    },
    {
     "name": "stdout",
     "output_type": "stream",
     "text": [
      " SELECT a.address_id, a.line_1, a.line_2 FROM \"Addresses\" a;\n",
      "index is 509\n"
     ]
    },
    {
     "name": "stderr",
     "output_type": "stream",
     "text": [
      "\n",
      "llama_print_timings:        load time =     577.18 ms\n",
      "llama_print_timings:      sample time =      12.15 ms /    26 runs   (    0.47 ms per token,  2139.57 tokens per second)\n",
      "llama_print_timings: prompt eval time =    1523.34 ms /   218 tokens (    6.99 ms per token,   143.11 tokens per second)\n",
      "llama_print_timings:        eval time =    1123.46 ms /    25 runs   (   44.94 ms per token,    22.25 tokens per second)\n",
      "llama_print_timings:       total time =    2801.18 ms /   243 tokens\n",
      "Llama.generate: prefix-match hit\n"
     ]
    },
    {
     "name": "stdout",
     "output_type": "stream",
     "text": [
      " SELECT COUNT(c.course_id) AS total_courses FROM Courses c;\n",
      "index is 510\n"
     ]
    },
    {
     "name": "stderr",
     "output_type": "stream",
     "text": [
      "\n",
      "llama_print_timings:        load time =     577.18 ms\n",
      "llama_print_timings:      sample time =       9.39 ms /    20 runs   (    0.47 ms per token,  2128.79 tokens per second)\n",
      "llama_print_timings: prompt eval time =    1030.58 ms /   150 tokens (    6.87 ms per token,   145.55 tokens per second)\n",
      "llama_print_timings:        eval time =     850.17 ms /    19 runs   (   44.75 ms per token,    22.35 tokens per second)\n",
      "llama_print_timings:       total time =    1993.74 ms /   169 tokens\n",
      "Llama.generate: prefix-match hit\n"
     ]
    },
    {
     "name": "stdout",
     "output_type": "stream",
     "text": [
      " SELECT COUNT(c.course_id) AS number_of_courses FROM Courses c;\n",
      "index is 511\n"
     ]
    },
    {
     "name": "stderr",
     "output_type": "stream",
     "text": [
      "\n",
      "llama_print_timings:        load time =     577.18 ms\n",
      "llama_print_timings:      sample time =      10.39 ms /    22 runs   (    0.47 ms per token,  2118.03 tokens per second)\n",
      "llama_print_timings: prompt eval time =     979.06 ms /   143 tokens (    6.85 ms per token,   146.06 tokens per second)\n",
      "llama_print_timings:        eval time =     940.54 ms /    21 runs   (   44.79 ms per token,    22.33 tokens per second)\n",
      "llama_print_timings:       total time =    2037.70 ms /   164 tokens\n",
      "Llama.generate: prefix-match hit\n"
     ]
    },
    {
     "name": "stdout",
     "output_type": "stream",
     "text": [
      " SELECT c.course_description FROM Courses c WHERE c.course_name ILIKE '%math%';\n",
      "index is 512\n"
     ]
    },
    {
     "name": "stderr",
     "output_type": "stream",
     "text": [
      "\n",
      "llama_print_timings:        load time =     577.18 ms\n",
      "llama_print_timings:      sample time =      11.19 ms /    24 runs   (    0.47 ms per token,  2144.58 tokens per second)\n",
      "llama_print_timings: prompt eval time =    1026.73 ms /   147 tokens (    6.98 ms per token,   143.17 tokens per second)\n",
      "llama_print_timings:        eval time =    1029.03 ms /    23 runs   (   44.74 ms per token,    22.35 tokens per second)\n",
      "llama_print_timings:       total time =    2184.32 ms /   170 tokens\n",
      "Llama.generate: prefix-match hit\n"
     ]
    },
    {
     "name": "stdout",
     "output_type": "stream",
     "text": [
      " SELECT c.course_description FROM \"Courses\" c WHERE c.course_name ILIKE '%math%';\n",
      "index is 513\n"
     ]
    },
    {
     "name": "stderr",
     "output_type": "stream",
     "text": [
      "\n",
      "llama_print_timings:        load time =     577.18 ms\n",
      "llama_print_timings:      sample time =      12.11 ms /    26 runs   (    0.47 ms per token,  2146.63 tokens per second)\n",
      "llama_print_timings: prompt eval time =    1084.35 ms /   156 tokens (    6.95 ms per token,   143.86 tokens per second)\n",
      "llama_print_timings:        eval time =    1120.56 ms /    25 runs   (   44.82 ms per token,    22.31 tokens per second)\n",
      "llama_print_timings:       total time =    2343.05 ms /   181 tokens\n",
      "Llama.generate: prefix-match hit\n"
     ]
    },
    {
     "name": "stdout",
     "output_type": "stream",
     "text": [
      " SELECT a.zip_postcode FROM \"Addresses\" a WHERE a.city ilike '%Port%Chelsea%' LIMIT 1;\n",
      "index is 514\n"
     ]
    },
    {
     "name": "stderr",
     "output_type": "stream",
     "text": [
      "\n",
      "llama_print_timings:        load time =     577.18 ms\n",
      "llama_print_timings:      sample time =      14.54 ms /    31 runs   (    0.47 ms per token,  2132.05 tokens per second)\n",
      "llama_print_timings: prompt eval time =    1576.19 ms /   227 tokens (    6.94 ms per token,   144.02 tokens per second)\n",
      "llama_print_timings:        eval time =    1351.14 ms /    30 runs   (   45.04 ms per token,    22.20 tokens per second)\n",
      "llama_print_timings:       total time =    3103.34 ms /   257 tokens\n",
      "Llama.generate: prefix-match hit\n"
     ]
    },
    {
     "name": "stdout",
     "output_type": "stream",
     "text": [
      " SELECT \"Addresses\".zip_postcode FROM \"Addresses\" WHERE \"Addresses\".city ILIKE '%Port%Chelsea%'\n",
      "index is 515\n"
     ]
    },
    {
     "name": "stderr",
     "output_type": "stream",
     "text": [
      "\n",
      "llama_print_timings:        load time =     577.18 ms\n",
      "llama_print_timings:      sample time =      14.35 ms /    31 runs   (    0.46 ms per token,  2161.03 tokens per second)\n",
      "llama_print_timings: prompt eval time =    1467.62 ms /   213 tokens (    6.89 ms per token,   145.13 tokens per second)\n",
      "llama_print_timings:        eval time =    1349.51 ms /    30 runs   (   44.98 ms per token,    22.23 tokens per second)\n",
      "llama_print_timings:       total time =    2989.48 ms /   243 tokens\n",
      "Llama.generate: prefix-match hit\n"
     ]
    },
    {
     "name": "stdout",
     "output_type": "stream",
     "text": [
      " SELECT d.department_name, d.department_id FROM \"Degree_Programs\" AS dp JOIN \"Departments\" AS d ON dp.department_id = d.department_id GROUP BY d.department_name, d.department_id ORDER BY COUNT(dp.degree_program_id) DESC LIMIT 1;\n",
      "index is 516\n"
     ]
    },
    {
     "name": "stderr",
     "output_type": "stream",
     "text": [
      "\n",
      "llama_print_timings:        load time =     577.18 ms\n",
      "llama_print_timings:      sample time =      39.37 ms /    83 runs   (    0.47 ms per token,  2108.42 tokens per second)\n",
      "llama_print_timings: prompt eval time =    2028.01 ms /   295 tokens (    6.87 ms per token,   145.46 tokens per second)\n",
      "llama_print_timings:        eval time =    3714.49 ms /    82 runs   (   45.30 ms per token,    22.08 tokens per second)\n",
      "llama_print_timings:       total time =    6137.33 ms /   377 tokens\n",
      "Llama.generate: prefix-match hit\n"
     ]
    },
    {
     "name": "stdout",
     "output_type": "stream",
     "text": [
      " SELECT d.department_name, d.department_id FROM \"Degree_Programs\" AS dp JOIN \"Departments\" AS d ON dp.department_id = d.department_id GROUP BY d.department_name, d.department_id ORDER BY COUNT(dp.degree_program_id) DESC LIMIT 1;\n",
      "index is 517\n"
     ]
    },
    {
     "name": "stderr",
     "output_type": "stream",
     "text": [
      "\n",
      "llama_print_timings:        load time =     577.18 ms\n",
      "llama_print_timings:      sample time =      38.98 ms /    83 runs   (    0.47 ms per token,  2129.35 tokens per second)\n",
      "llama_print_timings: prompt eval time =    2027.41 ms /   296 tokens (    6.85 ms per token,   146.00 tokens per second)\n",
      "llama_print_timings:        eval time =    3759.41 ms /    83 runs   (   45.29 ms per token,    22.08 tokens per second)\n",
      "llama_print_timings:       total time =    6182.33 ms /   379 tokens\n",
      "Llama.generate: prefix-match hit\n"
     ]
    },
    {
     "name": "stdout",
     "output_type": "stream",
     "text": [
      " SELECT COUNT(DISTINCT d.department_id) AS number_of_departments FROM \"Degree_Programs\" d;\n",
      "index is 518\n"
     ]
    },
    {
     "name": "stderr",
     "output_type": "stream",
     "text": [
      "\n",
      "llama_print_timings:        load time =     577.18 ms\n",
      "llama_print_timings:      sample time =      15.63 ms /    33 runs   (    0.47 ms per token,  2111.05 tokens per second)\n",
      "llama_print_timings: prompt eval time =    1420.75 ms /   208 tokens (    6.83 ms per token,   146.40 tokens per second)\n",
      "llama_print_timings:        eval time =    1435.76 ms /    32 runs   (   44.87 ms per token,    22.29 tokens per second)\n",
      "llama_print_timings:       total time =    3035.48 ms /   240 tokens\n",
      "Llama.generate: prefix-match hit\n"
     ]
    },
    {
     "name": "stdout",
     "output_type": "stream",
     "text": [
      " SELECT COUNT(DISTINCT d.department_id) AS number_of_departments FROM \"Degree_Programs\" d;\n",
      "index is 519\n"
     ]
    },
    {
     "name": "stderr",
     "output_type": "stream",
     "text": [
      "\n",
      "llama_print_timings:        load time =     577.18 ms\n",
      "llama_print_timings:      sample time =      15.56 ms /    33 runs   (    0.47 ms per token,  2120.96 tokens per second)\n",
      "llama_print_timings: prompt eval time =    1418.38 ms /   206 tokens (    6.89 ms per token,   145.24 tokens per second)\n",
      "llama_print_timings:        eval time =    1438.40 ms /    32 runs   (   44.95 ms per token,    22.25 tokens per second)\n",
      "llama_print_timings:       total time =    3039.51 ms /   238 tokens\n",
      "Llama.generate: prefix-match hit\n"
     ]
    },
    {
     "name": "stdout",
     "output_type": "stream",
     "text": [
      " SELECT COUNT(DISTINCT d.degree_summary_name) AS number_of_degrees FROM \"Degree_Programs\" d;\n",
      "index is 520\n"
     ]
    },
    {
     "name": "stderr",
     "output_type": "stream",
     "text": [
      "\n",
      "llama_print_timings:        load time =     577.18 ms\n",
      "llama_print_timings:      sample time =      16.52 ms /    35 runs   (    0.47 ms per token,  2119.16 tokens per second)\n",
      "llama_print_timings: prompt eval time =    1417.09 ms /   205 tokens (    6.91 ms per token,   144.66 tokens per second)\n",
      "llama_print_timings:        eval time =    1528.10 ms /    34 runs   (   44.94 ms per token,    22.25 tokens per second)\n",
      "llama_print_timings:       total time =    3134.57 ms /   239 tokens\n",
      "Llama.generate: prefix-match hit\n"
     ]
    },
    {
     "name": "stdout",
     "output_type": "stream",
     "text": [
      " SELECT COUNT(DISTINCT d.degree_program_id) AS number_of_degrees FROM \"Degree_Programs\" d;\n",
      "index is 521\n"
     ]
    },
    {
     "name": "stderr",
     "output_type": "stream",
     "text": [
      "\n",
      "llama_print_timings:        load time =     577.18 ms\n",
      "llama_print_timings:      sample time =      16.69 ms /    35 runs   (    0.48 ms per token,  2096.94 tokens per second)\n",
      "llama_print_timings: prompt eval time =    1413.92 ms /   203 tokens (    6.97 ms per token,   143.57 tokens per second)\n",
      "llama_print_timings:        eval time =    1528.02 ms /    34 runs   (   44.94 ms per token,    22.25 tokens per second)\n",
      "llama_print_timings:       total time =    3127.90 ms /   237 tokens\n",
      "Llama.generate: prefix-match hit\n"
     ]
    },
    {
     "name": "stdout",
     "output_type": "stream",
     "text": [
      " SELECT COUNT(dp.degree_program_id) AS number_of_degrees FROM \"Degree_Programs\" dp JOIN \"Departments\" d ON dp.department_id = d.department_id WHERE d.department_name = 'Engineering';\n",
      "index is 522\n"
     ]
    },
    {
     "name": "stderr",
     "output_type": "stream",
     "text": [
      "\n",
      "llama_print_timings:        load time =     577.18 ms\n",
      "llama_print_timings:      sample time =      31.11 ms /    66 runs   (    0.47 ms per token,  2121.85 tokens per second)\n",
      "llama_print_timings: prompt eval time =    1920.45 ms /   280 tokens (    6.86 ms per token,   145.80 tokens per second)\n",
      "llama_print_timings:        eval time =    2985.05 ms /    66 runs   (   45.23 ms per token,    22.11 tokens per second)\n",
      "llama_print_timings:       total time =    5234.79 ms /   346 tokens\n",
      "Llama.generate: prefix-match hit\n"
     ]
    },
    {
     "name": "stdout",
     "output_type": "stream",
     "text": [
      " SELECT COUNT(dp.degree_program_id) AS number_of_degrees FROM \"Degree_Programs\" dp JOIN \"Departments\" d ON dp.department_id = d.department_id WHERE d.department_name = 'Engineering';\n",
      "index is 523\n"
     ]
    },
    {
     "name": "stderr",
     "output_type": "stream",
     "text": [
      "\n",
      "llama_print_timings:        load time =     577.18 ms\n",
      "llama_print_timings:      sample time =      31.10 ms /    66 runs   (    0.47 ms per token,  2122.46 tokens per second)\n",
      "llama_print_timings: prompt eval time =    1915.33 ms /   276 tokens (    6.94 ms per token,   144.10 tokens per second)\n",
      "llama_print_timings:        eval time =    2940.42 ms /    65 runs   (   45.24 ms per token,    22.11 tokens per second)\n",
      "llama_print_timings:       total time =    5181.33 ms /   341 tokens\n",
      "Llama.generate: prefix-match hit\n"
     ]
    },
    {
     "name": "stdout",
     "output_type": "stream",
     "text": [
      " SELECT s.section_name, s.section_description FROM \"Sections\" s ORDER BY s.section_name NULLS LAST;\n",
      "index is 524\n"
     ]
    },
    {
     "name": "stderr",
     "output_type": "stream",
     "text": [
      "\n",
      "llama_print_timings:        load time =     577.18 ms\n",
      "llama_print_timings:      sample time =      14.52 ms /    31 runs   (    0.47 ms per token,  2135.72 tokens per second)\n",
      "llama_print_timings: prompt eval time =    1356.25 ms /   196 tokens (    6.92 ms per token,   144.52 tokens per second)\n",
      "llama_print_timings:        eval time =    1346.79 ms /    30 runs   (   44.89 ms per token,    22.28 tokens per second)\n",
      "llama_print_timings:       total time =    2871.45 ms /   226 tokens\n",
      "Llama.generate: prefix-match hit\n"
     ]
    },
    {
     "name": "stdout",
     "output_type": "stream",
     "text": [
      " SELECT s.section_name, s.section_description FROM \"Sections\" s ORDER BY s.section_name NULLS LAST;\n",
      "index is 525\n"
     ]
    },
    {
     "name": "stderr",
     "output_type": "stream",
     "text": [
      "\n",
      "llama_print_timings:        load time =     577.18 ms\n",
      "llama_print_timings:      sample time =      14.43 ms /    31 runs   (    0.47 ms per token,  2148.75 tokens per second)\n",
      "llama_print_timings: prompt eval time =    1303.84 ms /   189 tokens (    6.90 ms per token,   144.96 tokens per second)\n",
      "llama_print_timings:        eval time =    1347.03 ms /    30 runs   (   44.90 ms per token,    22.27 tokens per second)\n",
      "llama_print_timings:       total time =    2818.04 ms /   219 tokens\n",
      "Llama.generate: prefix-match hit\n"
     ]
    },
    {
     "name": "stdout",
     "output_type": "stream",
     "text": [
      " SELECT c.course_name, c.course_id FROM \"Courses\" c JOIN \"Sections\" s ON c.course_id = s.course_id GROUP BY c.course_name, c.course_id HAVING COUNT(s.section_id) <= 2;\n",
      "index is 526\n"
     ]
    },
    {
     "name": "stderr",
     "output_type": "stream",
     "text": [
      "\n",
      "llama_print_timings:        load time =     577.18 ms\n",
      "llama_print_timings:      sample time =      31.23 ms /    65 runs   (    0.48 ms per token,  2081.00 tokens per second)\n",
      "llama_print_timings: prompt eval time =    1803.54 ms /   264 tokens (    6.83 ms per token,   146.38 tokens per second)\n",
      "llama_print_timings:        eval time =    2938.00 ms /    65 runs   (   45.20 ms per token,    22.12 tokens per second)\n",
      "llama_print_timings:       total time =    5062.34 ms /   329 tokens\n",
      "Llama.generate: prefix-match hit\n"
     ]
    },
    {
     "name": "stdout",
     "output_type": "stream",
     "text": [
      " SELECT c.course_id, c.course_name FROM \"Courses\" c JOIN \"Sections\" s ON c.course_id = s.course_id GROUP BY c.course_id, c.course_name HAVING COUNT(s.section_id) < 2;\n",
      "index is 527\n"
     ]
    },
    {
     "name": "stderr",
     "output_type": "stream",
     "text": [
      "\n",
      "llama_print_timings:        load time =     577.18 ms\n",
      "llama_print_timings:      sample time =      31.42 ms /    65 runs   (    0.48 ms per token,  2068.94 tokens per second)\n",
      "llama_print_timings: prompt eval time =    1856.43 ms /   267 tokens (    6.95 ms per token,   143.82 tokens per second)\n",
      "llama_print_timings:        eval time =    2889.09 ms /    64 runs   (   45.14 ms per token,    22.15 tokens per second)\n",
      "llama_print_timings:       total time =    5069.60 ms /   331 tokens\n",
      "Llama.generate: prefix-match hit\n"
     ]
    },
    {
     "name": "stdout",
     "output_type": "stream",
     "text": [
      " SELECT s.section_name FROM \"Sections\" s ORDER BY s.section_name DESC;\n",
      "index is 528\n"
     ]
    },
    {
     "name": "stderr",
     "output_type": "stream",
     "text": [
      "\n",
      "llama_print_timings:        load time =     577.18 ms\n",
      "llama_print_timings:      sample time =      10.34 ms /    22 runs   (    0.47 ms per token,  2128.48 tokens per second)\n",
      "llama_print_timings: prompt eval time =    1360.12 ms /   196 tokens (    6.94 ms per token,   144.11 tokens per second)\n",
      "llama_print_timings:        eval time =     942.69 ms /    21 runs   (   44.89 ms per token,    22.28 tokens per second)\n",
      "llama_print_timings:       total time =    2436.26 ms /   217 tokens\n",
      "Llama.generate: prefix-match hit\n"
     ]
    },
    {
     "name": "stdout",
     "output_type": "stream",
     "text": [
      " SELECT s.section_name FROM \"Sections\" s ORDER BY s.section_name DESC;\n",
      "index is 529\n"
     ]
    },
    {
     "name": "stderr",
     "output_type": "stream",
     "text": [
      "\n",
      "llama_print_timings:        load time =     577.18 ms\n",
      "llama_print_timings:      sample time =      10.21 ms /    22 runs   (    0.46 ms per token,  2155.38 tokens per second)\n",
      "llama_print_timings: prompt eval time =    1361.05 ms /   198 tokens (    6.87 ms per token,   145.48 tokens per second)\n",
      "llama_print_timings:        eval time =     942.75 ms /    21 runs   (   44.89 ms per token,    22.28 tokens per second)\n",
      "llama_print_timings:       total time =    2437.48 ms /   219 tokens\n",
      "Llama.generate: prefix-match hit\n"
     ]
    },
    {
     "name": "stdout",
     "output_type": "stream",
     "text": [
      " SELECT s.semester_name, s.semester_id FROM \"Semesters\" s JOIN (SELECT semester_id, COUNT(*) AS total_students FROM \"Student_Enrolment\" GROUP BY semester_id) AS se ON s.semester_id = se.semester_id ORDER BY total_students DESC LIMIT 1;\n",
      "index is 530\n"
     ]
    },
    {
     "name": "stderr",
     "output_type": "stream",
     "text": [
      "\n",
      "llama_print_timings:        load time =     577.18 ms\n",
      "llama_print_timings:      sample time =      36.37 ms /    78 runs   (    0.47 ms per token,  2144.62 tokens per second)\n",
      "llama_print_timings: prompt eval time =    2490.62 ms /   359 tokens (    6.94 ms per token,   144.14 tokens per second)\n",
      "llama_print_timings:        eval time =    3496.16 ms /    77 runs   (   45.40 ms per token,    22.02 tokens per second)\n",
      "llama_print_timings:       total time =    6383.74 ms /   436 tokens\n",
      "Llama.generate: prefix-match hit\n"
     ]
    },
    {
     "name": "stdout",
     "output_type": "stream",
     "text": [
      " SELECT s.semester_name, s.semester_id, MAX(se.student_count)) AS max_student_count FROM Semesters s JOIN (SELECT student_id, COUNT(*) AS student_count FROM Student_Enrolment GROUP BY student_id) AS se ON s.semester_id = se.semester_id GROUP BY s.semester_name, s.semester_id ORDER BY max_student_count DESC NULLS LAST;\n",
      "index is 531\n"
     ]
    },
    {
     "name": "stderr",
     "output_type": "stream",
     "text": [
      "\n",
      "llama_print_timings:        load time =     577.18 ms\n",
      "llama_print_timings:      sample time =      48.42 ms /   103 runs   (    0.47 ms per token,  2127.26 tokens per second)\n",
      "llama_print_timings: prompt eval time =    2524.88 ms /   364 tokens (    6.94 ms per token,   144.17 tokens per second)\n",
      "llama_print_timings:        eval time =    4640.18 ms /   102 runs   (   45.49 ms per token,    21.98 tokens per second)\n",
      "llama_print_timings:       total time =    7664.19 ms /   466 tokens\n",
      "Llama.generate: prefix-match hit\n"
     ]
    },
    {
     "name": "stdout",
     "output_type": "stream",
     "text": [
      " SELECT d.department_description FROM \"Departments\" d WHERE d.department_name ILIKE '%the%computer%'\n",
      "index is 532\n"
     ]
    },
    {
     "name": "stderr",
     "output_type": "stream",
     "text": [
      "\n",
      "llama_print_timings:        load time =     577.18 ms\n",
      "llama_print_timings:      sample time =      14.35 ms /    31 runs   (    0.46 ms per token,  2159.98 tokens per second)\n",
      "llama_print_timings: prompt eval time =    1142.74 ms /   168 tokens (    6.80 ms per token,   147.01 tokens per second)\n",
      "llama_print_timings:        eval time =    1383.73 ms /    31 runs   (   44.64 ms per token,    22.40 tokens per second)\n",
      "llama_print_timings:       total time =    2693.77 ms /   199 tokens\n",
      "Llama.generate: prefix-match hit\n"
     ]
    },
    {
     "name": "stdout",
     "output_type": "stream",
     "text": [
      " SELECT d.department_description FROM \"Departments\" d WHERE d.department_name ILIKE '%computer%'\n",
      "index is 533\n"
     ]
    },
    {
     "name": "stderr",
     "output_type": "stream",
     "text": [
      "\n",
      "llama_print_timings:        load time =     577.18 ms\n",
      "llama_print_timings:      sample time =      13.42 ms /    29 runs   (    0.46 ms per token,  2161.11 tokens per second)\n",
      "llama_print_timings: prompt eval time =    1141.87 ms /   166 tokens (    6.88 ms per token,   145.38 tokens per second)\n",
      "llama_print_timings:        eval time =    1248.54 ms /    28 runs   (   44.59 ms per token,    22.43 tokens per second)\n",
      "llama_print_timings:       total time =    2549.96 ms /   194 tokens\n",
      "Llama.generate: prefix-match hit\n"
     ]
    },
    {
     "name": "stdout",
     "output_type": "stream",
     "text": [
      " SELECT s.first_name, s.middle_name, s.last_name, s.student_id FROM \"Student_Enrolment\" se JOIN \"Students\" s ON se.student_id = s.student_id WHERE se.degree_program_id IN (SELECT degree_program_id FROM \"Degree_Programs\" WHERE program_level = 2)) ORDER BY s.first_name, s.middle_name, s.last_name NULLS LAST;\n",
      "index is 534\n"
     ]
    },
    {
     "name": "stderr",
     "output_type": "stream",
     "text": [
      "\n",
      "llama_print_timings:        load time =     577.18 ms\n",
      "llama_print_timings:      sample time =      51.97 ms /   111 runs   (    0.47 ms per token,  2135.77 tokens per second)\n",
      "llama_print_timings: prompt eval time =    3720.29 ms /   531 tokens (    7.01 ms per token,   142.73 tokens per second)\n",
      "llama_print_timings:        eval time =    5049.26 ms /   110 runs   (   45.90 ms per token,    21.79 tokens per second)\n",
      "llama_print_timings:       total time =    9350.13 ms /   641 tokens\n",
      "Llama.generate: prefix-match hit\n"
     ]
    },
    {
     "name": "stdout",
     "output_type": "stream",
     "text": [
      " SELECT s.student_id, s.first_name, s.middle_name, s.last_name FROM \"Students\" s JOIN \"Student_Enrolment\" se ON s.student_id = se.student_id WHERE se.degree_program_id IN (SELECT degree_program_id FROM \"Degree_Programs\" WHERE program_type_code = '2') AND se.semester_id IN (SELECT semester_id FROM \"Semesters\" WHERE semester_code = '1') ORDER BY s.student_id NULLS LAST;\n",
      "index is 535\n"
     ]
    },
    {
     "name": "stderr",
     "output_type": "stream",
     "text": [
      "\n",
      "llama_print_timings:        load time =     577.18 ms\n",
      "llama_print_timings:      sample time =      62.30 ms /   129 runs   (    0.48 ms per token,  2070.49 tokens per second)\n",
      "llama_print_timings: prompt eval time =    3780.22 ms /   541 tokens (    6.99 ms per token,   143.11 tokens per second)\n",
      "llama_print_timings:        eval time =    5858.18 ms /   128 runs   (   45.77 ms per token,    21.85 tokens per second)\n",
      "llama_print_timings:       total time =   10300.34 ms /   669 tokens\n",
      "Llama.generate: prefix-match hit\n"
     ]
    },
    {
     "name": "stdout",
     "output_type": "stream",
     "text": [
      " SELECT s.first_name, s.middle_name, s.last_name FROM \"Students\" s JOIN \"Degree_Programs\" dp ON s.student_id = dp.department_id WHERE dp.degree_summary_name ILIKE '%Bachelor%';\n",
      "index is 536\n"
     ]
    },
    {
     "name": "stderr",
     "output_type": "stream",
     "text": [
      "\n",
      "llama_print_timings:        load time =     577.18 ms\n",
      "llama_print_timings:      sample time =      32.69 ms /    70 runs   (    0.47 ms per token,  2141.46 tokens per second)\n",
      "llama_print_timings: prompt eval time =    3204.43 ms /   459 tokens (    6.98 ms per token,   143.24 tokens per second)\n",
      "llama_print_timings:        eval time =    3151.52 ms /    69 runs   (   45.67 ms per token,    21.89 tokens per second)\n",
      "llama_print_timings:       total time =    6749.29 ms /   528 tokens\n",
      "Llama.generate: prefix-match hit\n"
     ]
    },
    {
     "name": "stdout",
     "output_type": "stream",
     "text": [
      " SELECT s.first_name, s.middle_name, s.last_name FROM \"Students\" s JOIN \"Degree_Programs\" d ON s.student_id = d.degree_program_id WHERE d.degree_summary_name = 'Bachelor''s';\n",
      "index is 537\n"
     ]
    },
    {
     "name": "stderr",
     "output_type": "stream",
     "text": [
      "\n",
      "llama_print_timings:        load time =     577.18 ms\n",
      "llama_print_timings:      sample time =      32.16 ms /    68 runs   (    0.47 ms per token,  2114.10 tokens per second)\n",
      "llama_print_timings: prompt eval time =    3197.07 ms /   459 tokens (    6.97 ms per token,   143.57 tokens per second)\n",
      "llama_print_timings:        eval time =    3050.14 ms /    67 runs   (   45.52 ms per token,    21.97 tokens per second)\n",
      "llama_print_timings:       total time =    6640.12 ms /   526 tokens\n",
      "Llama.generate: prefix-match hit\n"
     ]
    },
    {
     "name": "stdout",
     "output_type": "stream",
     "text": [
      " SELECT dp.degree_summary_name, COUNT(se.student_id) AS student_count FROM \"Degree_Programs\" dp JOIN \"Student_Enrolment\" se ON dp.degree_program_id = se.degree_program_id GROUP BY dp.degree_summary_name ORDER BY student_count DESC LIMIT 1;\n",
      "index is 538\n"
     ]
    },
    {
     "name": "stderr",
     "output_type": "stream",
     "text": [
      "\n",
      "llama_print_timings:        load time =     577.18 ms\n",
      "llama_print_timings:      sample time =      40.07 ms /    84 runs   (    0.48 ms per token,  2096.54 tokens per second)\n",
      "llama_print_timings: prompt eval time =    2831.79 ms /   408 tokens (    6.94 ms per token,   144.08 tokens per second)\n",
      "llama_print_timings:        eval time =    3778.87 ms /    83 runs   (   45.53 ms per token,    21.96 tokens per second)\n",
      "llama_print_timings:       total time =    7053.74 ms /   491 tokens\n",
      "Llama.generate: prefix-match hit\n"
     ]
    },
    {
     "name": "stdout",
     "output_type": "stream",
     "text": [
      " SELECT d.degree_summary_name, COUNT(s.student_id) AS student_count FROM \"Degree_Programs\" d JOIN \"Student_Enrolment\" s ON d.degree_program_id = s.degree_program_id GROUP BY d.degree_summary_name ORDER BY student_count DESC LIMIT 1;\n",
      "index is 539\n"
     ]
    },
    {
     "name": "stderr",
     "output_type": "stream",
     "text": [
      "\n",
      "llama_print_timings:        load time =     577.18 ms\n",
      "llama_print_timings:      sample time =      38.39 ms /    80 runs   (    0.48 ms per token,  2084.04 tokens per second)\n",
      "llama_print_timings: prompt eval time =    2858.07 ms /   410 tokens (    6.97 ms per token,   143.45 tokens per second)\n",
      "llama_print_timings:        eval time =    3574.33 ms /    79 runs   (   45.24 ms per token,    22.10 tokens per second)\n",
      "llama_print_timings:       total time =    6857.62 ms /   489 tokens\n",
      "Llama.generate: prefix-match hit\n"
     ]
    },
    {
     "name": "stdout",
     "output_type": "stream",
     "text": [
      " SELECT dp.degree_program_id, dp.degree_summary_name, COUNT(se.student_id) AS student_count FROM \"Degree_Programs\" dp JOIN \"Student_Enrolment\" se ON dp.degree_program_id = se.degree_program_id GROUP BY dp.degree_program_id, dp.degree_summary_name ORDER BY student_count DESC LIMIT 1;\n",
      "index is 540\n"
     ]
    },
    {
     "name": "stderr",
     "output_type": "stream",
     "text": [
      "\n",
      "llama_print_timings:        load time =     577.18 ms\n",
      "llama_print_timings:      sample time =      49.42 ms /   104 runs   (    0.48 ms per token,  2104.24 tokens per second)\n",
      "llama_print_timings: prompt eval time =    2919.74 ms /   418 tokens (    6.99 ms per token,   143.16 tokens per second)\n",
      "llama_print_timings:        eval time =    4663.21 ms /   103 runs   (   45.27 ms per token,    22.09 tokens per second)\n",
      "llama_print_timings:       total time =    8106.88 ms /   521 tokens\n",
      "Llama.generate: prefix-match hit\n"
     ]
    },
    {
     "name": "stdout",
     "output_type": "stream",
     "text": [
      " SELECT dp.degree_program_id, dp.degree_summary_name FROM \"Degree_Programs\" dp JOIN (SELECT degree_program_id, COUNT(student_id) AS student_count FROM \"Student_Enrolment\" GROUP BY degree_program_id) AS se ON dp.degree_program_id = se.degree_program_id ORDER BY se.student_count DESC LIMIT 1;\n",
      "index is 541\n"
     ]
    },
    {
     "name": "stderr",
     "output_type": "stream",
     "text": [
      "\n",
      "llama_print_timings:        load time =     577.18 ms\n",
      "llama_print_timings:      sample time =      47.15 ms /   100 runs   (    0.47 ms per token,  2121.12 tokens per second)\n",
      "llama_print_timings: prompt eval time =    2868.58 ms /   416 tokens (    6.90 ms per token,   145.02 tokens per second)\n",
      "llama_print_timings:        eval time =    4484.30 ms /    99 runs   (   45.30 ms per token,    22.08 tokens per second)\n",
      "llama_print_timings:       total time =    7853.65 ms /   515 tokens\n",
      "Llama.generate: prefix-match hit\n"
     ]
    },
    {
     "name": "stdout",
     "output_type": "stream",
     "text": [
      " SELECT s.student_id, s.first_name, s.middle_name, s.last_name, COUNT(se.student_enrolment_id) AS enrollment_count FROM \"Students\" s JOIN \"Student_Enrolment\" se ON s.student_id = se.student_id GROUP BY s.student_id, s.first_name, s.middle_name, s.last_name ORDER BY enrollment_count DESC LIMIT 1;\n",
      "index is 542\n"
     ]
    },
    {
     "name": "stderr",
     "output_type": "stream",
     "text": [
      "\n",
      "llama_print_timings:        load time =     577.18 ms\n",
      "llama_print_timings:      sample time =      49.84 ms /   109 runs   (    0.46 ms per token,  2186.91 tokens per second)\n",
      "llama_print_timings: prompt eval time =    3837.21 ms /   549 tokens (    6.99 ms per token,   143.07 tokens per second)\n",
      "llama_print_timings:        eval time =    4943.11 ms /   108 runs   (   45.77 ms per token,    21.85 tokens per second)\n",
      "llama_print_timings:       total time =    9352.28 ms /   657 tokens\n",
      "Llama.generate: prefix-match hit\n"
     ]
    },
    {
     "name": "stdout",
     "output_type": "stream",
     "text": [
      " SELECT s.first_name, s.middle_name, s.last_name, COUNT(se.student_enrolment_id) AS total_enrolments FROM \"Students\" s JOIN \"Student_Enrolment\" se ON s.student_id = se.student_id GROUP BY s.first_name, s.middle_name, s.last_name ORDER BY total_enrolments DESC LIMIT 1;\n",
      "index is 543\n"
     ]
    },
    {
     "name": "stderr",
     "output_type": "stream",
     "text": [
      "\n",
      "llama_print_timings:        load time =     577.18 ms\n",
      "llama_print_timings:      sample time =      45.04 ms /    97 runs   (    0.46 ms per token,  2153.45 tokens per second)\n",
      "llama_print_timings: prompt eval time =    3784.48 ms /   544 tokens (    6.96 ms per token,   143.75 tokens per second)\n",
      "llama_print_timings:        eval time =    4453.45 ms /    97 runs   (   45.91 ms per token,    21.78 tokens per second)\n",
      "llama_print_timings:       total time =    8766.69 ms /   641 tokens\n",
      "Llama.generate: prefix-match hit\n"
     ]
    },
    {
     "name": "stdout",
     "output_type": "stream",
     "text": [
      " SELECT s.semester_name FROM \"Semesters\" s LEFT JOIN \"Student_Enrolment\" se ON s.semester_id = se.semester_id WHERE se.semester_id IS NULL ORDER BY s.semester_name NULLS LAST;\n",
      "index is 544\n"
     ]
    },
    {
     "name": "stderr",
     "output_type": "stream",
     "text": [
      "\n",
      "llama_print_timings:        load time =     577.18 ms\n",
      "llama_print_timings:      sample time =      28.94 ms /    60 runs   (    0.48 ms per token,  2073.47 tokens per second)\n",
      "llama_print_timings: prompt eval time =    2469.56 ms /   358 tokens (    6.90 ms per token,   144.96 tokens per second)\n",
      "llama_print_timings:        eval time =    2680.73 ms /    59 runs   (   45.44 ms per token,    22.01 tokens per second)\n",
      "llama_print_timings:       total time =    5481.06 ms /   417 tokens\n",
      "Llama.generate: prefix-match hit\n"
     ]
    },
    {
     "name": "stdout",
     "output_type": "stream",
     "text": [
      " SELECT s.semester_name FROM \"Semesters\" s LEFT JOIN \"Student_Enrolment\" se ON s.semester_id = se.semester_id WHERE se.student_id IS NULL;\n",
      "index is 545\n"
     ]
    },
    {
     "name": "stderr",
     "output_type": "stream",
     "text": [
      "\n",
      "llama_print_timings:        load time =     577.18 ms\n",
      "llama_print_timings:      sample time =      22.02 ms /    47 runs   (    0.47 ms per token,  2134.81 tokens per second)\n",
      "llama_print_timings: prompt eval time =    2421.72 ms /   352 tokens (    6.88 ms per token,   145.35 tokens per second)\n",
      "llama_print_timings:        eval time =    2085.24 ms /    46 runs   (   45.33 ms per token,    22.06 tokens per second)\n",
      "llama_print_timings:       total time =    4788.70 ms /   398 tokens\n",
      "Llama.generate: prefix-match hit\n"
     ]
    },
    {
     "name": "stdout",
     "output_type": "stream",
     "text": [
      " SELECT DISTINCT c.course_name FROM \"Courses\" c JOIN \"Student_Enrolment_Courses\" secc ON c.course_id = secc.course_id;\n",
      "index is 546\n"
     ]
    },
    {
     "name": "stderr",
     "output_type": "stream",
     "text": [
      "\n",
      "llama_print_timings:        load time =     577.18 ms\n",
      "llama_print_timings:      sample time =      20.54 ms /    43 runs   (    0.48 ms per token,  2093.68 tokens per second)\n",
      "llama_print_timings: prompt eval time =    2080.92 ms /   300 tokens (    6.94 ms per token,   144.17 tokens per second)\n",
      "llama_print_timings:        eval time =    1891.81 ms /    42 runs   (   45.04 ms per token,    22.20 tokens per second)\n",
      "llama_print_timings:       total time =    4217.70 ms /   342 tokens\n",
      "Llama.generate: prefix-match hit\n"
     ]
    },
    {
     "name": "stdout",
     "output_type": "stream",
     "text": [
      " SELECT c.course_name FROM \"Courses\" c JOIN \"Student_Enrolment_Courses\" secc ON c.course_id = secc.course_id GROUP BY c.course_name HAVING COUNT(secc.student_enrolment_id) > 0\n",
      "index is 547\n"
     ]
    },
    {
     "name": "stderr",
     "output_type": "stream",
     "text": [
      "\n",
      "llama_print_timings:        load time =     577.18 ms\n",
      "llama_print_timings:      sample time =      30.86 ms /    65 runs   (    0.47 ms per token,  2106.42 tokens per second)\n",
      "llama_print_timings: prompt eval time =    2026.75 ms /   293 tokens (    6.92 ms per token,   144.57 tokens per second)\n",
      "llama_print_timings:        eval time =    2895.78 ms /    64 runs   (   45.25 ms per token,    22.10 tokens per second)\n",
      "llama_print_timings:       total time =    5251.07 ms /   357 tokens\n",
      "Llama.generate: prefix-match hit\n"
     ]
    },
    {
     "name": "stdout",
     "output_type": "stream",
     "text": [
      " SELECT c.course_name FROM \"Courses\" c JOIN (SELECT s.course_id, COUNT(*) AS enrollment_count FROM \"Student_Enrolment_Courses\" s GROUP BY s.course_id) AS e ON c.course_id = e.course_id ORDER BY e.enrollment_count DESC LIMIT 1;\n",
      "index is 548\n"
     ]
    },
    {
     "name": "stderr",
     "output_type": "stream",
     "text": [
      "\n",
      "llama_print_timings:        load time =     577.18 ms\n",
      "llama_print_timings:      sample time =      37.38 ms /    78 runs   (    0.48 ms per token,  2086.96 tokens per second)\n",
      "llama_print_timings: prompt eval time =    2077.95 ms /   298 tokens (    6.97 ms per token,   143.41 tokens per second)\n",
      "llama_print_timings:        eval time =    3464.70 ms /    77 runs   (   45.00 ms per token,    22.22 tokens per second)\n",
      "llama_print_timings:       total time =    5948.04 ms /   375 tokens\n",
      "Llama.generate: prefix-match hit\n"
     ]
    },
    {
     "name": "stdout",
     "output_type": "stream",
     "text": [
      " SELECT c.course_name, COUNT(se.student_enrolment_id) AS number_of_students FROM \"Courses\" c JOIN \"Student_Enrolment_Courses\" se ON c.course_id = se.course_id GROUP BY c.course_name ORDER BY number_of_students DESC LIMIT 1;\n",
      "index is 549\n"
     ]
    },
    {
     "name": "stderr",
     "output_type": "stream",
     "text": [
      "\n",
      "llama_print_timings:        load time =     577.18 ms\n",
      "llama_print_timings:      sample time =      35.90 ms /    77 runs   (    0.47 ms per token,  2144.97 tokens per second)\n",
      "llama_print_timings: prompt eval time =    2022.64 ms /   294 tokens (    6.88 ms per token,   145.35 tokens per second)\n",
      "llama_print_timings:        eval time =    3416.25 ms /    76 runs   (   44.95 ms per token,    22.25 tokens per second)\n",
      "llama_print_timings:       total time =    5818.06 ms /   370 tokens\n",
      "Llama.generate: prefix-match hit\n"
     ]
    },
    {
     "name": "stdout",
     "output_type": "stream",
     "text": [
      " SELECT s.last_name FROM \"Students\" s JOIN \"Addresses\" a ON s.current_address_id = a.address_id WHERE a.state_province_county = 'North Carolina' AND s.student_id NOT IN (SELECT student_id FROM \"Student_Enrolment\") ORDER BY s.last_name NULLS LAST;\n",
      "index is 550\n"
     ]
    },
    {
     "name": "stderr",
     "output_type": "stream",
     "text": [
      "\n",
      "llama_print_timings:        load time =     577.18 ms\n",
      "llama_print_timings:      sample time =      38.93 ms /    83 runs   (    0.47 ms per token,  2131.81 tokens per second)\n",
      "llama_print_timings: prompt eval time =    4588.24 ms /   655 tokens (    7.00 ms per token,   142.76 tokens per second)\n",
      "llama_print_timings:        eval time =    3780.68 ms /    82 runs   (   46.11 ms per token,    21.69 tokens per second)\n",
      "llama_print_timings:       total time =    8876.22 ms /   737 tokens\n",
      "Llama.generate: prefix-match hit\n"
     ]
    },
    {
     "name": "stdout",
     "output_type": "stream",
     "text": [
      " SELECT s.last_name FROM \"Students\" s JOIN \"Addresses\" a ON s.current_address_id = a.address_id WHERE a.state_province_county = 'North Carolina' AND s.student_id NOT IN (SELECT student_id FROM \"Student_Enrolment\") ORDER BY s.last_name NULLS LAST;\n",
      "index is 551\n"
     ]
    },
    {
     "name": "stderr",
     "output_type": "stream",
     "text": [
      "\n",
      "llama_print_timings:        load time =     577.18 ms\n",
      "llama_print_timings:      sample time =      40.07 ms /    83 runs   (    0.48 ms per token,  2071.22 tokens per second)\n",
      "llama_print_timings: prompt eval time =    4576.28 ms /   651 tokens (    7.03 ms per token,   142.26 tokens per second)\n",
      "llama_print_timings:        eval time =    3775.13 ms /    82 runs   (   46.04 ms per token,    21.72 tokens per second)\n",
      "llama_print_timings:       total time =    8965.83 ms /   733 tokens\n",
      "Llama.generate: prefix-match hit\n"
     ]
    },
    {
     "name": "stdout",
     "output_type": "stream",
     "text": [
      " SELECT t.transcript_id, t.transcript_date FROM \"Transcripts\" t JOIN \"Transcript_Contents\" tc ON t.transcript_id = tc.transcript_id GROUP BY t.transcript_id, t.transcript_date HAVING COUNT(tc.student_course_id) >= 2;\n",
      "index is 552\n"
     ]
    },
    {
     "name": "stderr",
     "output_type": "stream",
     "text": [
      "\n",
      "llama_print_timings:        load time =     577.18 ms\n",
      "llama_print_timings:      sample time =      37.50 ms /    78 runs   (    0.48 ms per token,  2080.00 tokens per second)\n",
      "llama_print_timings: prompt eval time =    1800.46 ms /   261 tokens (    6.90 ms per token,   144.96 tokens per second)\n",
      "llama_print_timings:        eval time =    3482.25 ms /    77 runs   (   45.22 ms per token,    22.11 tokens per second)\n",
      "llama_print_timings:       total time =    5642.59 ms /   338 tokens\n",
      "Llama.generate: prefix-match hit\n"
     ]
    },
    {
     "name": "stdout",
     "output_type": "stream",
     "text": [
      " SELECT t.transcript_id, t.transcript_date FROM \"Transcripts\" t JOIN \"Transcript_Contents\" tc ON t.transcript_id = tc.transcript_id GROUP BY t.transcript_id, t.transcript_date HAVING COUNT(tc.student_course_id) >= 2;\n",
      "index is 553\n"
     ]
    },
    {
     "name": "stderr",
     "output_type": "stream",
     "text": [
      "\n",
      "llama_print_timings:        load time =     577.18 ms\n",
      "llama_print_timings:      sample time =      37.13 ms /    78 runs   (    0.48 ms per token,  2100.44 tokens per second)\n",
      "llama_print_timings: prompt eval time =    1808.07 ms /   264 tokens (    6.85 ms per token,   146.01 tokens per second)\n",
      "llama_print_timings:        eval time =    3526.54 ms /    78 runs   (   45.21 ms per token,    22.12 tokens per second)\n",
      "llama_print_timings:       total time =    5695.95 ms /   342 tokens\n",
      "Llama.generate: prefix-match hit\n"
     ]
    },
    {
     "name": "stdout",
     "output_type": "stream",
     "text": [
      " SELECT s.cell_mobile_number FROM \"Students\" s WHERE s.first_name = 'Timmothy' AND s.last_name = 'Ward';\n",
      "index is 554\n"
     ]
    },
    {
     "name": "stderr",
     "output_type": "stream",
     "text": [
      "\n",
      "llama_print_timings:        load time =     577.18 ms\n",
      "llama_print_timings:      sample time =      18.27 ms /    39 runs   (    0.47 ms per token,  2134.41 tokens per second)\n",
      "llama_print_timings: prompt eval time =    2303.42 ms /   330 tokens (    6.98 ms per token,   143.27 tokens per second)\n",
      "llama_print_timings:        eval time =    1721.53 ms /    38 runs   (   45.30 ms per token,    22.07 tokens per second)\n",
      "llama_print_timings:       total time =    4255.93 ms /   368 tokens\n",
      "Llama.generate: prefix-match hit\n"
     ]
    },
    {
     "name": "stdout",
     "output_type": "stream",
     "text": [
      " SELECT s.cell_mobile_number FROM \"Students\" s WHERE s.first_name = 'Timmothy' AND s.last_name = 'Ward';\n",
      "index is 555\n"
     ]
    },
    {
     "name": "stderr",
     "output_type": "stream",
     "text": [
      "\n",
      "llama_print_timings:        load time =     577.18 ms\n",
      "llama_print_timings:      sample time =      18.39 ms /    39 runs   (    0.47 ms per token,  2120.60 tokens per second)\n",
      "llama_print_timings: prompt eval time =    2194.71 ms /   318 tokens (    6.90 ms per token,   144.89 tokens per second)\n",
      "llama_print_timings:        eval time =    1707.58 ms /    38 runs   (   44.94 ms per token,    22.25 tokens per second)\n",
      "llama_print_timings:       total time =    4130.44 ms /   356 tokens\n",
      "Llama.generate: prefix-match hit\n"
     ]
    },
    {
     "name": "stdout",
     "output_type": "stream",
     "text": [
      " SELECT s.first_name, s.middle_name, s.last_name FROM \"Students\" s ORDER BY s.date_first_registered ASC LIMIT 1;\n",
      "index is 556\n"
     ]
    },
    {
     "name": "stderr",
     "output_type": "stream",
     "text": [
      "\n",
      "llama_print_timings:        load time =     577.18 ms\n",
      "llama_print_timings:      sample time =      18.88 ms /    41 runs   (    0.46 ms per token,  2171.38 tokens per second)\n",
      "llama_print_timings: prompt eval time =    2252.27 ms /   327 tokens (    6.89 ms per token,   145.19 tokens per second)\n",
      "llama_print_timings:        eval time =    1797.90 ms /    40 runs   (   44.95 ms per token,    22.25 tokens per second)\n",
      "llama_print_timings:       total time =    4286.25 ms /   367 tokens\n",
      "Llama.generate: prefix-match hit\n"
     ]
    },
    {
     "name": "stdout",
     "output_type": "stream",
     "text": [
      " SELECT s.first_name, s.middle_name, s.last_name FROM \"Students\" s ORDER BY s.date_first_registered ASC LIMIT 1;\n",
      "index is 557\n"
     ]
    },
    {
     "name": "stderr",
     "output_type": "stream",
     "text": [
      "\n",
      "llama_print_timings:        load time =     577.18 ms\n",
      "llama_print_timings:      sample time =      18.95 ms /    41 runs   (    0.46 ms per token,  2163.25 tokens per second)\n",
      "llama_print_timings: prompt eval time =    2249.43 ms /   325 tokens (    6.92 ms per token,   144.48 tokens per second)\n",
      "llama_print_timings:        eval time =    1810.17 ms /    40 runs   (   45.25 ms per token,    22.10 tokens per second)\n",
      "llama_print_timings:       total time =    4298.02 ms /   365 tokens\n",
      "Llama.generate: prefix-match hit\n"
     ]
    },
    {
     "name": "stdout",
     "output_type": "stream",
     "text": [
      " SELECT s.first_name, s.middle_name, s.last_name FROM \"Students\" s ORDER BY s.date_first_registered ASC LIMIT 1;\n",
      "index is 558\n"
     ]
    },
    {
     "name": "stderr",
     "output_type": "stream",
     "text": [
      "\n",
      "llama_print_timings:        load time =     577.18 ms\n",
      "llama_print_timings:      sample time =      19.04 ms /    41 runs   (    0.46 ms per token,  2153.81 tokens per second)\n",
      "llama_print_timings: prompt eval time =    2303.30 ms /   331 tokens (    6.96 ms per token,   143.71 tokens per second)\n",
      "llama_print_timings:        eval time =    1813.49 ms /    40 runs   (   45.34 ms per token,    22.06 tokens per second)\n",
      "llama_print_timings:       total time =    4358.77 ms /   371 tokens\n",
      "Llama.generate: prefix-match hit\n"
     ]
    },
    {
     "name": "stdout",
     "output_type": "stream",
     "text": [
      " SELECT s.first_name, s.middle_name, s.last_name FROM Students s ORDER BY s.date_first_registered ASC LIMIT 1;\n",
      "index is 559\n"
     ]
    },
    {
     "name": "stderr",
     "output_type": "stream",
     "text": [
      "\n",
      "llama_print_timings:        load time =     577.18 ms\n",
      "llama_print_timings:      sample time =      17.77 ms /    38 runs   (    0.47 ms per token,  2138.32 tokens per second)\n",
      "llama_print_timings: prompt eval time =    2249.86 ms /   325 tokens (    6.92 ms per token,   144.45 tokens per second)\n",
      "llama_print_timings:        eval time =    1675.56 ms /    37 runs   (   45.29 ms per token,    22.08 tokens per second)\n",
      "llama_print_timings:       total time =    4151.96 ms /   362 tokens\n",
      "Llama.generate: prefix-match hit\n"
     ]
    },
    {
     "name": "stdout",
     "output_type": "stream",
     "text": [
      " SELECT s.first_name FROM \"Students\" s WHERE s.permanent_address_id != s.current_address_id;\n",
      "index is 560\n"
     ]
    },
    {
     "name": "stderr",
     "output_type": "stream",
     "text": [
      "\n",
      "llama_print_timings:        load time =     577.18 ms\n",
      "llama_print_timings:      sample time =      15.27 ms /    33 runs   (    0.46 ms per token,  2160.96 tokens per second)\n",
      "llama_print_timings: prompt eval time =    2248.22 ms /   328 tokens (    6.85 ms per token,   145.89 tokens per second)\n",
      "llama_print_timings:        eval time =    1494.60 ms /    33 runs   (   45.29 ms per token,    22.08 tokens per second)\n",
      "llama_print_timings:       total time =    3951.20 ms /   361 tokens\n",
      "Llama.generate: prefix-match hit\n"
     ]
    },
    {
     "name": "stdout",
     "output_type": "stream",
     "text": [
      " SELECT s.first_name FROM \"Students\" s WHERE s.permanent_address_id != s.current_address_id;\n",
      "index is 561\n"
     ]
    },
    {
     "name": "stderr",
     "output_type": "stream",
     "text": [
      "\n",
      "llama_print_timings:        load time =     577.18 ms\n",
      "llama_print_timings:      sample time =      15.35 ms /    33 runs   (    0.47 ms per token,  2149.98 tokens per second)\n",
      "llama_print_timings: prompt eval time =    2302.73 ms /   331 tokens (    6.96 ms per token,   143.74 tokens per second)\n",
      "llama_print_timings:        eval time =    1449.16 ms /    32 runs   (   45.29 ms per token,    22.08 tokens per second)\n",
      "llama_print_timings:       total time =    3966.42 ms /   363 tokens\n",
      "Llama.generate: prefix-match hit\n"
     ]
    },
    {
     "name": "stdout",
     "output_type": "stream",
     "text": [
      " SELECT a.address_id, a.line_1, a.line_2, a.line_3, a.city, a.zip_postcode, a.state_province_county, a.country, a.other_address_details FROM \"Addresses\" a JOIN \"Students\" s ON a.address_id = s.current_address_id GROUP BY a.address_id, a.line_1, a.line_2, a.line_3, a.city, a.zip_postcode, a.state_province_county, a.country, a.other_address_details ORDER BY COUNT(s.student_id) DESC LIMIT 1;\n",
      "index is 562\n"
     ]
    },
    {
     "name": "stderr",
     "output_type": "stream",
     "text": [
      "\n",
      "llama_print_timings:        load time =     577.18 ms\n",
      "llama_print_timings:      sample time =      76.39 ms /   158 runs   (    0.48 ms per token,  2068.33 tokens per second)\n",
      "llama_print_timings: prompt eval time =    3155.51 ms /   456 tokens (    6.92 ms per token,   144.51 tokens per second)\n",
      "llama_print_timings:        eval time =    7180.58 ms /   158 runs   (   45.45 ms per token,    22.00 tokens per second)\n",
      "llama_print_timings:       total time =   11079.70 ms /   614 tokens\n",
      "Llama.generate: prefix-match hit\n"
     ]
    },
    {
     "name": "stdout",
     "output_type": "stream",
     "text": [
      " SELECT a.address_id, a.line_1, a.line_2 FROM \"Addresses\" a JOIN (SELECT s.current_address_id FROM \"Students\" s GROUP BY s.current_address_id ORDER BY COUNT(s.student_id) DESC LIMIT 1) AS m ON a.address_id = m.current_address_id;\n",
      "index is 563\n"
     ]
    },
    {
     "name": "stderr",
     "output_type": "stream",
     "text": [
      "\n",
      "llama_print_timings:        load time =     577.18 ms\n",
      "llama_print_timings:      sample time =      38.23 ms /    83 runs   (    0.46 ms per token,  2171.07 tokens per second)\n",
      "llama_print_timings: prompt eval time =    3210.10 ms /   463 tokens (    6.93 ms per token,   144.23 tokens per second)\n",
      "llama_print_timings:        eval time =    3720.12 ms /    82 runs   (   45.37 ms per token,    22.04 tokens per second)\n",
      "llama_print_timings:       total time =    7366.94 ms /   545 tokens\n",
      "Llama.generate: prefix-match hit\n"
     ]
    },
    {
     "name": "stdout",
     "output_type": "stream",
     "text": [
      " SELECT AVG(EXTRACT(epoch FROM t.transcript_date))) AS average_epoch FROM \"Transcripts\" t;\n",
      "index is 564\n"
     ]
    },
    {
     "name": "stderr",
     "output_type": "stream",
     "text": [
      "\n",
      "llama_print_timings:        load time =     577.18 ms\n",
      "llama_print_timings:      sample time =      15.14 ms /    32 runs   (    0.47 ms per token,  2113.19 tokens per second)\n",
      "llama_print_timings: prompt eval time =    1028.72 ms /   146 tokens (    7.05 ms per token,   141.92 tokens per second)\n",
      "llama_print_timings:        eval time =    1385.43 ms /    31 runs   (   44.69 ms per token,    22.38 tokens per second)\n",
      "llama_print_timings:       total time =    2570.39 ms /   177 tokens\n",
      "Llama.generate: prefix-match hit\n"
     ]
    },
    {
     "name": "stdout",
     "output_type": "stream",
     "text": [
      " SELECT AVG(EXTRACT(epoch FROM t.transcript_date))) AS average_transcript_date FROM Transcripts t;\n",
      "index is 565\n"
     ]
    },
    {
     "name": "stderr",
     "output_type": "stream",
     "text": [
      "\n",
      "llama_print_timings:        load time =     577.18 ms\n",
      "llama_print_timings:      sample time =      14.92 ms /    32 runs   (    0.47 ms per token,  2144.48 tokens per second)\n",
      "llama_print_timings: prompt eval time =     972.66 ms /   140 tokens (    6.95 ms per token,   143.94 tokens per second)\n",
      "llama_print_timings:        eval time =    1388.29 ms /    31 runs   (   44.78 ms per token,    22.33 tokens per second)\n",
      "llama_print_timings:       total time =    2515.51 ms /   171 tokens\n",
      "Llama.generate: prefix-match hit\n"
     ]
    },
    {
     "name": "stdout",
     "output_type": "stream",
     "text": [
      " SELECT t.transcript_date, t.other_details FROM \"Transcripts\" t ORDER BY t.transcript_date ASC LIMIT 1;\n",
      "index is 566\n"
     ]
    },
    {
     "name": "stderr",
     "output_type": "stream",
     "text": [
      "\n",
      "llama_print_timings:        load time =     577.18 ms\n",
      "llama_print_timings:      sample time =      15.74 ms /    34 runs   (    0.46 ms per token,  2159.69 tokens per second)\n",
      "llama_print_timings: prompt eval time =    1032.03 ms /   150 tokens (    6.88 ms per token,   145.35 tokens per second)\n",
      "llama_print_timings:        eval time =    1478.18 ms /    33 runs   (   44.79 ms per token,    22.32 tokens per second)\n",
      "llama_print_timings:       total time =    2678.84 ms /   183 tokens\n",
      "Llama.generate: prefix-match hit\n"
     ]
    },
    {
     "name": "stdout",
     "output_type": "stream",
     "text": [
      " SELECT MIN(t.transcript_date) AS earliest_transcript_date, t.other_details FROM \"Transcripts\" t GROUP BY t.other_details;\n",
      "index is 567\n"
     ]
    },
    {
     "name": "stderr",
     "output_type": "stream",
     "text": [
      "\n",
      "llama_print_timings:        load time =     577.18 ms\n",
      "llama_print_timings:      sample time =      18.95 ms /    40 runs   (    0.47 ms per token,  2111.26 tokens per second)\n",
      "llama_print_timings: prompt eval time =    1134.15 ms /   162 tokens (    7.00 ms per token,   142.84 tokens per second)\n",
      "llama_print_timings:        eval time =    1746.25 ms /    39 runs   (   44.78 ms per token,    22.33 tokens per second)\n",
      "llama_print_timings:       total time =    3072.55 ms /   201 tokens\n",
      "Llama.generate: prefix-match hit\n"
     ]
    },
    {
     "name": "stdout",
     "output_type": "stream",
     "text": [
      " SELECT COUNT(t.transcript_id) AS total_transcripts FROM \"Transcripts\" t;\n",
      "index is 568\n"
     ]
    },
    {
     "name": "stderr",
     "output_type": "stream",
     "text": [
      "\n",
      "llama_print_timings:        load time =     577.18 ms\n",
      "llama_print_timings:      sample time =      11.68 ms /    25 runs   (    0.47 ms per token,  2140.04 tokens per second)\n",
      "llama_print_timings: prompt eval time =     974.71 ms /   140 tokens (    6.96 ms per token,   143.63 tokens per second)\n",
      "llama_print_timings:        eval time =    1071.67 ms /    24 runs   (   44.65 ms per token,    22.39 tokens per second)\n",
      "llama_print_timings:       total time =    2175.57 ms /   164 tokens\n",
      "Llama.generate: prefix-match hit\n"
     ]
    },
    {
     "name": "stdout",
     "output_type": "stream",
     "text": [
      " SELECT COUNT(t.transcript_id) AS number_of_transcripts FROM Transcripts t;\n",
      "index is 569\n"
     ]
    },
    {
     "name": "stderr",
     "output_type": "stream",
     "text": [
      "\n",
      "llama_print_timings:        load time =     577.18 ms\n",
      "llama_print_timings:      sample time =      11.85 ms /    25 runs   (    0.47 ms per token,  2109.53 tokens per second)\n",
      "llama_print_timings: prompt eval time =     922.54 ms /   134 tokens (    6.88 ms per token,   145.25 tokens per second)\n",
      "llama_print_timings:        eval time =    1074.38 ms /    24 runs   (   44.77 ms per token,    22.34 tokens per second)\n",
      "llama_print_timings:       total time =    2123.17 ms /   158 tokens\n",
      "Llama.generate: prefix-match hit\n"
     ]
    },
    {
     "name": "stdout",
     "output_type": "stream",
     "text": [
      " SELECT MAX(t.transcript_date) AS latest_transcript_date FROM Transcripts t;\n",
      "index is 570\n"
     ]
    },
    {
     "name": "stderr",
     "output_type": "stream",
     "text": [
      "\n",
      "llama_print_timings:        load time =     577.18 ms\n",
      "llama_print_timings:      sample time =      11.22 ms /    24 runs   (    0.47 ms per token,  2139.80 tokens per second)\n",
      "llama_print_timings: prompt eval time =     977.00 ms /   142 tokens (    6.88 ms per token,   145.34 tokens per second)\n",
      "llama_print_timings:        eval time =    1029.67 ms /    23 runs   (   44.77 ms per token,    22.34 tokens per second)\n",
      "llama_print_timings:       total time =    2131.89 ms /   165 tokens\n",
      "Llama.generate: prefix-match hit\n"
     ]
    },
    {
     "name": "stdout",
     "output_type": "stream",
     "text": [
      " SELECT t.transcript_date FROM Transcripts t ORDER BY t.transcript_date DESC LIMIT 1;\n",
      "index is 571\n"
     ]
    },
    {
     "name": "stderr",
     "output_type": "stream",
     "text": [
      "\n",
      "llama_print_timings:        load time =     577.18 ms\n",
      "llama_print_timings:      sample time =      12.14 ms /    26 runs   (    0.47 ms per token,  2141.15 tokens per second)\n",
      "llama_print_timings: prompt eval time =     973.02 ms /   140 tokens (    6.95 ms per token,   143.88 tokens per second)\n",
      "llama_print_timings:        eval time =    1118.56 ms /    25 runs   (   44.74 ms per token,    22.35 tokens per second)\n",
      "llama_print_timings:       total time =    2224.79 ms /   165 tokens\n",
      "Llama.generate: prefix-match hit\n"
     ]
    },
    {
     "name": "stdout",
     "output_type": "stream",
     "text": [
      " SELECT tc.student_course_id, COUNT(tc.transcript_id) AS num_transcripts FROM \"Transcript_Contents\" tc GROUP BY tc.student_course_id ORDER BY num_transcripts DESC NULLS LAST;\n",
      "index is 572\n"
     ]
    },
    {
     "name": "stderr",
     "output_type": "stream",
     "text": [
      "\n",
      "llama_print_timings:        load time =     577.18 ms\n",
      "llama_print_timings:      sample time =      26.74 ms /    58 runs   (    0.46 ms per token,  2169.20 tokens per second)\n",
      "llama_print_timings: prompt eval time =    1530.43 ms /   224 tokens (    6.83 ms per token,   146.36 tokens per second)\n",
      "llama_print_timings:        eval time =    2612.13 ms /    58 runs   (   45.04 ms per token,    22.20 tokens per second)\n",
      "llama_print_timings:       total time =    4428.03 ms /   282 tokens\n",
      "Llama.generate: prefix-match hit\n"
     ]
    },
    {
     "name": "stdout",
     "output_type": "stream",
     "text": [
      " SELECT c.course_id, s.student_enrolment_id, COUNT(t.transcript_id) AS transcript_count FROM Courses c JOIN Student_Enrolment_Courses s ON c.course_id = s.course_id JOIN Transcript_Contents t ON s.student_course_id = t.student_course_id GROUP BY c.course_id, s.student_enrolment_id ORDER BY transcript_count DESC NULLS LAST;\n",
      "index is 573\n"
     ]
    },
    {
     "name": "stderr",
     "output_type": "stream",
     "text": [
      "\n",
      "llama_print_timings:        load time =     577.18 ms\n",
      "llama_print_timings:      sample time =      51.70 ms /   109 runs   (    0.47 ms per token,  2108.44 tokens per second)\n",
      "llama_print_timings: prompt eval time =    2526.03 ms /   362 tokens (    6.98 ms per token,   143.31 tokens per second)\n",
      "llama_print_timings:        eval time =    4878.53 ms /   108 runs   (   45.17 ms per token,    22.14 tokens per second)\n",
      "llama_print_timings:       total time =    7929.17 ms /   470 tokens\n",
      "Llama.generate: prefix-match hit\n"
     ]
    },
    {
     "name": "stdout",
     "output_type": "stream",
     "text": [
      " SELECT t.transcript_id, t.transcript_date FROM (SELECT transcript_id, COUNT(*) AS result_count FROM Transcript_Contents GROUP BY transcript_id) AS subquery JOIN Transcripts AS t ON subquery.transcript_id = t.transcript_id WHERE subquery.result_count = (SELECT MIN(result_count) FROM (SELECT transcript_id, COUNT(*) AS result_count FROM Transcript_Contents GROUP BY transcript_id) AS subquery2));\n",
      "index is 574\n"
     ]
    },
    {
     "name": "stderr",
     "output_type": "stream",
     "text": [
      "\n",
      "llama_print_timings:        load time =     577.18 ms\n",
      "llama_print_timings:      sample time =      52.96 ms /   113 runs   (    0.47 ms per token,  2133.85 tokens per second)\n",
      "llama_print_timings: prompt eval time =    1856.24 ms /   267 tokens (    6.95 ms per token,   143.84 tokens per second)\n",
      "llama_print_timings:        eval time =    5028.01 ms /   112 runs   (   44.89 ms per token,    22.28 tokens per second)\n",
      "llama_print_timings:       total time =    7394.83 ms /   379 tokens\n",
      "Llama.generate: prefix-match hit\n"
     ]
    },
    {
     "name": "stdout",
     "output_type": "stream",
     "text": [
      " SELECT t.transcript_date, t.transcript_id FROM \"Transcripts\" t JOIN \"Transcript_Contents\" tc ON t.transcript_id = tc.transcript_id GROUP BY t.transcript_date, t.transcript_id ORDER BY tc.transcript_id ASC LIMIT 1;\n",
      "index is 575\n"
     ]
    },
    {
     "name": "stderr",
     "output_type": "stream",
     "text": [
      "\n",
      "llama_print_timings:        load time =     577.18 ms\n",
      "llama_print_timings:      sample time =      35.01 ms /    75 runs   (    0.47 ms per token,  2142.49 tokens per second)\n",
      "llama_print_timings: prompt eval time =    1806.96 ms /   263 tokens (    6.87 ms per token,   145.55 tokens per second)\n",
      "llama_print_timings:        eval time =    3320.67 ms /    74 runs   (   44.87 ms per token,    22.28 tokens per second)\n",
      "llama_print_timings:       total time =    5481.75 ms /   337 tokens\n",
      "Llama.generate: prefix-match hit\n"
     ]
    },
    {
     "name": "stdout",
     "output_type": "stream",
     "text": [
      " SELECT s.semester_name FROM \"Semesters\" s JOIN \"Student_Enrolment\" se ON s.semester_id = se.semester_id JOIN \"Degree_Programs\" dp ON se.degree_program_id = dp.degree_program_id WHERE dp.degree_summary_name IN ('Master', 'Bachelor') GROUP BY s.semester_name HAVING COUNT(DISTINCT dp.degree_program_id) >= 2;\n",
      "index is 576\n"
     ]
    },
    {
     "name": "stderr",
     "output_type": "stream",
     "text": [
      "\n",
      "llama_print_timings:        load time =     577.18 ms\n",
      "llama_print_timings:      sample time =      55.87 ms /   116 runs   (    0.48 ms per token,  2076.10 tokens per second)\n",
      "llama_print_timings: prompt eval time =    2864.91 ms /   410 tokens (    6.99 ms per token,   143.11 tokens per second)\n",
      "llama_print_timings:        eval time =    5209.22 ms /   115 runs   (   45.30 ms per token,    22.08 tokens per second)\n",
      "llama_print_timings:       total time =    8640.79 ms /   525 tokens\n",
      "Llama.generate: prefix-match hit\n"
     ]
    },
    {
     "name": "stdout",
     "output_type": "stream",
     "text": [
      " SELECT s.semester_id FROM \"Semesters\" s JOIN \"Student_Enrolment\" se ON s.semester_id = se.semester_id WHERE se.degree_program_id IN (SELECT degree_program_id FROM \"Degree_Programs\" WHERE degree_program_name = 'Masters'), se.degree_program_id IN (SELECT degree_program_id FROM \"Degree_Programs\" WHERE degree_program_name = 'Bachelors')) GROUP BY s.semester_id HAVING COUNT(DISTINCT se.degree_program_id) = 2;\n",
      "index is 577\n"
     ]
    },
    {
     "name": "stderr",
     "output_type": "stream",
     "text": [
      "\n",
      "llama_print_timings:        load time =     577.18 ms\n",
      "llama_print_timings:      sample time =      67.10 ms /   141 runs   (    0.48 ms per token,  2101.47 tokens per second)\n",
      "llama_print_timings: prompt eval time =    2525.05 ms /   364 tokens (    6.94 ms per token,   144.16 tokens per second)\n",
      "llama_print_timings:        eval time =    6370.94 ms /   140 runs   (   45.51 ms per token,    21.97 tokens per second)\n",
      "llama_print_timings:       total time =    9549.80 ms /   504 tokens\n",
      "Llama.generate: prefix-match hit\n"
     ]
    },
    {
     "name": "stdout",
     "output_type": "stream",
     "text": [
      " SELECT COUNT(DISTINCT s.current_address_id) AS number_of_addresses FROM \"Students\" s;\n",
      "index is 578\n"
     ]
    },
    {
     "name": "stderr",
     "output_type": "stream",
     "text": [
      "\n",
      "llama_print_timings:        load time =     577.18 ms\n",
      "llama_print_timings:      sample time =      14.13 ms /    30 runs   (    0.47 ms per token,  2122.39 tokens per second)\n",
      "llama_print_timings: prompt eval time =    2135.50 ms /   311 tokens (    6.87 ms per token,   145.63 tokens per second)\n",
      "llama_print_timings:        eval time =    1301.68 ms /    29 runs   (   44.89 ms per token,    22.28 tokens per second)\n",
      "llama_print_timings:       total time =    3630.55 ms /   340 tokens\n",
      "Llama.generate: prefix-match hit\n"
     ]
    },
    {
     "name": "stdout",
     "output_type": "stream",
     "text": [
      " SELECT DISTINCT s.current_address_id FROM \"Students\" s;\n",
      "index is 579\n"
     ]
    },
    {
     "name": "stderr",
     "output_type": "stream",
     "text": [
      "\n",
      "llama_print_timings:        load time =     577.18 ms\n",
      "llama_print_timings:      sample time =       9.55 ms /    20 runs   (    0.48 ms per token,  2095.12 tokens per second)\n",
      "llama_print_timings: prompt eval time =    3092.75 ms /   443 tokens (    6.98 ms per token,   143.24 tokens per second)\n",
      "llama_print_timings:        eval time =     864.94 ms /    19 runs   (   45.52 ms per token,    21.97 tokens per second)\n",
      "llama_print_timings:       total time =    4153.94 ms /   462 tokens\n",
      "Llama.generate: prefix-match hit\n"
     ]
    },
    {
     "name": "stdout",
     "output_type": "stream",
     "text": [
      " SELECT s.student_id, s.first_name, s.middle_name, s.last_name FROM \"Students\" s ORDER BY s.last_name DESC, s.first_name DESC, s.middle_name DESC;\n",
      "index is 580\n"
     ]
    },
    {
     "name": "stderr",
     "output_type": "stream",
     "text": [
      "\n",
      "llama_print_timings:        load time =     577.18 ms\n",
      "llama_print_timings:      sample time =      25.77 ms /    55 runs   (    0.47 ms per token,  2134.60 tokens per second)\n",
      "llama_print_timings: prompt eval time =    2187.93 ms /   315 tokens (    6.95 ms per token,   143.97 tokens per second)\n",
      "llama_print_timings:        eval time =    2444.63 ms /    54 runs   (   45.27 ms per token,    22.09 tokens per second)\n",
      "llama_print_timings:       total time =    4925.85 ms /   369 tokens\n",
      "Llama.generate: prefix-match hit\n"
     ]
    },
    {
     "name": "stdout",
     "output_type": "stream",
     "text": [
      " SELECT s.first_name, s.middle_name, s.last_name FROM \"Students\" s ORDER BY s.last_name DESC, s.first_name DESC, s.middle_name DESC;\n",
      "index is 581\n"
     ]
    },
    {
     "name": "stderr",
     "output_type": "stream",
     "text": [
      "\n",
      "llama_print_timings:        load time =     577.18 ms\n",
      "llama_print_timings:      sample time =      23.26 ms /    49 runs   (    0.47 ms per token,  2106.62 tokens per second)\n",
      "llama_print_timings: prompt eval time =    2195.16 ms /   320 tokens (    6.86 ms per token,   145.77 tokens per second)\n",
      "llama_print_timings:        eval time =    2220.27 ms /    49 runs   (   45.31 ms per token,    22.07 tokens per second)\n",
      "llama_print_timings:       total time =    4686.07 ms /   369 tokens\n",
      "Llama.generate: prefix-match hit\n"
     ]
    },
    {
     "name": "stdout",
     "output_type": "stream",
     "text": [
      " SELECT * FROM \"Sections\" s WHERE s.section_name = 'h';\n",
      "index is 582\n"
     ]
    },
    {
     "name": "stderr",
     "output_type": "stream",
     "text": [
      "\n",
      "llama_print_timings:        load time =     577.18 ms\n",
      "llama_print_timings:      sample time =       8.91 ms /    19 runs   (    0.47 ms per token,  2133.15 tokens per second)\n",
      "llama_print_timings: prompt eval time =    1253.87 ms /   182 tokens (    6.89 ms per token,   145.15 tokens per second)\n",
      "llama_print_timings:        eval time =     806.24 ms /    18 runs   (   44.79 ms per token,    22.33 tokens per second)\n",
      "llama_print_timings:       total time =    2176.90 ms /   200 tokens\n",
      "Llama.generate: prefix-match hit\n"
     ]
    },
    {
     "name": "stdout",
     "output_type": "stream",
     "text": [
      " SELECT s.section_description FROM \"Sections\" s WHERE s.section_name = 'h';\n",
      "index is 583\n"
     ]
    },
    {
     "name": "stderr",
     "output_type": "stream",
     "text": [
      "\n",
      "llama_print_timings:        load time =     577.18 ms\n",
      "llama_print_timings:      sample time =      10.76 ms /    23 runs   (    0.47 ms per token,  2137.15 tokens per second)\n",
      "llama_print_timings: prompt eval time =    1310.06 ms /   192 tokens (    6.82 ms per token,   146.56 tokens per second)\n",
      "llama_print_timings:        eval time =     987.19 ms /    22 runs   (   44.87 ms per token,    22.29 tokens per second)\n",
      "llama_print_timings:       total time =    2434.28 ms /   214 tokens\n",
      "Llama.generate: prefix-match hit\n"
     ]
    },
    {
     "name": "stdout",
     "output_type": "stream",
     "text": [
      " SELECT s.first_name FROM \"Students\" s JOIN \"Addresses\" a ON s.permanent_address_id = a.address_id WHERE (a.country = 'Haiti' OR s.cell_mobile_number = '09700166582') ORDER BY s.first_name NULLS LAST;\n",
      "index is 584\n"
     ]
    },
    {
     "name": "stderr",
     "output_type": "stream",
     "text": [
      "\n",
      "llama_print_timings:        load time =     577.18 ms\n",
      "llama_print_timings:      sample time =      38.57 ms /    81 runs   (    0.48 ms per token,  2100.08 tokens per second)\n",
      "llama_print_timings: prompt eval time =    3435.00 ms /   493 tokens (    6.97 ms per token,   143.52 tokens per second)\n",
      "llama_print_timings:        eval time =    3634.30 ms /    80 runs   (   45.43 ms per token,    22.01 tokens per second)\n",
      "llama_print_timings:       total time =    7507.52 ms /   573 tokens\n",
      "Llama.generate: prefix-match hit\n"
     ]
    },
    {
     "name": "stdout",
     "output_type": "stream",
     "text": [
      " SELECT s.first_name FROM \"Students\" s JOIN \"Addresses\" a ON s.permanent_address_id = a.address_id WHERE a.country = 'Haiti' AND (s.cell_mobile_number = '09700166582' OR s.cell_mobile_number IS NULL)) ORDER BY s.first_name NULLS LAST;\n",
      "index is 585\n"
     ]
    },
    {
     "name": "stderr",
     "output_type": "stream",
     "text": [
      "\n",
      "llama_print_timings:        load time =     577.18 ms\n",
      "llama_print_timings:      sample time =      44.17 ms /    92 runs   (    0.48 ms per token,  2082.67 tokens per second)\n",
      "llama_print_timings: prompt eval time =    3431.23 ms /   491 tokens (    6.99 ms per token,   143.10 tokens per second)\n",
      "llama_print_timings:        eval time =    4139.97 ms /    91 runs   (   45.49 ms per token,    21.98 tokens per second)\n",
      "llama_print_timings:       total time =    8058.12 ms /   582 tokens\n",
      "Llama.generate: prefix-match hit\n"
     ]
    },
    {
     "name": "stdout",
     "output_type": "stream",
     "text": [
      " SELECT c.\"Title\" FROM \"Cartoon\" c ORDER BY c.\"Title\" ASC;\n",
      "index is 586\n"
     ]
    },
    {
     "name": "stderr",
     "output_type": "stream",
     "text": [
      "\n",
      "llama_print_timings:        load time =     577.18 ms\n",
      "llama_print_timings:      sample time =       9.37 ms /    20 runs   (    0.47 ms per token,  2134.24 tokens per second)\n",
      "llama_print_timings: prompt eval time =    1422.70 ms /   207 tokens (    6.87 ms per token,   145.50 tokens per second)\n",
      "llama_print_timings:        eval time =     846.19 ms /    19 runs   (   44.54 ms per token,    22.45 tokens per second)\n",
      "llama_print_timings:       total time =    2395.56 ms /   226 tokens\n",
      "Llama.generate: prefix-match hit\n"
     ]
    },
    {
     "name": "stdout",
     "output_type": "stream",
     "text": [
      " SELECT c.\"Title\" FROM \"Cartoon\" c ORDER BY c.\"Title\" ASC;\n",
      "index is 587\n"
     ]
    },
    {
     "name": "stderr",
     "output_type": "stream",
     "text": [
      "\n",
      "llama_print_timings:        load time =     577.18 ms\n",
      "llama_print_timings:      sample time =       9.36 ms /    20 runs   (    0.47 ms per token,  2137.89 tokens per second)\n",
      "llama_print_timings: prompt eval time =    1421.79 ms /   208 tokens (    6.84 ms per token,   146.29 tokens per second)\n",
      "llama_print_timings:        eval time =     890.81 ms /    20 runs   (   44.54 ms per token,    22.45 tokens per second)\n",
      "llama_print_timings:       total time =    2441.49 ms /   228 tokens\n",
      "Llama.generate: prefix-match hit\n"
     ]
    },
    {
     "name": "stdout",
     "output_type": "stream",
     "text": [
      " SELECT c.id, c.title, c.directed_by, c.written_by, c.original_air_date, c.production_code, c.channel FROM \"Cartoon\" c WHERE c.directed_by ilike '%Ben%Jones%' ORDER BY c.id NULLS LAST;\n",
      "index is 588\n"
     ]
    },
    {
     "name": "stderr",
     "output_type": "stream",
     "text": [
      "\n",
      "llama_print_timings:        load time =     577.18 ms\n",
      "llama_print_timings:      sample time =      33.44 ms /    71 runs   (    0.47 ms per token,  2123.27 tokens per second)\n",
      "llama_print_timings: prompt eval time =    1415.30 ms /   203 tokens (    6.97 ms per token,   143.43 tokens per second)\n",
      "llama_print_timings:        eval time =    3129.25 ms /    70 runs   (   44.70 ms per token,    22.37 tokens per second)\n",
      "llama_print_timings:       total time =    4870.51 ms /   273 tokens\n",
      "Llama.generate: prefix-match hit\n"
     ]
    },
    {
     "name": "stdout",
     "output_type": "stream",
     "text": [
      " SELECT c.title FROM cartoon c WHERE c.directed_by ilike '%Ben%Jones%' ORDER BY c.title NULLS LAST;\n",
      "index is 589\n"
     ]
    },
    {
     "name": "stderr",
     "output_type": "stream",
     "text": [
      "\n",
      "llama_print_timings:        load time =     577.18 ms\n",
      "llama_print_timings:      sample time =      16.22 ms /    34 runs   (    0.48 ms per token,  2096.05 tokens per second)\n",
      "llama_print_timings: prompt eval time =    1468.88 ms /   211 tokens (    6.96 ms per token,   143.65 tokens per second)\n",
      "llama_print_timings:        eval time =    1471.53 ms /    33 runs   (   44.59 ms per token,    22.43 tokens per second)\n",
      "llama_print_timings:       total time =    3122.00 ms /   244 tokens\n",
      "Llama.generate: prefix-match hit\n"
     ]
    },
    {
     "name": "stdout",
     "output_type": "stream",
     "text": [
      " SELECT COUNT(c.id) FROM \"Cartoon\" c WHERE c.\"Written_by\" ILIKE '%Joseph%Kuhr%'\n",
      "index is 590\n"
     ]
    },
    {
     "name": "stderr",
     "output_type": "stream",
     "text": [
      "\n",
      "llama_print_timings:        load time =     577.18 ms\n",
      "llama_print_timings:      sample time =      15.70 ms /    33 runs   (    0.48 ms per token,  2101.51 tokens per second)\n",
      "llama_print_timings: prompt eval time =    1467.66 ms /   211 tokens (    6.96 ms per token,   143.77 tokens per second)\n",
      "llama_print_timings:        eval time =    1426.55 ms /    32 runs   (   44.58 ms per token,    22.43 tokens per second)\n",
      "llama_print_timings:       total time =    3072.81 ms /   243 tokens\n",
      "Llama.generate: prefix-match hit\n"
     ]
    },
    {
     "name": "stdout",
     "output_type": "stream",
     "text": [
      " SELECT COUNT(c.id) FROM \"Cartoon\" c WHERE c.\"Written_by\" ILIKE '%Joseph%Kuhr%'\n",
      "index is 591\n"
     ]
    },
    {
     "name": "stderr",
     "output_type": "stream",
     "text": [
      "\n",
      "llama_print_timings:        load time =     577.18 ms\n",
      "llama_print_timings:      sample time =      15.60 ms /    33 runs   (    0.47 ms per token,  2115.93 tokens per second)\n",
      "llama_print_timings: prompt eval time =    1465.26 ms /   211 tokens (    6.94 ms per token,   144.00 tokens per second)\n",
      "llama_print_timings:        eval time =    1426.76 ms /    32 runs   (   44.59 ms per token,    22.43 tokens per second)\n",
      "llama_print_timings:       total time =    3071.00 ms /   243 tokens\n",
      "Llama.generate: prefix-match hit\n"
     ]
    },
    {
     "name": "stdout",
     "output_type": "stream",
     "text": [
      " SELECT c.title, c.directed_by, c.original_air_date FROM cartoon c ORDER BY c.original_air_date NULLS LAST;\n",
      "index is 592\n"
     ]
    },
    {
     "name": "stderr",
     "output_type": "stream",
     "text": [
      "\n",
      "llama_print_timings:        load time =     577.18 ms\n",
      "llama_print_timings:      sample time =      17.90 ms /    38 runs   (    0.47 ms per token,  2123.14 tokens per second)\n",
      "llama_print_timings: prompt eval time =    1466.39 ms /   211 tokens (    6.95 ms per token,   143.89 tokens per second)\n",
      "llama_print_timings:        eval time =    1651.07 ms /    37 runs   (   44.62 ms per token,    22.41 tokens per second)\n",
      "llama_print_timings:       total time =    3316.33 ms /   248 tokens\n",
      "Llama.generate: prefix-match hit\n"
     ]
    },
    {
     "name": "stdout",
     "output_type": "stream",
     "text": [
      " SELECT c.title, c.directed_by FROM cartoon c ORDER BY c.original_air_date NULLS LAST;\n",
      "index is 593\n"
     ]
    },
    {
     "name": "stderr",
     "output_type": "stream",
     "text": [
      "\n",
      "llama_print_timings:        load time =     577.18 ms\n",
      "llama_print_timings:      sample time =      14.42 ms /    30 runs   (    0.48 ms per token,  2080.16 tokens per second)\n",
      "llama_print_timings: prompt eval time =    1529.06 ms /   223 tokens (    6.86 ms per token,   145.84 tokens per second)\n",
      "llama_print_timings:        eval time =    1295.07 ms /    29 runs   (   44.66 ms per token,    22.39 tokens per second)\n",
      "llama_print_timings:       total time =    2994.65 ms /   252 tokens\n",
      "Llama.generate: prefix-match hit\n"
     ]
    },
    {
     "name": "stdout",
     "output_type": "stream",
     "text": [
      " SELECT c.title FROM cartoon c WHERE c.directed_by IN ('Ben Jones', 'Brandon Vietti');\n",
      "index is 594\n"
     ]
    },
    {
     "name": "stderr",
     "output_type": "stream",
     "text": [
      "\n",
      "llama_print_timings:        load time =     577.18 ms\n",
      "llama_print_timings:      sample time =      12.93 ms /    27 runs   (    0.48 ms per token,  2088.81 tokens per second)\n",
      "llama_print_timings: prompt eval time =    1528.06 ms /   223 tokens (    6.85 ms per token,   145.94 tokens per second)\n",
      "llama_print_timings:        eval time =    1160.46 ms /    26 runs   (   44.63 ms per token,    22.40 tokens per second)\n",
      "llama_print_timings:       total time =    2846.36 ms /   249 tokens\n",
      "Llama.generate: prefix-match hit\n"
     ]
    },
    {
     "name": "stdout",
     "output_type": "stream",
     "text": [
      " SELECT c.title FROM cartoon c WHERE c.directed_by IN ('Ben Jones', 'Brandon Vietti') ORDER BY c.title NULLS LAST;\n",
      "index is 595\n"
     ]
    },
    {
     "name": "stderr",
     "output_type": "stream",
     "text": [
      "\n",
      "llama_print_timings:        load time =     577.18 ms\n",
      "llama_print_timings:      sample time =      17.85 ms /    37 runs   (    0.48 ms per token,  2073.06 tokens per second)\n",
      "llama_print_timings: prompt eval time =    1522.94 ms /   221 tokens (    6.89 ms per token,   145.11 tokens per second)\n",
      "llama_print_timings:        eval time =    1608.34 ms /    36 runs   (   44.68 ms per token,    22.38 tokens per second)\n",
      "llama_print_timings:       total time =    3326.92 ms /   257 tokens\n",
      "Llama.generate: prefix-match hit\n"
     ]
    },
    {
     "name": "stdout",
     "output_type": "stream",
     "text": [
      " SELECT \"Country\", COUNT(id) AS number_of_channels FROM \"TV_Channel\" GROUP BY \"Country\" ORDER BY number_of_channels DESC LIMIT 1;\n",
      "index is 596\n"
     ]
    },
    {
     "name": "stderr",
     "output_type": "stream",
     "text": [
      "\n",
      "llama_print_timings:        load time =     577.18 ms\n",
      "llama_print_timings:      sample time =      18.31 ms /    40 runs   (    0.46 ms per token,  2184.72 tokens per second)\n",
      "llama_print_timings: prompt eval time =    1593.38 ms /   232 tokens (    6.87 ms per token,   145.60 tokens per second)\n",
      "llama_print_timings:        eval time =    1759.18 ms /    39 runs   (   45.11 ms per token,    22.17 tokens per second)\n",
      "llama_print_timings:       total time =    3562.71 ms /   271 tokens\n",
      "Llama.generate: prefix-match hit\n"
     ]
    },
    {
     "name": "stdout",
     "output_type": "stream",
     "text": [
      " SELECT \"Country\", COUNT(*) AS channel_count FROM \"TV_Channel\" GROUP BY \"Country\" ORDER BY channel_count DESC LIMIT 1;\n",
      "index is 597\n"
     ]
    },
    {
     "name": "stderr",
     "output_type": "stream",
     "text": [
      "\n",
      "llama_print_timings:        load time =     577.18 ms\n",
      "llama_print_timings:      sample time =      15.16 ms /    32 runs   (    0.47 ms per token,  2110.82 tokens per second)\n",
      "llama_print_timings: prompt eval time =    1577.85 ms /   226 tokens (    6.98 ms per token,   143.23 tokens per second)\n",
      "llama_print_timings:        eval time =    1396.80 ms /    31 runs   (   45.06 ms per token,    22.19 tokens per second)\n",
      "llama_print_timings:       total time =    3156.66 ms /   257 tokens\n",
      "Llama.generate: prefix-match hit\n"
     ]
    },
    {
     "name": "stdout",
     "output_type": "stream",
     "text": [
      " SELECT t.series_name, t.content, COUNT(t.series_name) AS num_series_names FROM \"TV_Channel\" t GROUP BY t.series_name, t.content ORDER BY num_series_names DESC NULLS LAST;\n",
      "index is 598\n"
     ]
    },
    {
     "name": "stderr",
     "output_type": "stream",
     "text": [
      "\n",
      "llama_print_timings:        load time =     577.18 ms\n",
      "llama_print_timings:      sample time =      26.67 ms /    57 runs   (    0.47 ms per token,  2137.47 tokens per second)\n",
      "llama_print_timings: prompt eval time =    1475.20 ms /   216 tokens (    6.83 ms per token,   146.42 tokens per second)\n",
      "llama_print_timings:        eval time =    2523.18 ms /    56 runs   (   45.06 ms per token,    22.19 tokens per second)\n",
      "llama_print_timings:       total time =    4267.82 ms /   272 tokens\n",
      "Llama.generate: prefix-match hit\n"
     ]
    },
    {
     "name": "stdout",
     "output_type": "stream",
     "text": [
      " SELECT t.series_name, t.content FROM \"TV_Channel\" t GROUP BY t.series_name, t.content;\n",
      "index is 599\n"
     ]
    },
    {
     "name": "stderr",
     "output_type": "stream",
     "text": [
      "\n",
      "llama_print_timings:        load time =     577.18 ms\n",
      "llama_print_timings:      sample time =      14.18 ms /    30 runs   (    0.47 ms per token,  2115.36 tokens per second)\n",
      "llama_print_timings: prompt eval time =    1473.11 ms /   216 tokens (    6.82 ms per token,   146.63 tokens per second)\n",
      "llama_print_timings:        eval time =    1303.76 ms /    29 runs   (   44.96 ms per token,    22.24 tokens per second)\n",
      "llama_print_timings:       total time =    2944.58 ms /   245 tokens\n",
      "Llama.generate: prefix-match hit\n"
     ]
    },
    {
     "name": "stdout",
     "output_type": "stream",
     "text": [
      " SELECT tc.\"Content\" FROM \"TV_Channel\" tc WHERE tc.series_name = 'Sky Radio';\n",
      "index is 600\n"
     ]
    },
    {
     "name": "stderr",
     "output_type": "stream",
     "text": [
      "\n",
      "llama_print_timings:        load time =     577.18 ms\n",
      "llama_print_timings:      sample time =      13.28 ms /    28 runs   (    0.47 ms per token,  2109.07 tokens per second)\n",
      "llama_print_timings: prompt eval time =    1523.28 ms /   218 tokens (    6.99 ms per token,   143.11 tokens per second)\n",
      "llama_print_timings:        eval time =    1213.75 ms /    27 runs   (   44.95 ms per token,    22.25 tokens per second)\n",
      "llama_print_timings:       total time =    2899.70 ms /   245 tokens\n",
      "Llama.generate: prefix-match hit\n"
     ]
    },
    {
     "name": "stdout",
     "output_type": "stream",
     "text": [
      " SELECT tc.id, tc.series_name, tc.country, tc.language, tc.content, tc.pixel_aspect_ratio_PAR, tc.hight_definition_TV, tc.pay_per_view_PPV, tc.package_option FROM TV_Channel tc WHERE tc.series_name ILIKE '%Sky%Radio%'\n",
      "index is 601\n"
     ]
    },
    {
     "name": "stderr",
     "output_type": "stream",
     "text": [
      "\n",
      "llama_print_timings:        load time =     577.18 ms\n",
      "llama_print_timings:      sample time =      43.00 ms /    93 runs   (    0.46 ms per token,  2162.74 tokens per second)\n",
      "llama_print_timings: prompt eval time =    1411.33 ms /   203 tokens (    6.95 ms per token,   143.84 tokens per second)\n",
      "llama_print_timings:        eval time =    4149.67 ms /    92 runs   (   45.11 ms per token,    22.17 tokens per second)\n",
      "llama_print_timings:       total time =    5967.33 ms /   295 tokens\n",
      "Llama.generate: prefix-match hit\n"
     ]
    },
    {
     "name": "stdout",
     "output_type": "stream",
     "text": [
      " SELECT tc.id, tc.series_name, tc.country, tc.language, tc.content, tc.pixel_aspect_ratio_PAR, tc.hight_definition_TV, tc.pay_per_view_PPV, tc.package_option FROM TV_Channel tc WHERE tc.series_name ilike '%Sky%Radio%';\n",
      "index is 602\n"
     ]
    },
    {
     "name": "stderr",
     "output_type": "stream",
     "text": [
      "\n",
      "llama_print_timings:        load time =     577.18 ms\n",
      "llama_print_timings:      sample time =      44.49 ms /    93 runs   (    0.48 ms per token,  2090.50 tokens per second)\n",
      "llama_print_timings: prompt eval time =    1475.60 ms /   216 tokens (    6.83 ms per token,   146.38 tokens per second)\n",
      "llama_print_timings:        eval time =    4194.53 ms /    93 runs   (   45.10 ms per token,    22.17 tokens per second)\n",
      "llama_print_timings:       total time =    6083.90 ms /   309 tokens\n",
      "Llama.generate: prefix-match hit\n"
     ]
    },
    {
     "name": "stdout",
     "output_type": "stream",
     "text": [
      " SELECT tc.id, tc.series_name, tc.package_option FROM \"TV_Channel\" tc WHERE tc.series_name ilike '%Sky%Radio%' ORDER BY tc.id NULLS LAST;\n",
      "index is 603\n"
     ]
    },
    {
     "name": "stderr",
     "output_type": "stream",
     "text": [
      "\n",
      "llama_print_timings:        load time =     577.18 ms\n",
      "llama_print_timings:      sample time =      25.54 ms /    54 runs   (    0.47 ms per token,  2114.33 tokens per second)\n",
      "llama_print_timings: prompt eval time =    1528.18 ms /   221 tokens (    6.91 ms per token,   144.62 tokens per second)\n",
      "llama_print_timings:        eval time =    2389.30 ms /    53 runs   (   45.08 ms per token,    22.18 tokens per second)\n",
      "llama_print_timings:       total time =    4182.36 ms /   274 tokens\n",
      "Llama.generate: prefix-match hit\n"
     ]
    },
    {
     "name": "stdout",
     "output_type": "stream",
     "text": [
      " SELECT COUNT(*) FROM \"TV_Channel\" t WHERE t.\"Language\" ILIKE '%English%';\n",
      "index is 604\n"
     ]
    },
    {
     "name": "stderr",
     "output_type": "stream",
     "text": [
      "\n",
      "llama_print_timings:        load time =     577.18 ms\n",
      "llama_print_timings:      sample time =      10.90 ms /    23 runs   (    0.47 ms per token,  2110.67 tokens per second)\n",
      "llama_print_timings: prompt eval time =    1412.66 ms /   204 tokens (    6.92 ms per token,   144.41 tokens per second)\n",
      "llama_print_timings:        eval time =     987.34 ms /    22 runs   (   44.88 ms per token,    22.28 tokens per second)\n",
      "llama_print_timings:       total time =    2539.24 ms /   226 tokens\n",
      "Llama.generate: prefix-match hit\n"
     ]
    },
    {
     "name": "stdout",
     "output_type": "stream",
     "text": [
      " SELECT COUNT(*) FROM \"TV_Channel\" t WHERE t.\"Language\" ILIKE '%English%';\n",
      "index is 605\n"
     ]
    },
    {
     "name": "stderr",
     "output_type": "stream",
     "text": [
      "\n",
      "llama_print_timings:        load time =     577.18 ms\n",
      "llama_print_timings:      sample time =      10.81 ms /    23 runs   (    0.47 ms per token,  2127.66 tokens per second)\n",
      "llama_print_timings: prompt eval time =    1416.05 ms /   205 tokens (    6.91 ms per token,   144.77 tokens per second)\n",
      "llama_print_timings:        eval time =     987.05 ms /    22 runs   (   44.87 ms per token,    22.29 tokens per second)\n",
      "llama_print_timings:       total time =    2546.73 ms /   227 tokens\n",
      "Llama.generate: prefix-match hit\n"
     ]
    },
    {
     "name": "stdout",
     "output_type": "stream",
     "text": [
      " SELECT tc.\"Language\", COUNT(tc.id) AS number_of_tv_channels FROM \"TV_Channel\" tc GROUP BY tc.\"Language\" ORDER BY number_of_tv_channels ASC LIMIT 1;\n",
      "index is 606\n"
     ]
    },
    {
     "name": "stderr",
     "output_type": "stream",
     "text": [
      "\n",
      "llama_print_timings:        load time =     577.18 ms\n",
      "llama_print_timings:      sample time =      24.04 ms /    52 runs   (    0.46 ms per token,  2163.15 tokens per second)\n",
      "llama_print_timings: prompt eval time =    1525.36 ms /   222 tokens (    6.87 ms per token,   145.54 tokens per second)\n",
      "llama_print_timings:        eval time =    2293.91 ms /    51 runs   (   44.98 ms per token,    22.23 tokens per second)\n",
      "llama_print_timings:       total time =    4075.59 ms /   273 tokens\n",
      "Llama.generate: prefix-match hit\n"
     ]
    },
    {
     "name": "stdout",
     "output_type": "stream",
     "text": [
      " SELECT \"Language\", COUNT(id) AS Channel_Count FROM \"TV_Channel\" GROUP BY \"Language\" ORDER BY Channel_Count ASC LIMIT 1;\n",
      "index is 607\n"
     ]
    },
    {
     "name": "stderr",
     "output_type": "stream",
     "text": [
      "\n",
      "llama_print_timings:        load time =     577.18 ms\n",
      "llama_print_timings:      sample time =      16.23 ms /    34 runs   (    0.48 ms per token,  2094.24 tokens per second)\n",
      "llama_print_timings: prompt eval time =    1582.15 ms /   228 tokens (    6.94 ms per token,   144.11 tokens per second)\n",
      "llama_print_timings:        eval time =    1485.11 ms /    33 runs   (   45.00 ms per token,    22.22 tokens per second)\n",
      "llama_print_timings:       total time =    3256.41 ms /   261 tokens\n",
      "Llama.generate: prefix-match hit\n"
     ]
    },
    {
     "name": "stdout",
     "output_type": "stream",
     "text": [
      " SELECT tc.\"Language\", COUNT(tc.id) AS channel_count FROM \"TV_Channel\" tc GROUP BY tc.\"Language\" ORDER BY channel_count DESC NULLS LAST;\n",
      "index is 608\n"
     ]
    },
    {
     "name": "stderr",
     "output_type": "stream",
     "text": [
      "\n",
      "llama_print_timings:        load time =     577.18 ms\n",
      "llama_print_timings:      sample time =      20.26 ms /    43 runs   (    0.47 ms per token,  2122.51 tokens per second)\n",
      "llama_print_timings: prompt eval time =    1467.40 ms /   212 tokens (    6.92 ms per token,   144.47 tokens per second)\n",
      "llama_print_timings:        eval time =    1888.46 ms /    42 runs   (   44.96 ms per token,    22.24 tokens per second)\n",
      "llama_print_timings:       total time =    3573.82 ms /   254 tokens\n",
      "Llama.generate: prefix-match hit\n"
     ]
    },
    {
     "name": "stdout",
     "output_type": "stream",
     "text": [
      " SELECT tc.\"Language\", COUNT(tc.id) AS channel_count FROM \"TV_Channel\" tc GROUP BY tc.\"Language\" ORDER BY channel_count DESC NULLS LAST;\n",
      "index is 609\n"
     ]
    },
    {
     "name": "stderr",
     "output_type": "stream",
     "text": [
      "\n",
      "llama_print_timings:        load time =     577.18 ms\n",
      "llama_print_timings:      sample time =      20.32 ms /    43 runs   (    0.47 ms per token,  2115.83 tokens per second)\n",
      "llama_print_timings: prompt eval time =    1473.05 ms /   216 tokens (    6.82 ms per token,   146.63 tokens per second)\n",
      "llama_print_timings:        eval time =    1891.48 ms /    42 runs   (   45.04 ms per token,    22.20 tokens per second)\n",
      "llama_print_timings:       total time =    3580.51 ms /   258 tokens\n",
      "Llama.generate: prefix-match hit\n"
     ]
    },
    {
     "name": "stdout",
     "output_type": "stream",
     "text": [
      " SELECT c.channel, c.series_name FROM \"Cartoon\" ca JOIN \"TV_Channel\" c ON ca.channel = c.id WHERE ca.\"Title\" = 'The Rise of the Blue Beetle!'\n",
      "index is 610\n"
     ]
    },
    {
     "name": "stderr",
     "output_type": "stream",
     "text": [
      "\n",
      "llama_print_timings:        load time =     577.18 ms\n",
      "llama_print_timings:      sample time =      22.99 ms /    49 runs   (    0.47 ms per token,  2131.08 tokens per second)\n",
      "llama_print_timings: prompt eval time =    2523.87 ms /   365 tokens (    6.91 ms per token,   144.62 tokens per second)\n",
      "llama_print_timings:        eval time =    2183.00 ms /    48 runs   (   45.48 ms per token,    21.99 tokens per second)\n",
      "llama_print_timings:       total time =    4988.78 ms /   413 tokens\n",
      "Llama.generate: prefix-match hit\n"
     ]
    },
    {
     "name": "stdout",
     "output_type": "stream",
     "text": [
      " SELECT tc.series_name FROM \"Cartoon\" c JOIN \"TV_Channel\" tc ON c.channel = tc.id WHERE c.\"Title\" = 'The Rise of the Blue Beetle';\n",
      "index is 611\n"
     ]
    },
    {
     "name": "stderr",
     "output_type": "stream",
     "text": [
      "\n",
      "llama_print_timings:        load time =     577.18 ms\n",
      "llama_print_timings:      sample time =      22.33 ms /    48 runs   (    0.47 ms per token,  2149.86 tokens per second)\n",
      "llama_print_timings: prompt eval time =    2418.70 ms /   352 tokens (    6.87 ms per token,   145.53 tokens per second)\n",
      "llama_print_timings:        eval time =    2134.55 ms /    47 runs   (   45.42 ms per token,    22.02 tokens per second)\n",
      "llama_print_timings:       total time =    4827.37 ms /   399 tokens\n",
      "Llama.generate: prefix-match hit\n"
     ]
    },
    {
     "name": "stdout",
     "output_type": "stream",
     "text": [
      " SELECT c.title FROM cartoon c JOIN tv_channel t ON c.channel = t.id WHERE t.series_name = 'Sky Radio';\n",
      "index is 612\n"
     ]
    },
    {
     "name": "stderr",
     "output_type": "stream",
     "text": [
      "\n",
      "llama_print_timings:        load time =     577.18 ms\n",
      "llama_print_timings:      sample time =      16.28 ms /    34 runs   (    0.48 ms per token,  2088.45 tokens per second)\n",
      "llama_print_timings: prompt eval time =    2421.41 ms /   347 tokens (    6.98 ms per token,   143.30 tokens per second)\n",
      "llama_print_timings:        eval time =    1497.07 ms /    33 runs   (   45.37 ms per token,    22.04 tokens per second)\n",
      "llama_print_timings:       total time =    4140.97 ms /   380 tokens\n",
      "Llama.generate: prefix-match hit\n"
     ]
    },
    {
     "name": "stdout",
     "output_type": "stream",
     "text": [
      " SELECT c.title FROM cartoon c JOIN tv_channel t ON c.channel = t.id WHERE t.series_name = 'Sky Radio';\n",
      "index is 613\n"
     ]
    },
    {
     "name": "stderr",
     "output_type": "stream",
     "text": [
      "\n",
      "llama_print_timings:        load time =     577.18 ms\n",
      "llama_print_timings:      sample time =      15.84 ms /    34 runs   (    0.47 ms per token,  2146.46 tokens per second)\n",
      "llama_print_timings: prompt eval time =    2416.09 ms /   352 tokens (    6.86 ms per token,   145.69 tokens per second)\n",
      "llama_print_timings:        eval time =    1542.41 ms /    34 runs   (   45.37 ms per token,    22.04 tokens per second)\n",
      "llama_print_timings:       total time =    4180.31 ms /   386 tokens\n",
      "Llama.generate: prefix-match hit\n"
     ]
    },
    {
     "name": "stdout",
     "output_type": "stream",
     "text": [
      " SELECT s.Episode, s.Rating FROM \"TV_series\" s ORDER BY s.Rating DESC;\n",
      "index is 614\n"
     ]
    },
    {
     "name": "stderr",
     "output_type": "stream",
     "text": [
      "\n",
      "llama_print_timings:        load time =     577.18 ms\n",
      "llama_print_timings:      sample time =      12.29 ms /    26 runs   (    0.47 ms per token,  2116.23 tokens per second)\n",
      "llama_print_timings: prompt eval time =    1652.29 ms /   234 tokens (    7.06 ms per token,   141.62 tokens per second)\n",
      "llama_print_timings:        eval time =    1128.07 ms /    25 runs   (   45.12 ms per token,    22.16 tokens per second)\n",
      "llama_print_timings:       total time =    2939.17 ms /   259 tokens\n",
      "Llama.generate: prefix-match hit\n"
     ]
    },
    {
     "name": "stdout",
     "output_type": "stream",
     "text": [
      " SELECT t.id, t.\"Episode\", t.\"Air_Date\", t.\"Rating\", t.\"Share\", t.\"18_49_Rating_Share\", t.\"Viewers_m\", t.\"Weekly_Rank\", t.\"Channel\" FROM \"TV_series\" t ORDER BY t.\"Rating\" DESC;\n",
      "index is 615\n"
     ]
    },
    {
     "name": "stderr",
     "output_type": "stream",
     "text": [
      "\n",
      "llama_print_timings:        load time =     577.18 ms\n",
      "llama_print_timings:      sample time =      36.32 ms /    77 runs   (    0.47 ms per token,  2119.93 tokens per second)\n",
      "llama_print_timings: prompt eval time =    1586.62 ms /   232 tokens (    6.84 ms per token,   146.22 tokens per second)\n",
      "llama_print_timings:        eval time =    3403.31 ms /    76 runs   (   44.78 ms per token,    22.33 tokens per second)\n",
      "llama_print_timings:       total time =    5341.79 ms /   308 tokens\n",
      "Llama.generate: prefix-match hit\n"
     ]
    },
    {
     "name": "stdout",
     "output_type": "stream",
     "text": [
      " SELECT s.id, s.\"Episode\", s.\"Rating\" FROM \"TV_series\" s ORDER BY s.\"Rating\" DESC NULLS LAST LIMIT 3;\n",
      "index is 616\n"
     ]
    },
    {
     "name": "stderr",
     "output_type": "stream",
     "text": [
      "\n",
      "llama_print_timings:        load time =     577.18 ms\n",
      "llama_print_timings:      sample time =      18.07 ms /    39 runs   (    0.46 ms per token,  2158.63 tokens per second)\n",
      "llama_print_timings: prompt eval time =    1751.94 ms /   256 tokens (    6.84 ms per token,   146.12 tokens per second)\n",
      "llama_print_timings:        eval time =    1702.62 ms /    38 runs   (   44.81 ms per token,    22.32 tokens per second)\n",
      "llama_print_timings:       total time =    3669.31 ms /   294 tokens\n",
      "Llama.generate: prefix-match hit\n"
     ]
    },
    {
     "name": "stdout",
     "output_type": "stream",
     "text": [
      " SELECT s.id, s.episode, s.rating FROM (SELECT id, episode, rating FROM tv_series ORDER BY rating DESC NULLS LAST LIMIT 3) AS s;\n",
      "index is 617\n"
     ]
    },
    {
     "name": "stderr",
     "output_type": "stream",
     "text": [
      "\n",
      "llama_print_timings:        load time =     577.18 ms\n",
      "llama_print_timings:      sample time =      20.32 ms /    42 runs   (    0.48 ms per token,  2066.62 tokens per second)\n",
      "llama_print_timings: prompt eval time =    1747.28 ms /   252 tokens (    6.93 ms per token,   144.22 tokens per second)\n",
      "llama_print_timings:        eval time =    1838.61 ms /    41 runs   (   44.84 ms per token,    22.30 tokens per second)\n",
      "llama_print_timings:       total time =    3812.13 ms /   293 tokens\n",
      "Llama.generate: prefix-match hit\n"
     ]
    },
    {
     "name": "stdout",
     "output_type": "stream",
     "text": [
      " SELECT MIN(s.share) AS min_share, MAX(s.share) AS max_share FROM \"TV_series\" s;\n",
      "index is 618\n"
     ]
    },
    {
     "name": "stderr",
     "output_type": "stream",
     "text": [
      "\n",
      "llama_print_timings:        load time =     577.18 ms\n",
      "llama_print_timings:      sample time =      14.98 ms /    32 runs   (    0.47 ms per token,  2135.75 tokens per second)\n",
      "llama_print_timings: prompt eval time =    1582.22 ms /   231 tokens (    6.85 ms per token,   146.00 tokens per second)\n",
      "llama_print_timings:        eval time =    1387.93 ms /    31 runs   (   44.77 ms per token,    22.34 tokens per second)\n",
      "llama_print_timings:       total time =    3154.65 ms /   262 tokens\n",
      "Llama.generate: prefix-match hit\n"
     ]
    },
    {
     "name": "stdout",
     "output_type": "stream",
     "text": [
      " SELECT MAX(s.share) AS max_share, MIN(s.share) AS min_share FROM \"TV_series\" s;\n",
      "index is 619\n"
     ]
    },
    {
     "name": "stderr",
     "output_type": "stream",
     "text": [
      "\n",
      "llama_print_timings:        load time =     577.18 ms\n",
      "llama_print_timings:      sample time =      14.86 ms /    32 runs   (    0.46 ms per token,  2152.85 tokens per second)\n",
      "llama_print_timings: prompt eval time =    1633.85 ms /   234 tokens (    6.98 ms per token,   143.22 tokens per second)\n",
      "llama_print_timings:        eval time =    1387.85 ms /    31 runs   (   44.77 ms per token,    22.34 tokens per second)\n",
      "llama_print_timings:       total time =    3209.42 ms /   265 tokens\n",
      "Llama.generate: prefix-match hit\n"
     ]
    },
    {
     "name": "stdout",
     "output_type": "stream",
     "text": [
      " SELECT t.id, t.air_date FROM tv_series t WHERE t.episode ilike '%A%Love%of%a%Lifetime%' ORDER BY t.id NULLS LAST;\n",
      "index is 620\n"
     ]
    },
    {
     "name": "stderr",
     "output_type": "stream",
     "text": [
      "\n",
      "llama_print_timings:        load time =     577.18 ms\n",
      "llama_print_timings:      sample time =      22.70 ms /    48 runs   (    0.47 ms per token,  2114.72 tokens per second)\n",
      "llama_print_timings: prompt eval time =    1694.21 ms /   248 tokens (    6.83 ms per token,   146.38 tokens per second)\n",
      "llama_print_timings:        eval time =    2150.65 ms /    48 runs   (   44.81 ms per token,    22.32 tokens per second)\n",
      "llama_print_timings:       total time =    4092.89 ms /   296 tokens\n",
      "Llama.generate: prefix-match hit\n"
     ]
    },
    {
     "name": "stdout",
     "output_type": "stream",
     "text": [
      " SELECT t.air_date FROM tv_series t WHERE t.episode ilike '%A%Love%of%a%Lifetime%'\n",
      "index is 621\n"
     ]
    },
    {
     "name": "stderr",
     "output_type": "stream",
     "text": [
      "\n",
      "llama_print_timings:        load time =     577.18 ms\n",
      "llama_print_timings:      sample time =      16.19 ms /    34 runs   (    0.48 ms per token,  2100.45 tokens per second)\n",
      "llama_print_timings: prompt eval time =    1686.23 ms /   242 tokens (    6.97 ms per token,   143.52 tokens per second)\n",
      "llama_print_timings:        eval time =    1482.80 ms /    33 runs   (   44.93 ms per token,    22.26 tokens per second)\n",
      "llama_print_timings:       total time =    3365.83 ms /   275 tokens\n",
      "Llama.generate: prefix-match hit\n"
     ]
    },
    {
     "name": "stdout",
     "output_type": "stream",
     "text": [
      " SELECT ts.id, ts.episode, ts.air_date, ts.rating, ts.share, ts.18_49_rating_share, ts.viewers_m, ts.weekly_rank, ts.channel FROM tv_series ts WHERE ts.episode ilike '%A%Love%of%a%Lifetime%' ORDER BY ts.weekly_rank NULLS LAST;\n",
      "index is 622\n"
     ]
    },
    {
     "name": "stderr",
     "output_type": "stream",
     "text": [
      "\n",
      "llama_print_timings:        load time =     577.18 ms\n",
      "llama_print_timings:      sample time =      44.75 ms /    95 runs   (    0.47 ms per token,  2122.86 tokens per second)\n",
      "llama_print_timings: prompt eval time =    1747.98 ms /   252 tokens (    6.94 ms per token,   144.17 tokens per second)\n",
      "llama_print_timings:        eval time =    4226.15 ms /    94 runs   (   44.96 ms per token,    22.24 tokens per second)\n",
      "llama_print_timings:       total time =    6427.63 ms /   346 tokens\n",
      "Llama.generate: prefix-match hit\n"
     ]
    },
    {
     "name": "stdout",
     "output_type": "stream",
     "text": [
      " SELECT t.id, t.air_date, t.rating, t.share, t.weekly_rank, t.channel FROM tv_series t WHERE t.episode ilike '%A%Love%of%a%Lifetime%' ORDER BY t.weekly_rank NULLS LAST;\n",
      "index is 623\n"
     ]
    },
    {
     "name": "stderr",
     "output_type": "stream",
     "text": [
      "\n",
      "llama_print_timings:        load time =     577.18 ms\n",
      "llama_print_timings:      sample time =      32.58 ms /    70 runs   (    0.47 ms per token,  2148.36 tokens per second)\n",
      "llama_print_timings: prompt eval time =    1693.62 ms /   246 tokens (    6.88 ms per token,   145.25 tokens per second)\n",
      "llama_print_timings:        eval time =    3103.71 ms /    69 runs   (   44.98 ms per token,    22.23 tokens per second)\n",
      "llama_print_timings:       total time =    5130.01 ms /   315 tokens\n",
      "Llama.generate: prefix-match hit\n"
     ]
    },
    {
     "name": "stdout",
     "output_type": "stream",
     "text": [
      " SELECT tc.series_name FROM \"TV_series\" ts JOIN \"TV_Channel\" tc ON ts.channel = tc.id WHERE ts.\"Episode\" = 'A Love of a Lifetime';\n",
      "index is 624\n"
     ]
    },
    {
     "name": "stderr",
     "output_type": "stream",
     "text": [
      "\n",
      "llama_print_timings:        load time =     577.18 ms\n",
      "llama_print_timings:      sample time =      22.02 ms /    48 runs   (    0.46 ms per token,  2180.33 tokens per second)\n",
      "llama_print_timings: prompt eval time =    2690.64 ms /   387 tokens (    6.95 ms per token,   143.83 tokens per second)\n",
      "llama_print_timings:        eval time =    2128.44 ms /    47 runs   (   45.29 ms per token,    22.08 tokens per second)\n",
      "llama_print_timings:       total time =    5112.02 ms /   434 tokens\n",
      "Llama.generate: prefix-match hit\n"
     ]
    },
    {
     "name": "stdout",
     "output_type": "stream",
     "text": [
      " SELECT s.series_name FROM \"TV_series\" s WHERE s.\"Episode\" = 'A Love of a Lifetime';\n",
      "index is 625\n"
     ]
    },
    {
     "name": "stderr",
     "output_type": "stream",
     "text": [
      "\n",
      "llama_print_timings:        load time =     577.18 ms\n",
      "llama_print_timings:      sample time =      13.92 ms /    30 runs   (    0.46 ms per token,  2155.64 tokens per second)\n",
      "llama_print_timings: prompt eval time =    2583.27 ms /   371 tokens (    6.96 ms per token,   143.62 tokens per second)\n",
      "llama_print_timings:        eval time =    1306.98 ms /    29 runs   (   45.07 ms per token,    22.19 tokens per second)\n",
      "llama_print_timings:       total time =    4103.56 ms /   400 tokens\n",
      "Llama.generate: prefix-match hit\n"
     ]
    },
    {
     "name": "stdout",
     "output_type": "stream",
     "text": [
      " SELECT s.id AS series_id, s.episode, s.air_date, s.rating, s.share, s.18_49_rating_share, s.viewers_m, s.weekly_rank, c.id AS channel_id, c.series_name FROM tv_series s JOIN tv_channel c ON s.channel = c.id WHERE c.series_name = 'Sky Radio';\n",
      "index is 626\n"
     ]
    },
    {
     "name": "stderr",
     "output_type": "stream",
     "text": [
      "\n",
      "llama_print_timings:        load time =     577.18 ms\n",
      "llama_print_timings:      sample time =      47.06 ms /    99 runs   (    0.48 ms per token,  2103.74 tokens per second)\n",
      "llama_print_timings: prompt eval time =    2584.32 ms /   376 tokens (    6.87 ms per token,   145.49 tokens per second)\n",
      "llama_print_timings:        eval time =    4427.00 ms /    98 runs   (   45.17 ms per token,    22.14 tokens per second)\n",
      "llama_print_timings:       total time =    7494.80 ms /   474 tokens\n",
      "Llama.generate: prefix-match hit\n"
     ]
    },
    {
     "name": "stdout",
     "output_type": "stream",
     "text": [
      " SELECT t.episode FROM \"TV_series\" t WHERE t.\"Series_name\" ILIKE '%Sky%Radio%' LIMIT 1\n",
      "index is 627\n"
     ]
    },
    {
     "name": "stderr",
     "output_type": "stream",
     "text": [
      "\n",
      "llama_print_timings:        load time =     577.18 ms\n",
      "llama_print_timings:      sample time =      15.38 ms /    33 runs   (    0.47 ms per token,  2145.50 tokens per second)\n",
      "llama_print_timings: prompt eval time =    2522.23 ms /   362 tokens (    6.97 ms per token,   143.52 tokens per second)\n",
      "llama_print_timings:        eval time =    1440.97 ms /    32 runs   (   45.03 ms per token,    22.21 tokens per second)\n",
      "llama_print_timings:       total time =    4185.27 ms /   394 tokens\n",
      "Llama.generate: prefix-match hit\n"
     ]
    },
    {
     "name": "stdout",
     "output_type": "stream",
     "text": [
      " SELECT c.directed_by, COUNT(c.id) AS number_of_cartoons FROM \"Cartoon\" c WHERE c.directed_by IN ('John Smith', 'Jane Doe') GROUP BY c.directed_by ORDER BY number_of_cartoons DESC NULLS LAST;\n",
      "index is 628\n"
     ]
    },
    {
     "name": "stderr",
     "output_type": "stream",
     "text": [
      "\n",
      "llama_print_timings:        load time =     577.18 ms\n",
      "llama_print_timings:      sample time =      33.15 ms /    70 runs   (    0.47 ms per token,  2111.42 tokens per second)\n",
      "llama_print_timings: prompt eval time =    1467.77 ms /   213 tokens (    6.89 ms per token,   145.12 tokens per second)\n",
      "llama_print_timings:        eval time =    3087.57 ms /    69 runs   (   44.75 ms per token,    22.35 tokens per second)\n",
      "llama_print_timings:       total time =    4885.68 ms /   282 tokens\n",
      "Llama.generate: prefix-match hit\n"
     ]
    },
    {
     "name": "stdout",
     "output_type": "stream",
     "text": [
      " SELECT c.\"Directed_by\", COUNT(c.id) AS number_of_cartoons FROM \"Cartoon\" c GROUP BY c.\"Directed_by\" ORDER BY number_of_cartoons DESC NULLS LAST;\n",
      "index is 629\n"
     ]
    },
    {
     "name": "stderr",
     "output_type": "stream",
     "text": [
      "\n",
      "llama_print_timings:        load time =     577.18 ms\n",
      "llama_print_timings:      sample time =      25.21 ms /    53 runs   (    0.48 ms per token,  2102.42 tokens per second)\n",
      "llama_print_timings: prompt eval time =    1413.88 ms /   203 tokens (    6.96 ms per token,   143.58 tokens per second)\n",
      "llama_print_timings:        eval time =    2319.34 ms /    52 runs   (   44.60 ms per token,    22.42 tokens per second)\n",
      "llama_print_timings:       total time =    3989.94 ms /   255 tokens\n",
      "Llama.generate: prefix-match hit\n"
     ]
    },
    {
     "name": "stdout",
     "output_type": "stream",
     "text": [
      " SELECT c.production_code, c.channel FROM \"Cartoon\" c ORDER BY c.original_air_date DESC LIMIT 1;\n",
      "index is 630\n"
     ]
    },
    {
     "name": "stderr",
     "output_type": "stream",
     "text": [
      "\n",
      "llama_print_timings:        load time =     577.18 ms\n",
      "llama_print_timings:      sample time =      14.66 ms /    31 runs   (    0.47 ms per token,  2114.45 tokens per second)\n",
      "llama_print_timings: prompt eval time =    1472.17 ms /   213 tokens (    6.91 ms per token,   144.68 tokens per second)\n",
      "llama_print_timings:        eval time =    1337.78 ms /    30 runs   (   44.59 ms per token,    22.43 tokens per second)\n",
      "llama_print_timings:       total time =    2982.93 ms /   243 tokens\n",
      "Llama.generate: prefix-match hit\n"
     ]
    },
    {
     "name": "stdout",
     "output_type": "stream",
     "text": [
      " SELECT c.production_code, c.channel FROM \"Cartoon\" c ORDER BY c.id DESC LIMIT 1;\n",
      "index is 631\n"
     ]
    },
    {
     "name": "stderr",
     "output_type": "stream",
     "text": [
      "\n",
      "llama_print_timings:        load time =     577.18 ms\n",
      "llama_print_timings:      sample time =      12.85 ms /    27 runs   (    0.48 ms per token,  2101.49 tokens per second)\n",
      "llama_print_timings: prompt eval time =    1475.00 ms /   215 tokens (    6.86 ms per token,   145.76 tokens per second)\n",
      "llama_print_timings:        eval time =    1158.53 ms /    26 runs   (   44.56 ms per token,    22.44 tokens per second)\n",
      "llama_print_timings:       total time =    2792.17 ms /   241 tokens\n",
      "Llama.generate: prefix-match hit\n"
     ]
    },
    {
     "name": "stdout",
     "output_type": "stream",
     "text": [
      " SELECT tc.package_option, tc.series_name FROM \"TV_Channel\" tc WHERE tc.hight_definition_TV = 'Yes';\n",
      "index is 632\n"
     ]
    },
    {
     "name": "stderr",
     "output_type": "stream",
     "text": [
      "\n",
      "llama_print_timings:        load time =     577.18 ms\n",
      "llama_print_timings:      sample time =      17.59 ms /    37 runs   (    0.48 ms per token,  2103.35 tokens per second)\n",
      "llama_print_timings: prompt eval time =    1525.91 ms /   220 tokens (    6.94 ms per token,   144.18 tokens per second)\n",
      "llama_print_timings:        eval time =    1607.59 ms /    36 runs   (   44.66 ms per token,    22.39 tokens per second)\n",
      "llama_print_timings:       total time =    3336.50 ms /   256 tokens\n",
      "Llama.generate: prefix-match hit\n"
     ]
    },
    {
     "name": "stdout",
     "output_type": "stream",
     "text": [
      " SELECT tc.package_option, tc.series_name FROM \"TV_Channel\" tc WHERE tc.hight_definition_TV = 'Yes';\n",
      "index is 633\n"
     ]
    },
    {
     "name": "stderr",
     "output_type": "stream",
     "text": [
      "\n",
      "llama_print_timings:        load time =     577.18 ms\n",
      "llama_print_timings:      sample time =      17.07 ms /    37 runs   (    0.46 ms per token,  2167.80 tokens per second)\n",
      "llama_print_timings: prompt eval time =    1583.52 ms /   230 tokens (    6.88 ms per token,   145.25 tokens per second)\n",
      "llama_print_timings:        eval time =    1623.10 ms /    36 runs   (   45.09 ms per token,    22.18 tokens per second)\n",
      "llama_print_timings:       total time =    3406.26 ms /   266 tokens\n",
      "Llama.generate: prefix-match hit\n"
     ]
    }
   ],
   "source": [
    "INPUT_FILE1 = '/home/llmuser/models/results/gpt/tables-gpt4-v2.json'\n",
    "\n",
    "if __name__ == '__main__':\n",
    "    CODEX = load_data_json(INPUT_FILE1)\n",
    "    for index, row in enumerate(CODEX):\n",
    "        print(\"\")\n",
    "        print(f\"index is {index}\")\n",
    "        #print(row)\n",
    "        if not row['error_encountered']:\n",
    "            db_SQLDatabase = getSQLDatabase(row['db_id'])\n",
    "            error_encountered = False\n",
    "            error = None\n",
    "            try:\n",
    "                llm_table_list = string_to_array(row['table_list'])\n",
    "                corrected_llm_table_list = correctCase(llm_table_list, db_SQLDatabase)\n",
    "            except Exception as e:\n",
    "                error = e\n",
    "                error_encountered = True\n",
    "            if not error_encountered:\n",
    "                pertinent_schema = getPertinentSchema(corrected_llm_table_list, db_SQLDatabase)\n",
    "                if pertinent_schema:\n",
    "                    try:  \n",
    "                        prompt = SQLite_PROMPT.format(question = row['question'], schema = pertinent_schema)\n",
    "                        #print(prompt)\n",
    "                        predicted_query = local_generation(prompt)\n",
    "                    except Exception as e:\n",
    "                        error = e\n",
    "                        error_encountered = True\n",
    "            if not error_encountered:\n",
    "                row.update({'predicted_query': predicted_query})\n",
    "            else:\n",
    "                row['error_encountered'] = True\n",
    "                row['error_type'] = type(error).__name__\n",
    "                row['error_message'] = str(error)\n",
    "            \n",
    "    OUTPUT_DIR = '/home/llmuser/models/results/gpt/'\n",
    "    OUTPUT_FILE_DIFF = 'tables-gpt4-sqlcoder-7b.json'\n",
    "    OUTPUT_PATH = os.path.join(OUTPUT_DIR, OUTPUT_FILE_DIFF)\n",
    "    saveDataJson(OUTPUT_PATH, CODEX)"
   ]
  },
  {
   "cell_type": "code",
   "execution_count": 17,
   "id": "70bfabe6-3a70-416f-94f0-63e2115c0642",
   "metadata": {},
   "outputs": [],
   "source": [
    "\n",
    "def getdbPath(db_id):\n",
    "    # Modificar el PATH para donde este la base de datos\n",
    "    db_path = SPIDER_DB_DIR\n",
    "    db_uri = db_path + db_id + '/' + db_id + '.sqlite'\n",
    "    return db_uri\n",
    "\n",
    "def queryDB(database, SQL_query):\n",
    "    conn = sqlite3.connect(database)\n",
    "    # Create a cursor object to execute SQL queries\n",
    "    cursor = conn.cursor()\n",
    "    # Create a table\n",
    "    cursor.execute(\"PRAGMA case_sensitive_like = OFF\")\n",
    "    cursor.execute(SQL_query)\n",
    "    results = cursor.fetchall()\n",
    "    cursor.close()\n",
    "    conn.close()\n",
    "    return results\n",
    "\n",
    "def correctQuery(CODEX):\n",
    "    for row in CODEX:\n",
    "        if not row['error_encountered']:\n",
    "            row['predicted_query'] = row['predicted_query'].replace('ILIKE', 'LIKE', -1)\n",
    "            row['predicted_query'] = row['predicted_query'].replace('[/SQL]', '', -1)\n",
    "\n",
    "def evaluatePredict(CODEX):\n",
    "    count = 0\n",
    "    for row in CODEX:\n",
    "        predict_query_valid = True\n",
    "        if not row['error_encountered']:\n",
    "            db = getdbPath(row['db_id'])\n",
    "            error_encountered = False\n",
    "            error = None\n",
    "            error_type = None\n",
    "            try:\n",
    "                goldQueryValue =  queryDB(db, row['gold_query'])\n",
    "            except Exception as e:\n",
    "                error_encountered = True\n",
    "                error_type = 'Cannot_Query_Gold'\n",
    "                error_message = str(e)\n",
    "                predict_query_valid = False\n",
    "                goldQueryValue = None\n",
    "            pred_query = row['predicted_query']\n",
    "            if not error_encountered:\n",
    "                try:\n",
    "                    predQueryValue = queryDB(db, pred_query)\n",
    "                except Exception as e:\n",
    "                    error_encountered = True\n",
    "                    error_type = 'Cannot_Query_Pred'\n",
    "                    error_message = str(e)\n",
    "                    predQueryValue = None\n",
    "            if not error_encountered:\n",
    "                if goldQueryValue == predQueryValue :\n",
    "                    predict_success = True\n",
    "                else:\n",
    "                    predict_success = False\n",
    "                    error_encountered = True\n",
    "                    error_type = 'Gold_Predict_Missmatch'\n",
    "                    error_message = None\n",
    "            row.update({'predict_success':predict_success, 'gold_result':goldQueryValue, 'predict_result': predQueryValue,'predict_query_valid':predict_query_valid})\n",
    "            if error_encountered:\n",
    "                row['error_encountered'] = error_encountered\n",
    "                row['error_type'] = error_type\n",
    "                row['error_message'] = error_message\n",
    "    return CODEX\n",
    "\n",
    "OUTPUT_DIR = '/home/llmuser/models/results/gpt/'\n",
    "OUTPUT_FILE_DIFF = 'tables-gpt4-sqlcoder-7b.json'\n",
    "OUTPUT_PATH = os.path.join(OUTPUT_DIR, OUTPUT_FILE_DIFF)\n",
    "\n",
    "CODEX = load_data_json(OUTPUT_PATH)\n",
    "\n",
    "correctQuery(CODEX)\n",
    "CODEX_OUT = evaluatePredict(CODEX)"
   ]
  },
  {
   "cell_type": "code",
   "execution_count": 18,
   "id": "c7b7c15c-dbaf-480e-a7b3-eff481666010",
   "metadata": {},
   "outputs": [],
   "source": [
    "def saveDataJson(OUTPUT_PATH,list):\n",
    "    # Save the object to a JSON file\n",
    "    with open(OUTPUT_PATH, 'w') as json_file:\n",
    "        json.dump(list, json_file)\n",
    "\n",
    "OUTPUT_DIR = '/home/llmuser/models/results/gpt/'\n",
    "OUTPUT_FILE_DIFF = 'gpt4-sqlcoder-7b-results-2.json'\n",
    "\n",
    "OUTPUT_PATH = os.path.join(OUTPUT_DIR, OUTPUT_FILE_DIFF)\n",
    "\n",
    "saveDataJson(OUTPUT_PATH, CODEX_OUT)"
   ]
  }
 ],
 "metadata": {
  "kernelspec": {
   "display_name": "Python 3 (ipykernel)",
   "language": "python",
   "name": "python3"
  },
  "language_info": {
   "codemirror_mode": {
    "name": "ipython",
    "version": 3
   },
   "file_extension": ".py",
   "mimetype": "text/x-python",
   "name": "python",
   "nbconvert_exporter": "python",
   "pygments_lexer": "ipython3",
   "version": "3.10.12"
  }
 },
 "nbformat": 4,
 "nbformat_minor": 5
}
